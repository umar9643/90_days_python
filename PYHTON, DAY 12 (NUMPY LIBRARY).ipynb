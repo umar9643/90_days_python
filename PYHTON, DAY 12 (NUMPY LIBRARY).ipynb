{
 "cells": [
  {
   "cell_type": "markdown",
   "id": "7a36e564",
   "metadata": {},
   "source": [
    "# INTRODUCTION OF NUMPY"
   ]
  },
  {
   "cell_type": "markdown",
   "id": "f7ec83fa",
   "metadata": {},
   "source": [
    "NUMPY(NUMERICAL PYHTON) IS AN OPEN SOURCE PYTHON LIBRARY THAT IS USED ALMOST EVERY FIELD OF SCIIENCE AND ENGEERING.\n",
    "IT IS THE UNIVERSAL STANDARD FOR WORKING WITH NUMERICAL DATA IN PYTHON, AN DIT IS AN CORE OF SCIENTIFIC PYHTON AND\n",
    "PYDATA ECOSYSTEMS."
   ]
  },
  {
   "cell_type": "markdown",
   "id": "24f2f8f9",
   "metadata": {},
   "source": [
    "THE NUMPY LIBRARY CONTAIN A MULTIDIMENTIONAL ARRAY AND MTRIX DATA STRUCTURE\n",
    "\n",
    "NUMPY CAN BE USED TO PERFORM A WIDE VARIETY OF MATHEMATICAL OPERATIONS ON ARRAYS.\n",
    "IT ADDS POWERFUL DATA STRUCTURES TO PYTHON THAT GUARANCE EFFICIENT CALCULATION WITH\n",
    "ARRAY AND MATHEMETICAL AND ITS SUPPLIES AN ENORMOUS LIBRARY OF HIGH LEVEL MATHEMATICAL\n",
    "FUNCTIONS THAT OPERATEON THESE ARRAY AND MATRICES.\n",
    "\n",
    "IT ALSO HAS FUNCTION  FOR WORKING IN DOMAIN OF LINEAR ALGEBRA,FORRIER TRASFORMATION MATRICES NUMPY \n",
    "WAS CREATED IN 2005 BY TRVIS OLIPHANT.IT IS AN OPEN SOURCE AND YOU CAN USE IT FREELY."
   ]
  },
  {
   "cell_type": "markdown",
   "id": "b7a51ee7",
   "metadata": {},
   "source": [
    "# WHY USE NUMPY"
   ]
  },
  {
   "cell_type": "markdown",
   "id": "45d1e665",
   "metadata": {},
   "source": [
    "IN PYHTON WE HAVE LIST THAT SRVES THE PURPOSE OF ARRAYS, BUT THEY ARE SLOW TO PROCESS.\n",
    "\n",
    "NUMPY AIMS TO PROVIDE AN ARRAY OBJECDT THAT IS UP 50X FASTER THAN TRADICTIONAL PYHTON LISTS.\n",
    "\n",
    "THE ARRAY OBJECTS IN PYTHON IS CALLED ND ARRAY,IT PRIVIDES A LOT OF SUPPORTING FUNTION THAT MAKES WORKING WITH ND ARRAY EASY.\n",
    "\n",
    "ARRAY ARE VERY FREQUENTLY USES IN DATA SCIENCE, WHERE SPEED AND RESOURCE IS IMPORTANT."
   ]
  },
  {
   "cell_type": "markdown",
   "id": "6f8ed109",
   "metadata": {},
   "source": [
    "# WHY IS NUJMPY IS FASTER THAN LIST"
   ]
  },
  {
   "cell_type": "markdown",
   "id": "1c0be261",
   "metadata": {},
   "source": [
    "NUMPY ARRAY ARE STORED AT ONE CONTINOUS PLACE IN MEMERY UNLIKE LIST, SO PROCESS CAN ACCES AND MANUPLATE THEM EFFICIENTLY.\n",
    "\n",
    "THIS BEHAVIOR IS CALLED LOCALITY OF REFERENCE ON COMPURT SCIENCE.\n",
    "\n",
    "THIS IS THE MAIN REASON WHY......."
   ]
  },
  {
   "cell_type": "markdown",
   "id": "692db2f3",
   "metadata": {},
   "source": [
    "# CREATING NUMPY LIBRARY"
   ]
  },
  {
   "cell_type": "code",
   "execution_count": 22,
   "id": "808d00c9",
   "metadata": {},
   "outputs": [
    {
     "name": "stdout",
     "output_type": "stream",
     "text": [
      "[1 2 3 4 5]\n",
      "<class 'numpy.ndarray'>\n"
     ]
    }
   ],
   "source": [
    "import numpy as np\n",
    "arr=np.array([1,2,3,4,5])\n",
    "print(arr)\n",
    "print(type(arr))"
   ]
  },
  {
   "cell_type": "markdown",
   "id": "06e6acf8",
   "metadata": {},
   "source": [
    "# TO CREATE AN ndarray, WE CAN PASS A LIST, TUPLE OR ANY ARRAY LIKE ONJECT INTO THE ARRAY()METHOD, AN DIT WILL BE\n",
    "CONVERTED ONTO AN ndarray:"
   ]
  },
  {
   "cell_type": "code",
   "execution_count": 4,
   "id": "e958d1f5",
   "metadata": {},
   "outputs": [
    {
     "name": "stdout",
     "output_type": "stream",
     "text": [
      "[1 2 3 4 5 6]\n",
      "<class 'numpy.ndarray'>\n"
     ]
    }
   ],
   "source": [
    "import numpy as np\n",
    "arr=np.array((1,2,3,4,5,6))\n",
    "print(arr)\n",
    "print(type(arr))"
   ]
  },
  {
   "cell_type": "markdown",
   "id": "a9fb022b",
   "metadata": {},
   "source": [
    "# DIMENTIONS IN ARRAY"
   ]
  },
  {
   "cell_type": "markdown",
   "id": "d1ac61fd",
   "metadata": {},
   "source": [
    "O-d array with value 20"
   ]
  },
  {
   "cell_type": "code",
   "execution_count": 5,
   "id": "d6a7d1e3",
   "metadata": {},
   "outputs": [
    {
     "name": "stdout",
     "output_type": "stream",
     "text": [
      "20\n"
     ]
    }
   ],
   "source": [
    "arr=np.array(20)\n",
    "print(arr)"
   ]
  },
  {
   "cell_type": "markdown",
   "id": "03fb653d",
   "metadata": {},
   "source": [
    "# 1-D ARRAY"
   ]
  },
  {
   "cell_type": "markdown",
   "id": "39177334",
   "metadata": {},
   "source": [
    "1-D ARRAY IS AN ARRAY THAT HAS 0-D ARRAY AS ITS ELEMENT IS CALLED UNIDIMENTIONAL ORN1-D ARRAY."
   ]
  },
  {
   "cell_type": "code",
   "execution_count": 6,
   "id": "997afb4c",
   "metadata": {},
   "outputs": [
    {
     "name": "stdout",
     "output_type": "stream",
     "text": [
      "[1 2 3 4 5]\n",
      "<class 'numpy.ndarray'>\n"
     ]
    }
   ],
   "source": [
    "arr=np.array((1,2,3,4,5))\n",
    "print(arr)\n",
    "print(type(arr))"
   ]
  },
  {
   "cell_type": "markdown",
   "id": "374e7ccd",
   "metadata": {},
   "source": [
    "# 2-D ARRAY"
   ]
  },
  {
   "cell_type": "code",
   "execution_count": 12,
   "id": "e1ff6333",
   "metadata": {},
   "outputs": [
    {
     "name": "stdout",
     "output_type": "stream",
     "text": [
      "[[1 2 3 4]\n",
      " [5 6 7 8]]\n",
      "<class 'numpy.ndarray'>\n"
     ]
    }
   ],
   "source": [
    "arr=np.array(([1,2,3,4],[5,6,7,8]))\n",
    "print(arr)\n",
    "print(type(arr))"
   ]
  },
  {
   "cell_type": "code",
   "execution_count": 15,
   "id": "32b57193",
   "metadata": {},
   "outputs": [
    {
     "name": "stdout",
     "output_type": "stream",
     "text": [
      "[[1 2 3 4]\n",
      " [5 6 7 8]]\n",
      "<class 'numpy.ndarray'>\n",
      "2\n"
     ]
    }
   ],
   "source": [
    "arr=np.array(([1,2,3,4],[5,6,7,8]))\n",
    "print(arr)\n",
    "print(type(arr))\n",
    "print(arr.ndim)#for getting the dimention of array "
   ]
  },
  {
   "cell_type": "code",
   "execution_count": 16,
   "id": "7025be3a",
   "metadata": {},
   "outputs": [
    {
     "name": "stdout",
     "output_type": "stream",
     "text": [
      "[[1.1 2.2 3.3 4. ]\n",
      " [5.  6.  7.  8. ]]\n",
      "<class 'numpy.ndarray'>\n",
      "2\n"
     ]
    }
   ],
   "source": [
    "arr=np.array(([1.1,2.2,3.3,4],[5,6,7,8]))\n",
    "print(arr)\n",
    "print(type(arr))\n",
    "print(arr.ndim)#for getting the dimention of array "
   ]
  },
  {
   "cell_type": "markdown",
   "id": "69da2b61",
   "metadata": {},
   "source": [
    "#    3-ARRAY"
   ]
  },
  {
   "cell_type": "markdown",
   "id": "8c1abb39",
   "metadata": {},
   "source": [
    "AN ARRAY HAS 2-D ARRAY(MATRICES) AS ITS ELEMENT IS CALLED 3-D ARRAY"
   ]
  },
  {
   "cell_type": "code",
   "execution_count": 21,
   "id": "f5f7a14c",
   "metadata": {},
   "outputs": [
    {
     "name": "stdout",
     "output_type": "stream",
     "text": [
      "[[[1 2 3]\n",
      "  [4 5 6]]\n",
      "\n",
      " [[1 2 3]\n",
      "  [4 5 6]]]\n",
      "<class 'numpy.ndarray'>\n",
      "3\n"
     ]
    }
   ],
   "source": [
    "arr=np.array((((1,2,3),(4,5,6)),((1,2,3),(4,5,6))))\n",
    "print(arr)\n",
    "print(type(arr))\n",
    "print(arr.ndim)"
   ]
  },
  {
   "cell_type": "markdown",
   "id": "74c628cc",
   "metadata": {},
   "source": [
    "# CHECK NO. OF DIMENTION"
   ]
  },
  {
   "cell_type": "code",
   "execution_count": 28,
   "id": "639746b2",
   "metadata": {},
   "outputs": [
    {
     "name": "stdout",
     "output_type": "stream",
     "text": [
      "0\n",
      "1\n",
      "2\n",
      "3\n"
     ]
    }
   ],
   "source": [
    "a=np.array(10)\n",
    "b=np.array((1,2,3))\n",
    "c=np.array(((1,2,3),(4,5,6)))\n",
    "d=np.array((((1,2,3),(1,2,3)),((4,5,6,),(4,5,6))))\n",
    "\n",
    "print(a.ndim)\n",
    "print(b.ndim)\n",
    "print(c.ndim)\n",
    "print(d.ndim)"
   ]
  },
  {
   "cell_type": "markdown",
   "id": "aab3ba4b",
   "metadata": {},
   "source": [
    "# HIGHER DIMENTIONAL ARRAY"
   ]
  },
  {
   "cell_type": "markdown",
   "id": "911ff983",
   "metadata": {},
   "source": [
    "AN ARRAY CAN HAVE ANY NO OF DIMENTIONS\n",
    "\n",
    "WHEN THE ARRAY IS CREATED,U CAN DEFINE THE NO. OF DUMENTION BY USING ndim ARGIMENTS"
   ]
  },
  {
   "cell_type": "markdown",
   "id": "f42c11b2",
   "metadata": {},
   "source": [
    "# CREATE AN ARRAY OF 5 DIMENTION AND VERUFY THAT IT HAS 5 DIMENTION"
   ]
  },
  {
   "cell_type": "code",
   "execution_count": 43,
   "id": "fd7a6caf",
   "metadata": {},
   "outputs": [
    {
     "name": "stdout",
     "output_type": "stream",
     "text": [
      "[[[[[1 2 3 4 5]]]]]\n",
      "number of dimention:  5\n",
      "<class 'numpy.ndarray'>\n"
     ]
    }
   ],
   "source": [
    "arr=np.array((1,2,3,4,5),ndmin=5)\n",
    "print(arr)\n",
    "print(\"number of dimention: \" ,arr.ndim)\n",
    "print(type(arr))"
   ]
  },
  {
   "cell_type": "markdown",
   "id": "f9c51bcc",
   "metadata": {},
   "source": [
    "# NumPy ARRAY INDEXING"
   ]
  },
  {
   "cell_type": "markdown",
   "id": "8ae0fe1e",
   "metadata": {},
   "source": [
    "ARRAY INDEXING IS SAME AS ACCESSING ARRAY ELEMENT\n",
    "\n",
    "YOU CAN ACCESS TO AN ARRAY ELEMNT BY REFFRING TO ITS INDEX NO.\n",
    "\n",
    "THE INDEX NO. IN NumPy START WITH 0"
   ]
  },
  {
   "cell_type": "markdown",
   "id": "bc278969",
   "metadata": {},
   "source": [
    "# GET THE FIRST ELEMENT FORM THE ARRAY"
   ]
  },
  {
   "cell_type": "code",
   "execution_count": 9,
   "id": "729e7844",
   "metadata": {},
   "outputs": [
    {
     "name": "stdout",
     "output_type": "stream",
     "text": [
      "[1 2 3 4 5]\n",
      "THE ISt ELEMEMT IS: \n",
      "the ist element is: 1\n"
     ]
    }
   ],
   "source": [
    "arr=np.array((1,2,3,4,5))\n",
    "print(arr)\n",
    "print(\"THE ISt ELEMEMT IS: \")\n",
    "print(\"the ist element is:\",arr[0])"
   ]
  },
  {
   "cell_type": "markdown",
   "id": "9ee76e73",
   "metadata": {},
   "source": [
    "# GET THE 3,7,and 8 THREE ELEMENT FRO THE ARRAY AND ADD THEM"
   ]
  },
  {
   "cell_type": "code",
   "execution_count": 51,
   "id": "7818049f",
   "metadata": {},
   "outputs": [
    {
     "name": "stdout",
     "output_type": "stream",
     "text": [
      "the third element of array is:  55\n",
      "the seventh element of array is:  67\n",
      "the eirth element of array is:  23\n",
      "the sum of all three element is: 145\n"
     ]
    }
   ],
   "source": [
    "m=((33,44,55,67,32,45,67,23,11,98,43,54,26,32))\n",
    "print(\"the third element of array is: \",m[2])\n",
    "print(\"the seventh element of array is: \",m[6])\n",
    "print(\"the eirth element of array is: \",m[7])\n",
    "print(\"the sum of all three element is:\",m[2]+m[6]+m[7])"
   ]
  },
  {
   "cell_type": "markdown",
   "id": "7d523073",
   "metadata": {},
   "source": [
    "# ACCESSING 2-D ARRAY"
   ]
  },
  {
   "cell_type": "markdown",
   "id": "1a0ac507",
   "metadata": {},
   "source": [
    "TO ACCESS ELEMENT FROM 2-D ARRAY WE CAN USE COMMA SEPERTAED INTEGERS REPRESENTING THE DIMENTION AND THE INDEX OF THE ELEMENT.\n",
    "\n",
    "THINK OF 2-D ARRAY LIKE A TABLE WITH RAW AND COLUMN,WHEN THE DIMENTION REPRESENT THE ROW AND THE INDEX REPRESENT THE COLOMN"
   ]
  },
  {
   "cell_type": "code",
   "execution_count": 56,
   "id": "883512a0",
   "metadata": {},
   "outputs": [
    {
     "name": "stdout",
     "output_type": "stream",
     "text": [
      "third element of ist row: 30\n"
     ]
    }
   ],
   "source": [
    "arr=np.array(((10,20,30,40),(50,60,70,80)))\n",
    "print(\"third element of ist row:\",arr[0,2])#we r accessing third no. element"
   ]
  },
  {
   "cell_type": "code",
   "execution_count": 58,
   "id": "456f63c2",
   "metadata": {},
   "outputs": [
    {
     "name": "stdout",
     "output_type": "stream",
     "text": [
      "second element of second row: 60\n"
     ]
    }
   ],
   "source": [
    "arr=np.array(((10,20,30,40),(50,60,70,80)))\n",
    "print(\"second element of second row:\",arr[1,1])"
   ]
  },
  {
   "cell_type": "code",
   "execution_count": 62,
   "id": "09d5f9a0",
   "metadata": {},
   "outputs": [
    {
     "name": "stdout",
     "output_type": "stream",
     "text": [
      "second element of ist row: 20\n"
     ]
    }
   ],
   "source": [
    "arr=np.array(((10,20,30,40),(50,60,70,80)))\n",
    "print(\"second element of ist row:\",arr[0,1])\n"
   ]
  },
  {
   "cell_type": "markdown",
   "id": "4360b3d4",
   "metadata": {},
   "source": [
    "# ADD THE IST ANMD LAST ELEMENT OF IST ROW"
   ]
  },
  {
   "cell_type": "code",
   "execution_count": 65,
   "id": "588ae65f",
   "metadata": {},
   "outputs": [
    {
     "name": "stdout",
     "output_type": "stream",
     "text": [
      "ist element of ist row: 20\n",
      "last element of ist row: 40\n",
      "SUM OF IST AND LAST ELEMENT OF IST ROW: 60\n"
     ]
    }
   ],
   "source": [
    "arr=np.array(((10,20,30,40),(50,60,70,80)))\n",
    "print(\"ist element of ist row:\",arr[0,1])\n",
    "print(\"last element of ist row:\",arr[0,3])\n",
    "print(\"SUM OF IST AND LAST ELEMENT OF IST ROW:\",arr[0,1]+arr[0,3])"
   ]
  },
  {
   "cell_type": "markdown",
   "id": "617e385d",
   "metadata": {},
   "source": [
    "# ACCESSING 3-D ARRAYS"
   ]
  },
  {
   "cell_type": "markdown",
   "id": "e38352b9",
   "metadata": {},
   "source": [
    "TO ACCESS ELEMENT FROM 3-D ARRAY WE CAN USE COMMA SEPERTAED INTEGERS REPRESENTING THE DIMENTION AND THE INDEX OF THE ELEMENT."
   ]
  },
  {
   "cell_type": "code",
   "execution_count": 67,
   "id": "13f7998b",
   "metadata": {},
   "outputs": [
    {
     "name": "stdout",
     "output_type": "stream",
     "text": [
      "the ist element of 2nd row of sub row ist: 7\n"
     ]
    }
   ],
   "source": [
    "#we are tyying to get the ist element of row 2 and sub row 1\n",
    "x=np.array((((1,2,3),(4,5,6,)),((7,8,9,),(10,11,12))))\n",
    "print(\"the ist element of 2nd row of sub row ist:\",x[1,0,0])"
   ]
  },
  {
   "cell_type": "code",
   "execution_count": 68,
   "id": "e02245bb",
   "metadata": {},
   "outputs": [
    {
     "name": "stdout",
     "output_type": "stream",
     "text": [
      "the 2nd element of ist row of sub row 2nd: 5\n"
     ]
    }
   ],
   "source": [
    "x=np.array((((1,2,3),(4,5,6,)),((7,8,9,),(10,11,12))))\n",
    "print(\"the 2nd element of ist row of sub row 2nd:\",x[0,1,1])"
   ]
  },
  {
   "cell_type": "markdown",
   "id": "f0a6bdfd",
   "metadata": {},
   "source": [
    "# NEGATIVE INDEXDIING"
   ]
  },
  {
   "cell_type": "code",
   "execution_count": 1,
   "id": "230e92ac",
   "metadata": {},
   "outputs": [],
   "source": [
    "import numpy as nu"
   ]
  },
  {
   "cell_type": "code",
   "execution_count": 3,
   "id": "e3f41e08",
   "metadata": {},
   "outputs": [
    {
     "name": "stdout",
     "output_type": "stream",
     "text": [
      "3\n"
     ]
    }
   ],
   "source": [
    "arr=nu.array((1,2,3,4,5))\n",
    "print(arr[-3])"
   ]
  },
  {
   "cell_type": "code",
   "execution_count": 4,
   "id": "83802b01",
   "metadata": {},
   "outputs": [],
   "source": [
    "import numpy as np"
   ]
  },
  {
   "cell_type": "code",
   "execution_count": 6,
   "id": "94ad536f",
   "metadata": {},
   "outputs": [
    {
     "name": "stdout",
     "output_type": "stream",
     "text": [
      "last element of row 2 is: 6\n"
     ]
    }
   ],
   "source": [
    "arr=nu.array(((1,2,3,4,5),(2,3,4,5,6,)))\n",
    "print(\"last element of row 2 is:\",arr[1,-1])"
   ]
  },
  {
   "cell_type": "markdown",
   "id": "9c275fd8",
   "metadata": {},
   "source": [
    "# NUMPY ARRAY SLICING"
   ]
  },
  {
   "cell_type": "markdown",
   "id": "a97569ab",
   "metadata": {},
   "source": [
    "SLICING IS ARRAY MEANS TAKIONG ELEMENT FROM ONE GIVEN INDEX TO ANOTHER GIVEN INDEX.\n",
    "\n",
    "WE PASS SLICE INSTEAD OF INDEX LIKE THIS: [START:END].\n",
    "\n",
    "WE CAN ALSO DEFINED THE STEP, LIKE THIS:[START:END:STEP]."
   ]
  },
  {
   "cell_type": "markdown",
   "id": "9705a544",
   "metadata": {},
   "source": [
    "# SLICING ELEMENT FROM 1 TO 5 FROM GIVEN ARRAY"
   ]
  },
  {
   "cell_type": "code",
   "execution_count": 8,
   "id": "d6fa7242",
   "metadata": {},
   "outputs": [],
   "source": [
    "import numpy as np"
   ]
  },
  {
   "cell_type": "code",
   "execution_count": 10,
   "id": "1e095679",
   "metadata": {},
   "outputs": [
    {
     "name": "stdout",
     "output_type": "stream",
     "text": [
      "(2, 3, 4, 5, 6)\n"
     ]
    }
   ],
   "source": [
    "ar=((1,2,3,4,5,6,7,8))\n",
    "print(ar[1:6])"
   ]
  },
  {
   "cell_type": "code",
   "execution_count": 4,
   "id": "26f0e1af",
   "metadata": {},
   "outputs": [],
   "source": [
    "import numpy as np"
   ]
  },
  {
   "cell_type": "code",
   "execution_count": 6,
   "id": "a21557f5",
   "metadata": {},
   "outputs": [
    {
     "name": "stdout",
     "output_type": "stream",
     "text": [
      "[2 3 4 5 6 7 8]\n",
      "[2 3 4]\n"
     ]
    }
   ],
   "source": [
    "\n",
    "a=np.array([2,3,4,5,6,7,8])\n",
    "b=a[0:3]\n",
    "print(a)\n",
    "print(b)"
   ]
  },
  {
   "cell_type": "markdown",
   "id": "23c70f2f",
   "metadata": {},
   "source": [
    "SLICING ELEMENT FROM INDEX 4 TO LAST OF ARRAY"
   ]
  },
  {
   "cell_type": "code",
   "execution_count": 11,
   "id": "70897a22",
   "metadata": {},
   "outputs": [
    {
     "name": "stdout",
     "output_type": "stream",
     "text": [
      "(5, 6, 7, 8)\n"
     ]
    }
   ],
   "source": [
    "ar=((1,2,3,4,5,6,7,8))\n",
    "print(ar[4:])"
   ]
  },
  {
   "cell_type": "markdown",
   "id": "a0d76a98",
   "metadata": {},
   "source": [
    "STEPPING ONE ELEMMNTS"
   ]
  },
  {
   "cell_type": "code",
   "execution_count": 12,
   "id": "1b466655",
   "metadata": {},
   "outputs": [
    {
     "name": "stdout",
     "output_type": "stream",
     "text": [
      "(1, 3, 5, 7)\n"
     ]
    }
   ],
   "source": [
    "ar=((1,2,3,4,5,6,7,8))\n",
    "print(ar[::2])"
   ]
  },
  {
   "cell_type": "markdown",
   "id": "7ef501fb",
   "metadata": {},
   "source": [
    "# SLICING 2-D ARRAY"
   ]
  },
  {
   "cell_type": "code",
   "execution_count": 17,
   "id": "0802a58f",
   "metadata": {},
   "outputs": [
    {
     "name": "stdout",
     "output_type": "stream",
     "text": [
      "[50 60]\n"
     ]
    }
   ],
   "source": [
    "arr=np.array(((10,20,30,40),(50,60,70,80)))\n",
    "print(arr[1, 0:2])"
   ]
  },
  {
   "cell_type": "code",
   "execution_count": 7,
   "id": "a5897cd5",
   "metadata": {},
   "outputs": [
    {
     "name": "stdout",
     "output_type": "stream",
     "text": [
      "[[1 2 3]\n",
      " [5 6 7]]\n",
      "[1 2]\n"
     ]
    }
   ],
   "source": [
    "a=np.array(([1,2,3],[5,6,7]))\n",
    "print(a)\n",
    "print(a[0,0:2])"
   ]
  },
  {
   "cell_type": "code",
   "execution_count": 14,
   "id": "dc3579f8",
   "metadata": {},
   "outputs": [
    {
     "name": "stdout",
     "output_type": "stream",
     "text": [
      "[30 40]\n"
     ]
    }
   ],
   "source": [
    "arr=np.array(((10,20,30,40),(50,60,70,80)))\n",
    "print(arr[0,2:])"
   ]
  },
  {
   "cell_type": "markdown",
   "id": "00d945cc",
   "metadata": {},
   "source": [
    "# SLICING IN 3D ARRAY"
   ]
  },
  {
   "cell_type": "code",
   "execution_count": 8,
   "id": "eadd4304",
   "metadata": {},
   "outputs": [
    {
     "name": "stdout",
     "output_type": "stream",
     "text": [
      "[[[1 2 3]\n",
      "  [4 5 6]]\n",
      "\n",
      " [[7 6 5]\n",
      "  [4 5 6]]]\n",
      "[2 3]\n"
     ]
    }
   ],
   "source": [
    "arr=np.array((([1,2,3],[4,5,6]),([7,6,5],[4,5,6])))\n",
    "print(arr)\n",
    "sl=arr[0,0,1:]\n",
    "print(sl)"
   ]
  },
  {
   "cell_type": "code",
   "execution_count": null,
   "id": "ce8da559",
   "metadata": {},
   "outputs": [],
   "source": []
  }
 ],
 "metadata": {
  "kernelspec": {
   "display_name": "Python 3 (ipykernel)",
   "language": "python",
   "name": "python3"
  },
  "language_info": {
   "codemirror_mode": {
    "name": "ipython",
    "version": 3
   },
   "file_extension": ".py",
   "mimetype": "text/x-python",
   "name": "python",
   "nbconvert_exporter": "python",
   "pygments_lexer": "ipython3",
   "version": "3.11.5"
  }
 },
 "nbformat": 4,
 "nbformat_minor": 5
}
