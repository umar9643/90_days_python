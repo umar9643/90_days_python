{
 "cells": [
  {
   "cell_type": "code",
   "execution_count": null,
   "id": "ff8dcf22",
   "metadata": {},
   "outputs": [],
   "source": [
    "lenght=int(input(\"enter lenght\"))\n",
    "braeth=int(input(\"enter breath\"))\n",
    "area=lenght*breath\n",
    "print(area)\n"
   ]
  },
  {
   "cell_type": "code",
   "execution_count": 1,
   "id": "0ce7f268",
   "metadata": {},
   "outputs": [
    {
     "name": "stdout",
     "output_type": "stream",
     "text": [
      "z\n"
     ]
    }
   ],
   "source": [
    "i=input(\"z\")"
   ]
  },
  {
   "cell_type": "code",
   "execution_count": null,
   "id": "557de6ef",
   "metadata": {},
   "outputs": [],
   "source": [
    "x=int(input(\"enter lenght\"))\n",
    "y=int(input(\"enter breath\"))\n",
    "a=int(x*y)\n",
    "print(a)\n"
   ]
  },
  {
   "cell_type": "code",
   "execution_count": null,
   "id": "3cd33abd",
   "metadata": {},
   "outputs": [],
   "source": [
    "x,y=2,4\n",
    "print(x,y)\n",
    "x,y=y,y\n",
    "print(x,y)"
   ]
  },
  {
   "cell_type": "code",
   "execution_count": 2,
   "id": "176f00ee",
   "metadata": {},
   "outputs": [
    {
     "name": "stdout",
     "output_type": "stream",
     "text": [
      "enetr ist no6\n",
      "enter 2nd no4\n",
      "6 4\n",
      "4 6\n"
     ]
    }
   ],
   "source": [
    "x=int(input(\"enetr ist no\"))\n",
    "y=int(input(\"enter 2nd no\"))\n",
    "print(x,y)\n",
    "x,y=y,x\n",
    "print(x,y)"
   ]
  },
  {
   "cell_type": "code",
   "execution_count": 3,
   "id": "d3cab5d8",
   "metadata": {},
   "outputs": [
    {
     "name": "stdout",
     "output_type": "stream",
     "text": [
      "enetr ist no6\n",
      "enter 2nd no7\n",
      "enter 3rd no8\n",
      "6 7 8\n",
      "8 7 6\n"
     ]
    }
   ],
   "source": [
    "x=int(input(\"enetr ist no\"))\n",
    "y=int(input(\"enter 2nd no\"))\n",
    "z=int(input(\"enter 3rd no\"))\n",
    "print(x,y,z)\n",
    "x,y,z=z,y,x\n",
    "print(x,y,z)"
   ]
  },
  {
   "cell_type": "code",
   "execution_count": 5,
   "id": "365ebeb0",
   "metadata": {},
   "outputs": [
    {
     "name": "stdout",
     "output_type": "stream",
     "text": [
      "ist no7\n",
      "2nd no8\n",
      "7 8\n",
      "8 7\n"
     ]
    }
   ],
   "source": [
    "x=int(input(\"ist no\"))\n",
    "y=int(input(\"2nd no\"))\n",
    "print(x,y)\n",
    "x=x+y\n",
    "y=x-y\n",
    "x=x-y\n",
    "print(x,y)"
   ]
  },
  {
   "cell_type": "code",
   "execution_count": 1,
   "id": "59f18710",
   "metadata": {},
   "outputs": [
    {
     "ename": "NameError",
     "evalue": "name 'Eq' is not defined",
     "output_type": "error",
     "traceback": [
      "\u001b[1;31m---------------------------------------------------------------------------\u001b[0m",
      "\u001b[1;31mNameError\u001b[0m                                 Traceback (most recent call last)",
      "Cell \u001b[1;32mIn[1], line 1\u001b[0m\n\u001b[1;32m----> 1\u001b[0m eq1\u001b[38;5;241m=\u001b[39mEq((x\u001b[38;5;241m+\u001b[39my\u001b[38;5;241m+\u001b[39mz),\u001b[38;5;241m1\u001b[39m)\n\u001b[0;32m      2\u001b[0m \u001b[38;5;28mprint\u001b[39m(\u001b[38;5;124m\"\u001b[39m\u001b[38;5;124mequation\u001b[39m\u001b[38;5;124m\"\u001b[39m)\n\u001b[0;32m      3\u001b[0m \u001b[38;5;28mprint\u001b[39m(eq)\n",
      "\u001b[1;31mNameError\u001b[0m: name 'Eq' is not defined"
     ]
    }
   ],
   "source": [
    "eq1=Eq((x+y+z),1)\n",
    "print(\"equation\")\n",
    "print(eq)\n",
    "eq2=Eq((x-y-2^xz))\n",
    "print(\"Equation 2\")\n",
    "print(eq2)"
   ]
  },
  {
   "cell_type": "code",
   "execution_count": 26,
   "id": "f255a31b",
   "metadata": {},
   "outputs": [
    {
     "name": "stdout",
     "output_type": "stream",
     "text": [
      "equation1\n",
      "Eq(x + y + z, 1)\n",
      "Equation2\n",
      "Eq(x - y + 2*z, 1)\n",
      "Equation\n",
      "Eq(2*x - y + 2*z, 1)\n",
      "The sol is\n",
      "{x: 0, y: 1/3, z: 2/3}\n"
     ]
    }
   ],
   "source": [
    "import numpy as np\n",
    "from sympy import symbols,Eq,solve\n",
    "x , y , z = symbols('x,y,z')\n",
    "eq1 = Eq((x+y+z),1)\n",
    "print(\"equation1\")\n",
    "print(eq1)\n",
    "eq2 = Eq((x-y+2*z),1)\n",
    "print(\"Equation2\")\n",
    "print(eq2)\n",
    "eq3 = Eq ((2*x-y+2*z),1)\n",
    "print(\"Equation\")\n",
    "print(eq3)\n",
    "print(\"The sol is\")\n",
    "print(solve((eq1, eq2, eq3),(x,y,z)))"
   ]
  },
  {
   "cell_type": "code",
   "execution_count": 30,
   "id": "92c0ceed",
   "metadata": {},
   "outputs": [
    {
     "name": "stdout",
     "output_type": "stream",
     "text": [
      "[-0.58226371  3.22870478 -1.98599767]\n"
     ]
    }
   ],
   "source": [
    "import numpy as  np\n",
    "from sympy import symbols,Eq,solve\n",
    "A = np.array([[8,3,-2],[-4,7,5],[3,4,-12]])\n",
    "b = np.array([9,15,35])\n",
    "x = np.linalg.solve(A,b)\n",
    "print(x)"
   ]
  },
  {
   "cell_type": "code",
   "execution_count": 6,
   "id": "138c7a27",
   "metadata": {},
   "outputs": [
    {
     "name": "stdout",
     "output_type": "stream",
     "text": [
      "['False', 'None', 'True', 'and', 'as', 'assert', 'async', 'await', 'break', 'class', 'continue', 'def', 'del', 'elif', 'else', 'except', 'finally', 'for', 'from', 'global', 'if', 'import', 'in', 'is', 'lambda', 'nonlocal', 'not', 'or', 'pass', 'raise', 'return', 'try', 'while', 'with', 'yield']\n"
     ]
    }
   ],
   "source": [
    "import keyword\n",
    "print(keyword.kwlist)"
   ]
  },
  {
   "cell_type": "code",
   "execution_count": 7,
   "id": "b12df32b",
   "metadata": {},
   "outputs": [
    {
     "name": "stdout",
     "output_type": "stream",
     "text": [
      "True\n"
     ]
    }
   ],
   "source": [
    "a=3\n",
    "b=3\n",
    "print(a is b)"
   ]
  },
  {
   "cell_type": "code",
   "execution_count": 15,
   "id": "2fe5707c",
   "metadata": {},
   "outputs": [
    {
     "name": "stdout",
     "output_type": "stream",
     "text": [
      "id of a :  140735928701896\n",
      "id of b :  140735928701896\n"
     ]
    }
   ],
   "source": [
    "a=6\n",
    "b=6\n",
    "print(\"id of a : \", id(a))\n",
    "print(\"id of b : \", id(b))"
   ]
  },
  {
   "cell_type": "raw",
   "id": "1c03639d",
   "metadata": {},
   "source": [
    "var=\"umar alam is great\"\n",
    "print("
   ]
  },
  {
   "cell_type": "code",
   "execution_count": 16,
   "id": "1065ae20",
   "metadata": {},
   "outputs": [
    {
     "name": "stdout",
     "output_type": "stream",
     "text": [
      "True\n"
     ]
    }
   ],
   "source": [
    "var=\"umar alam is great\"\n",
    "print(\"great\" in var)"
   ]
  },
  {
   "cell_type": "code",
   "execution_count": 17,
   "id": "e62d42db",
   "metadata": {},
   "outputs": [
    {
     "name": "stdout",
     "output_type": "stream",
     "text": [
      "False\n"
     ]
    }
   ],
   "source": [
    "var=\"umar alam is great\"\n",
    "print(\"great\"  not in var)"
   ]
  },
  {
   "cell_type": "code",
   "execution_count": 33,
   "id": "f5fa8da4",
   "metadata": {},
   "outputs": [
    {
     "ename": "SyntaxError",
     "evalue": "invalid syntax. Perhaps you forgot a comma? (2705722052.py, line 2)",
     "output_type": "error",
     "traceback": [
      "\u001b[1;36m  Cell \u001b[1;32mIn[33], line 2\u001b[1;36m\u001b[0m\n\u001b[1;33m    print(a \" \" * \" \"3)\u001b[0m\n\u001b[1;37m            ^\u001b[0m\n\u001b[1;31mSyntaxError\u001b[0m\u001b[1;31m:\u001b[0m invalid syntax. Perhaps you forgot a comma?\n"
     ]
    }
   ],
   "source": [
    "a=\"umar\"\n",
    "print(3)"
   ]
  },
  {
   "cell_type": "code",
   "execution_count": 25,
   "id": "5386be64",
   "metadata": {},
   "outputs": [
    {
     "name": "stdout",
     "output_type": "stream",
     "text": [
      "True\n"
     ]
    }
   ],
   "source": [
    "var=\"umar alam is great\"\n",
    "print(\"great\" in var)"
   ]
  },
  {
   "cell_type": "code",
   "execution_count": 34,
   "id": "bfc4e32d",
   "metadata": {},
   "outputs": [
    {
     "name": "stdout",
     "output_type": "stream",
     "text": [
      "False\n"
     ]
    }
   ],
   "source": [
    "a=\"ram\"\n",
    "b=\"sha\"\n",
    "print(a==b)"
   ]
  },
  {
   "cell_type": "code",
   "execution_count": 4,
   "id": "28149278",
   "metadata": {},
   "outputs": [
    {
     "name": "stdout",
     "output_type": "stream",
     "text": [
      "140735914152936\n",
      "140735914152936\n"
     ]
    }
   ],
   "source": [
    "a=7\n",
    "b=7\n",
    "print(id(a))\n",
    "print(id(b))"
   ]
  },
  {
   "cell_type": "code",
   "execution_count": 6,
   "id": "e904db9e",
   "metadata": {},
   "outputs": [
    {
     "name": "stdout",
     "output_type": "stream",
     "text": [
      "140735914152936 140735914152936\n"
     ]
    }
   ],
   "source": [
    "a=7\n",
    "b=7\n",
    "print(id(a),id(b))"
   ]
  },
  {
   "cell_type": "code",
   "execution_count": 7,
   "id": "c8db3d9c",
   "metadata": {},
   "outputs": [
    {
     "name": "stdout",
     "output_type": "stream",
     "text": [
      "['False', 'None', 'True', 'and', 'as', 'assert', 'async', 'await', 'break', 'class', 'continue', 'def', 'del', 'elif', 'else', 'except', 'finally', 'for', 'from', 'global', 'if', 'import', 'in', 'is', 'lambda', 'nonlocal', 'not', 'or', 'pass', 'raise', 'return', 'try', 'while', 'with', 'yield']\n"
     ]
    }
   ],
   "source": [
    "import keyword\n",
    "print(keyword.kwlist)"
   ]
  },
  {
   "cell_type": "code",
   "execution_count": 1,
   "id": "ec7b285a",
   "metadata": {},
   "outputs": [
    {
     "name": "stdout",
     "output_type": "stream",
     "text": [
      "salman khan\n",
      "salman khan\n",
      "salman khan\n",
      "salman khan\n",
      "srk\n"
     ]
    }
   ],
   "source": [
    "count=3\n",
    "while(count<7):\n",
    "    count=count + 1\n",
    "    print(\"salman khan\")\n",
    "else:\n",
    "    print(\"srk\")"
   ]
  },
  {
   "cell_type": "code",
   "execution_count": null,
   "id": "758cf033",
   "metadata": {},
   "outputs": [],
   "source": [
    "age=32\n",
    "while age > 18\n",
    "    print(\"sdsd\")"
   ]
  },
  {
   "cell_type": "code",
   "execution_count": 2,
   "id": "826716c2",
   "metadata": {},
   "outputs": [
    {
     "name": "stdout",
     "output_type": "stream",
     "text": [
      "my name is sheela\n",
      "my name is sheela\n",
      "my name is sheela\n",
      "my name is sheela\n",
      "my name is sheela\n"
     ]
    }
   ],
   "source": [
    "w=0\n",
    "while w<10:\n",
    "    print(\"my name is sheela\")\n",
    "    w=w+2"
   ]
  },
  {
   "cell_type": "code",
   "execution_count": 5,
   "id": "7bfd0516",
   "metadata": {},
   "outputs": [
    {
     "name": "stdout",
     "output_type": "stream",
     "text": [
      "my name is sheela\n",
      "my name is sheela\n",
      "my name is sheela\n",
      "my name is sheela\n",
      "munni badnaam hui\n"
     ]
    }
   ],
   "source": [
    "i=2\n",
    "while i<10:\n",
    "    i=i+2\n",
    "    print(\"my name is sheela\")\n",
    "else:\n",
    "    print(\"munni badnaam hui\")"
   ]
  },
  {
   "cell_type": "code",
   "execution_count": 1,
   "id": "00d0d954",
   "metadata": {},
   "outputs": [
    {
     "name": "stdout",
     "output_type": "stream",
     "text": [
      "enter the number7\n",
      "0\n",
      "1\n",
      "4\n",
      "9\n",
      "16\n",
      "25\n",
      "36\n",
      "49\n"
     ]
    }
   ],
   "source": [
    "x=int(input(\"enter the number\"))\n",
    "i=0\n",
    "while i<=x:\n",
    "    print(i**2)\n",
    "    i=i+1\n",
    "    "
   ]
  },
  {
   "cell_type": "code",
   "execution_count": 2,
   "id": "d79de508",
   "metadata": {},
   "outputs": [
    {
     "name": "stdout",
     "output_type": "stream",
     "text": [
      "enter the age77\n",
      "eligible\n"
     ]
    }
   ],
   "source": [
    "x=int(input(\"enter the age\"))\n",
    "if x>18:\n",
    "    print(\"eligible\")\n",
    "else:\n",
    "    print(\"htt mc\")"
   ]
  },
  {
   "cell_type": "code",
   "execution_count": 4,
   "id": "68ff948c",
   "metadata": {},
   "outputs": [
    {
     "name": "stdout",
     "output_type": "stream",
     "text": [
      "enter the days2\n",
      "you have tp pay 4 rupee\n"
     ]
    }
   ],
   "source": [
    "a=int(input(\"enter the days\"))\n",
    "if a>20:\n",
    "    print(\"you have tp pay\",20*a,\"rupee\")\n",
    "elif a>15:\n",
    "    print(\"you have tp pay\",15*a,\"rupee\")\n",
    "elif a>10:\n",
    "    (\"you have tp pay\",10*a,\"rupee\")\n",
    "elif a>5:\n",
    "    print(\"you have tp pay\",5*a,\"rupee\")\n",
    "else:\n",
    "    print(\"you have tp pay\",2*a,\"rupee\")"
   ]
  },
  {
   "cell_type": "markdown",
   "id": "b0e5cb91",
   "metadata": {},
   "source": [
    "# take valyuye from user and make multiple till 10"
   ]
  },
  {
   "cell_type": "code",
   "execution_count": 6,
   "id": "9852c532",
   "metadata": {},
   "outputs": [
    {
     "name": "stdout",
     "output_type": "stream",
     "text": [
      "enter the value5\n",
      "5\n",
      "10\n",
      "15\n",
      "20\n",
      "25\n",
      "30\n",
      "35\n",
      "40\n",
      "45\n"
     ]
    }
   ],
   "source": [
    "v=int(input(\"enter the value\"))\n",
    "i=1\n",
    "j=10\n",
    "while i <j:\n",
    "    print(v*i)\n",
    "    i=i+1"
   ]
  },
  {
   "cell_type": "markdown",
   "id": "3e4859b3",
   "metadata": {},
   "source": [
    "# string ko repeat krne ke liya code"
   ]
  },
  {
   "cell_type": "code",
   "execution_count": 4,
   "id": "1ace13ea",
   "metadata": {},
   "outputs": [
    {
     "name": "stdout",
     "output_type": "stream",
     "text": [
      "alam\n",
      "alam\n",
      "alam\n",
      "alam\n",
      "alam\n",
      "alam\n",
      "alam\n",
      "alam\n",
      "alam\n",
      "alam\n"
     ]
    }
   ],
   "source": [
    "x=0\n",
    "y=10\n",
    "while x<y :\n",
    "    print(\"alam\")\n",
    "    x=x+1"
   ]
  },
  {
   "cell_type": "markdown",
   "id": "620bbf9a",
   "metadata": {},
   "source": [
    "# using else statement in while looops"
   ]
  },
  {
   "cell_type": "code",
   "execution_count": 1,
   "id": "962d99fc",
   "metadata": {},
   "outputs": [
    {
     "name": "stdout",
     "output_type": "stream",
     "text": [
      "mc\n",
      "mc\n",
      "mc\n",
      "mc\n",
      "mc\n",
      "mc\n",
      "mc\n",
      "mc\n",
      "mc\n",
      "mc\n",
      "mc\n",
      "mc\n",
      "mc\n",
      "mc\n",
      "mc\n",
      "mc\n",
      "mc\n",
      "mc\n",
      "mc\n",
      "mc\n",
      "bc\n"
     ]
    }
   ],
   "source": [
    "start=0\n",
    "end=20\n",
    "while start<end:\n",
    "    print(\"mc\")\n",
    "    start=start+1\n",
    "else:\n",
    "    print(\"bc\")"
   ]
  },
  {
   "cell_type": "code",
   "execution_count": 2,
   "id": "8f524adb",
   "metadata": {},
   "outputs": [
    {
     "name": "stdout",
     "output_type": "stream",
     "text": [
      "mc\n",
      "mc\n",
      "mc\n",
      "mc\n",
      "mc\n",
      "mc\n",
      "mc\n",
      "mc\n",
      "mc\n",
      "mc\n",
      "mc\n",
      "mc\n",
      "mc\n",
      "mc\n",
      "mc\n",
      "mc\n",
      "mc\n",
      "mc\n",
      "mc\n",
      "mc\n",
      "bc\n"
     ]
    }
   ],
   "source": [
    "start=0\n",
    "end=20\n",
    "while start<end:\n",
    "    print(\"mc\")\n",
    "    start=start+1\n",
    "else:\n",
    "    print(\"bc\")"
   ]
  },
  {
   "cell_type": "markdown",
   "id": "9859b585",
   "metadata": {},
   "source": [
    "# IF 500 UNIT USED PAY 5 RUPEE AS PER UNIT IF 700 UNIT USED PAY 7 RUPEE AS PER UNIT IF 1000 UNIT USED PAY 10 RUPEE AS PER UNIT IF M0RE THAN 1000 UNIT USED PPAY 15 RUPEE AS PER UNIT"
   ]
  },
  {
   "cell_type": "code",
   "execution_count": 13,
   "id": "8b41e73a",
   "metadata": {},
   "outputs": [],
   "source": [
    "def electricitybill(e):\n",
    "    if e<500:\n",
    "        print(\"your electrucity bill is\",e*5,\"rupees\")\n",
    "    elif e>=500 and e<700:\n",
    "        print(\"your electrucity bill is\",e*10,\"rupees\")\n",
    "    elif e>=700 and e<1000:\n",
    "        print(\"your electrucity bill is\",e*12,\"rupees\")\n",
    "    elif e>=1000:\n",
    "        print((\"your electrucity bill is\",e*15,\"rupees\"))\n",
    "    "
   ]
  },
  {
   "cell_type": "code",
   "execution_count": 14,
   "id": "e62591e4",
   "metadata": {},
   "outputs": [],
   "source": [
    "def inst():\n",
    "    print(\"your last date to pay bill is xxxx\")\n",
    "    print(\"you have to pay fine if you will not pay as per time\")\n",
    "    print(\"delhi sarita vihar\")"
   ]
  },
  {
   "cell_type": "code",
   "execution_count": 15,
   "id": "65218bc3",
   "metadata": {},
   "outputs": [
    {
     "name": "stdout",
     "output_type": "stream",
     "text": [
      "enter the nameimran\n",
      "enter the unit 1000\n",
      "\n",
      "('your electrucity bill is', 15000, 'rupees')\n",
      "\n",
      "your last date to pay bill is xxxx\n",
      "you have to pay fine if you will not pay as per time\n",
      "delhi sarita vihar\n"
     ]
    }
   ],
   "source": [
    "x=input(\"enter the name\")\n",
    "e=int(input(\"enter the unit \"))\n",
    "print()\n",
    "electricitybill(e)\n",
    "print()\n",
    "inst()"
   ]
  },
  {
   "cell_type": "code",
   "execution_count": 16,
   "id": "870f70b9",
   "metadata": {},
   "outputs": [
    {
     "name": "stdout",
     "output_type": "stream",
     "text": [
      "enter the namenemat\n",
      "enter the unit 400\n",
      "\n",
      "your electrucity bill is 2000 rupees\n",
      "\n",
      "your last date to pay bill is xxxx\n",
      "you have to pay fine if you will not pay as per time\n",
      "delhi sarita vihar\n",
      "enter the nameazmat\n",
      "enter the unit 800\n",
      "\n",
      "your electrucity bill is 9600 rupees\n",
      "\n",
      "your last date to pay bill is xxxx\n",
      "you have to pay fine if you will not pay as per time\n",
      "delhi sarita vihar\n",
      "enter the nameummat\n",
      "enter the unit 1200\n",
      "\n",
      "('your electrucity bill is', 18000, 'rupees')\n",
      "\n",
      "your last date to pay bill is xxxx\n",
      "you have to pay fine if you will not pay as per time\n",
      "delhi sarita vihar\n"
     ]
    }
   ],
   "source": [
    "for i in range(3):\n",
    "    x=input(\"enter the name\")\n",
    "    e=int(input(\"enter the unit \"))\n",
    "    print()\n",
    "    electricitybill(e)\n",
    "    print()\n",
    "    inst()\n",
    "    "
   ]
  },
  {
   "cell_type": "markdown",
   "id": "190dcb4a",
   "metadata": {},
   "source": [
    "IF 500 UNIT USED PAY 5 RUPEE AS PER UNIT IF 700 UNIT USED PAY 7 RUPEE AS PER UNIT IF 1000 UNIT USED PAY 10 RUPEE AS PER UNIT IF M0RE THAN 1000 UNIT USED PPAY 15 RUPEE AS PER UNIT"
   ]
  },
  {
   "cell_type": "code",
   "execution_count": null,
   "id": "bdc7e468",
   "metadata": {},
   "outputs": [],
   "source": [
    "n=input(\"enter ypur name\")\n",
    "e=int(input(\"bill consumed\"))\n",
    "if e<=500:\n",
    "    print(\"your electricity bill is:\",e*5)\n",
    "elif e<=700 or e>500:\n",
    "    print(\"your electricity bill is:\",e*7)\n",
    "elif e<=1000 or e>700:\n",
    "    print(\"your electricity bill is:\",e*10)\n",
    "else:\n",
    "    print(\"your electricity bill is:\",e*15)\n",
    "    "
   ]
  },
  {
   "cell_type": "code",
   "execution_count": 5,
   "id": "f3e955d5",
   "metadata": {},
   "outputs": [],
   "source": [
    "def inst():\n",
    "    print(\"your last date to pay 29\")\n",
    "    print(\"it will charge if you will not pay on time\")\n",
    "    print(\"delhi new nagar\")"
   ]
  },
  {
   "cell_type": "code",
   "execution_count": 6,
   "id": "1e35ddf2",
   "metadata": {},
   "outputs": [],
   "source": [
    "def electricity_bill(e):\n",
    "    if e<=500:\n",
    "        print(\"your electricity bill is:\",e*5)\n",
    "    elif e>500 and e<=700:\n",
    "        print(\"your electricity bill is:\",e*7)\n",
    "    elif e>700 and e<=1000:\n",
    "        print(\"your electricity bill is:\",e*10)\n",
    "    else:\n",
    "        print(\"your electricity bill is:\",e*15)\n",
    "    \n",
    "    "
   ]
  },
  {
   "cell_type": "code",
   "execution_count": 7,
   "id": "583e167f",
   "metadata": {},
   "outputs": [
    {
     "name": "stdout",
     "output_type": "stream",
     "text": [
      "enter your namealam\n",
      "enter the unit you have consumed900\n",
      "your electricity bill is: 9000\n",
      "\n",
      "your last date to pay 29\n",
      "it will charge if you will not pay on time\n",
      "delhi new nagar\n"
     ]
    }
   ],
   "source": [
    "a=input(\"enter your name\")\n",
    "e=int(input(\"enter the unit you have consumed\"))\n",
    "electricity_bill(e)\n",
    "print()\n",
    "inst()"
   ]
  },
  {
   "cell_type": "code",
   "execution_count": 8,
   "id": "4214d494",
   "metadata": {},
   "outputs": [
    {
     "name": "stdout",
     "output_type": "stream",
     "text": [
      "enter your namealam\n",
      "enter the unit you have consumed200\n",
      "your electricity bill is: 1000\n",
      "\n",
      "your last date to pay 29\n",
      "it will charge if you will not pay on time\n",
      "delhi new nagar\n",
      "enter your nameumar\n",
      "enter the unit you have consumed600\n",
      "your electricity bill is: 4200\n",
      "\n",
      "your last date to pay 29\n",
      "it will charge if you will not pay on time\n",
      "delhi new nagar\n",
      "enter your nameimran\n",
      "enter the unit you have consumed1100\n",
      "your electricity bill is: 16500\n",
      "\n",
      "your last date to pay 29\n",
      "it will charge if you will not pay on time\n",
      "delhi new nagar\n"
     ]
    }
   ],
   "source": [
    "for i in range(3):\n",
    "    a=input(\"enter your name\")\n",
    "    e=int(input(\"enter the unit you have consumed\"))\n",
    "    electricity_bill(e)\n",
    "    print()\n",
    "    inst()\n",
    "    \n"
   ]
  },
  {
   "cell_type": "code",
   "execution_count": null,
   "id": "000bef49",
   "metadata": {},
   "outputs": [],
   "source": [
    "x=int(input(\"\"))"
   ]
  },
  {
   "cell_type": "markdown",
   "id": "cdc2b038",
   "metadata": {},
   "source": [
    "# making a calculator"
   ]
  },
  {
   "cell_type": "code",
   "execution_count": null,
   "id": "69bf6865",
   "metadata": {},
   "outputs": [],
   "source": [
    "a=int(input(enter the number))"
   ]
  },
  {
   "cell_type": "markdown",
   "id": "deb5df63",
   "metadata": {},
   "source": [
    "# find the average marks of 9 student  a class in python subject"
   ]
  },
  {
   "cell_type": "code",
   "execution_count": 2,
   "id": "a3a174e8",
   "metadata": {},
   "outputs": [
    {
     "name": "stdout",
     "output_type": "stream",
     "text": [
      "enter the marks of the ist student54\n",
      "enter the marks of the 2nd student56\n",
      "enter the marks of the 3rd student45\n",
      "enter the marks of the 4th student65\n",
      "enter the marks of the 5th student76\n",
      "enter the marks of the 6th student88\n",
      "enter the marks of the 7th student78\n",
      "enter the marks of the 8th student76\n",
      "enter the marks of the 9th student56\n",
      "66.0\n"
     ]
    }
   ],
   "source": [
    "a=int(input(\"enter the marks of the ist student\"))\n",
    "b=int(input(\"enter the marks of the 2nd student\"))\n",
    "c=int(input(\"enter the marks of the 3rd student\"))\n",
    "d=int(input(\"enter the marks of the 4th student\"))\n",
    "e=int(input(\"enter the marks of the 5th student\"))\n",
    "f=int(input(\"enter the marks of the 6th student\"))\n",
    "g=int(input(\"enter the marks of the 7th student\"))\n",
    "h=int(input(\"enter the marks of the 8th student\"))\n",
    "i=int(input(\"enter the marks of the 9th student\"))\n",
    "x=a+b+c+d+e+f+g+h+i\n",
    "y=x/9\n",
    "print(y)\n"
   ]
  },
  {
   "cell_type": "markdown",
   "id": "02e18c68",
   "metadata": {},
   "source": [
    "# find the avg of natural no. 1 to 67"
   ]
  },
  {
   "cell_type": "code",
   "execution_count": 3,
   "id": "a54aa9b2",
   "metadata": {},
   "outputs": [
    {
     "name": "stdout",
     "output_type": "stream",
     "text": [
      "34.0\n"
     ]
    }
   ],
   "source": [
    "s=sum(range(1,68))\n",
    "x=s/67\n",
    "print(x)"
   ]
  },
  {
   "cell_type": "markdown",
   "id": "59430f87",
   "metadata": {},
   "source": [
    "# The average of 10 numbers is 23. If each number is increased by 4, what will the new average be?"
   ]
  },
  {
   "cell_type": "code",
   "execution_count": 13,
   "id": "dffac00f",
   "metadata": {},
   "outputs": [
    {
     "name": "stdout",
     "output_type": "stream",
     "text": [
      "27.0\n"
     ]
    }
   ],
   "source": [
    "te=10\n",
    "avg=23\n",
    "os=te*avg\n",
    "ns=os+(4*te)\n",
    "n_avg=ns/te\n",
    "print(na)"
   ]
  },
  {
   "cell_type": "markdown",
   "id": "1d22d60f",
   "metadata": {},
   "source": [
    "# The average marks of 10 students is 99 . If one student got zero marks what will me average marks of remaining students."
   ]
  },
  {
   "cell_type": "code",
   "execution_count": 6,
   "id": "dcafe43d",
   "metadata": {},
   "outputs": [
    {
     "name": "stdout",
     "output_type": "stream",
     "text": [
      "89.1\n"
     ]
    }
   ],
   "source": [
    "#the total sum of student is\n",
    "os=99*10\n",
    "#the new sum \n",
    "ns=990-99\n",
    "#the new avg\n",
    "na=891/10\n",
    "print(na)"
   ]
  },
  {
   "cell_type": "markdown",
   "id": "87ea37b3",
   "metadata": {},
   "source": [
    "# The average of 7 consecutive numbers is 20. What is the largest of these numbers?"
   ]
  },
  {
   "cell_type": "code",
   "execution_count": 6,
   "id": "69739394",
   "metadata": {},
   "outputs": [
    {
     "ename": "SyntaxError",
     "evalue": "invalid decimal literal (139493925.py, line 9)",
     "output_type": "error",
     "traceback": [
      "\u001b[1;36m  Cell \u001b[1;32mIn[6], line 9\u001b[1;36m\u001b[0m\n\u001b[1;33m    summ=7x+21\u001b[0m\n\u001b[1;37m         ^\u001b[0m\n\u001b[1;31mSyntaxError\u001b[0m\u001b[1;31m:\u001b[0m invalid decimal literal\n"
     ]
    }
   ],
   "source": [
    "#count of number is 7\n",
    "# avg of the number is 20\n",
    "avg=20\n",
    "e=7\n",
    "x=\n",
    "sum=avg*e\n",
    "sum=(x+x+1+x+2+x+3+x+4+x+5+x+6)/e\n",
    "summ=7x+21\n",
    "print(sum)\n"
   ]
  },
  {
   "cell_type": "markdown",
   "id": "448a1062",
   "metadata": {},
   "source": [
    "# WRITE A PYHTON CODE TO CALCULATE INCOME TAX SUING TAX SLB"
   ]
  },
  {
   "cell_type": "code",
   "execution_count": 11,
   "id": "f9264ea0",
   "metadata": {},
   "outputs": [
    {
     "name": "stdout",
     "output_type": "stream",
     "text": [
      "enter your income100000\n",
      "do not need to pay  tax gareeeb\n"
     ]
    }
   ],
   "source": [
    "income=int(input(\"enter your income\"))\n",
    "if income>250000 and income<=500000:\n",
    "    print(\"you have to pay\",income*5/100)\n",
    "elif income>500000 and income<=750000:\n",
    "    print(\"you have to pay\",income*10/100)\n",
    "elif income>750000 and income<=1000000:\n",
    "    print(\"you have to pay\",income*15/100)\n",
    "elif income>1000000 and income<=1250000:\n",
    "    print(\"you have to pay\",income*20/100)\n",
    "elif income>1250000 and income<=1500000:\n",
    "    print(\"you have to pay\",income*25/100)\n",
    "elif income>1500000:\n",
    "    print(\"you have to pay\",income*30/100)\n",
    "else:\n",
    "    print(\"do not need to pay  tax gareeeb\")"
   ]
  },
  {
   "cell_type": "markdown",
   "id": "ef2ec959",
   "metadata": {},
   "source": [
    "# finding mean "
   ]
  },
  {
   "cell_type": "code",
   "execution_count": 12,
   "id": "96ca29ec",
   "metadata": {},
   "outputs": [],
   "source": [
    "import statistics"
   ]
  },
  {
   "cell_type": "code",
   "execution_count": 30,
   "id": "2a730083",
   "metadata": {},
   "outputs": [
    {
     "name": "stdout",
     "output_type": "stream",
     "text": [
      "10\n"
     ]
    }
   ],
   "source": [
    "data=[1,3,5,7,9,11,13,15,17,19]\n",
    "mean=statistics.mean(data)\n",
    "print(mean)\n"
   ]
  },
  {
   "cell_type": "code",
   "execution_count": 37,
   "id": "46d686e8",
   "metadata": {},
   "outputs": [
    {
     "name": "stdout",
     "output_type": "stream",
     "text": [
      "10.0\n"
     ]
    }
   ],
   "source": [
    "data=[1,3,5,7,9,11,13,15,17,19]\n",
    "total=sum(data)\n",
    "n=len(data)\n",
    "mean=total/n\n",
    "print(mean)"
   ]
  },
  {
   "cell_type": "markdown",
   "id": "b098d737",
   "metadata": {},
   "source": [
    "# finding median"
   ]
  },
  {
   "cell_type": "code",
   "execution_count": 2,
   "id": "34dd1172",
   "metadata": {},
   "outputs": [],
   "source": [
    "import numpy as np"
   ]
  },
  {
   "cell_type": "code",
   "execution_count": 26,
   "id": "3643e484",
   "metadata": {},
   "outputs": [
    {
     "name": "stdout",
     "output_type": "stream",
     "text": [
      "21.0\n"
     ]
    }
   ],
   "source": [
    "data=[32, 6, 21, 10, 8, 11, 12, 36, 17, 16, 15, 18, 40, 24, 21, 23, 24, 24, 29, 16, 32, 31, 10, 30, 35, 32, 18, 39, 12, 20]\n",
    "median=np.median(data)\n",
    "print(median)"
   ]
  },
  {
   "cell_type": "code",
   "execution_count": 8,
   "id": "1a0f368c",
   "metadata": {},
   "outputs": [],
   "source": [
    "import statistics"
   ]
  },
  {
   "cell_type": "code",
   "execution_count": 15,
   "id": "3b39dce3",
   "metadata": {},
   "outputs": [
    {
     "name": "stdout",
     "output_type": "stream",
     "text": [
      "21.0\n"
     ]
    }
   ],
   "source": [
    "data=[32, 6, 21, 10, 8, 11, 12, 36, 17, 16, 15, 18, 40, 24, 21, 23, 24, 24, 29, 16, 32, 31, 10, 30, 35, 32, 18, 39, 12, 20\n",
    "]\n",
    "median=statistics.median(data)\n",
    "print(median)"
   ]
  },
  {
   "cell_type": "code",
   "execution_count": null,
   "id": "71a0fc69",
   "metadata": {},
   "outputs": [],
   "source": []
  },
  {
   "cell_type": "markdown",
   "id": "303f0dc4",
   "metadata": {},
   "source": [
    "# finding mode"
   ]
  },
  {
   "cell_type": "code",
   "execution_count": 17,
   "id": "2e81b565",
   "metadata": {},
   "outputs": [],
   "source": [
    "import statistics"
   ]
  },
  {
   "cell_type": "code",
   "execution_count": 20,
   "id": "6afd5c87",
   "metadata": {},
   "outputs": [
    {
     "ename": "SyntaxError",
     "evalue": "invalid non-printable character U+00A0 (2583221265.py, line 1)",
     "output_type": "error",
     "traceback": [
      "\u001b[1;36m  Cell \u001b[1;32mIn[20], line 1\u001b[1;36m\u001b[0m\n\u001b[1;33m    data=[21, 19, 62, 21, 66, 28, 66, 48, 79, 59, 28, 62, 63, 63, 48, 66, 59, 66, 94, 79, 19,94]\u001b[0m\n\u001b[1;37m                                                                                 ^\u001b[0m\n\u001b[1;31mSyntaxError\u001b[0m\u001b[1;31m:\u001b[0m invalid non-printable character U+00A0\n"
     ]
    }
   ],
   "source": [
    "data=[21, 19, 62, 21, 66, 28, 66, 48, 79, 59, 28, 62, 63, 63, 48, 66, 59, 66, 94, 79, 19,94]\n",
    "mode=statistics.mode(data)\n",
    "print(mode)#mode is the most frequent number in data set"
   ]
  },
  {
   "cell_type": "code",
   "execution_count": 18,
   "id": "0fe8724b",
   "metadata": {},
   "outputs": [
    {
     "name": "stdout",
     "output_type": "stream",
     "text": [
      "enter your marks or english25\n",
      "enter your marks or hindi76\n",
      "enter your marks or maths99\n",
      "enter your marks or science98\n",
      "enter your marks or social science69\n",
      "your average marks is 73.4\n",
      "you can do it better  B GARDE \n"
     ]
    }
   ],
   "source": [
    "eng=int(input(\"enter your marks or english\"))\n",
    "hin=int(input(\"enter your marks or hindi\"))\n",
    "maths=int(input(\"enter your marks or maths\"))\n",
    "sci=int(input(\"enter your marks or science\"))\n",
    "sst=int(input(\"enter your marks or social science\"))\n",
    "total=eng+hin+maths+sci+sst\n",
    "persentage=total/5\n",
    "print(\"your average marks is\",persentage)\n",
    "\n",
    "if persentage<33:\n",
    "    print(\"you are fail  D GRADE\")\n",
    "elif persentage>=33 and persentage<=50:\n",
    "    print(\"you need to work hard C GRADE\")\n",
    "elif persentage>50 and persentage<=75:\n",
    "    print(\"you can do it better  B GARDE \")\n",
    "elif persentage>=75 and persentage<=100:\n",
    "    print(\" good keep learnig A GRADE \")\n",
    "else:\n",
    "    print(\"please enterr the right value\")\n",
    "\n"
   ]
  },
  {
   "cell_type": "code",
   "execution_count": 8,
   "id": "29fc9414",
   "metadata": {},
   "outputs": [
    {
     "name": "stdout",
     "output_type": "stream",
     "text": [
      "enter your average marks80\n",
      "good keep learning\n"
     ]
    }
   ],
   "source": [
    "x=int(input(\"enter your average marks\"))\n",
    "if x<33:\n",
    "    print(\"you are fail\")\n",
    "elif x>=33 and x<=50:\n",
    "    print(\"you need to work hard\")\n",
    "elif x>50 and x<=75:\n",
    "    print(\"you can do it better\")\n",
    "elif x>=75 and x<=100:\n",
    "    print(\"good keep learning\")\n",
    "else:\n",
    "    print(\"please enterr the right value\")"
   ]
  },
  {
   "cell_type": "code",
   "execution_count": 16,
   "id": "28fce920",
   "metadata": {},
   "outputs": [],
   "source": [
    "def quote():\n",
    "    x=int(input(\"enter your average marks\"))\n",
    "    if x<33:\n",
    "        print(\"you are fail\")\n",
    "    elif x>=33 and x<=50:\n",
    "        print(\"you need to work hard\")\n",
    "    elif x>50 and x<=75:\n",
    "        print(\"you can do it better\")\n",
    "    elif x>=75 and x<=100:\n",
    "        print(\"good keep learning\")\n",
    "    else:\n",
    "        print(\"please enterr the right value\")\n",
    "    \n"
   ]
  },
  {
   "cell_type": "code",
   "execution_count": 17,
   "id": "fc7a303b",
   "metadata": {},
   "outputs": [
    {
     "data": {
      "text/plain": [
       "<function __main__.quote()>"
      ]
     },
     "execution_count": 17,
     "metadata": {},
     "output_type": "execute_result"
    }
   ],
   "source": [
    "quote"
   ]
  },
  {
   "cell_type": "code",
   "execution_count": 1,
   "id": "17461071",
   "metadata": {},
   "outputs": [],
   "source": [
    "import pandas as pd"
   ]
  },
  {
   "cell_type": "code",
   "execution_count": 4,
   "id": "d2a69340-5ff9-49d8-969c-fa0350025ea8",
   "metadata": {},
   "outputs": [
    {
     "name": "stderr",
     "output_type": "stream",
     "text": [
      "<>:1: SyntaxWarning: invalid escape sequence '\\C'\n",
      "<>:1: SyntaxWarning: invalid escape sequence '\\C'\n",
      "C:\\Users\\umar\\AppData\\Local\\Temp\\ipykernel_14952\\3917496438.py:1: SyntaxWarning: invalid escape sequence '\\C'\n",
      "  df=pd.read_csv(\"C:\\\\Users\\\\umar\\\\anaconda files\\\\ML DATASETS\\\\sql project book sales (satish sir)\\Customers (1).csv\")\n"
     ]
    }
   ],
   "source": [
    "df=pd.read_csv(\"C:\\\\Users\\\\umar\\\\anaconda files\\\\ML DATASETS\\\\sql project book sales (satish sir)\\Customers (1).csv\")"
   ]
  },
  {
   "cell_type": "code",
   "execution_count": 9,
   "id": "fa35d94e-f6ed-4d40-a6fb-cb6e4bc739c8",
   "metadata": {},
   "outputs": [
    {
     "name": "stdout",
     "output_type": "stream",
     "text": [
      "<class 'pandas.core.frame.DataFrame'>\n"
     ]
    }
   ],
   "source": [
    "print(type(df))"
   ]
  },
  {
   "cell_type": "code",
   "execution_count": 11,
   "id": "33784ce9-fa8d-491d-82c8-dff053fda589",
   "metadata": {},
   "outputs": [
    {
     "data": {
      "text/plain": [
       "<bound method DataFrame.info of      Customer_ID              Name                               Email  \\\n",
       "0              1  Deborah Griffith         balljoseph@wright-keith.net   \n",
       "1              2  Crystal Clements          kimberlybennett@curtis.com   \n",
       "2              3      Susan Fuller     beanmichael@burnett-stewart.net   \n",
       "3              4     Jamie Ramirez               amandahood@warren.com   \n",
       "4              5     Marcus Murphy                connerjohn@yahoo.com   \n",
       "..           ...               ...                                 ...   \n",
       "495          496    Michelle Myers        patricia02@vega-callahan.com   \n",
       "496          497       Shane Klein  murphytheodore@rodriguez-lopez.biz   \n",
       "497          498   Brianna Fischer            jessicacoleman@yahoo.com   \n",
       "498          499    Melissa Curtis           suzannemartinez@gmail.com   \n",
       "499          500        James York              maydavid@maldonado.org   \n",
       "\n",
       "          Phone             City               Country  \n",
       "0    1234567891  South Craigfort               Denmark  \n",
       "1    1234567892   East Derekberg             Nicaragua  \n",
       "2    1234567893       Austinbury     Equatorial Guinea  \n",
       "3    1234567894       Dianamouth              Slovenia  \n",
       "4    1234567895        Smithbury         Guinea-Bissau  \n",
       "..          ...              ...                   ...  \n",
       "495  1234568386        Davidview  Netherlands Antilles  \n",
       "496  1234568387  West Billymouth         Cote d'Ivoire  \n",
       "497  1234568388       Angelatown             Gibraltar  \n",
       "498  1234568389       Ashleyport                Monaco  \n",
       "499  1234568390      Port Angela               Moldova  \n",
       "\n",
       "[500 rows x 6 columns]>"
      ]
     },
     "execution_count": 11,
     "metadata": {},
     "output_type": "execute_result"
    }
   ],
   "source": [
    "df.info"
   ]
  },
  {
   "cell_type": "code",
   "execution_count": 14,
   "id": "973150e0-3707-48a0-8eaf-ea49c37ca720",
   "metadata": {},
   "outputs": [
    {
     "name": "stdout",
     "output_type": "stream",
     "text": [
      "Customer_ID     int64\n",
      "Name           object\n",
      "Email          object\n",
      "Phone           int64\n",
      "City           object\n",
      "Country        object\n",
      "dtype: object\n"
     ]
    }
   ],
   "source": [
    "print(df.dtypes)"
   ]
  },
  {
   "cell_type": "code",
   "execution_count": null,
   "id": "33840b5b-bc0a-477d-a0e5-f2e225b117f9",
   "metadata": {},
   "outputs": [],
   "source": []
  }
 ],
 "metadata": {
  "kernelspec": {
   "display_name": "Python 3 (ipykernel)",
   "language": "python",
   "name": "python3"
  },
  "language_info": {
   "codemirror_mode": {
    "name": "ipython",
    "version": 3
   },
   "file_extension": ".py",
   "mimetype": "text/x-python",
   "name": "python",
   "nbconvert_exporter": "python",
   "pygments_lexer": "ipython3",
   "version": "3.13.1"
  }
 },
 "nbformat": 4,
 "nbformat_minor": 5
}
