{
 "cells": [
  {
   "cell_type": "markdown",
   "id": "d8f9edda",
   "metadata": {},
   "source": [
    "DAY 2 "
   ]
  },
  {
   "cell_type": "markdown",
   "id": "5604e50d",
   "metadata": {},
   "source": [
    "# VARIABLES AND OPERATION IN PYTHON"
   ]
  },
  {
   "cell_type": "markdown",
   "id": "9602a779",
   "metadata": {},
   "source": [
    "# VARIABLE"
   ]
  },
  {
   "cell_type": "markdown",
   "id": "785c26a3",
   "metadata": {},
   "source": [
    "PYTHON VARIABLE IS A CONTAINER THAT STORE VALLUES.PYTHON IS NOT\"STATICALLY TYPED\n",
    "WE DO NOT NEED TO DECLARE VARIABLES BEFORE USING THEM OR DECLARE THEIR TYPE.\n",
    "THE VARIABLE IS CREATED THE MOMENT WE FIRST ASSIGN A VALUE TO IT. A PYTHON VARIABLE\n",
    "IS A NAME GIVEN TO MEMORY LOCATION. IT IS THE BASIC UNIT OF STAORAGE IN PROGRAM."
   ]
  },
  {
   "cell_type": "markdown",
   "id": "90723ff1",
   "metadata": {},
   "source": [
    "# RULES FOR PYTHON VARIABLES"
   ]
  },
  {
   "cell_type": "markdown",
   "id": "38ac91b4",
   "metadata": {},
   "source": [
    "* A VVARIABLE NAME MUST START WITH A LETTER OR A UNDERSCORE CHARACTER\n",
    "* A VARIABLE NAM CANNOT START WITH NO.\n",
    "* A VARIABLE NAME CAN ONLY CONTAIN ALPHANUMERIC CHARACTERS AND UNDERSCORES,\n",
    "* VARIABLE NAMES ARE CASE SNSATIVE(Age,age,AGE) ARE THREE DIFFIRENT VARIABLES.\n",
    "* A VARIABLE NAME CONNOT BE ANY OF PYTHON KEYWORDS."
   ]
  },
  {
   "cell_type": "markdown",
   "id": "7bcf82df",
   "metadata": {},
   "source": [
    "# CREATING A VARIABLE\n",
    "\n",
    "\n"
   ]
  },
  {
   "cell_type": "code",
   "execution_count": 1,
   "id": "0edcb5ba",
   "metadata": {},
   "outputs": [
    {
     "name": "stdout",
     "output_type": "stream",
     "text": [
      "5\n",
      "APPLE\n"
     ]
    }
   ],
   "source": [
    "X=5\n",
    "Y=\"APPLE\"\n",
    "print(X)\n",
    "print(Y)"
   ]
  },
  {
   "cell_type": "markdown",
   "id": "c6a1b18b",
   "metadata": {},
   "source": [
    "# MANY VALUES TO MULTIPLE VARIABLES"
   ]
  },
  {
   "cell_type": "code",
   "execution_count": 6,
   "id": "fe856fe9",
   "metadata": {},
   "outputs": [
    {
     "name": "stdout",
     "output_type": "stream",
     "text": [
      "umar\n",
      "shiv\n",
      "aditya\n"
     ]
    }
   ],
   "source": [
    "x,y,z=\"umar\",\"shiv\",\"aditya\"\n",
    "print(x)\n",
    "print(y)\n",
    "print(z)"
   ]
  },
  {
   "cell_type": "code",
   "execution_count": 7,
   "id": "9a04a2ab",
   "metadata": {},
   "outputs": [
    {
     "name": "stdout",
     "output_type": "stream",
     "text": [
      "alam\n",
      "alam\n"
     ]
    }
   ],
   "source": [
    "x=y=z=\"alam\"\n",
    "print(x)\n",
    "print(y)"
   ]
  },
  {
   "cell_type": "code",
   "execution_count": 8,
   "id": "314ec5e2",
   "metadata": {},
   "outputs": [
    {
     "name": "stdout",
     "output_type": "stream",
     "text": [
      "apple grapes orange\n"
     ]
    }
   ],
   "source": [
    "x=\"apple\"\n",
    "y=\"grapes\"\n",
    "z=\"orange\"\n",
    "print(x,y,z)"
   ]
  },
  {
   "cell_type": "markdown",
   "id": "8bc40d75",
   "metadata": {},
   "source": [
    "# DATA TYPES"
   ]
  },
  {
   "cell_type": "markdown",
   "id": "8d380054",
   "metadata": {},
   "source": [
    "* VARIABLES CAN STRORE DATA OF DIFFERNET TYPE,AND DIFF TYPE CAN DO DIFF FN.\n",
    "* PYTHON HAS THE FOLLWING DATA TYPE BUILT IN-BY DEFAULT,IN THESE CATEGORIES."
   ]
  },
  {
   "cell_type": "markdown",
   "id": "0052896c",
   "metadata": {},
   "source": [
    "1.Text Type        :    str\n",
    "\n",
    "2.Numeric Type     :    int, float, complex\n",
    "\n",
    "3.Sequence Type    :    list,tuple, range\n",
    "\n",
    "4.Mapping Type     :    dict\n",
    "\n",
    "5.Set Type         :    set, frozenset\n",
    "\n",
    "6.Boolean Type     :    bool\n",
    "\n",
    "7.Binary Type      :    bytes, bytearray, momoryview\n"
   ]
  },
  {
   "cell_type": "code",
   "execution_count": 2,
   "id": "42018cf8",
   "metadata": {},
   "outputs": [
    {
     "name": "stdout",
     "output_type": "stream",
     "text": [
      "2\n",
      "<class 'int'>\n"
     ]
    }
   ],
   "source": [
    "x=2\n",
    "print(x)\n",
    "print(type(x))"
   ]
  },
  {
   "cell_type": "code",
   "execution_count": 10,
   "id": "51782cfe",
   "metadata": {},
   "outputs": [
    {
     "name": "stdout",
     "output_type": "stream",
     "text": [
      "3.7\n",
      "<class 'float'>\n"
     ]
    }
   ],
   "source": [
    "y=3.7\n",
    "print(y)\n",
    "print(type(y))\n",
    "\n"
   ]
  },
  {
   "cell_type": "code",
   "execution_count": 11,
   "id": "f29829ad",
   "metadata": {},
   "outputs": [
    {
     "name": "stdout",
     "output_type": "stream",
     "text": [
      "hello umar\n",
      "<class 'str'>\n"
     ]
    }
   ],
   "source": [
    "z= \"hello umar\"\n",
    "print(z)\n",
    "print(type(z))"
   ]
  },
  {
   "cell_type": "code",
   "execution_count": 12,
   "id": "c2a855c3",
   "metadata": {},
   "outputs": [
    {
     "name": "stdout",
     "output_type": "stream",
     "text": [
      "(5+7j)\n",
      "<class 'complex'>\n"
     ]
    }
   ],
   "source": [
    "a=5+7j\n",
    "print(a)\n",
    "print(type(a))"
   ]
  },
  {
   "cell_type": "code",
   "execution_count": 13,
   "id": "dccc752f",
   "metadata": {},
   "outputs": [
    {
     "name": "stdout",
     "output_type": "stream",
     "text": [
      "[1, 2, 3, 4]\n",
      "<class 'list'>\n"
     ]
    }
   ],
   "source": [
    "b=[1,2,3,4,]\n",
    "print(b)\n",
    "print(type(b))"
   ]
  },
  {
   "cell_type": "code",
   "execution_count": 5,
   "id": "35cc4080",
   "metadata": {},
   "outputs": [
    {
     "name": "stdout",
     "output_type": "stream",
     "text": [
      "[3, 4, 5]\n",
      "<class 'list'>\n"
     ]
    }
   ],
   "source": [
    "c=[3,4,5]\n",
    "print(c)\n",
    "print(type(c))"
   ]
  },
  {
   "cell_type": "code",
   "execution_count": 15,
   "id": "573b31aa",
   "metadata": {},
   "outputs": [
    {
     "name": "stdout",
     "output_type": "stream",
     "text": [
      "(1, 2, 3, 4)\n",
      "<class 'tuple'>\n"
     ]
    }
   ],
   "source": [
    "c=(1,2,3,4)\n",
    "print(c)\n",
    "print(type(c))"
   ]
  },
  {
   "cell_type": "code",
   "execution_count": 1,
   "id": "769dd5d3",
   "metadata": {},
   "outputs": [
    {
     "name": "stdout",
     "output_type": "stream",
     "text": [
      "['a,b,c']\n",
      "<class 'list'>\n"
     ]
    }
   ],
   "source": [
    "x=[\"a,b,c\"]\n",
    "print(x)\n",
    "print(type(x))"
   ]
  },
  {
   "cell_type": "code",
   "execution_count": 16,
   "id": "910fcf82",
   "metadata": {},
   "outputs": [
    {
     "name": "stdout",
     "output_type": "stream",
     "text": [
      "{1, 2, 3, 4}\n",
      "<class 'set'>\n"
     ]
    }
   ],
   "source": [
    "d={1,2,3,4}\n",
    "print(d)\n",
    "print(type(d))"
   ]
  },
  {
   "cell_type": "code",
   "execution_count": 9,
   "id": "d1adb8d4",
   "metadata": {},
   "outputs": [
    {
     "name": "stdout",
     "output_type": "stream",
     "text": [
      "umar\n",
      "<class 'str'>\n"
     ]
    }
   ],
   "source": [
    "e=\"umar\"\n",
    "print(e)\n",
    "print(type(e))"
   ]
  },
  {
   "cell_type": "code",
   "execution_count": null,
   "id": "e5299316-820d-4897-9c29-90d017e163a3",
   "metadata": {},
   "outputs": [],
   "source": []
  },
  {
   "cell_type": "code",
   "execution_count": 10,
   "id": "902a4d1f",
   "metadata": {
    "scrolled": true
   },
   "outputs": [
    {
     "name": "stdout",
     "output_type": "stream",
     "text": [
      "Variable   Type    Data/Info\n",
      "----------------------------\n",
      "e          str     umar\n",
      "x          list    n=1\n"
     ]
    }
   ],
   "source": [
    "%whos\n",
    "#It shows a list of all variables currently defined in your environment, along with:\n",
    "#their type (int, str, DataFrame, etc.),\n",
    "#data/info,\n",
    "#and size (for arrays, lists, etc.)."
   ]
  },
  {
   "cell_type": "markdown",
   "id": "273d52b7",
   "metadata": {},
   "source": [
    "# PYTHON arithmetic OPERATORS \n"
   ]
  },
  {
   "cell_type": "markdown",
   "id": "08ed04a4",
   "metadata": {},
   "source": [
    "## ADDITION"
   ]
  },
  {
   "cell_type": "code",
   "execution_count": 3,
   "id": "4633f0b7",
   "metadata": {},
   "outputs": [
    {
     "name": "stdout",
     "output_type": "stream",
     "text": [
      "23\n"
     ]
    }
   ],
   "source": [
    "a=5\n",
    "b=7\n",
    "c=7\n",
    "d=4\n",
    "print(a+b+c+d)"
   ]
  },
  {
   "cell_type": "code",
   "execution_count": 9,
   "id": "6729e633",
   "metadata": {},
   "outputs": [
    {
     "name": "stdout",
     "output_type": "stream",
     "text": [
      "9.5\n"
     ]
    }
   ],
   "source": [
    "a=5\n",
    "b=4.5\n",
    "print(a+b)"
   ]
  },
  {
   "cell_type": "code",
   "execution_count": 12,
   "id": "bde70345",
   "metadata": {},
   "outputs": [
    {
     "name": "stdout",
     "output_type": "stream",
     "text": [
      "(9+12j)\n"
     ]
    }
   ],
   "source": [
    "a=5+6j\n",
    "b=4+6j\n",
    "print(a+b)"
   ]
  },
  {
   "cell_type": "code",
   "execution_count": 14,
   "id": "946362be",
   "metadata": {},
   "outputs": [
    {
     "name": "stdout",
     "output_type": "stream",
     "text": [
      "umar sana\n"
     ]
    }
   ],
   "source": [
    "a=(\"umar\")\n",
    "b=(\"sana\")\n",
    "print(a+\" \"+b)"
   ]
  },
  {
   "cell_type": "code",
   "execution_count": null,
   "id": "40a2960e",
   "metadata": {},
   "outputs": [],
   "source": [
    "a=(\"umar\")\n",
    "\n"
   ]
  },
  {
   "cell_type": "code",
   "execution_count": 16,
   "id": "ac3d1bb8",
   "metadata": {},
   "outputs": [
    {
     "name": "stdout",
     "output_type": "stream",
     "text": [
      "19\n",
      "<class 'int'>\n"
     ]
    }
   ],
   "source": [
    "a=3\n",
    "b=6\n",
    "c=2\n",
    "d=8\n",
    "x=a+b+c+d\n",
    "print(x)\n",
    "print(type(x))"
   ]
  },
  {
   "cell_type": "markdown",
   "id": "7f022078",
   "metadata": {},
   "source": [
    "## SUBTRACTION"
   ]
  },
  {
   "cell_type": "code",
   "execution_count": 17,
   "id": "9935b64b",
   "metadata": {},
   "outputs": [
    {
     "name": "stdout",
     "output_type": "stream",
     "text": [
      "5\n"
     ]
    }
   ],
   "source": [
    "a=7\n",
    "b=2\n",
    "print(a-b)"
   ]
  },
  {
   "cell_type": "code",
   "execution_count": 18,
   "id": "9fc0962f",
   "metadata": {},
   "outputs": [
    {
     "name": "stdout",
     "output_type": "stream",
     "text": [
      "5\n",
      "<class 'int'>\n"
     ]
    }
   ],
   "source": [
    "a=8\n",
    "b=3\n",
    "c=a-b\n",
    "print(c)\n",
    "print(type(c))\n"
   ]
  },
  {
   "cell_type": "code",
   "execution_count": 19,
   "id": "516e4e93",
   "metadata": {},
   "outputs": [
    {
     "name": "stdout",
     "output_type": "stream",
     "text": [
      "2.0\n"
     ]
    }
   ],
   "source": [
    "a=7.8\n",
    "b=5.8\n",
    "print(a-b)"
   ]
  },
  {
   "cell_type": "code",
   "execution_count": 20,
   "id": "61cfd162",
   "metadata": {},
   "outputs": [
    {
     "name": "stdout",
     "output_type": "stream",
     "text": [
      "(1-7j)\n"
     ]
    }
   ],
   "source": [
    "a=6\n",
    "b=5+7j\n",
    "print(a-b)"
   ]
  },
  {
   "cell_type": "code",
   "execution_count": 21,
   "id": "56ee7241",
   "metadata": {},
   "outputs": [
    {
     "name": "stdout",
     "output_type": "stream",
     "text": [
      "(6.5-2j)\n"
     ]
    }
   ],
   "source": [
    "a=5\n",
    "b=5.5\n",
    "c=4+2j\n",
    "print((a+b)-c)"
   ]
  },
  {
   "cell_type": "code",
   "execution_count": 22,
   "id": "1f20d4f9",
   "metadata": {},
   "outputs": [
    {
     "ename": "TypeError",
     "evalue": "unsupported operand type(s) for -: 'str' and 'str'",
     "output_type": "error",
     "traceback": [
      "\u001b[1;31m---------------------------------------------------------------------------\u001b[0m",
      "\u001b[1;31mTypeError\u001b[0m                                 Traceback (most recent call last)",
      "Cell \u001b[1;32mIn[22], line 3\u001b[0m\n\u001b[0;32m      1\u001b[0m b\u001b[38;5;241m=\u001b[39m\u001b[38;5;124m\"\u001b[39m\u001b[38;5;124mumar\u001b[39m\u001b[38;5;124m\"\u001b[39m\n\u001b[0;32m      2\u001b[0m g\u001b[38;5;241m=\u001b[39m\u001b[38;5;124m\"\u001b[39m\u001b[38;5;124msana\u001b[39m\u001b[38;5;124m\"\u001b[39m\n\u001b[1;32m----> 3\u001b[0m \u001b[38;5;28mprint\u001b[39m(b\u001b[38;5;241m-\u001b[39mg)\n",
      "\u001b[1;31mTypeError\u001b[0m: unsupported operand type(s) for -: 'str' and 'str'"
     ]
    }
   ],
   "source": [
    "b=\"umar\"\n",
    "g=\"sana\"\n",
    "print(b-g)"
   ]
  },
  {
   "cell_type": "markdown",
   "id": "5ac5e177",
   "metadata": {},
   "source": [
    "## MULTIPLICATION"
   ]
  },
  {
   "cell_type": "code",
   "execution_count": 6,
   "id": "82141987-9f82-4bad-8302-390ab5ea2827",
   "metadata": {},
   "outputs": [
    {
     "name": "stdout",
     "output_type": "stream",
     "text": [
      "Variable   Type    Data/Info\n",
      "----------------------------\n",
      "X          int     5\n",
      "Y          str     APPLE\n",
      "a          int     5\n",
      "b          int     7\n",
      "c          int     7\n",
      "d          int     4\n"
     ]
    }
   ],
   "source": [
    "\n",
    "%whos\n",
    "#CHECKING NO. OF VARIABLES"
   ]
  },
  {
   "cell_type": "code",
   "execution_count": 23,
   "id": "d8f7f2f1",
   "metadata": {},
   "outputs": [
    {
     "name": "stdout",
     "output_type": "stream",
     "text": [
      "21\n"
     ]
    }
   ],
   "source": [
    "a=7\n",
    "b=3\n",
    "print(a*b)"
   ]
  },
  {
   "cell_type": "code",
   "execution_count": 25,
   "id": "d8f48186",
   "metadata": {},
   "outputs": [
    {
     "name": "stdout",
     "output_type": "stream",
     "text": [
      "28.6\n"
     ]
    }
   ],
   "source": [
    "a=4.4\n",
    "b=6.5\n",
    "print(a*b)"
   ]
  },
  {
   "cell_type": "code",
   "execution_count": 26,
   "id": "01d2fbb9",
   "metadata": {},
   "outputs": [
    {
     "name": "stdout",
     "output_type": "stream",
     "text": [
      "(-22+59j)\n"
     ]
    }
   ],
   "source": [
    "a=5+6j\n",
    "b=4+7j\n",
    "print(a*b)"
   ]
  },
  {
   "cell_type": "code",
   "execution_count": 30,
   "id": "49b05576",
   "metadata": {},
   "outputs": [
    {
     "name": "stdout",
     "output_type": "stream",
     "text": [
      "(160+288j)\n",
      "<class 'complex'>\n"
     ]
    }
   ],
   "source": [
    "a=5\n",
    "b=6.4\n",
    "c=5+9j\n",
    "d=a*b*c\n",
    "print(d)\n",
    "print(type(d))"
   ]
  },
  {
   "cell_type": "markdown",
   "id": "ba2ed42d",
   "metadata": {},
   "source": [
    "## DIVISION"
   ]
  },
  {
   "cell_type": "code",
   "execution_count": 31,
   "id": "88f46af9",
   "metadata": {},
   "outputs": [
    {
     "name": "stdout",
     "output_type": "stream",
     "text": [
      "5.0\n"
     ]
    }
   ],
   "source": [
    "    a=10\n",
    "    b=2\n",
    "    print(a/b)"
   ]
  },
  {
   "cell_type": "code",
   "execution_count": 32,
   "id": "f830f735",
   "metadata": {},
   "outputs": [
    {
     "name": "stdout",
     "output_type": "stream",
     "text": [
      "2.869565217391304\n"
     ]
    }
   ],
   "source": [
    "a=6.6\n",
    "b=2.3\n",
    "print(a/b)"
   ]
  },
  {
   "cell_type": "code",
   "execution_count": 34,
   "id": "4f76f639",
   "metadata": {},
   "outputs": [
    {
     "name": "stdout",
     "output_type": "stream",
     "text": [
      "(2.3333333333333335+2.6666666666666665j)\n"
     ]
    }
   ],
   "source": [
    "a=7+8j\n",
    "c=3\n",
    "print(a/c)"
   ]
  },
  {
   "cell_type": "code",
   "execution_count": 35,
   "id": "84e5ef25",
   "metadata": {},
   "outputs": [
    {
     "name": "stdout",
     "output_type": "stream",
     "text": [
      "(2.3333333333333335+2.6666666666666665j)\n"
     ]
    }
   ],
   "source": [
    "a=7+8j\n",
    "c=3\n",
    "print(a/c)"
   ]
  },
  {
   "cell_type": "code",
   "execution_count": 36,
   "id": "185f4c00",
   "metadata": {},
   "outputs": [
    {
     "name": "stdout",
     "output_type": "stream",
     "text": [
      "(3+3.75j)\n"
     ]
    }
   ],
   "source": [
    "a=12\n",
    "b=3\n",
    "c=12+15j\n",
    "d=a/b\n",
    "print(c/d)"
   ]
  },
  {
   "cell_type": "markdown",
   "id": "c4b50314",
   "metadata": {},
   "source": [
    "## MODULOUS(JO REMAINDER BACHTA HAI WO DETA HAI)"
   ]
  },
  {
   "cell_type": "code",
   "execution_count": 37,
   "id": "07f27bdd",
   "metadata": {},
   "outputs": [
    {
     "name": "stdout",
     "output_type": "stream",
     "text": [
      "2\n"
     ]
    }
   ],
   "source": [
    "a=12\n",
    "b=5\n",
    "print(a%b)"
   ]
  },
  {
   "cell_type": "code",
   "execution_count": 7,
   "id": "acafe254",
   "metadata": {},
   "outputs": [
    {
     "name": "stdout",
     "output_type": "stream",
     "text": [
      "1\n",
      "<class 'int'>\n"
     ]
    }
   ],
   "source": [
    "x=19\n",
    "y=3\n",
    "c=x%y\n",
    "print(c)\n",
    "print(type(c))"
   ]
  },
  {
   "cell_type": "code",
   "execution_count": 38,
   "id": "674ca321",
   "metadata": {},
   "outputs": [
    {
     "name": "stdout",
     "output_type": "stream",
     "text": [
      "1\n"
     ]
    }
   ],
   "source": [
    "a=19\n",
    "b=2\n",
    "print(a%b)"
   ]
  },
  {
   "cell_type": "code",
   "execution_count": 39,
   "id": "1bb579bb",
   "metadata": {},
   "outputs": [
    {
     "name": "stdout",
     "output_type": "stream",
     "text": [
      "2.45\n"
     ]
    }
   ],
   "source": [
    "a=2.45\n",
    "b=5.4\n",
    "print(a%b)"
   ]
  },
  {
   "cell_type": "code",
   "execution_count": 40,
   "id": "53fff740",
   "metadata": {},
   "outputs": [
    {
     "ename": "TypeError",
     "evalue": "unsupported operand type(s) for %: 'complex' and 'int'",
     "output_type": "error",
     "traceback": [
      "\u001b[1;31m---------------------------------------------------------------------------\u001b[0m",
      "\u001b[1;31mTypeError\u001b[0m                                 Traceback (most recent call last)",
      "Cell \u001b[1;32mIn[40], line 3\u001b[0m\n\u001b[0;32m      1\u001b[0m a\u001b[38;5;241m=\u001b[39m\u001b[38;5;241m12\u001b[39m\u001b[38;5;241m+\u001b[39m\u001b[38;5;241m7\u001b[39mj\n\u001b[0;32m      2\u001b[0m b\u001b[38;5;241m=\u001b[39m\u001b[38;5;241m3\u001b[39m\n\u001b[1;32m----> 3\u001b[0m \u001b[38;5;28mprint\u001b[39m(a\u001b[38;5;241m%\u001b[39mb)\n",
      "\u001b[1;31mTypeError\u001b[0m: unsupported operand type(s) for %: 'complex' and 'int'"
     ]
    }
   ],
   "source": [
    "a=12+7j\n",
    "b=3\n",
    "print(a%b)"
   ]
  },
  {
   "cell_type": "code",
   "execution_count": 41,
   "id": "7e4c983d",
   "metadata": {},
   "outputs": [
    {
     "name": "stdout",
     "output_type": "stream",
     "text": [
      "Variable   Type       Data/Info\n",
      "-------------------------------\n",
      "a          complex    (12+7j)\n",
      "b          int        3\n",
      "c          complex    (12+15j)\n",
      "d          float      4.0\n",
      "e          str        umar\n",
      "g          str        sana\n",
      "x          int        19\n"
     ]
    }
   ],
   "source": [
    "%whos"
   ]
  },
  {
   "cell_type": "markdown",
   "id": "769ca368",
   "metadata": {},
   "source": [
    "## EXPONENT"
   ]
  },
  {
   "cell_type": "code",
   "execution_count": 42,
   "id": "f4a8372e",
   "metadata": {},
   "outputs": [
    {
     "name": "stdout",
     "output_type": "stream",
     "text": [
      "16\n"
     ]
    }
   ],
   "source": [
    "a=4\n",
    "print(a**2)"
   ]
  },
  {
   "cell_type": "code",
   "execution_count": 8,
   "id": "383c4fdb",
   "metadata": {},
   "outputs": [
    {
     "name": "stdout",
     "output_type": "stream",
     "text": [
      "256\n"
     ]
    }
   ],
   "source": [
    "a=4\n",
    "v=4\n",
    "b=a**v\n",
    "print(b)"
   ]
  },
  {
   "cell_type": "code",
   "execution_count": 43,
   "id": "f880f0a7",
   "metadata": {},
   "outputs": [
    {
     "name": "stdout",
     "output_type": "stream",
     "text": [
      "156833688.0910795\n"
     ]
    }
   ],
   "source": [
    "a=6.6\n",
    "print(a**10)"
   ]
  },
  {
   "cell_type": "code",
   "execution_count": 45,
   "id": "5e4031c0",
   "metadata": {},
   "outputs": [
    {
     "name": "stdout",
     "output_type": "stream",
     "text": [
      "<class 'bool'>\n",
      "<class 'bool'>\n"
     ]
    }
   ],
   "source": [
    "a=True\n",
    "b=False\n",
    "print(type(a))\n",
    "print(type(b))"
   ]
  },
  {
   "cell_type": "code",
   "execution_count": 46,
   "id": "f5679f6c",
   "metadata": {},
   "outputs": [
    {
     "name": "stdout",
     "output_type": "stream",
     "text": [
      "False\n"
     ]
    }
   ],
   "source": [
    "print(a and b)"
   ]
  },
  {
   "cell_type": "code",
   "execution_count": 47,
   "id": "222e36a2",
   "metadata": {},
   "outputs": [
    {
     "name": "stdout",
     "output_type": "stream",
     "text": [
      "True\n"
     ]
    }
   ],
   "source": [
    "print(a or b)"
   ]
  },
  {
   "cell_type": "code",
   "execution_count": 50,
   "id": "10e266cd",
   "metadata": {},
   "outputs": [
    {
     "name": "stdout",
     "output_type": "stream",
     "text": [
      "False\n"
     ]
    }
   ],
   "source": [
    "print(not a)"
   ]
  },
  {
   "cell_type": "code",
   "execution_count": 58,
   "id": "4035bfef",
   "metadata": {},
   "outputs": [
    {
     "name": "stdout",
     "output_type": "stream",
     "text": [
      "length 12\n",
      "breath 6\n",
      "area of rectangle 72\n"
     ]
    }
   ],
   "source": [
    "#finding the area of rectangle with lenght 12 cm breath 6 cm\n",
    "a=12\n",
    "print(\"length\",12)\n",
    "b=6\n",
    "print(\"breath\",6)\n",
    "a=a*b\n",
    "print(\"area of rectangle\",a)"
   ]
  },
  {
   "cell_type": "code",
   "execution_count": 9,
   "id": "298f0367",
   "metadata": {},
   "outputs": [
    {
     "name": "stdout",
     "output_type": "stream",
     "text": [
      "lenght 2\n",
      "breath 7\n",
      "14\n"
     ]
    }
   ],
   "source": [
    "lenght=2\n",
    "print(\"lenght\",lenght)\n",
    "breath=7\n",
    "print(\"breath\",breath)\n",
    "area=lenght*breath\n",
    "print(area)"
   ]
  },
  {
   "cell_type": "code",
   "execution_count": 60,
   "id": "1cf5630a",
   "metadata": {},
   "outputs": [
    {
     "name": "stdout",
     "output_type": "stream",
     "text": [
      "53046.465203930544\n"
     ]
    }
   ],
   "source": [
    "#solve the eq\n",
    "x=((54656+45*46/646)-(757/46*98))\n",
    "print(x)"
   ]
  },
  {
   "cell_type": "code",
   "execution_count": 1,
   "id": "45b95c88",
   "metadata": {},
   "outputs": [
    {
     "name": "stdout",
     "output_type": "stream",
     "text": [
      "lenght is  12\n",
      "breath is 6\n",
      "area of rectangle is 72\n"
     ]
    }
   ],
   "source": [
    "#finding the area of rectangle with lenght 12 cm breath 6 cm\n",
    "lenght=12\n",
    "print(\"lenght is \",lenght)\n",
    "breath=6\n",
    "print(\"breath is\",breath)\n",
    "area=lenght*breath\n",
    "print(\"area of rectangle is\",area)\n"
   ]
  },
  {
   "cell_type": "markdown",
   "id": "3799cdd2-236c-45a9-9687-0ffb6f478144",
   "metadata": {},
   "source": [
    "# PYHTON ASSIGHNMENT OPERATORS"
   ]
  },
  {
   "cell_type": "code",
   "execution_count": 11,
   "id": "4f857bca-0c5a-4c55-b6d3-4449d5cb8453",
   "metadata": {},
   "outputs": [
    {
     "name": "stdout",
     "output_type": "stream",
     "text": [
      "11\n"
     ]
    }
   ],
   "source": [
    "m=1\n",
    "m+=10\n",
    "print(m)"
   ]
  },
  {
   "cell_type": "code",
   "execution_count": 13,
   "id": "4d35eb27-55d4-4c56-b9ef-a31edf5f89b3",
   "metadata": {},
   "outputs": [
    {
     "name": "stdout",
     "output_type": "stream",
     "text": [
      "0\n"
     ]
    }
   ],
   "source": [
    "m=2\n",
    "m-=2\n",
    "print(m)"
   ]
  },
  {
   "cell_type": "code",
   "execution_count": 14,
   "id": "c1314297-6a65-40b5-8ebe-2098b145df5a",
   "metadata": {},
   "outputs": [
    {
     "name": "stdout",
     "output_type": "stream",
     "text": [
      "12\n"
     ]
    }
   ],
   "source": [
    "m=4\n",
    "m*=3\n",
    "print(m)"
   ]
  },
  {
   "cell_type": "code",
   "execution_count": 15,
   "id": "22cfcc5a-9556-4354-a857-896a05236993",
   "metadata": {},
   "outputs": [
    {
     "name": "stdout",
     "output_type": "stream",
     "text": [
      "1.3333333333333333\n"
     ]
    }
   ],
   "source": [
    "m=4\n",
    "m/=3\n",
    "print(m)"
   ]
  },
  {
   "cell_type": "code",
   "execution_count": 16,
   "id": "df857388-8390-4e5f-a005-97ddf5a7ba80",
   "metadata": {},
   "outputs": [
    {
     "name": "stdout",
     "output_type": "stream",
     "text": [
      "64\n"
     ]
    }
   ],
   "source": [
    "m=4\n",
    "m**=3\n",
    "print(m)"
   ]
  },
  {
   "cell_type": "code",
   "execution_count": 17,
   "id": "4201cb72-c13c-45d6-a35d-f7037c1b362e",
   "metadata": {},
   "outputs": [
    {
     "name": "stdout",
     "output_type": "stream",
     "text": [
      "1\n"
     ]
    }
   ],
   "source": [
    "m=4\n",
    "m%=3\n",
    "print(m)"
   ]
  },
  {
   "cell_type": "markdown",
   "id": "f9c73f3e-bee3-4a54-8d57-eaa827b2479c",
   "metadata": {},
   "source": [
    "# PYTHON LOGICAL AND BOOLEAN OPERATOR"
   ]
  },
  {
   "cell_type": "code",
   "execution_count": 1,
   "id": "fa687346-dd77-4b9c-b933-8978aebd03cf",
   "metadata": {},
   "outputs": [],
   "source": [
    "a=True\n",
    "b=True\n",
    "c=False\n",
    "d=False"
   ]
  },
  {
   "cell_type": "code",
   "execution_count": 2,
   "id": "235be96e-f69c-44f0-834a-274f474870e6",
   "metadata": {},
   "outputs": [
    {
     "data": {
      "text/plain": [
       "bool"
      ]
     },
     "execution_count": 2,
     "metadata": {},
     "output_type": "execute_result"
    }
   ],
   "source": [
    "type(a)"
   ]
  },
  {
   "cell_type": "code",
   "execution_count": 3,
   "id": "fd1b2dc6-d089-45e2-b1b7-190cf5460630",
   "metadata": {},
   "outputs": [
    {
     "data": {
      "text/plain": [
       "bool"
      ]
     },
     "execution_count": 3,
     "metadata": {},
     "output_type": "execute_result"
    }
   ],
   "source": [
    "type(b)"
   ]
  },
  {
   "cell_type": "code",
   "execution_count": 4,
   "id": "18cab35d-44fe-42cf-bf9f-c369497010b8",
   "metadata": {},
   "outputs": [
    {
     "name": "stdout",
     "output_type": "stream",
     "text": [
      "True\n"
     ]
    }
   ],
   "source": [
    "print(a and b)"
   ]
  },
  {
   "cell_type": "code",
   "execution_count": 5,
   "id": "ab09a58c-664b-45ca-9cf7-81864887bf05",
   "metadata": {},
   "outputs": [
    {
     "name": "stdout",
     "output_type": "stream",
     "text": [
      "False\n"
     ]
    }
   ],
   "source": [
    "print(b and c)"
   ]
  },
  {
   "cell_type": "code",
   "execution_count": 6,
   "id": "acc0757f-b96a-467e-8718-29a9341ac892",
   "metadata": {},
   "outputs": [
    {
     "name": "stdout",
     "output_type": "stream",
     "text": [
      "False\n"
     ]
    }
   ],
   "source": [
    "print(c and a)"
   ]
  },
  {
   "cell_type": "code",
   "execution_count": 7,
   "id": "6903f0a4-d0f9-4d21-8570-fe1d113fa561",
   "metadata": {},
   "outputs": [
    {
     "name": "stdout",
     "output_type": "stream",
     "text": [
      "False\n"
     ]
    }
   ],
   "source": [
    "print(c and a)"
   ]
  },
  {
   "cell_type": "code",
   "execution_count": 9,
   "id": "a98d166e-bd9e-4cb6-befe-53af5a6393ae",
   "metadata": {},
   "outputs": [
    {
     "name": "stdout",
     "output_type": "stream",
     "text": [
      "False\n"
     ]
    }
   ],
   "source": [
    "print(c and d)"
   ]
  },
  {
   "cell_type": "code",
   "execution_count": 10,
   "id": "6c8c0d06-2d27-43b0-a406-80357860578b",
   "metadata": {},
   "outputs": [
    {
     "name": "stdout",
     "output_type": "stream",
     "text": [
      "False\n"
     ]
    }
   ],
   "source": [
    "print((a and b) and (c and d))"
   ]
  },
  {
   "cell_type": "markdown",
   "id": "b5e59ccc-ac4a-4920-a46d-fcf2b0656d74",
   "metadata": {},
   "source": []
  },
  {
   "cell_type": "code",
   "execution_count": 11,
   "id": "f6526382-60ba-4762-bf6a-89ed50884e59",
   "metadata": {},
   "outputs": [],
   "source": [
    "#Checking with or operator now\n",
    "a=True\n",
    "b=True\n",
    "c=False\n",
    "d=False"
   ]
  },
  {
   "cell_type": "code",
   "execution_count": 12,
   "id": "29f839a0-499f-4fdf-8a27-75679e58a03b",
   "metadata": {},
   "outputs": [
    {
     "name": "stdout",
     "output_type": "stream",
     "text": [
      "True\n"
     ]
    }
   ],
   "source": [
    "print( a or b)"
   ]
  },
  {
   "cell_type": "code",
   "execution_count": 13,
   "id": "c036e9ff-aa34-4b7b-8ac1-01562da77790",
   "metadata": {},
   "outputs": [
    {
     "name": "stdout",
     "output_type": "stream",
     "text": [
      "True\n"
     ]
    }
   ],
   "source": [
    "print(b or c)"
   ]
  },
  {
   "cell_type": "code",
   "execution_count": 14,
   "id": "b02c202d-c34c-4916-8468-a180c7914424",
   "metadata": {},
   "outputs": [
    {
     "name": "stdout",
     "output_type": "stream",
     "text": [
      "False\n"
     ]
    }
   ],
   "source": [
    "print(c or d)"
   ]
  },
  {
   "cell_type": "code",
   "execution_count": 15,
   "id": "d48ac8c0-ee7a-4b0d-aed0-77100750e5b3",
   "metadata": {},
   "outputs": [
    {
     "name": "stdout",
     "output_type": "stream",
     "text": [
      "True\n"
     ]
    }
   ],
   "source": [
    "print(d or a)"
   ]
  },
  {
   "cell_type": "code",
   "execution_count": 17,
   "id": "b752866e-c3c0-443b-8339-7041426528ac",
   "metadata": {},
   "outputs": [
    {
     "name": "stdout",
     "output_type": "stream",
     "text": [
      "True\n"
     ]
    }
   ],
   "source": [
    "print(( a or b) or (c or d) or (d or a))"
   ]
  },
  {
   "cell_type": "code",
   "execution_count": 18,
   "id": "56903468-9611-4068-aec5-f44a238c51e9",
   "metadata": {},
   "outputs": [
    {
     "name": "stdout",
     "output_type": "stream",
     "text": [
      "True\n"
     ]
    }
   ],
   "source": [
    "# combination of and or operator\n",
    "print((a and b) or (a or c) and (d and c))"
   ]
  },
  {
   "cell_type": "code",
   "execution_count": 19,
   "id": "d085cfd5-6336-410d-9d01-efb7911e391f",
   "metadata": {},
   "outputs": [],
   "source": [
    "#Checking with not operator now\n",
    "a=True\n",
    "b=True\n",
    "c=False\n",
    "d=False"
   ]
  },
  {
   "cell_type": "code",
   "execution_count": 20,
   "id": "1e61a63f-3f62-4799-b85e-20f76e5a07ac",
   "metadata": {},
   "outputs": [
    {
     "name": "stdout",
     "output_type": "stream",
     "text": [
      "False\n"
     ]
    }
   ],
   "source": [
    "print(not(a))"
   ]
  },
  {
   "cell_type": "code",
   "execution_count": 21,
   "id": "986c0386-d7f3-45d0-95b1-12ead2b2dc11",
   "metadata": {},
   "outputs": [
    {
     "name": "stdout",
     "output_type": "stream",
     "text": [
      "True\n"
     ]
    }
   ],
   "source": [
    "print(not (d))"
   ]
  },
  {
   "cell_type": "code",
   "execution_count": 22,
   "id": "ffe5cccc-f96c-4ba2-9cdc-c1cd9d5d64f0",
   "metadata": {},
   "outputs": [
    {
     "name": "stdout",
     "output_type": "stream",
     "text": [
      "False\n"
     ]
    }
   ],
   "source": [
    "print(not((a and b) or (a or c) and (b and c) or (d or a)))"
   ]
  },
  {
   "cell_type": "code",
   "execution_count": 23,
   "id": "dc95d70a-bfcc-437e-8990-96d131b42e4b",
   "metadata": {},
   "outputs": [
    {
     "name": "stdout",
     "output_type": "stream",
     "text": [
      "True\n"
     ]
    }
   ],
   "source": [
    "print(not((a and c) or (b and d) and (a and b)))"
   ]
  },
  {
   "cell_type": "markdown",
   "id": "759bb22e-e5b3-4115-8f49-b25c54b4a11b",
   "metadata": {},
   "source": [
    "# PYTHON COMPARIISON OPERATOR"
   ]
  },
  {
   "cell_type": "code",
   "execution_count": 24,
   "id": "9b41cbfc-0419-4bce-8b99-323d99390cb1",
   "metadata": {},
   "outputs": [
    {
     "name": "stdout",
     "output_type": "stream",
     "text": [
      "False\n"
     ]
    }
   ],
   "source": [
    "C=3>6\n",
    "print(c)"
   ]
  },
  {
   "cell_type": "code",
   "execution_count": 25,
   "id": "23483d23-3aa5-4bfc-a3b5-7d142f7be378",
   "metadata": {},
   "outputs": [
    {
     "data": {
      "text/plain": [
       "bool"
      ]
     },
     "execution_count": 25,
     "metadata": {},
     "output_type": "execute_result"
    }
   ],
   "source": [
    "type(c)"
   ]
  },
  {
   "cell_type": "code",
   "execution_count": 27,
   "id": "acd212f8-a03b-4a61-ab63-ea7a91506acf",
   "metadata": {},
   "outputs": [
    {
     "name": "stdout",
     "output_type": "stream",
     "text": [
      "False\n"
     ]
    }
   ],
   "source": [
    "d=2==3\n",
    "print(d)"
   ]
  },
  {
   "cell_type": "code",
   "execution_count": 29,
   "id": "120e9246-fcac-4021-8fb4-c6236fca71f6",
   "metadata": {},
   "outputs": [
    {
     "data": {
      "text/plain": [
       "True"
      ]
     },
     "execution_count": 29,
     "metadata": {},
     "output_type": "execute_result"
    }
   ],
   "source": [
    "3==3.0\n"
   ]
  },
  {
   "cell_type": "code",
   "execution_count": 30,
   "id": "f3f9e3d8-1732-4687-8282-bc6cbde964ee",
   "metadata": {},
   "outputs": [
    {
     "name": "stdout",
     "output_type": "stream",
     "text": [
      "False\n"
     ]
    }
   ],
   "source": [
    "p=12\n",
    "q=5\n",
    "r=-3\n",
    "s=5.7\n",
    "print((q>p)and (r>s))"
   ]
  },
  {
   "cell_type": "code",
   "execution_count": 31,
   "id": "81f6144c-9322-4e7c-8566-faad398eb970",
   "metadata": {},
   "outputs": [
    {
     "name": "stdout",
     "output_type": "stream",
     "text": [
      "True\n"
     ]
    }
   ],
   "source": [
    "print((p>=r) and (r<=s) or (q<=r))"
   ]
  },
  {
   "cell_type": "code",
   "execution_count": 32,
   "id": "8f3a17a5-841b-40c5-b845-e6d079765504",
   "metadata": {},
   "outputs": [
    {
     "data": {
      "text/plain": [
       "True"
      ]
     },
     "execution_count": 32,
     "metadata": {},
     "output_type": "execute_result"
    }
   ],
   "source": [
    "True or False and True"
   ]
  },
  {
   "cell_type": "markdown",
   "id": "1d8729b5-1bd1-46fc-91fc-3d1ba7b61e66",
   "metadata": {},
   "source": [
    "# PYTHON BITWISE OPERATOR"
   ]
  },
  {
   "cell_type": "markdown",
   "id": "524e61cd-f9c6-4e09-a2d8-7689eaf634ea",
   "metadata": {},
   "source": [
    "## BITWISE AND "
   ]
  },
  {
   "cell_type": "code",
   "execution_count": 33,
   "id": "3b57309c-2cd2-4710-845a-cfeced93cf39",
   "metadata": {},
   "outputs": [
    {
     "name": "stdout",
     "output_type": "stream",
     "text": [
      "4\n"
     ]
    }
   ],
   "source": [
    "a=5\n",
    "b=4\n",
    "print(a&b)"
   ]
  },
  {
   "cell_type": "code",
   "execution_count": 34,
   "id": "91b63f62-04d3-4699-b990-61e36b88ca30",
   "metadata": {},
   "outputs": [
    {
     "name": "stdout",
     "output_type": "stream",
     "text": [
      "<class 'int'>\n"
     ]
    }
   ],
   "source": [
    "print(type(a&b))"
   ]
  },
  {
   "cell_type": "code",
   "execution_count": 35,
   "id": "b6759c9a-391c-4c5a-a8f0-4cc6d6b02fee",
   "metadata": {},
   "outputs": [
    {
     "name": "stdout",
     "output_type": "stream",
     "text": [
      "34880\n"
     ]
    }
   ],
   "source": [
    "a=63564\n",
    "b=36464\n",
    "print(a&b)"
   ]
  },
  {
   "cell_type": "code",
   "execution_count": 36,
   "id": "58582790-036d-4d2d-9f6e-fcf2e1b2b50b",
   "metadata": {},
   "outputs": [
    {
     "name": "stdout",
     "output_type": "stream",
     "text": [
      "4295049346\n"
     ]
    }
   ],
   "source": [
    "a=84+648648454454\n",
    "b=6845845154\n",
    "c=a&b\n",
    "print(c)"
   ]
  },
  {
   "cell_type": "markdown",
   "id": "360d8405-b252-4efc-b312-64af7e4556d5",
   "metadata": {},
   "source": [
    "## BITWISE OR "
   ]
  },
  {
   "cell_type": "code",
   "execution_count": 39,
   "id": "9ae88c8b-9d6b-46b8-886a-62499363a35a",
   "metadata": {},
   "outputs": [
    {
     "name": "stdout",
     "output_type": "stream",
     "text": [
      "5\n"
     ]
    }
   ],
   "source": [
    "a=5\n",
    "b=4\n",
    "print(a|b)"
   ]
  },
  {
   "cell_type": "code",
   "execution_count": 40,
   "id": "9c1cc80e-1ab2-4426-b36f-82d55bad1d00",
   "metadata": {},
   "outputs": [
    {
     "name": "stdout",
     "output_type": "stream",
     "text": [
      "14\n"
     ]
    }
   ],
   "source": [
    "a=6\n",
    "b=8\n",
    "print(a|b)"
   ]
  },
  {
   "cell_type": "code",
   "execution_count": 41,
   "id": "c7dcae2c-d9c8-45e1-b58b-752a24c5c766",
   "metadata": {},
   "outputs": [
    {
     "name": "stdout",
     "output_type": "stream",
     "text": [
      "651199250346\n"
     ]
    }
   ],
   "source": [
    "a=84+648648454454\n",
    "b=6845845154\n",
    "c=a|b\n",
    "print(c)"
   ]
  },
  {
   "cell_type": "markdown",
   "id": "c9cfef2f-99a2-48f9-aa7d-30d8478d4e24",
   "metadata": {},
   "source": [
    "## BITWISE XOR"
   ]
  },
  {
   "cell_type": "code",
   "execution_count": 42,
   "id": "5b79395b-a2a1-4cb8-b792-e60a499d1f85",
   "metadata": {},
   "outputs": [
    {
     "name": "stdout",
     "output_type": "stream",
     "text": [
      "12\n"
     ]
    }
   ],
   "source": [
    "a=6\n",
    "b=10\n",
    "print(a^b)"
   ]
  },
  {
   "cell_type": "code",
   "execution_count": 43,
   "id": "9f7da834-a013-4745-8970-da10c2c6a334",
   "metadata": {},
   "outputs": [
    {
     "name": "stdout",
     "output_type": "stream",
     "text": [
      "646904201000\n"
     ]
    }
   ],
   "source": [
    "a=84+648648454454\n",
    "b=6845845154\n",
    "c=a^b\n",
    "print(c)"
   ]
  },
  {
   "cell_type": "markdown",
   "id": "1d57c47e-6f40-47ed-931a-8870a8fec0ae",
   "metadata": {},
   "source": [
    "##  BITWISE LEFT SHIFT"
   ]
  },
  {
   "cell_type": "code",
   "execution_count": 44,
   "id": "4e0235c5-7da2-4def-aa78-9483ce63679c",
   "metadata": {},
   "outputs": [
    {
     "name": "stdout",
     "output_type": "stream",
     "text": [
      "12\n"
     ]
    }
   ],
   "source": [
    "a=3\n",
    "print(a<<2)"
   ]
  },
  {
   "cell_type": "code",
   "execution_count": 45,
   "id": "83b1520a-4777-4d90-9c5a-7f7d522d354a",
   "metadata": {},
   "outputs": [
    {
     "name": "stdout",
     "output_type": "stream",
     "text": [
      "20\n"
     ]
    }
   ],
   "source": [
    "a=5\n",
    "print(a<<2)"
   ]
  },
  {
   "cell_type": "code",
   "execution_count": 46,
   "id": "6327bb22-f726-4c8e-9e2e-94a045a4ea86",
   "metadata": {},
   "outputs": [
    {
     "name": "stdout",
     "output_type": "stream",
     "text": [
      "155182528\n"
     ]
    }
   ],
   "source": [
    "a=4849454\n",
    "print(a<<5)"
   ]
  },
  {
   "cell_type": "markdown",
   "id": "2e2077d6-b7df-419a-9c8a-ed300423a780",
   "metadata": {},
   "source": [
    "##  BITWISE RIGHT SHIFT"
   ]
  },
  {
   "cell_type": "code",
   "execution_count": 47,
   "id": "9322dcb1-77f9-41a9-b696-5070b4fe3663",
   "metadata": {},
   "outputs": [
    {
     "name": "stdout",
     "output_type": "stream",
     "text": [
      "1\n"
     ]
    }
   ],
   "source": [
    "a=5\n",
    "print(a>>2)"
   ]
  },
  {
   "cell_type": "code",
   "execution_count": 49,
   "id": "b29d9f8d-fd98-444c-81c7-336251285a76",
   "metadata": {},
   "outputs": [
    {
     "name": "stdout",
     "output_type": "stream",
     "text": [
      "151545\n"
     ]
    }
   ],
   "source": [
    "a=4849454\n",
    "print(a>>5)"
   ]
  },
  {
   "cell_type": "code",
   "execution_count": null,
   "id": "ad78e9ef-b43b-4a7e-8e99-eb0c32ed2e86",
   "metadata": {},
   "outputs": [],
   "source": []
  }
 ],
 "metadata": {
  "kernelspec": {
   "display_name": "Python 3 (ipykernel)",
   "language": "python",
   "name": "python3"
  },
  "language_info": {
   "codemirror_mode": {
    "name": "ipython",
    "version": 3
   },
   "file_extension": ".py",
   "mimetype": "text/x-python",
   "name": "python",
   "nbconvert_exporter": "python",
   "pygments_lexer": "ipython3",
   "version": "3.13.1"
  }
 },
 "nbformat": 4,
 "nbformat_minor": 5
}
