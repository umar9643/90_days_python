{
 "cells": [
  {
   "cell_type": "code",
   "execution_count": null,
   "id": "092978c1-dc48-404a-ac7d-0dc45ffdaf0e",
   "metadata": {},
   "outputs": [],
   "source": []
  }
 ],
 "metadata": {
  "kernelspec": {
   "display_name": "",
   "name": ""
  },
  "language_info": {
   "name": ""
  }
 },
 "nbformat": 4,
 "nbformat_minor": 5
}
