{
 "cells": [
  {
   "cell_type": "markdown",
   "id": "f6137db5",
   "metadata": {},
   "source": [
    "# IN-BUILT FNs OF PYTHON"
   ]
  },
  {
   "cell_type": "markdown",
   "id": "c37d8fab",
   "metadata": {},
   "source": [
    "TYPES OF FN\n",
    "\n",
    "1  BUILT IN FN IN PYTHON\n",
    "\n",
    "2  PYTHON RECURSIVE FN\n",
    "\n",
    "3  PYTHON LMDA FN\n",
    "\n",
    "4  URER- DEFINED FN IN PYTHON"
   ]
  },
  {
   "cell_type": "markdown",
   "id": "a0eb4e6f",
   "metadata": {},
   "source": [
    "# 1. PYTHON BUILT IN FN"
   ]
  },
  {
   "cell_type": "markdown",
   "id": "4b48beb0",
   "metadata": {},
   "source": [
    "THE PYTHON INTERPRETER HAS NO.  OF FUNTIONS AVAILABLE FOR USE.THESE FN ARE CALLED BUILT IN FNs.\n",
    "FOR EXAMPLE ,PRINT()FUNTION PRINT THE GIVEN OBJECT TO THE STANDARD OUTPUT DEVICE(SCREEN)OR TO THE NEXT STREAM FILE.\n",
    "\n",
    "IN PYTHON 3.6,THERE ARE 68 FN BUILT-IN FNs.\n"
   ]
  },
  {
   "cell_type": "code",
   "execution_count": null,
   "id": "b2029280-2e98-4427-9217-5a1c632f6c0e",
   "metadata": {},
   "outputs": [],
   "source": [
    "Function Name\tDescription\n",
    "abs()\tReturns the absolute value\n",
    "aiter()\tReturns an asynchronous iterator\n",
    "all()\tReturns True if all elements are true\n",
    "any()\tReturns True if any element is true\n",
    "anext()\tRetrieves the next item from an async iterator\n",
    "ascii()\tReturns a readable version of an object\n",
    "bin()\tConverts to binary\n",
    "bool()\tConverts to boolean\n",
    "breakpoint()\tInserts a breakpoint in your code (debugging)\n",
    "bytearray()\tReturns a bytearray object\n",
    "bytes()\tReturns a bytes object\n",
    "callable()\tChecks if an object is callable (can be called as a function)\n",
    "chr()\tConverts an integer to a character\n",
    "classmethod()\tCreates a class method\n",
    "compile()\tCompiles source code into a code object\n",
    "complex()\tCreates a complex number\n",
    "delattr()\tDeletes an attribute from an object\n",
    "dict()\tCreates a dictionary\n",
    "dir()\tLists attributes/methods of an object\n",
    "divmod()\tReturns quotient and remainder as a tuple\n",
    "enumerate()\tReturns an enumerate object\n",
    "eval()\tEvaluates a string as Python code\n",
    "exec()\tExecutes Python code dynamically\n",
    "filter()\tFilters items based on a condition\n",
    "float()\tConverts to float\n",
    "format()\tFormats a string\n",
    "frozenset()\tCreates an immutable set\n",
    "getattr()\tReturns the value of a named attribute\n",
    "globals()\tReturns the global symbol table\n",
    "hasattr()\tChecks if object has an attribute\n",
    "hash()\tReturns the hash value\n",
    "help()\tDisplays the help system\n",
    "hex()\tConverts to hexadecimal\n",
    "id()\tReturns the identity (memory address) of an object\n",
    "input()\tTakes user input\n",
    "int()\tConverts to integer\n",
    "isinstance()\tChecks if object is an instance of a class\n",
    "issubclass()\tChecks if a class is a subclass of another\n",
    "iter()\tReturns an iterator\n",
    "len()\tReturns length\n",
    "list()\tCreates a list\n",
    "locals()\tReturns the local symbol table\n",
    "map()\tApplies a function to all items in an iterable\n",
    "max()\tReturns the largest value\n",
    "memoryview()\tReturns a memory view object\n",
    "min()\tReturns the smallest value\n",
    "next()\tRetrieves the next item from an iterator\n",
    "object()\tReturns a new featureless object\n",
    "oct()\tConverts to octal\n",
    "open()\tOpens a file\n",
    "ord()\tReturns Unicode code point of a character\n",
    "pow()\tRaises a number to a power\n",
    "print()\tPrints output\n",
    "property()\tCreates a property for a class\n",
    "range()\tGenerates a range of numbers\n",
    "repr()\tReturns a string representation of an object\n",
    "reversed()\tReturns reversed iterator\n",
    "round()\tRounds a number\n",
    "set()\tCreates a set\n",
    "setattr()\tSets an attribute of an object\n",
    "slice()\tReturns a slice object\n",
    "sorted()\tReturns a sorted list\n",
    "staticmethod()\tCreates a static method\n",
    "str()\tConverts to string\n",
    "sum()\tReturns the sum\n",
    "super()\tRefers to the parent class\n",
    "tuple()\tCreates a tuple\n",
    "type()\tReturns the type of an object\n",
    "vars()\tReturns the __dict__ attribute\n",
    "zip()\tCombines two or more iterables\n",
    "__import__()\tUsed by the import statement internally (rarely used manually)\n",
    "\n"
   ]
  },
  {
   "cell_type": "markdown",
   "id": "780db508-b6aa-4ac1-ad15-4cc909147e9e",
   "metadata": {},
   "source": [
    "# Round () fn"
   ]
  },
  {
   "cell_type": "markdown",
   "id": "c42a7190-930b-4e43-a610-11130590fc0f",
   "metadata": {},
   "source": [
    "The round() function returns the nearest integer (or to a specified number of decimal places) of a given number."
   ]
  },
  {
   "cell_type": "code",
   "execution_count": 1,
   "id": "585ebc82-dfdd-48e4-a40f-ffd777a31927",
   "metadata": {},
   "outputs": [
    {
     "data": {
      "text/plain": [
       "5"
      ]
     },
     "execution_count": 1,
     "metadata": {},
     "output_type": "execute_result"
    }
   ],
   "source": [
    "a=4.6\n",
    "round(a)"
   ]
  },
  {
   "cell_type": "code",
   "execution_count": 2,
   "id": "0078f58c-8fa3-4222-9de7-1d0c43f1a4db",
   "metadata": {},
   "outputs": [
    {
     "name": "stdout",
     "output_type": "stream",
     "text": [
      "13\n"
     ]
    }
   ],
   "source": [
    "a=12.7\n",
    "print(round(a))"
   ]
  },
  {
   "cell_type": "code",
   "execution_count": 3,
   "id": "a74eeec3-5d60-4d82-90e0-47b23c9a78ff",
   "metadata": {},
   "outputs": [
    {
     "name": "stdout",
     "output_type": "stream",
     "text": [
      "12.777\n"
     ]
    }
   ],
   "source": [
    "a=12.77656567\n",
    "print(round(a,3))\n",
    "#it will round the value upto 3"
   ]
  },
  {
   "cell_type": "code",
   "execution_count": 4,
   "id": "b7f28cfc-0dd5-42b6-809e-cc40a0ee981d",
   "metadata": {},
   "outputs": [
    {
     "name": "stdout",
     "output_type": "stream",
     "text": [
      "12.7766\n"
     ]
    }
   ],
   "source": [
    "a=12.77656567\n",
    "print(round(a,4))\n",
    "#it will round the value upto 3"
   ]
  },
  {
   "cell_type": "code",
   "execution_count": 9,
   "id": "359aa14f-511c-454d-aae4-49b39b6500fe",
   "metadata": {},
   "outputs": [
    {
     "name": "stdout",
     "output_type": "stream",
     "text": [
      "4726\n"
     ]
    }
   ],
   "source": [
    "\"\"\"\"Umar bought 3 course from udemy data analytics data science data engeeneer which cost 1299.45,1526.33,1900.378 calculate total of all\"\"\"\n",
    "data_analytics=1299.45\n",
    "data_science =1526.33\n",
    "data_engeeneer=1900.378\n",
    "total=data_analytics+data_science +data_engeeneer\n",
    "print(round(total))"
   ]
  },
  {
   "cell_type": "markdown",
   "id": "c5553128-001b-4b4d-922b-3c4af54f5249",
   "metadata": {},
   "source": [
    "# Divmod() fn"
   ]
  },
  {
   "cell_type": "markdown",
   "id": "bb99f645-738f-46f0-a821-9be05aae5661",
   "metadata": {},
   "source": [
    "divmod(a, b) returns a tuple (quotient, remainder) when a is divided by b."
   ]
  },
  {
   "cell_type": "code",
   "execution_count": 11,
   "id": "4f4d1803-e8d9-44af-9c6c-c8ac9076206f",
   "metadata": {},
   "outputs": [
    {
     "name": "stdout",
     "output_type": "stream",
     "text": [
      "(5, 1)\n"
     ]
    }
   ],
   "source": [
    "print(divmod(16,3))"
   ]
  },
  {
   "cell_type": "code",
   "execution_count": 12,
   "id": "13c2a9f3-3f5c-417a-9829-0f5c2f746950",
   "metadata": {},
   "outputs": [
    {
     "data": {
      "text/plain": [
       "(255, 2)"
      ]
     },
     "execution_count": 12,
     "metadata": {},
     "output_type": "execute_result"
    }
   ],
   "source": [
    "divmod(767,3)"
   ]
  },
  {
   "cell_type": "code",
   "execution_count": 13,
   "id": "3294cd51-b296-4253-b4df-6ebc43418aa2",
   "metadata": {},
   "outputs": [
    {
     "name": "stdout",
     "output_type": "stream",
     "text": [
      "(8619, 9)\n"
     ]
    }
   ],
   "source": [
    "a=divmod(465435,54)\n",
    "print(a)"
   ]
  },
  {
   "cell_type": "code",
   "execution_count": 24,
   "id": "dd3fab84-5a71-4dff-b3dc-be7c22bc9db1",
   "metadata": {},
   "outputs": [
    {
     "name": "stdout",
     "output_type": "stream",
     "text": [
      "(12.0, 4.343199999999996) (11.0, 5.343199999999996) (10.0, 8.343199999999996) (9.0, 13.343199999999996)\n",
      "Sum of quotient is 42\n",
      "Sum of remainder is 31\n"
     ]
    }
   ],
   "source": [
    "\"\"\"Divide the no. 148.3432 by 12 ,13 ,14  and 15 seperately and their quotient and remainder add them\"\"\"\n",
    "a=divmod(148.3432,12)\n",
    "b=divmod(148.3432,13)\n",
    "c=divmod(148.3432,14)\n",
    "d=divmod(148.3432,15)\n",
    "print(a,b,c,d)\n",
    "q=a[0]+b[0]+c[0]+d[0]\n",
    "r=a[1]+b[1]+c[1]+d[1]\n",
    "print(\"Sum of quotient is\",round(q))\n",
    "print(\"Sum of remainder is\",round(r))"
   ]
  },
  {
   "cell_type": "markdown",
   "id": "bcf699d0-b7e8-4c92-882f-2c0ff7196f7f",
   "metadata": {},
   "source": [
    "#  isinstance() fn"
   ]
  },
  {
   "cell_type": "markdown",
   "id": "5e68b117-441d-46d0-992b-1ff215df672b",
   "metadata": {},
   "source": [
    "The isinstance() function is used to check the type of a value in Python.\n",
    "It tells you whether a variable is of a certain data type (like number, string, list, etc.).\n",
    "It returns True if the value is of that type, otherwise False."
   ]
  },
  {
   "cell_type": "code",
   "execution_count": 25,
   "id": "3336fa6e-85d2-4e40-bb24-2d2a2d87e07e",
   "metadata": {},
   "outputs": [
    {
     "data": {
      "text/plain": [
       "True"
      ]
     },
     "execution_count": 25,
     "metadata": {},
     "output_type": "execute_result"
    }
   ],
   "source": [
    "isinstance(4,int)"
   ]
  },
  {
   "cell_type": "code",
   "execution_count": 26,
   "id": "72367ee1-961c-469c-8986-36df1a8ffc8a",
   "metadata": {},
   "outputs": [
    {
     "data": {
      "text/plain": [
       "False"
      ]
     },
     "execution_count": 26,
     "metadata": {},
     "output_type": "execute_result"
    }
   ],
   "source": [
    "isinstance(4.0,int)"
   ]
  },
  {
   "cell_type": "code",
   "execution_count": 28,
   "id": "daa11064-b616-4238-a90c-0c657e26d157",
   "metadata": {},
   "outputs": [
    {
     "data": {
      "text/plain": [
       "True"
      ]
     },
     "execution_count": 28,
     "metadata": {},
     "output_type": "execute_result"
    }
   ],
   "source": [
    "isinstance(4.0,(int,float))"
   ]
  },
  {
   "cell_type": "code",
   "execution_count": 29,
   "id": "031fe4b3-e495-49e9-ae9e-f74d4260fd2a",
   "metadata": {},
   "outputs": [
    {
     "name": "stdout",
     "output_type": "stream",
     "text": [
      "True\n"
     ]
    }
   ],
   "source": [
    "print(isinstance(\"python is amazing\",(int,float,str)))"
   ]
  },
  {
   "cell_type": "code",
   "execution_count": 30,
   "id": "4d2fa057-98d0-43e2-a7be-6e168f96ac78",
   "metadata": {},
   "outputs": [
    {
     "data": {
      "text/plain": [
       "True"
      ]
     },
     "execution_count": 30,
     "metadata": {},
     "output_type": "execute_result"
    }
   ],
   "source": [
    "isinstance(2+4j,(complex))"
   ]
  },
  {
   "cell_type": "markdown",
   "id": "f263ef14-b39a-4e9c-bead-b72e7c691c0a",
   "metadata": {},
   "source": [
    "# pow() fn"
   ]
  },
  {
   "cell_type": "markdown",
   "id": "54061bed-9506-46ab-88f0-b4bc40ce0288",
   "metadata": {},
   "source": [
    "The pow() function is used to raise a number to a power — just like a^b (a raised to the power b).\n",
    "It can also return the modulus (remainder) when a third number is given.\n",
    "\n"
   ]
  },
  {
   "cell_type": "code",
   "execution_count": 12,
   "id": "1c978d94-733c-4d40-89e3-343aca64fef2",
   "metadata": {},
   "outputs": [
    {
     "data": {
      "text/plain": [
       "8"
      ]
     },
     "execution_count": 12,
     "metadata": {},
     "output_type": "execute_result"
    }
   ],
   "source": [
    "pow(2,3)"
   ]
  },
  {
   "cell_type": "code",
   "execution_count": 32,
   "id": "52663852-b2a1-4387-a8e3-dc4fcebef563",
   "metadata": {},
   "outputs": [
    {
     "data": {
      "text/plain": [
       "4"
      ]
     },
     "execution_count": 32,
     "metadata": {},
     "output_type": "execute_result"
    }
   ],
   "source": [
    "pow(2,2)"
   ]
  },
  {
   "cell_type": "code",
   "execution_count": 38,
   "id": "e33bd1ed-db95-4864-b2f1-ac5c1fa466c7",
   "metadata": {},
   "outputs": [
    {
     "data": {
      "text/plain": [
       "2"
      ]
     },
     "execution_count": 38,
     "metadata": {},
     "output_type": "execute_result"
    }
   ],
   "source": [
    "pow(2,4,7)"
   ]
  },
  {
   "cell_type": "code",
   "execution_count": 1,
   "id": "b33e5998-d2a2-478f-b4db-75ab1ffda247",
   "metadata": {},
   "outputs": [
    {
     "data": {
      "text/plain": [
       "26906762964844464202646373444460112455294177414580153997572479652285255731594405240623018254755925320054971659717816906266525526101687685148358925582718104794194435983552152600576"
      ]
     },
     "execution_count": 1,
     "metadata": {},
     "output_type": "execute_result"
    }
   ],
   "source": [
    "pow(556,65)"
   ]
  },
  {
   "cell_type": "code",
   "execution_count": 5,
   "id": "93b16998-7031-49a5-94ed-29245f02b2e5",
   "metadata": {},
   "outputs": [
    {
     "data": {
      "text/plain": [
       "26906762964844464202646373444460112455294177414580153997572479652285255731594405240623018254755925320054971659717816906266525526101687685148358925582718104794194435983552152600576"
      ]
     },
     "execution_count": 5,
     "metadata": {},
     "output_type": "execute_result"
    }
   ],
   "source": [
    "556**65\n",
    "#we can also do it normally"
   ]
  },
  {
   "cell_type": "code",
   "execution_count": 9,
   "id": "7bfe0746-4ed3-4c9f-952c-da6783699d25",
   "metadata": {},
   "outputs": [
    {
     "name": "stdout",
     "output_type": "stream",
     "text": [
      "2 6 4 5\n"
     ]
    }
   ],
   "source": [
    "\"\"\"24 raised to the power 2,3,4,5 then divide it by 7 fiind the reaminder in each\"\"\"\n",
    "a=pow(24,2,7)\n",
    "b=pow(24,3,7)\n",
    "c=pow(24,4,7)\n",
    "d=pow(24,5,7)\n",
    "print(a,b,c,d)"
   ]
  },
  {
   "cell_type": "markdown",
   "id": "3be9d10a-bd01-4bbd-b894-ec86325cca0d",
   "metadata": {},
   "source": [
    "# len() fn"
   ]
  },
  {
   "cell_type": "markdown",
   "id": "93330f8a-053f-4e0d-9489-5b2d2cedbbd8",
   "metadata": {},
   "source": [
    "The len() function is used to find the number of items in a container like a string, list, tuple, dictionary, or set."
   ]
  },
  {
   "cell_type": "code",
   "execution_count": 21,
   "id": "39bee129-add1-4246-aadf-d0741da9e4a8",
   "metadata": {},
   "outputs": [
    {
     "data": {
      "text/plain": [
       "24"
      ]
     },
     "execution_count": 21,
     "metadata": {},
     "output_type": "execute_result"
    }
   ],
   "source": [
    "a=\"i am very good at pyhton\"\n",
    "len(a)"
   ]
  },
  {
   "cell_type": "code",
   "execution_count": 24,
   "id": "8b320ba8-6ac9-4ac0-9947-5d3cfefd0ade",
   "metadata": {},
   "outputs": [
    {
     "data": {
      "text/plain": [
       "5"
      ]
     },
     "execution_count": 24,
     "metadata": {},
     "output_type": "execute_result"
    }
   ],
   "source": [
    "c=[3,4,2,4,2]\n",
    "type(c)\n",
    "len(c)"
   ]
  },
  {
   "cell_type": "code",
   "execution_count": 26,
   "id": "16fe855e-e8ec-4f1d-8c68-ca3936ebf1bd",
   "metadata": {},
   "outputs": [
    {
     "name": "stdout",
     "output_type": "stream",
     "text": [
      "<class 'tuple'>\n"
     ]
    },
    {
     "data": {
      "text/plain": [
       "3"
      ]
     },
     "execution_count": 26,
     "metadata": {},
     "output_type": "execute_result"
    }
   ],
   "source": [
    "b=(34,2,\"alam\")\n",
    "print(type(b))\n",
    "\n",
    "len(b)"
   ]
  },
  {
   "cell_type": "code",
   "execution_count": 27,
   "id": "572c8436-19ea-451e-ada7-721eac126042",
   "metadata": {},
   "outputs": [
    {
     "ename": "TypeError",
     "evalue": "object of type 'int' has no len()",
     "output_type": "error",
     "traceback": [
      "\u001b[1;31m---------------------------------------------------------------------------\u001b[0m",
      "\u001b[1;31mTypeError\u001b[0m                                 Traceback (most recent call last)",
      "Cell \u001b[1;32mIn[27], line 1\u001b[0m\n\u001b[1;32m----> 1\u001b[0m \u001b[38;5;28;43mlen\u001b[39;49m\u001b[43m(\u001b[49m\u001b[38;5;241;43m76\u001b[39;49m\u001b[43m)\u001b[49m\n",
      "\u001b[1;31mTypeError\u001b[0m: object of type 'int' has no len()"
     ]
    }
   ],
   "source": [
    "len(76)"
   ]
  },
  {
   "cell_type": "markdown",
   "id": "5aff8864-b805-400e-a17f-b6d455d71877",
   "metadata": {},
   "source": [
    "# min and max fn"
   ]
  },
  {
   "cell_type": "code",
   "execution_count": null,
   "id": "61d10307-0071-4b05-b9d5-92ef18b4e42d",
   "metadata": {},
   "outputs": [],
   "source": [
    "min() returns the smallest value from a group of values.\n",
    "\n",
    "max() returns the largest value from a group of values.\n",
    "\n"
   ]
  },
  {
   "cell_type": "code",
   "execution_count": 30,
   "id": "99c9b163-408c-45e5-a63b-548eb48b11a4",
   "metadata": {},
   "outputs": [
    {
     "name": "stdout",
     "output_type": "stream",
     "text": [
      "3\n",
      "5\n"
     ]
    }
   ],
   "source": [
    "n=[3,4,4,4,3,4,5,3]\n",
    "print(min(n))\n",
    "print(max(n))"
   ]
  },
  {
   "cell_type": "code",
   "execution_count": 33,
   "id": "afa4e99f-dd85-4c42-aa6a-7b1330c312ef",
   "metadata": {},
   "outputs": [
    {
     "name": "stdin",
     "output_type": "stream",
     "text": [
      "enter the no. 10\n",
      "enter the no. 23\n",
      "enter the no. 65\n",
      "enter the no. 34\n",
      "enter the no. 2\n"
     ]
    },
    {
     "name": "stdout",
     "output_type": "stream",
     "text": [
      "maximun no is 65\n",
      "min no. is  2\n"
     ]
    }
   ],
   "source": [
    "\"\"\"Taking 5 input from user then finding max and min out of it\"\"\"\n",
    "a=int(input(\"enter the no.\"))\n",
    "b=int(input(\"enter the no.\"))\n",
    "c=int(input(\"enter the no.\"))\n",
    "d=int(input(\"enter the no.\"))\n",
    "e=int(input(\"enter the no.\"))\n",
    "t=[a,b,c,d,e]\n",
    "print(\"maximun no is\",max(t))\n",
    "print(\"min no. is \",min(t))"
   ]
  },
  {
   "cell_type": "markdown",
   "id": "20bcbddb-1d30-4ae2-a1cf-823e7d966dbc",
   "metadata": {},
   "source": [
    "# sorted() function"
   ]
  },
  {
   "cell_type": "markdown",
   "id": "259293b1-82a3-48d7-954f-f4ed718b873c",
   "metadata": {},
   "source": [
    "The sorted() function is used to sort any sequence (like a list, tuple, or string) and returns a new sorted list, without changing the original one."
   ]
  },
  {
   "cell_type": "code",
   "execution_count": 37,
   "id": "c50e0932-d646-4598-9f3f-894e661cd056",
   "metadata": {},
   "outputs": [],
   "source": [
    "a=[34,43,34,23,67,34,1,34,6]\n"
   ]
  },
  {
   "cell_type": "code",
   "execution_count": 44,
   "id": "7d6a926d-91f0-4969-befe-fc1e421bb365",
   "metadata": {},
   "outputs": [
    {
     "name": "stdout",
     "output_type": "stream",
     "text": [
      "[1, 6, 23, 34, 34, 34, 34, 43, 67]\n"
     ]
    }
   ],
   "source": [
    "#sorting in asc order\n",
    "print(sorted(a))"
   ]
  },
  {
   "cell_type": "code",
   "execution_count": 45,
   "id": "1cbcff39-2596-4517-8896-fd603192e313",
   "metadata": {},
   "outputs": [
    {
     "name": "stdout",
     "output_type": "stream",
     "text": [
      "[67, 43, 34, 34, 34, 34, 23, 6, 1]\n"
     ]
    }
   ],
   "source": [
    "# sorting in desc order\n",
    "print(sorted(a,reverse=True))"
   ]
  },
  {
   "cell_type": "code",
   "execution_count": 47,
   "id": "93d33370-f5b6-4bdf-a4b9-73ec3bc3c5a1",
   "metadata": {},
   "outputs": [
    {
     "name": "stdin",
     "output_type": "stream",
     "text": [
      "enter the no. 4\n",
      "enter the no. 6\n",
      "enter the no. 7\n",
      "enter the no. 8\n",
      "enter the no. 4\n"
     ]
    }
   ],
   "source": [
    "\"\"\"take 5 value from user and arrange them asc and desc order\"\"\"\n",
    "a=int(input(\"enter the no.\"))\n",
    "b=int(input(\"enter the no.\"))\n",
    "c=int(input(\"enter the no.\"))\n",
    "d=int(input(\"enter the no.\"))\n",
    "e=int(input(\"enter the no.\"))\n"
   ]
  },
  {
   "cell_type": "code",
   "execution_count": 48,
   "id": "d87a373b-333b-42b6-96b3-48cef262a2e3",
   "metadata": {},
   "outputs": [
    {
     "name": "stdout",
     "output_type": "stream",
     "text": [
      "4 6 7 8 4\n"
     ]
    }
   ],
   "source": [
    "print(a,b,c,d,e)"
   ]
  },
  {
   "cell_type": "code",
   "execution_count": 49,
   "id": "62b652a2-c222-41bb-b923-67dcd3716b6a",
   "metadata": {},
   "outputs": [
    {
     "data": {
      "text/plain": [
       "[4, 4, 6, 7, 8]"
      ]
     },
     "execution_count": 49,
     "metadata": {},
     "output_type": "execute_result"
    }
   ],
   "source": [
    "x=(a,b,c,d,e)\n",
    "sorted(x)"
   ]
  },
  {
   "cell_type": "code",
   "execution_count": 52,
   "id": "8a518714-6ed6-4325-8e5f-183a97274173",
   "metadata": {},
   "outputs": [
    {
     "data": {
      "text/plain": [
       "[8, 7, 6, 4, 4]"
      ]
     },
     "execution_count": 52,
     "metadata": {},
     "output_type": "execute_result"
    }
   ],
   "source": [
    "(sorted(x,reverse=True))"
   ]
  },
  {
   "cell_type": "markdown",
   "id": "d93648a6",
   "metadata": {},
   "source": [
    "# abs ()function"
   ]
  },
  {
   "cell_type": "markdown",
   "id": "b882348e",
   "metadata": {},
   "source": [
    "THE ABS FN RETURN THE ABSULTE VALUE OF THE SPECIFIED NUMBER."
   ]
  },
  {
   "cell_type": "code",
   "execution_count": 4,
   "id": "2eb1465a",
   "metadata": {},
   "outputs": [
    {
     "name": "stdout",
     "output_type": "stream",
     "text": [
      "45\n"
     ]
    }
   ],
   "source": [
    "x=abs(-45)\n",
    "print(x)"
   ]
  },
  {
   "cell_type": "code",
   "execution_count": 5,
   "id": "df4c0715",
   "metadata": {},
   "outputs": [
    {
     "name": "stdout",
     "output_type": "stream",
     "text": [
      "2\n"
     ]
    }
   ],
   "source": [
    "y=abs(-2)\n",
    "print(y)"
   ]
  },
  {
   "cell_type": "code",
   "execution_count": 7,
   "id": "bbe9dc37",
   "metadata": {},
   "outputs": [
    {
     "name": "stdout",
     "output_type": "stream",
     "text": [
      "5.385164807134504\n"
     ]
    }
   ],
   "source": [
    "z=abs(2+5j)\n",
    "print(z)"
   ]
  },
  {
   "cell_type": "markdown",
   "id": "07d26059",
   "metadata": {},
   "source": [
    "# bin ( )function"
   ]
  },
  {
   "cell_type": "markdown",
   "id": "9fb9e289",
   "metadata": {},
   "source": [
    "THE BIN FN RETURN THE BINARY VERSION OF A SPECIFIED INTEGER.\n",
    "\n",
    "THE RESULT WILL ALWAYS START WITH PREFIX 0b."
   ]
  },
  {
   "cell_type": "code",
   "execution_count": 8,
   "id": "0342a34d",
   "metadata": {},
   "outputs": [
    {
     "name": "stdout",
     "output_type": "stream",
     "text": [
      "0b101101\n"
     ]
    }
   ],
   "source": [
    "x= bin(45)\n",
    "print(x)"
   ]
  },
  {
   "cell_type": "code",
   "execution_count": 9,
   "id": "56eff391",
   "metadata": {},
   "outputs": [
    {
     "name": "stdout",
     "output_type": "stream",
     "text": [
      "0b100000\n"
     ]
    }
   ],
   "source": [
    "y=bin(32)\n",
    "print(y)"
   ]
  },
  {
   "cell_type": "code",
   "execution_count": 10,
   "id": "8e7d6e92",
   "metadata": {},
   "outputs": [
    {
     "name": "stdout",
     "output_type": "stream",
     "text": [
      "0b100010\n"
     ]
    }
   ],
   "source": [
    "z=bin(34)\n",
    "print(z)"
   ]
  },
  {
   "cell_type": "code",
   "execution_count": 1,
   "id": "97a9549b-94fb-4c42-8386-e4c38d294031",
   "metadata": {},
   "outputs": [
    {
     "data": {
      "text/plain": [
       "'0b11'"
      ]
     },
     "execution_count": 1,
     "metadata": {},
     "output_type": "execute_result"
    }
   ],
   "source": [
    "bin(3)"
   ]
  },
  {
   "cell_type": "markdown",
   "id": "0783eed0",
   "metadata": {},
   "source": [
    "# bytes ()function"
   ]
  },
  {
   "cell_type": "markdown",
   "id": "c8e4360a",
   "metadata": {},
   "source": [
    "THE BYTES FN RETURN A BYTES OBJECT.\n",
    "\n",
    "IT CAN CONVERT OBJECT INTO BYTES OBJECT,OR CRAETE EMPTY BYTES OBJECT OF THE SPECIFIED SIZE."
   ]
  },
  {
   "cell_type": "code",
   "execution_count": 12,
   "id": "6fcc1f09",
   "metadata": {},
   "outputs": [
    {
     "name": "stdout",
     "output_type": "stream",
     "text": [
      "b'\\x00\\x00\\x00\\x00'\n"
     ]
    }
   ],
   "source": [
    "    x=bytes(4)\n",
    "    print(x)"
   ]
  },
  {
   "cell_type": "code",
   "execution_count": 14,
   "id": "72897728",
   "metadata": {},
   "outputs": [
    {
     "name": "stdout",
     "output_type": "stream",
     "text": [
      "b'\\x00\\x00\\x00\\x00\\x00\\x00\\x00\\x00\\x00\\x00\\x00\\x00'\n"
     ]
    }
   ],
   "source": [
    "y=bytes(12)\n",
    "print(y)"
   ]
  },
  {
   "cell_type": "code",
   "execution_count": 15,
   "id": "6a0e1bca",
   "metadata": {},
   "outputs": [
    {
     "name": "stdout",
     "output_type": "stream",
     "text": [
      "b'\\x00\\x00\\x00\\x00\\x00\\x00\\x00\\x00\\x00\\x00\\x00'\n"
     ]
    }
   ],
   "source": [
    "y=bytes(11)\n",
    "print(y)"
   ]
  },
  {
   "cell_type": "markdown",
   "id": "eb9e7e59",
   "metadata": {},
   "source": [
    "# chr()function"
   ]
  },
  {
   "cell_type": "markdown",
   "id": "43a21fa8",
   "metadata": {},
   "source": [
    "THE CHARACTER FN RETURN THE CHARACTER THE REPRESENT THE SPECIFIED UNICODE"
   ]
  },
  {
   "cell_type": "code",
   "execution_count": 25,
   "id": "d87bf1e4",
   "metadata": {},
   "outputs": [
    {
     "name": "stdout",
     "output_type": "stream",
     "text": [
      "^\n"
     ]
    }
   ],
   "source": [
    "x=chr(94)\n",
    "print(x)"
   ]
  },
  {
   "cell_type": "code",
   "execution_count": 17,
   "id": "07d5b12e",
   "metadata": {},
   "outputs": [
    {
     "name": "stdout",
     "output_type": "stream",
     "text": [
      "a\n"
     ]
    }
   ],
   "source": [
    "y=chr(97)\n",
    "print(y)"
   ]
  },
  {
   "cell_type": "code",
   "execution_count": 24,
   "id": "691e6298",
   "metadata": {},
   "outputs": [
    {
     "name": "stdout",
     "output_type": "stream",
     "text": [
      "e\n"
     ]
    }
   ],
   "source": [
    "z=chr(101)\n",
    "print(z)"
   ]
  },
  {
   "cell_type": "code",
   "execution_count": 1,
   "id": "2c3d484d",
   "metadata": {},
   "outputs": [
    {
     "name": "stdout",
     "output_type": "stream",
     "text": [
      "-\n"
     ]
    }
   ],
   "source": [
    "x=chr(45)\n",
    "print(x)\n"
   ]
  },
  {
   "cell_type": "code",
   "execution_count": 1,
   "id": "a02e4e43",
   "metadata": {},
   "outputs": [
    {
     "name": "stdout",
     "output_type": "stream",
     "text": [
      "b\n"
     ]
    }
   ],
   "source": [
    "x=chr(98)\n",
    "print(x)"
   ]
  },
  {
   "cell_type": "code",
   "execution_count": 3,
   "id": "ea3a95dd",
   "metadata": {},
   "outputs": [
    {
     "name": "stdout",
     "output_type": "stream",
     "text": [
      "c\n"
     ]
    }
   ],
   "source": [
    "x=chr(99)\n",
    "print(x)"
   ]
  },
  {
   "cell_type": "markdown",
   "id": "9c3d0d8c",
   "metadata": {},
   "source": [
    "# complex()function"
   ]
  },
  {
   "cell_type": "markdown",
   "id": "b87bf81f",
   "metadata": {},
   "source": [
    "THE COMPLEX FN RETURN A COMPLEX NUMBER BY SPECIFYING A REAL NO. AND AN IMAGINARY NO."
   ]
  },
  {
   "cell_type": "code",
   "execution_count": 28,
   "id": "f950ede5",
   "metadata": {},
   "outputs": [
    {
     "name": "stdout",
     "output_type": "stream",
     "text": [
      "(13+0j)\n"
     ]
    }
   ],
   "source": [
    "x=complex(4+9)\n",
    "print(x)"
   ]
  },
  {
   "cell_type": "code",
   "execution_count": 29,
   "id": "6839156d",
   "metadata": {},
   "outputs": [
    {
     "name": "stdout",
     "output_type": "stream",
     "text": [
      "(3+8j)\n"
     ]
    }
   ],
   "source": [
    "x=complex(3,8)\n",
    "print(x)"
   ]
  },
  {
   "cell_type": "code",
   "execution_count": 30,
   "id": "9303be34",
   "metadata": {},
   "outputs": [
    {
     "name": "stdout",
     "output_type": "stream",
     "text": [
      "(6.7+9.8j)\n"
     ]
    }
   ],
   "source": [
    "x=complex(6.7,9.8)\n",
    "print(x)"
   ]
  },
  {
   "cell_type": "code",
   "execution_count": 31,
   "id": "4041a44b",
   "metadata": {},
   "outputs": [
    {
     "name": "stdout",
     "output_type": "stream",
     "text": [
      "(3+6j)\n"
     ]
    }
   ],
   "source": [
    "x=complex(3+6j)\n",
    "print(x)"
   ]
  },
  {
   "cell_type": "markdown",
   "id": "c37b07d5",
   "metadata": {},
   "source": [
    "# float()function"
   ]
  },
  {
   "cell_type": "markdown",
   "id": "28a9327d",
   "metadata": {},
   "source": [
    "THE FLOAT FN CONVERT THER SPECIFIED VALUE IN FLOATING POINT NO."
   ]
  },
  {
   "cell_type": "code",
   "execution_count": 35,
   "id": "bb9db820",
   "metadata": {},
   "outputs": [
    {
     "name": "stdout",
     "output_type": "stream",
     "text": [
      "5.0\n"
     ]
    }
   ],
   "source": [
    "x=float(5)\n",
    "print(x)"
   ]
  },
  {
   "cell_type": "code",
   "execution_count": 36,
   "id": "396c7c27",
   "metadata": {},
   "outputs": [
    {
     "name": "stdout",
     "output_type": "stream",
     "text": [
      "5.5\n"
     ]
    }
   ],
   "source": [
    "y=float(5.5)\n",
    "print(y)"
   ]
  },
  {
   "cell_type": "code",
   "execution_count": 4,
   "id": "e04a5e77",
   "metadata": {},
   "outputs": [
    {
     "name": "stdout",
     "output_type": "stream",
     "text": [
      "65.0\n"
     ]
    }
   ],
   "source": [
    "a=float(65)\n",
    "print(a)"
   ]
  },
  {
   "cell_type": "code",
   "execution_count": null,
   "id": "fd05b182",
   "metadata": {},
   "outputs": [],
   "source": []
  },
  {
   "cell_type": "markdown",
   "id": "f6901d02",
   "metadata": {},
   "source": [
    "# int()function"
   ]
  },
  {
   "cell_type": "markdown",
   "id": "1665af69",
   "metadata": {},
   "source": [
    "THE INTEGER FN CONVERT THE SPECIFIED VALUES INTO AN INTEGER NUMBER."
   ]
  },
  {
   "cell_type": "code",
   "execution_count": 37,
   "id": "b48c290f",
   "metadata": {},
   "outputs": [
    {
     "name": "stdout",
     "output_type": "stream",
     "text": [
      "45\n"
     ]
    }
   ],
   "source": [
    "x=int(45.76)\n",
    "print(x)"
   ]
  },
  {
   "cell_type": "code",
   "execution_count": 39,
   "id": "56bbbfc0",
   "metadata": {},
   "outputs": [
    {
     "name": "stdout",
     "output_type": "stream",
     "text": [
      "54\n"
     ]
    }
   ],
   "source": [
    "y=int(54.876)\n",
    "print(y)"
   ]
  },
  {
   "cell_type": "code",
   "execution_count": 6,
   "id": "3a4059cf",
   "metadata": {},
   "outputs": [
    {
     "name": "stdout",
     "output_type": "stream",
     "text": [
      "2\n"
     ]
    }
   ],
   "source": [
    "a=int(4/1.6)\n",
    "print(a)"
   ]
  },
  {
   "cell_type": "markdown",
   "id": "0661ab4d",
   "metadata": {},
   "source": [
    "# str() function"
   ]
  },
  {
   "cell_type": "markdown",
   "id": "db4b979b",
   "metadata": {},
   "source": [
    "Y BSS KSI BHU FN KO STR BNA DETA HAI "
   ]
  },
  {
   "cell_type": "code",
   "execution_count": 41,
   "id": "cff5aa19",
   "metadata": {},
   "outputs": [
    {
     "name": "stdout",
     "output_type": "stream",
     "text": [
      "6575\n",
      "<class 'str'>\n"
     ]
    }
   ],
   "source": [
    "a=str(6575)\n",
    "print(a)\n",
    "print(type(a))\n"
   ]
  },
  {
   "cell_type": "code",
   "execution_count": 2,
   "id": "98e6fa51",
   "metadata": {},
   "outputs": [
    {
     "name": "stdout",
     "output_type": "stream",
     "text": [
      "67\n",
      "<class 'str'>\n"
     ]
    }
   ],
   "source": [
    "a=str(67)\n",
    "print(a)\n",
    "print(type(a))"
   ]
  },
  {
   "cell_type": "markdown",
   "id": "0e1e3503",
   "metadata": {},
   "source": [
    "# help() function"
   ]
  },
  {
   "cell_type": "markdown",
   "id": "026c6697",
   "metadata": {},
   "source": [
    "for geeting the information about any fnn we use help fn"
   ]
  },
  {
   "cell_type": "code",
   "execution_count": 42,
   "id": "b5164e8b",
   "metadata": {},
   "outputs": [
    {
     "name": "stdout",
     "output_type": "stream",
     "text": [
      "Help on class str in module builtins:\n",
      "\n",
      "class str(object)\n",
      " |  str(object='') -> str\n",
      " |  str(bytes_or_buffer[, encoding[, errors]]) -> str\n",
      " |  \n",
      " |  Create a new string object from the given object. If encoding or\n",
      " |  errors is specified, then the object must expose a data buffer\n",
      " |  that will be decoded using the given encoding and error handler.\n",
      " |  Otherwise, returns the result of object.__str__() (if defined)\n",
      " |  or repr(object).\n",
      " |  encoding defaults to sys.getdefaultencoding().\n",
      " |  errors defaults to 'strict'.\n",
      " |  \n",
      " |  Methods defined here:\n",
      " |  \n",
      " |  __add__(self, value, /)\n",
      " |      Return self+value.\n",
      " |  \n",
      " |  __contains__(self, key, /)\n",
      " |      Return key in self.\n",
      " |  \n",
      " |  __eq__(self, value, /)\n",
      " |      Return self==value.\n",
      " |  \n",
      " |  __format__(self, format_spec, /)\n",
      " |      Return a formatted version of the string as described by format_spec.\n",
      " |  \n",
      " |  __ge__(self, value, /)\n",
      " |      Return self>=value.\n",
      " |  \n",
      " |  __getattribute__(self, name, /)\n",
      " |      Return getattr(self, name).\n",
      " |  \n",
      " |  __getitem__(self, key, /)\n",
      " |      Return self[key].\n",
      " |  \n",
      " |  __getnewargs__(...)\n",
      " |  \n",
      " |  __gt__(self, value, /)\n",
      " |      Return self>value.\n",
      " |  \n",
      " |  __hash__(self, /)\n",
      " |      Return hash(self).\n",
      " |  \n",
      " |  __iter__(self, /)\n",
      " |      Implement iter(self).\n",
      " |  \n",
      " |  __le__(self, value, /)\n",
      " |      Return self<=value.\n",
      " |  \n",
      " |  __len__(self, /)\n",
      " |      Return len(self).\n",
      " |  \n",
      " |  __lt__(self, value, /)\n",
      " |      Return self<value.\n",
      " |  \n",
      " |  __mod__(self, value, /)\n",
      " |      Return self%value.\n",
      " |  \n",
      " |  __mul__(self, value, /)\n",
      " |      Return self*value.\n",
      " |  \n",
      " |  __ne__(self, value, /)\n",
      " |      Return self!=value.\n",
      " |  \n",
      " |  __repr__(self, /)\n",
      " |      Return repr(self).\n",
      " |  \n",
      " |  __rmod__(self, value, /)\n",
      " |      Return value%self.\n",
      " |  \n",
      " |  __rmul__(self, value, /)\n",
      " |      Return value*self.\n",
      " |  \n",
      " |  __sizeof__(self, /)\n",
      " |      Return the size of the string in memory, in bytes.\n",
      " |  \n",
      " |  __str__(self, /)\n",
      " |      Return str(self).\n",
      " |  \n",
      " |  capitalize(self, /)\n",
      " |      Return a capitalized version of the string.\n",
      " |      \n",
      " |      More specifically, make the first character have upper case and the rest lower\n",
      " |      case.\n",
      " |  \n",
      " |  casefold(self, /)\n",
      " |      Return a version of the string suitable for caseless comparisons.\n",
      " |  \n",
      " |  center(self, width, fillchar=' ', /)\n",
      " |      Return a centered string of length width.\n",
      " |      \n",
      " |      Padding is done using the specified fill character (default is a space).\n",
      " |  \n",
      " |  count(...)\n",
      " |      S.count(sub[, start[, end]]) -> int\n",
      " |      \n",
      " |      Return the number of non-overlapping occurrences of substring sub in\n",
      " |      string S[start:end].  Optional arguments start and end are\n",
      " |      interpreted as in slice notation.\n",
      " |  \n",
      " |  encode(self, /, encoding='utf-8', errors='strict')\n",
      " |      Encode the string using the codec registered for encoding.\n",
      " |      \n",
      " |      encoding\n",
      " |        The encoding in which to encode the string.\n",
      " |      errors\n",
      " |        The error handling scheme to use for encoding errors.\n",
      " |        The default is 'strict' meaning that encoding errors raise a\n",
      " |        UnicodeEncodeError.  Other possible values are 'ignore', 'replace' and\n",
      " |        'xmlcharrefreplace' as well as any other name registered with\n",
      " |        codecs.register_error that can handle UnicodeEncodeErrors.\n",
      " |  \n",
      " |  endswith(...)\n",
      " |      S.endswith(suffix[, start[, end]]) -> bool\n",
      " |      \n",
      " |      Return True if S ends with the specified suffix, False otherwise.\n",
      " |      With optional start, test S beginning at that position.\n",
      " |      With optional end, stop comparing S at that position.\n",
      " |      suffix can also be a tuple of strings to try.\n",
      " |  \n",
      " |  expandtabs(self, /, tabsize=8)\n",
      " |      Return a copy where all tab characters are expanded using spaces.\n",
      " |      \n",
      " |      If tabsize is not given, a tab size of 8 characters is assumed.\n",
      " |  \n",
      " |  find(...)\n",
      " |      S.find(sub[, start[, end]]) -> int\n",
      " |      \n",
      " |      Return the lowest index in S where substring sub is found,\n",
      " |      such that sub is contained within S[start:end].  Optional\n",
      " |      arguments start and end are interpreted as in slice notation.\n",
      " |      \n",
      " |      Return -1 on failure.\n",
      " |  \n",
      " |  format(...)\n",
      " |      S.format(*args, **kwargs) -> str\n",
      " |      \n",
      " |      Return a formatted version of S, using substitutions from args and kwargs.\n",
      " |      The substitutions are identified by braces ('{' and '}').\n",
      " |  \n",
      " |  format_map(...)\n",
      " |      S.format_map(mapping) -> str\n",
      " |      \n",
      " |      Return a formatted version of S, using substitutions from mapping.\n",
      " |      The substitutions are identified by braces ('{' and '}').\n",
      " |  \n",
      " |  index(...)\n",
      " |      S.index(sub[, start[, end]]) -> int\n",
      " |      \n",
      " |      Return the lowest index in S where substring sub is found,\n",
      " |      such that sub is contained within S[start:end].  Optional\n",
      " |      arguments start and end are interpreted as in slice notation.\n",
      " |      \n",
      " |      Raises ValueError when the substring is not found.\n",
      " |  \n",
      " |  isalnum(self, /)\n",
      " |      Return True if the string is an alpha-numeric string, False otherwise.\n",
      " |      \n",
      " |      A string is alpha-numeric if all characters in the string are alpha-numeric and\n",
      " |      there is at least one character in the string.\n",
      " |  \n",
      " |  isalpha(self, /)\n",
      " |      Return True if the string is an alphabetic string, False otherwise.\n",
      " |      \n",
      " |      A string is alphabetic if all characters in the string are alphabetic and there\n",
      " |      is at least one character in the string.\n",
      " |  \n",
      " |  isascii(self, /)\n",
      " |      Return True if all characters in the string are ASCII, False otherwise.\n",
      " |      \n",
      " |      ASCII characters have code points in the range U+0000-U+007F.\n",
      " |      Empty string is ASCII too.\n",
      " |  \n",
      " |  isdecimal(self, /)\n",
      " |      Return True if the string is a decimal string, False otherwise.\n",
      " |      \n",
      " |      A string is a decimal string if all characters in the string are decimal and\n",
      " |      there is at least one character in the string.\n",
      " |  \n",
      " |  isdigit(self, /)\n",
      " |      Return True if the string is a digit string, False otherwise.\n",
      " |      \n",
      " |      A string is a digit string if all characters in the string are digits and there\n",
      " |      is at least one character in the string.\n",
      " |  \n",
      " |  isidentifier(self, /)\n",
      " |      Return True if the string is a valid Python identifier, False otherwise.\n",
      " |      \n",
      " |      Call keyword.iskeyword(s) to test whether string s is a reserved identifier,\n",
      " |      such as \"def\" or \"class\".\n",
      " |  \n",
      " |  islower(self, /)\n",
      " |      Return True if the string is a lowercase string, False otherwise.\n",
      " |      \n",
      " |      A string is lowercase if all cased characters in the string are lowercase and\n",
      " |      there is at least one cased character in the string.\n",
      " |  \n",
      " |  isnumeric(self, /)\n",
      " |      Return True if the string is a numeric string, False otherwise.\n",
      " |      \n",
      " |      A string is numeric if all characters in the string are numeric and there is at\n",
      " |      least one character in the string.\n",
      " |  \n",
      " |  isprintable(self, /)\n",
      " |      Return True if the string is printable, False otherwise.\n",
      " |      \n",
      " |      A string is printable if all of its characters are considered printable in\n",
      " |      repr() or if it is empty.\n",
      " |  \n",
      " |  isspace(self, /)\n",
      " |      Return True if the string is a whitespace string, False otherwise.\n",
      " |      \n",
      " |      A string is whitespace if all characters in the string are whitespace and there\n",
      " |      is at least one character in the string.\n",
      " |  \n",
      " |  istitle(self, /)\n",
      " |      Return True if the string is a title-cased string, False otherwise.\n",
      " |      \n",
      " |      In a title-cased string, upper- and title-case characters may only\n",
      " |      follow uncased characters and lowercase characters only cased ones.\n",
      " |  \n",
      " |  isupper(self, /)\n",
      " |      Return True if the string is an uppercase string, False otherwise.\n",
      " |      \n",
      " |      A string is uppercase if all cased characters in the string are uppercase and\n",
      " |      there is at least one cased character in the string.\n",
      " |  \n",
      " |  join(self, iterable, /)\n",
      " |      Concatenate any number of strings.\n",
      " |      \n",
      " |      The string whose method is called is inserted in between each given string.\n",
      " |      The result is returned as a new string.\n",
      " |      \n",
      " |      Example: '.'.join(['ab', 'pq', 'rs']) -> 'ab.pq.rs'\n",
      " |  \n",
      " |  ljust(self, width, fillchar=' ', /)\n",
      " |      Return a left-justified string of length width.\n",
      " |      \n",
      " |      Padding is done using the specified fill character (default is a space).\n",
      " |  \n",
      " |  lower(self, /)\n",
      " |      Return a copy of the string converted to lowercase.\n",
      " |  \n",
      " |  lstrip(self, chars=None, /)\n",
      " |      Return a copy of the string with leading whitespace removed.\n",
      " |      \n",
      " |      If chars is given and not None, remove characters in chars instead.\n",
      " |  \n",
      " |  partition(self, sep, /)\n",
      " |      Partition the string into three parts using the given separator.\n",
      " |      \n",
      " |      This will search for the separator in the string.  If the separator is found,\n",
      " |      returns a 3-tuple containing the part before the separator, the separator\n",
      " |      itself, and the part after it.\n",
      " |      \n",
      " |      If the separator is not found, returns a 3-tuple containing the original string\n",
      " |      and two empty strings.\n",
      " |  \n",
      " |  removeprefix(self, prefix, /)\n",
      " |      Return a str with the given prefix string removed if present.\n",
      " |      \n",
      " |      If the string starts with the prefix string, return string[len(prefix):].\n",
      " |      Otherwise, return a copy of the original string.\n",
      " |  \n",
      " |  removesuffix(self, suffix, /)\n",
      " |      Return a str with the given suffix string removed if present.\n",
      " |      \n",
      " |      If the string ends with the suffix string and that suffix is not empty,\n",
      " |      return string[:-len(suffix)]. Otherwise, return a copy of the original\n",
      " |      string.\n",
      " |  \n",
      " |  replace(self, old, new, count=-1, /)\n",
      " |      Return a copy with all occurrences of substring old replaced by new.\n",
      " |      \n",
      " |        count\n",
      " |          Maximum number of occurrences to replace.\n",
      " |          -1 (the default value) means replace all occurrences.\n",
      " |      \n",
      " |      If the optional argument count is given, only the first count occurrences are\n",
      " |      replaced.\n",
      " |  \n",
      " |  rfind(...)\n",
      " |      S.rfind(sub[, start[, end]]) -> int\n",
      " |      \n",
      " |      Return the highest index in S where substring sub is found,\n",
      " |      such that sub is contained within S[start:end].  Optional\n",
      " |      arguments start and end are interpreted as in slice notation.\n",
      " |      \n",
      " |      Return -1 on failure.\n",
      " |  \n",
      " |  rindex(...)\n",
      " |      S.rindex(sub[, start[, end]]) -> int\n",
      " |      \n",
      " |      Return the highest index in S where substring sub is found,\n",
      " |      such that sub is contained within S[start:end].  Optional\n",
      " |      arguments start and end are interpreted as in slice notation.\n",
      " |      \n",
      " |      Raises ValueError when the substring is not found.\n",
      " |  \n",
      " |  rjust(self, width, fillchar=' ', /)\n",
      " |      Return a right-justified string of length width.\n",
      " |      \n",
      " |      Padding is done using the specified fill character (default is a space).\n",
      " |  \n",
      " |  rpartition(self, sep, /)\n",
      " |      Partition the string into three parts using the given separator.\n",
      " |      \n",
      " |      This will search for the separator in the string, starting at the end. If\n",
      " |      the separator is found, returns a 3-tuple containing the part before the\n",
      " |      separator, the separator itself, and the part after it.\n",
      " |      \n",
      " |      If the separator is not found, returns a 3-tuple containing two empty strings\n",
      " |      and the original string.\n",
      " |  \n",
      " |  rsplit(self, /, sep=None, maxsplit=-1)\n",
      " |      Return a list of the substrings in the string, using sep as the separator string.\n",
      " |      \n",
      " |        sep\n",
      " |          The separator used to split the string.\n",
      " |      \n",
      " |          When set to None (the default value), will split on any whitespace\n",
      " |          character (including \\\\n \\\\r \\\\t \\\\f and spaces) and will discard\n",
      " |          empty strings from the result.\n",
      " |        maxsplit\n",
      " |          Maximum number of splits (starting from the left).\n",
      " |          -1 (the default value) means no limit.\n",
      " |      \n",
      " |      Splitting starts at the end of the string and works to the front.\n",
      " |  \n",
      " |  rstrip(self, chars=None, /)\n",
      " |      Return a copy of the string with trailing whitespace removed.\n",
      " |      \n",
      " |      If chars is given and not None, remove characters in chars instead.\n",
      " |  \n",
      " |  split(self, /, sep=None, maxsplit=-1)\n",
      " |      Return a list of the substrings in the string, using sep as the separator string.\n",
      " |      \n",
      " |        sep\n",
      " |          The separator used to split the string.\n",
      " |      \n",
      " |          When set to None (the default value), will split on any whitespace\n",
      " |          character (including \\\\n \\\\r \\\\t \\\\f and spaces) and will discard\n",
      " |          empty strings from the result.\n",
      " |        maxsplit\n",
      " |          Maximum number of splits (starting from the left).\n",
      " |          -1 (the default value) means no limit.\n",
      " |      \n",
      " |      Note, str.split() is mainly useful for data that has been intentionally\n",
      " |      delimited.  With natural text that includes punctuation, consider using\n",
      " |      the regular expression module.\n",
      " |  \n",
      " |  splitlines(self, /, keepends=False)\n",
      " |      Return a list of the lines in the string, breaking at line boundaries.\n",
      " |      \n",
      " |      Line breaks are not included in the resulting list unless keepends is given and\n",
      " |      true.\n",
      " |  \n",
      " |  startswith(...)\n",
      " |      S.startswith(prefix[, start[, end]]) -> bool\n",
      " |      \n",
      " |      Return True if S starts with the specified prefix, False otherwise.\n",
      " |      With optional start, test S beginning at that position.\n",
      " |      With optional end, stop comparing S at that position.\n",
      " |      prefix can also be a tuple of strings to try.\n",
      " |  \n",
      " |  strip(self, chars=None, /)\n",
      " |      Return a copy of the string with leading and trailing whitespace removed.\n",
      " |      \n",
      " |      If chars is given and not None, remove characters in chars instead.\n",
      " |  \n",
      " |  swapcase(self, /)\n",
      " |      Convert uppercase characters to lowercase and lowercase characters to uppercase.\n",
      " |  \n",
      " |  title(self, /)\n",
      " |      Return a version of the string where each word is titlecased.\n",
      " |      \n",
      " |      More specifically, words start with uppercased characters and all remaining\n",
      " |      cased characters have lower case.\n",
      " |  \n",
      " |  translate(self, table, /)\n",
      " |      Replace each character in the string using the given translation table.\n",
      " |      \n",
      " |        table\n",
      " |          Translation table, which must be a mapping of Unicode ordinals to\n",
      " |          Unicode ordinals, strings, or None.\n",
      " |      \n",
      " |      The table must implement lookup/indexing via __getitem__, for instance a\n",
      " |      dictionary or list.  If this operation raises LookupError, the character is\n",
      " |      left untouched.  Characters mapped to None are deleted.\n",
      " |  \n",
      " |  upper(self, /)\n",
      " |      Return a copy of the string converted to uppercase.\n",
      " |  \n",
      " |  zfill(self, width, /)\n",
      " |      Pad a numeric string with zeros on the left, to fill a field of the given width.\n",
      " |      \n",
      " |      The string is never truncated.\n",
      " |  \n",
      " |  ----------------------------------------------------------------------\n",
      " |  Static methods defined here:\n",
      " |  \n",
      " |  __new__(*args, **kwargs) from builtins.type\n",
      " |      Create and return a new object.  See help(type) for accurate signature.\n",
      " |  \n",
      " |  maketrans(...)\n",
      " |      Return a translation table usable for str.translate().\n",
      " |      \n",
      " |      If there is only one argument, it must be a dictionary mapping Unicode\n",
      " |      ordinals (integers) or characters to Unicode ordinals, strings or None.\n",
      " |      Character keys will be then converted to ordinals.\n",
      " |      If there are two arguments, they must be strings of equal length, and\n",
      " |      in the resulting dictionary, each character in x will be mapped to the\n",
      " |      character at the same position in y. If there is a third argument, it\n",
      " |      must be a string, whose characters will be mapped to None in the result.\n",
      "\n"
     ]
    }
   ],
   "source": [
    "help(str)"
   ]
  },
  {
   "cell_type": "code",
   "execution_count": 43,
   "id": "bd0da585",
   "metadata": {},
   "outputs": [
    {
     "name": "stdout",
     "output_type": "stream",
     "text": [
      "Help on built-in function print in module builtins:\n",
      "\n",
      "print(*args, sep=' ', end='\\n', file=None, flush=False)\n",
      "    Prints the values to a stream, or to sys.stdout by default.\n",
      "    \n",
      "    sep\n",
      "      string inserted between values, default a space.\n",
      "    end\n",
      "      string appended after the last value, default a newline.\n",
      "    file\n",
      "      a file-like object (stream); defaults to the current sys.stdout.\n",
      "    flush\n",
      "      whether to forcibly flush the stream.\n",
      "\n"
     ]
    }
   ],
   "source": [
    "help(print)"
   ]
  },
  {
   "cell_type": "code",
   "execution_count": 56,
   "id": "94d3efb7-0d69-46d4-96e2-e5081d2c9474",
   "metadata": {},
   "outputs": [
    {
     "data": {
      "text/plain": [
       "\u001b[1;31mSignature:\u001b[0m \u001b[0mpow\u001b[0m\u001b[1;33m(\u001b[0m\u001b[0mbase\u001b[0m\u001b[1;33m,\u001b[0m \u001b[0mexp\u001b[0m\u001b[1;33m,\u001b[0m \u001b[0mmod\u001b[0m\u001b[1;33m=\u001b[0m\u001b[1;32mNone\u001b[0m\u001b[1;33m)\u001b[0m\u001b[1;33m\u001b[0m\u001b[1;33m\u001b[0m\u001b[0m\n",
       "\u001b[1;31mDocstring:\u001b[0m\n",
       "Equivalent to base**exp with 2 arguments or base**exp % mod with 3 arguments\n",
       "\n",
       "Some types, such as ints, are able to use a more efficient algorithm when\n",
       "invoked using the three argument form.\n",
       "\u001b[1;31mType:\u001b[0m      builtin_function_or_method"
      ]
     },
     "metadata": {},
     "output_type": "display_data"
    }
   ],
   "source": [
    "pow?"
   ]
  },
  {
   "cell_type": "code",
   "execution_count": 57,
   "id": "fa92d50c-8e19-4c62-a5a8-c5d75fb5f29e",
   "metadata": {},
   "outputs": [
    {
     "data": {
      "text/plain": [
       "\u001b[1;31mDocstring:\u001b[0m\n",
       "max(iterable, *[, default=obj, key=func]) -> value\n",
       "max(arg1, arg2, *args, *[, key=func]) -> value\n",
       "\n",
       "With a single iterable argument, return its biggest item. The\n",
       "default keyword-only argument specifies an object to return if\n",
       "the provided iterable is empty.\n",
       "With two or more positional arguments, return the largest argument.\n",
       "\u001b[1;31mType:\u001b[0m      builtin_function_or_method"
      ]
     },
     "metadata": {},
     "output_type": "display_data"
    }
   ],
   "source": [
    "max?"
   ]
  },
  {
   "cell_type": "code",
   "execution_count": 55,
   "id": "17324ba9-dca0-4d32-b434-c5632a1e4820",
   "metadata": {},
   "outputs": [
    {
     "data": {
      "text/plain": [
       "\u001b[1;31mDocstring:\u001b[0m\n",
       "max(iterable, *[, default=obj, key=func]) -> value\n",
       "max(arg1, arg2, *args, *[, key=func]) -> value\n",
       "\n",
       "With a single iterable argument, return its biggest item. The\n",
       "default keyword-only argument specifies an object to return if\n",
       "the provided iterable is empty.\n",
       "With two or more positional arguments, return the largest argument.\n",
       "\u001b[1;31mType:\u001b[0m      builtin_function_or_method"
      ]
     },
     "metadata": {},
     "output_type": "display_data"
    }
   ],
   "source": [
    "max??"
   ]
  },
  {
   "cell_type": "markdown",
   "id": "ecddf4f8",
   "metadata": {},
   "source": [
    "# intput() function"
   ]
  },
  {
   "cell_type": "markdown",
   "id": "e951732b",
   "metadata": {},
   "source": [
    "THE INPUT FN ALLOW USER INPUT"
   ]
  },
  {
   "cell_type": "code",
   "execution_count": 13,
   "id": "bf902136",
   "metadata": {},
   "outputs": [
    {
     "name": "stdin",
     "output_type": "stream",
     "text": [
      "enter your name Umar Alam\n"
     ]
    },
    {
     "name": "stdout",
     "output_type": "stream",
     "text": [
      "Umar Alam\n"
     ]
    }
   ],
   "source": [
    "x=input(\"enter your name\")\n",
    "print(x)"
   ]
  },
  {
   "cell_type": "code",
   "execution_count": 14,
   "id": "fbee3f66-a322-4985-8dae-d02117fe1300",
   "metadata": {},
   "outputs": [
    {
     "name": "stdout",
     "output_type": "stream",
     "text": [
      "<class 'str'>\n"
     ]
    }
   ],
   "source": [
    "print(type(x))"
   ]
  },
  {
   "cell_type": "code",
   "execution_count": null,
   "id": "85f9114a",
   "metadata": {},
   "outputs": [],
   "source": [
    "x=input(\"enter your name\")\n",
    "print(\"hello\",x)\n",
    "\n"
   ]
  },
  {
   "cell_type": "code",
   "execution_count": null,
   "id": "224778cc",
   "metadata": {},
   "outputs": [],
   "source": [
    "x=int(5.8)\n",
    "print(x)"
   ]
  },
  {
   "cell_type": "code",
   "execution_count": 2,
   "id": "4eefbfa7",
   "metadata": {},
   "outputs": [
    {
     "name": "stdout",
     "output_type": "stream",
     "text": [
      "enter your nameumar alam\n",
      "umar alam\n"
     ]
    }
   ],
   "source": [
    "x=input(\"enter your name\")\n",
    "print(x)"
   ]
  },
  {
   "cell_type": "code",
   "execution_count": 2,
   "id": "51671f86",
   "metadata": {},
   "outputs": [
    {
     "name": "stdout",
     "output_type": "stream",
     "text": [
      "enter your data of birth8\n",
      "your date of birth is 8\n"
     ]
    }
   ],
   "source": [
    "x=int(input(\"enter your data of birth\"))\n",
    "print(\"your date of birth is\",x)"
   ]
  },
  {
   "cell_type": "code",
   "execution_count": 1,
   "id": "c5c0c82f",
   "metadata": {},
   "outputs": [
    {
     "name": "stdout",
     "output_type": "stream",
     "text": [
      "enter your name alam\n",
      "your name is alam\n"
     ]
    }
   ],
   "source": [
    "x=input(\"enter your name \")\n",
    "print(\"your name is\",x)"
   ]
  },
  {
   "cell_type": "code",
   "execution_count": 16,
   "id": "66707f95-54d9-4fd6-a274-55a67f09729f",
   "metadata": {},
   "outputs": [
    {
     "name": "stdin",
     "output_type": "stream",
     "text": [
      "enter your value 7\n"
     ]
    },
    {
     "data": {
      "text/plain": [
       "str"
      ]
     },
     "execution_count": 16,
     "metadata": {},
     "output_type": "execute_result"
    }
   ],
   "source": [
    "x=input(\"enter your value\")\n",
    "type(x)"
   ]
  },
  {
   "cell_type": "code",
   "execution_count": 17,
   "id": "dd969074-def6-41ae-96d1-acca710db3a1",
   "metadata": {},
   "outputs": [
    {
     "name": "stdin",
     "output_type": "stream",
     "text": [
      "enter your value 5\n"
     ]
    },
    {
     "data": {
      "text/plain": [
       "float"
      ]
     },
     "execution_count": 17,
     "metadata": {},
     "output_type": "execute_result"
    }
   ],
   "source": [
    "#converting str into float\n",
    "x=float(input(\"enter your value\"))\n",
    "type(x)"
   ]
  },
  {
   "cell_type": "code",
   "execution_count": null,
   "id": "72ddeb97-cd93-4980-b09e-3925bb481480",
   "metadata": {},
   "outputs": [],
   "source": []
  },
  {
   "cell_type": "code",
   "execution_count": 6,
   "id": "4a083eb4",
   "metadata": {},
   "outputs": [
    {
     "name": "stdin",
     "output_type": "stream",
     "text": [
      "enter your age 1\n"
     ]
    },
    {
     "name": "stdout",
     "output_type": "stream",
     "text": [
      "not elegible for voting\n"
     ]
    }
   ],
   "source": [
    "x=int(input(\"enter your age\"))\n",
    "if x<18:\n",
    "    print(\"not elegible for voting\")\n",
    "else:\n",
    "    print(\" elegible for voting\")\n",
    "    "
   ]
  },
  {
   "cell_type": "code",
   "execution_count": 20,
   "id": "523102cf-9e3d-4934-9d07-075d8e77aa13",
   "metadata": {},
   "outputs": [
    {
     "name": "stdin",
     "output_type": "stream",
     "text": [
      "enter your english marks 67\n",
      "enter your hindi marks 89\n",
      "enter your maths marks 49\n",
      "enter your sci marks 77\n",
      "enter your sst marks 90\n"
     ]
    },
    {
     "name": "stdout",
     "output_type": "stream",
     "text": [
      "74.4\n"
     ]
    }
   ],
   "source": [
    "eng=int(input(\"enter your english marks\"))\n",
    "hin=int(input(\"enter your hindi marks\"))\n",
    "maths=int(input(\"enter your maths marks\"))\n",
    "sci=int(input(\"enter your sci marks\"))\n",
    "sst=int(input(\"enter your sst marks\"))\n",
    "total=eng+hin+maths+sci+sst\n",
    "print(\"your persentage is\"total/5)"
   ]
  },
  {
   "cell_type": "code",
   "execution_count": 54,
   "id": "2cd7832e-96b5-4e9f-bef8-2ef26a500e1e",
   "metadata": {},
   "outputs": [
    {
     "data": {
      "text/plain": [
       "\u001b[1;31mSignature:\u001b[0m \u001b[0mpow\u001b[0m\u001b[1;33m(\u001b[0m\u001b[0mbase\u001b[0m\u001b[1;33m,\u001b[0m \u001b[0mexp\u001b[0m\u001b[1;33m,\u001b[0m \u001b[0mmod\u001b[0m\u001b[1;33m=\u001b[0m\u001b[1;32mNone\u001b[0m\u001b[1;33m)\u001b[0m\u001b[1;33m\u001b[0m\u001b[1;33m\u001b[0m\u001b[0m\n",
       "\u001b[1;31mDocstring:\u001b[0m\n",
       "Equivalent to base**exp with 2 arguments or base**exp % mod with 3 arguments\n",
       "\n",
       "Some types, such as ints, are able to use a more efficient algorithm when\n",
       "invoked using the three argument form.\n",
       "\u001b[1;31mType:\u001b[0m      builtin_function_or_method"
      ]
     },
     "metadata": {},
     "output_type": "display_data"
    }
   ],
   "source": [
    "\n"
   ]
  },
  {
   "cell_type": "code",
   "execution_count": null,
   "id": "e0804346-e611-4ff0-8d61-6e37a7a2c592",
   "metadata": {},
   "outputs": [],
   "source": []
  }
 ],
 "metadata": {
  "kernelspec": {
   "display_name": "Python 3 (ipykernel)",
   "language": "python",
   "name": "python3"
  },
  "language_info": {
   "codemirror_mode": {
    "name": "ipython",
    "version": 3
   },
   "file_extension": ".py",
   "mimetype": "text/x-python",
   "name": "python",
   "nbconvert_exporter": "python",
   "pygments_lexer": "ipython3",
   "version": "3.13.1"
  }
 },
 "nbformat": 4,
 "nbformat_minor": 5
}
