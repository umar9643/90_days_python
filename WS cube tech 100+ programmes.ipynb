{
 "cells": [
  {
   "cell_type": "markdown",
   "id": "76c50ed4",
   "metadata": {},
   "source": [
    "# ADD TWO NUMBERS IN PYTHON\n"
   ]
  },
  {
   "cell_type": "markdown",
   "id": "7450618f",
   "metadata": {},
   "source": [
    "SOL1 WITH PRE DEFINED VARIABLES"
   ]
  },
  {
   "cell_type": "code",
   "execution_count": 1,
   "id": "66414a40",
   "metadata": {},
   "outputs": [
    {
     "name": "stdout",
     "output_type": "stream",
     "text": [
      "16\n"
     ]
    }
   ],
   "source": [
    "a=9\n",
    "b=7\n",
    "c=a+b\n",
    "print(c)"
   ]
  },
  {
   "cell_type": "markdown",
   "id": "443154bc",
   "metadata": {},
   "source": [
    "SOL2 TAKING INPUT BY USER"
   ]
  },
  {
   "cell_type": "code",
   "execution_count": 3,
   "id": "c0f2f54c",
   "metadata": {},
   "outputs": [
    {
     "name": "stdout",
     "output_type": "stream",
     "text": [
      "enter ist number8\n",
      "enter 2nd number5\n",
      "13.0\n"
     ]
    }
   ],
   "source": [
    "num1=float(input(\"enter ist number\"))\n",
    "num2=float(input(\"enter 2nd number\") ) \n",
    "print(num1+num2)           \n",
    "                 "
   ]
  },
  {
   "cell_type": "markdown",
   "id": "83a857ba",
   "metadata": {},
   "source": [
    "# CALCULATING SQUARE ROOT IN PYTHON PROGRAM"
   ]
  },
  {
   "cell_type": "markdown",
   "id": "a8fdff2e",
   "metadata": {},
   "source": [
    "SOL1 (USING EXPONENTIATION)"
   ]
  },
  {
   "cell_type": "code",
   "execution_count": 5,
   "id": "5e20bcbb",
   "metadata": {},
   "outputs": [
    {
     "name": "stdout",
     "output_type": "stream",
     "text": [
      "8.0\n"
     ]
    }
   ],
   "source": [
    "NUM=64\n",
    "SR=NUM**(1/2)\n",
    "print(SR)"
   ]
  },
  {
   "cell_type": "code",
   "execution_count": 8,
   "id": "829d3ecd",
   "metadata": {},
   "outputs": [
    {
     "name": "stdout",
     "output_type": "stream",
     "text": [
      "enter the number81\n",
      "9.0\n"
     ]
    }
   ],
   "source": [
    "NUM=int(input(\"enter the number\"))\n",
    "sq=NUM**(1/2)\n",
    "print(sq)\n"
   ]
  },
  {
   "cell_type": "markdown",
   "id": "63a61501",
   "metadata": {},
   "source": [
    "SOL2 USING MATHS MODULE"
   ]
  },
  {
   "cell_type": "code",
   "execution_count": 10,
   "id": "3599385b",
   "metadata": {},
   "outputs": [
    {
     "name": "stdout",
     "output_type": "stream",
     "text": [
      "enter teh number here49\n",
      "7.0\n"
     ]
    }
   ],
   "source": [
    "import math\n",
    "num=int(input(\"enter teh number here\"))\n",
    "sq=math.sqrt(num)\n",
    "print(sq)"
   ]
  },
  {
   "cell_type": "markdown",
   "id": "12720c28",
   "metadata": {},
   "source": [
    "# CALCULATING AREA OF TRIANGLE"
   ]
  },
  {
   "cell_type": "code",
   "execution_count": 15,
   "id": "f040767a",
   "metadata": {},
   "outputs": [
    {
     "name": "stdout",
     "output_type": "stream",
     "text": [
      "please enter the base7\n",
      "please enter the height8\n",
      "the area of triangle is 28.0\n"
     ]
    }
   ],
   "source": [
    "base =float(input(\"please enter the base\"))\n",
    "height =float(input(\"please enter the height\"))\n",
    "area=(1/2)*base*height\n",
    "print(\"the area of triangle is\",area)"
   ]
  },
  {
   "cell_type": "markdown",
   "id": "0df90ea3",
   "metadata": {},
   "source": [
    "# SWAPPING TWO VARIABLES"
   ]
  },
  {
   "cell_type": "markdown",
   "id": "df11c122",
   "metadata": {},
   "source": [
    "WITHOUT USING 3RD VARIABLE"
   ]
  },
  {
   "cell_type": "code",
   "execution_count": 17,
   "id": "03fb0ed5",
   "metadata": {},
   "outputs": [
    {
     "name": "stdout",
     "output_type": "stream",
     "text": [
      "the value of x is 3\n",
      "the value of y is 2\n"
     ]
    }
   ],
   "source": [
    "x=2\n",
    "y=3\n",
    "x,y=y,x\n",
    "print(\"the value of x is\",x)\n",
    "print(\"the value of y is\",y)"
   ]
  },
  {
   "cell_type": "markdown",
   "id": "92dee13c",
   "metadata": {},
   "source": [
    "# PROGRAMS TO CONVERT KM INTO MILES"
   ]
  },
  {
   "cell_type": "code",
   "execution_count": 22,
   "id": "e5c2e8ea",
   "metadata": {},
   "outputs": [
    {
     "name": "stdout",
     "output_type": "stream",
     "text": [
      "enter km5\n",
      "5.0 kms in miles will be 3.1 miles\n"
     ]
    }
   ],
   "source": [
    "km=float(input(\"enter km\"))\n",
    "con=km*0.62\n",
    "print(km,\"kms in miles will be\",con,\"miles\")"
   ]
  },
  {
   "cell_type": "markdown",
   "id": "d6640376",
   "metadata": {},
   "source": [
    "# PYHTON PROGRAM TO CHECK IF A NUMBER IS POSITIVE,NEGATIVE AND ZERO."
   ]
  },
  {
   "cell_type": "code",
   "execution_count": 3,
   "id": "e295c5ff",
   "metadata": {},
   "outputs": [
    {
     "name": "stdout",
     "output_type": "stream",
     "text": [
      "enter the number-7\n",
      "it is an negative number\n"
     ]
    }
   ],
   "source": [
    "num=int(input(\"enter the number\"))\n",
    "if num>0:\n",
    "    print(\"number is positive\")\n",
    "elif num==0:\n",
    "    print(\"number is neutral\")\n",
    "else:\n",
    "    print(\"it is an negative number\")"
   ]
  },
  {
   "cell_type": "markdown",
   "id": "e46ed051",
   "metadata": {},
   "source": [
    "# IS A NUMBER ODD OR EVEN"
   ]
  },
  {
   "cell_type": "markdown",
   "id": "bcb87041",
   "metadata": {},
   "source": [
    "# x=int(input(\"enter the number\"))\n",
    "if x%2==0:\n",
    "    print(\"even\")\n",
    "else:\n",
    "    print(\"odd\")"
   ]
  },
  {
   "cell_type": "markdown",
   "id": "e0dd1e07",
   "metadata": {},
   "source": [
    "# CHECKING LEAP YEAR "
   ]
  },
  {
   "cell_type": "code",
   "execution_count": 1,
   "id": "143390ca",
   "metadata": {},
   "outputs": [
    {
     "name": "stdout",
     "output_type": "stream",
     "text": [
      "enter the year2020\n",
      "yes it is a leap year\n"
     ]
    }
   ],
   "source": [
    "year=int(input(\"enter the year\"))\n",
    "if year%4==0:\n",
    "    print(\"yes it is a leap year\")\n",
    "else:\n",
    "    print(\"it is not a leap year\")"
   ]
  },
  {
   "cell_type": "code",
   "execution_count": 4,
   "id": "7a46d490",
   "metadata": {},
   "outputs": [
    {
     "name": "stdout",
     "output_type": "stream",
     "text": [
      "enter the year2020\n",
      "leap\n"
     ]
    }
   ],
   "source": [
    "year=int(input(\"enter the year\"))\n",
    "lot=year//100\n",
    "if lot%4==0:\n",
    "    print(\"leap\")\n",
    "else:\n",
    "    print(\"no\")"
   ]
  },
  {
   "cell_type": "markdown",
   "id": "c65b2346",
   "metadata": {},
   "source": [
    "# CHECKING THE LARGEST NUMBER"
   ]
  },
  {
   "cell_type": "markdown",
   "id": "e10e2ef5",
   "metadata": {},
   "source": [
    "TAKING INPUT FROM USER"
   ]
  },
  {
   "cell_type": "code",
   "execution_count": 12,
   "id": "2164e876",
   "metadata": {},
   "outputs": [
    {
     "name": "stdout",
     "output_type": "stream",
     "text": [
      "enter the no 1  2\n",
      "enter the no 2  2\n",
      "enter the no 3  4\n",
      "error\n"
     ]
    }
   ],
   "source": [
    "num1=int(input(\"enter the no 1  \"))\n",
    "num2=int(input(\"enter the no 2  \"))\n",
    "num3=int(input(\"enter the no 3  \"))\n",
    "if num1>num2 and num1>num3:\n",
    "    print(\"num1 is largest\")\n",
    "elif num2>num1 and num2>num3:\n",
    "    print(\"num2 is largest\")\n",
    "elif num1==num2:\n",
    "    print(\"error\")\n",
    "elif num1== num3:\n",
    "    print(\"error\")\n",
    "else:\n",
    "    print(\"num3 is largest\")"
   ]
  },
  {
   "cell_type": "code",
   "execution_count": 10,
   "id": "8d396d72",
   "metadata": {},
   "outputs": [
    {
     "name": "stdout",
     "output_type": "stream",
     "text": [
      "enter the number3\n",
      "num1 is  3\n",
      "enter the number5\n",
      "num2 is  5\n",
      "enter the number6\n",
      "num3 is 6\n",
      "num3 is greatest\n"
     ]
    }
   ],
   "source": [
    "num1=int(input(\"enter the number\"))\n",
    "print(\"num1 is \",num1)\n",
    "num2=int(input(\"enter the number\"))\n",
    "print(\"num2 is \",num2)\n",
    "num3=int(input(\"enter the number\"))\n",
    "print(\"num3 is\",num3)\n",
    "\n",
    "if num1>num2 and num1>num3:\n",
    "    print(\"num1 is greatest\")\n",
    "elif num2>num1 and num2>num3:\n",
    "    print(\"num2 is greatesr\")\n",
    "else:\n",
    "    print(\"num3 is greatest\")"
   ]
  },
  {
   "cell_type": "markdown",
   "id": "db6b40ea",
   "metadata": {},
   "source": [
    "# PYHTON PROGRAM TO CHECK PRIME NUMBER"
   ]
  },
  {
   "cell_type": "code",
   "execution_count": 13,
   "id": "dd537b0d",
   "metadata": {},
   "outputs": [
    {
     "name": "stdout",
     "output_type": "stream",
     "text": [
      "enter the number7\n",
      "prime\n"
     ]
    }
   ],
   "source": [
    "num=int(input(\"enter the number\"))\n",
    "if num==1:\n",
    "    print(\"not p\")\n",
    "for i in range (2,num):\n",
    "    if num%i==0:\n",
    "        print(\"not prime\")\n",
    "        break\n",
    "else:\n",
    "    print(\"prime\")"
   ]
  },
  {
   "cell_type": "code",
   "execution_count": 18,
   "id": "d4bf9310",
   "metadata": {},
   "outputs": [
    {
     "name": "stdout",
     "output_type": "stream",
     "text": [
      "enter the number5\n",
      "it is a prime number\n"
     ]
    }
   ],
   "source": [
    "n=int(input(\"enter the number\"))\n",
    "\n",
    "for i in range (2,n):\n",
    "    if n%i==0:\n",
    "        print(\"not a prime number\")\n",
    "        break\n",
    "        \n",
    "else:\n",
    "    print(\"it is a prime number\")"
   ]
  },
  {
   "cell_type": "markdown",
   "id": "1f726d53",
   "metadata": {},
   "source": [
    "# FOR PRINTING A RANDOM NUMBER "
   ]
  },
  {
   "cell_type": "code",
   "execution_count": 3,
   "id": "de0d8d9d",
   "metadata": {},
   "outputs": [],
   "source": [
    "import random"
   ]
  },
  {
   "cell_type": "code",
   "execution_count": 6,
   "id": "8f21edf9",
   "metadata": {},
   "outputs": [
    {
     "name": "stdout",
     "output_type": "stream",
     "text": [
      "1\n"
     ]
    }
   ],
   "source": [
    "num=random.randint(1,10)\n",
    "print(num)"
   ]
  },
  {
   "cell_type": "code",
   "execution_count": 1,
   "id": "5c244703",
   "metadata": {},
   "outputs": [
    {
     "name": "stdout",
     "output_type": "stream",
     "text": [
      "1\n",
      "2\n",
      "3\n",
      "4\n",
      "5\n",
      "6\n",
      "7\n",
      "8\n",
      "9\n",
      "10\n"
     ]
    }
   ],
   "source": [
    "x=1\n",
    "while x<=10:\n",
    "    print(x)\n",
    "    x=x+1"
   ]
  },
  {
   "cell_type": "code",
   "execution_count": 1,
   "id": "aa144522",
   "metadata": {},
   "outputs": [
    {
     "name": "stdout",
     "output_type": "stream",
     "text": [
      "1\n",
      "2\n",
      "3\n",
      "4\n",
      "5\n",
      "6\n",
      "7\n",
      "8\n",
      "9\n",
      "10\n"
     ]
    }
   ],
   "source": [
    "i=1\n",
    "while i<=10:\n",
    "    print(i)\n",
    "    i=i+1"
   ]
  },
  {
   "cell_type": "code",
   "execution_count": 19,
   "id": "573b12df",
   "metadata": {},
   "outputs": [],
   "source": [
    "import random"
   ]
  },
  {
   "cell_type": "code",
   "execution_count": 20,
   "id": "39315ef4",
   "metadata": {},
   "outputs": [
    {
     "name": "stdout",
     "output_type": "stream",
     "text": [
      "88\n"
     ]
    }
   ],
   "source": [
    "n=random.randint(1,100)\n",
    "print(n)"
   ]
  },
  {
   "cell_type": "markdown",
   "id": "3cceca48",
   "metadata": {},
   "source": [
    "# printing prime number in a particular inetrval"
   ]
  },
  {
   "cell_type": "code",
   "execution_count": null,
   "id": "56c348ad",
   "metadata": {},
   "outputs": [],
   "source": []
  }
 ],
 "metadata": {
  "kernelspec": {
   "display_name": "Python 3 (ipykernel)",
   "language": "python",
   "name": "python3"
  },
  "language_info": {
   "codemirror_mode": {
    "name": "ipython",
    "version": 3
   },
   "file_extension": ".py",
   "mimetype": "text/x-python",
   "name": "python",
   "nbconvert_exporter": "python",
   "pygments_lexer": "ipython3",
   "version": "3.11.5"
  }
 },
 "nbformat": 4,
 "nbformat_minor": 5
}
