{
 "cells": [
  {
   "cell_type": "markdown",
   "id": "47b165e4",
   "metadata": {},
   "source": [
    "# CREATING A DICTIONARY"
   ]
  },
  {
   "cell_type": "code",
   "execution_count": 1,
   "id": "256b915b",
   "metadata": {},
   "outputs": [
    {
     "name": "stdout",
     "output_type": "stream",
     "text": [
      "{'id': 288373, 'colour': 'blue', 'age': 44}\n",
      "<class 'dict'>\n"
     ]
    }
   ],
   "source": [
    "dict={\"id\":288373,\n",
    "     \"colour\":\"blue\",\n",
    "     \"age\":44}\n",
    "print(dict)\n",
    "print(type(dict))"
   ]
  },
  {
   "cell_type": "markdown",
   "id": "17aee547",
   "metadata": {},
   "source": [
    "# DICTIONARY ITEMS ARE ORDERED"
   ]
  },
  {
   "cell_type": "code",
   "execution_count": 1,
   "id": "d4c16156",
   "metadata": {},
   "outputs": [
    {
     "name": "stdout",
     "output_type": "stream",
     "text": [
      "blue\n",
      "<class 'dict'>\n"
     ]
    }
   ],
   "source": [
    "dict={\"id\":\"288373\",\n",
    "     \"colour\":\"blue\",\n",
    "     \"age\":\"44\"}\n",
    "print(dict[\"colour\"])\n",
    "print(type(dict))"
   ]
  },
  {
   "cell_type": "markdown",
   "id": "3e6662b0",
   "metadata": {},
   "source": [
    "# DUPLICATES ARE NOT ALLOWED"
   ]
  },
  {
   "cell_type": "code",
   "execution_count": 16,
   "id": "4d286e4b",
   "metadata": {},
   "outputs": [
    {
     "name": "stdout",
     "output_type": "stream",
     "text": [
      "{'id': '288373', 'colour': 'blue', 'age': 23}\n",
      "<class 'dict'>\n"
     ]
    }
   ],
   "source": [
    "dict={\"id\":\"288373\",\n",
    "     \"colour\":\"blue\",\n",
    "     \"age\":44,\n",
    "     \"age\":23}\n",
    "print(dict)\n",
    "print(type(dict))\n",
    "#it will take most updated value"
   ]
  },
  {
   "cell_type": "markdown",
   "id": "9b7b2d7a",
   "metadata": {},
   "source": [
    "# DICTIONARY LENGTH"
   ]
  },
  {
   "cell_type": "code",
   "execution_count": 17,
   "id": "4ee0c225",
   "metadata": {},
   "outputs": [
    {
     "name": "stdout",
     "output_type": "stream",
     "text": [
      "3\n"
     ]
    }
   ],
   "source": [
    "dict={\"id\":\"288373\",\n",
    "     \"colour\":\"blue\",\n",
    "     \"age\":44,\n",
    "     \"age\":23}\n",
    "print(len(dict))"
   ]
  },
  {
   "cell_type": "markdown",
   "id": "e271cfee",
   "metadata": {},
   "source": [
    "# DICTIONARY ITEMS - DATA TYPES"
   ]
  },
  {
   "cell_type": "markdown",
   "id": "b753ceec",
   "metadata": {},
   "source": [
    "THE VALUS IN DICTIONAY ITEMS CAN BE ANY TYPES OF DATA TYPES"
   ]
  },
  {
   "cell_type": "code",
   "execution_count": 15,
   "id": "3dd3f6e6",
   "metadata": {},
   "outputs": [
    {
     "name": "stdout",
     "output_type": "stream",
     "text": [
      "{'string': 'umaralam', 'int': '33', 'list': (1, 2, 3, 4, 5, 6), 'bool': True}\n",
      "<class 'dict'>\n"
     ]
    }
   ],
   "source": [
    "dict={\"string\":\"umaralam\",\n",
    "     \"int\":\"33\",\n",
    "     \"list\":(1,2,3,4,5,6,),\n",
    "     \"bool\":True }\n",
    "print(dict)\n",
    "print(type(dict))"
   ]
  },
  {
   "cell_type": "code",
   "execution_count": 10,
   "id": "5dc0584e",
   "metadata": {},
   "outputs": [
    {
     "name": "stdout",
     "output_type": "stream",
     "text": [
      "{'id': '288373', 'colour': 'blue', 'age': 44, 'a': (1, 2, 3, 4), 'b': [1, 23, 4, 5], 'c': True}\n"
     ]
    }
   ],
   "source": [
    "dict={\"id\":\"288373\",\n",
    "     \"colour\":\"blue\",\n",
    "     \"age\":44,\n",
    "     'a':(1,2,3,4),\n",
    "     'b':[1,23,4,5],\n",
    "     'c':True}\n",
    "print(dict)"
   ]
  },
  {
   "cell_type": "markdown",
   "id": "77db98fb",
   "metadata": {},
   "source": [
    "# THE DICT CONSTRUCTOR"
   ]
  },
  {
   "cell_type": "code",
   "execution_count": 4,
   "id": "54c707a9",
   "metadata": {},
   "outputs": [
    {
     "name": "stdout",
     "output_type": "stream",
     "text": [
      "{'name': 'umar', 'age': 22, 'gen': 'male'}\n",
      "<class 'dict'>\n"
     ]
    }
   ],
   "source": [
    "a=dict(name=\"umar\",age=22,gen=\"male\")\n",
    "print(a)\n",
    "print(type(a))"
   ]
  },
  {
   "cell_type": "markdown",
   "id": "1df557ab",
   "metadata": {},
   "source": [
    "# ACCESSING ITEMS"
   ]
  },
  {
   "cell_type": "code",
   "execution_count": 1,
   "id": "d555c512",
   "metadata": {},
   "outputs": [
    {
     "name": "stdout",
     "output_type": "stream",
     "text": [
      "{'name': 'umar', 'age': 22, 'gender': 'male', 'country': 'india'}\n",
      "india\n"
     ]
    }
   ],
   "source": [
    "dict={\"name\":\"umar\",\"age\":22,\"gender\":\"male\",\"country\":\"india\"}\n",
    "print(dict)\n",
    "print(dict[\"country\"])"
   ]
  },
  {
   "cell_type": "code",
   "execution_count": 2,
   "id": "52811938",
   "metadata": {},
   "outputs": [
    {
     "name": "stdout",
     "output_type": "stream",
     "text": [
      "umar\n"
     ]
    }
   ],
   "source": [
    "dict={\"name\":\"umar\",\"age\":22,\"gender\":\"male\",\"country\":\"india\"}\n",
    "\n",
    "print(dict[\"name\"])"
   ]
  },
  {
   "cell_type": "markdown",
   "id": "3d6f5734",
   "metadata": {},
   "source": [
    "# GET KEYS"
   ]
  },
  {
   "cell_type": "code",
   "execution_count": 4,
   "id": "69a1ee9b",
   "metadata": {},
   "outputs": [
    {
     "name": "stdout",
     "output_type": "stream",
     "text": [
      "dict_keys(['name', 'age', 'gender', 'country'])\n"
     ]
    }
   ],
   "source": [
    "a={\"name\":\"umar\",\"age\":22,\"gender\":\"male\",\"country\":\"india\"}\n",
    "x=a.keys()\n",
    "print(x)"
   ]
  },
  {
   "cell_type": "code",
   "execution_count": 2,
   "id": "2c88efa3",
   "metadata": {},
   "outputs": [],
   "source": [
    "a={\"name\":\"umar\",\"age\":22,\"gender\":\"male\",\"country\":\"india\"}\n"
   ]
  },
  {
   "cell_type": "code",
   "execution_count": 3,
   "id": "5a5d453b",
   "metadata": {},
   "outputs": [],
   "source": [
    "y=a.values()\n"
   ]
  },
  {
   "cell_type": "code",
   "execution_count": 4,
   "id": "bb3d464e",
   "metadata": {},
   "outputs": [
    {
     "data": {
      "text/plain": [
       "dict_values(['umar', 22, 'male', 'india'])"
      ]
     },
     "execution_count": 4,
     "metadata": {},
     "output_type": "execute_result"
    }
   ],
   "source": [
    "(y)"
   ]
  },
  {
   "cell_type": "code",
   "execution_count": 14,
   "id": "a1893a17",
   "metadata": {},
   "outputs": [
    {
     "name": "stdout",
     "output_type": "stream",
     "text": [
      "dict_values(['umar', 22, 'male', 'india'])\n"
     ]
    }
   ],
   "source": [
    "a={\"name\":\"umar\",\"age\":22,\"gender\":\"male\",\"country\":\"india\"}\n",
    "print(a.values())"
   ]
  },
  {
   "cell_type": "code",
   "execution_count": 15,
   "id": "7afed51c",
   "metadata": {},
   "outputs": [
    {
     "name": "stdout",
     "output_type": "stream",
     "text": [
      "dict_values(['umar', 22, 'male', 'india'])\n"
     ]
    }
   ],
   "source": [
    "a={\"name\":\"umar\",\"age\":22,\"gender\":\"male\",\"country\":\"india\"}\n",
    "x=a.values()\n",
    "print(x)"
   ]
  },
  {
   "cell_type": "markdown",
   "id": "b6de7af7",
   "metadata": {},
   "source": [
    "# CHNAGE VALUES"
   ]
  },
  {
   "cell_type": "code",
   "execution_count": 16,
   "id": "cbf77e82",
   "metadata": {},
   "outputs": [
    {
     "name": "stdout",
     "output_type": "stream",
     "text": [
      "{'name': 'imran', 'age': 22, 'gender': 'male', 'country': 'india'}\n"
     ]
    }
   ],
   "source": [
    "a={\"name\":\"umar\",\"age\":22,\"gender\":\"male\",\"country\":\"india\"}\n",
    "a[\"name\"]=\"imran\"\n",
    "print(a)"
   ]
  },
  {
   "cell_type": "markdown",
   "id": "5467973b",
   "metadata": {},
   "source": [
    "# ADDING ITEMS"
   ]
  },
  {
   "cell_type": "code",
   "execution_count": 19,
   "id": "d8d9ec4e",
   "metadata": {},
   "outputs": [
    {
     "name": "stdout",
     "output_type": "stream",
     "text": [
      "{'name': 'umar', 'age': 29, 'gender': 'male', 'country': 'india'}\n"
     ]
    }
   ],
   "source": [
    "a={\"name\":\"umar\",\"age\":22,\"gender\":\"male\",\"country\":\"india\"}\n",
    "a[\"age\"]=29\n",
    "print(a)"
   ]
  },
  {
   "cell_type": "markdown",
   "id": "3773f96a",
   "metadata": {},
   "source": [
    "# UPDATE METHOD"
   ]
  },
  {
   "cell_type": "code",
   "execution_count": 21,
   "id": "aaefd5f5",
   "metadata": {},
   "outputs": [
    {
     "name": "stdout",
     "output_type": "stream",
     "text": [
      "{'name': 'imran', 'age': 22, 'gender': 'male', 'country': 'india'}\n"
     ]
    }
   ],
   "source": [
    "a={\"name\":\"umar\",\"age\":22,\"gender\":\"male\",\"country\":\"india\"}\n",
    "a.update({\"name\":\"imran\"})\n",
    "print(a)"
   ]
  },
  {
   "cell_type": "markdown",
   "id": "64dcbfbd",
   "metadata": {},
   "source": [
    "# REMOVE ITEMS"
   ]
  },
  {
   "cell_type": "code",
   "execution_count": 24,
   "id": "11b826e0",
   "metadata": {},
   "outputs": [
    {
     "name": "stdout",
     "output_type": "stream",
     "text": [
      "{'name': 'umar', 'gender': 'male', 'country': 'india'}\n"
     ]
    }
   ],
   "source": [
    "#THE POP() METHOD REMOVES THE ITMES WITH SPECIFIED KEY NAME\n",
    "a={\"name\":\"umar\",\"age\":22,\"gender\":\"male\",\"country\":\"india\"}\n",
    "a.pop(\"age\")\n",
    "print(a)"
   ]
  },
  {
   "cell_type": "code",
   "execution_count": 25,
   "id": "c552a4fb",
   "metadata": {},
   "outputs": [
    {
     "name": "stdout",
     "output_type": "stream",
     "text": [
      "{'name': 'umar', 'gender': 'male', 'country': 'india'}\n"
     ]
    }
   ],
   "source": [
    "#THE DEL KEYWORD REMOVES THE ITMES WITH SPECIFIED KEY NAME\n",
    "a={\"name\":\"umar\",\"age\":22,\"gender\":\"male\",\"country\":\"india\"}\n",
    "del a[\"age\"]\n",
    "print(a)"
   ]
  },
  {
   "cell_type": "code",
   "execution_count": 27,
   "id": "63146736",
   "metadata": {},
   "outputs": [
    {
     "ename": "NameError",
     "evalue": "name 'a' is not defined",
     "output_type": "error",
     "traceback": [
      "\u001b[1;31m---------------------------------------------------------------------------\u001b[0m",
      "\u001b[1;31mNameError\u001b[0m                                 Traceback (most recent call last)",
      "Cell \u001b[1;32mIn[27], line 4\u001b[0m\n\u001b[0;32m      2\u001b[0m a\u001b[38;5;241m=\u001b[39m{\u001b[38;5;124m\"\u001b[39m\u001b[38;5;124mname\u001b[39m\u001b[38;5;124m\"\u001b[39m:\u001b[38;5;124m\"\u001b[39m\u001b[38;5;124mumar\u001b[39m\u001b[38;5;124m\"\u001b[39m,\u001b[38;5;124m\"\u001b[39m\u001b[38;5;124mage\u001b[39m\u001b[38;5;124m\"\u001b[39m:\u001b[38;5;241m22\u001b[39m,\u001b[38;5;124m\"\u001b[39m\u001b[38;5;124mgender\u001b[39m\u001b[38;5;124m\"\u001b[39m:\u001b[38;5;124m\"\u001b[39m\u001b[38;5;124mmale\u001b[39m\u001b[38;5;124m\"\u001b[39m,\u001b[38;5;124m\"\u001b[39m\u001b[38;5;124mcountry\u001b[39m\u001b[38;5;124m\"\u001b[39m:\u001b[38;5;124m\"\u001b[39m\u001b[38;5;124mindia\u001b[39m\u001b[38;5;124m\"\u001b[39m}\n\u001b[0;32m      3\u001b[0m \u001b[38;5;28;01mdel\u001b[39;00m a\n\u001b[1;32m----> 4\u001b[0m \u001b[38;5;28mprint\u001b[39m(a)\n",
      "\u001b[1;31mNameError\u001b[0m: name 'a' is not defined"
     ]
    }
   ],
   "source": [
    "# del ALSO DELETE THE COMPLETE DICT\n",
    "a={\"name\":\"umar\",\"age\":22,\"gender\":\"male\",\"country\":\"india\"}\n",
    "del a\n",
    "print(a)"
   ]
  },
  {
   "cell_type": "markdown",
   "id": "6cfd646e",
   "metadata": {},
   "source": [
    "# THE CLEAR METHOD EMPTIES THE DICT"
   ]
  },
  {
   "cell_type": "code",
   "execution_count": 29,
   "id": "59971505",
   "metadata": {},
   "outputs": [
    {
     "name": "stdout",
     "output_type": "stream",
     "text": [
      "{}\n",
      "<class 'dict'>\n"
     ]
    }
   ],
   "source": [
    "a={\"name\":\"umar\"\n",
    "   ,\"age\":22\n",
    "   ,\"gender\":\"male\"\n",
    "   ,\"country\":\"india\"}\n",
    "a.clear()\n",
    "print(a)\n",
    "print(type(a))"
   ]
  },
  {
   "cell_type": "code",
   "execution_count": null,
   "id": "bde1625c",
   "metadata": {},
   "outputs": [],
   "source": []
  }
 ],
 "metadata": {
  "kernelspec": {
   "display_name": "Python 3 (ipykernel)",
   "language": "python",
   "name": "python3"
  },
  "language_info": {
   "codemirror_mode": {
    "name": "ipython",
    "version": 3
   },
   "file_extension": ".py",
   "mimetype": "text/x-python",
   "name": "python",
   "nbconvert_exporter": "python",
   "pygments_lexer": "ipython3",
   "version": "3.13.1"
  }
 },
 "nbformat": 4,
 "nbformat_minor": 5
}
