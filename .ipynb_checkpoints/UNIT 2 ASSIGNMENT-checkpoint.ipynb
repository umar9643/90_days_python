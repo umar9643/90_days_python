{
 "cells": [
  {
   "cell_type": "markdown",
   "id": "769eb762-88dc-4c97-bc68-7a89b12e85cf",
   "metadata": {},
   "source": [
    "# UNIT 2 ASSIGNMENT"
   ]
  },
  {
   "cell_type": "code",
   "execution_count": null,
   "id": "4e60f106-491a-4f39-9182-171c56d2e23b",
   "metadata": {},
   "outputs": [],
   "source": [
    "Question-1 wirte a python program to print the folowing str in a specific format\n",
    "\n",
    "Input: \"Twinkle, twinkle, little star,How I wonder what you are!Up above the world so high,Like a diamond in the sky.\"\n",
    "\n",
    "Output:\n",
    "Twinkle, twinkle, little star,\n",
    "How I wonder what you are!\n",
    "Up above the world so high,\n",
    "Like a diamond in the sky."
   ]
  },
  {
   "cell_type": "code",
   "execution_count": 8,
   "id": "2010c9e0-7ad6-4273-870b-3321cf09a454",
   "metadata": {},
   "outputs": [
    {
     "name": "stdout",
     "output_type": "stream",
     "text": [
      "Twinkle, twinkle, little star,\n",
      "How I wonder what you are!\n",
      "Up above the world so high,\n",
      "Like a diamond in the sky\n"
     ]
    }
   ],
   "source": [
    "print(\"Twinkle, twinkle, little star,\\nHow I wonder what you are!\\nUp above the world so high,\\nLike a diamond in the sky\")\n",
    "#we use \\n for going in next line"
   ]
  },
  {
   "cell_type": "code",
   "execution_count": null,
   "id": "f2c489e5-5bea-4023-85db-31f28d86598f",
   "metadata": {},
   "outputs": [],
   "source": [
    "Question-2 Write a program to calculate the area of a circle 10 ,12, and 25.4 cms"
   ]
  },
  {
   "cell_type": "code",
   "execution_count": 13,
   "id": "9dda6bae-c875-4eb0-807e-bf518b4dff13",
   "metadata": {},
   "outputs": [
    {
     "name": "stdout",
     "output_type": "stream",
     "text": [
      "area of circle1 314.0\n",
      "area of circle2 452.16\n",
      "area of circle3 2025.8024\n"
     ]
    }
   ],
   "source": [
    "a=10\n",
    "b=12\n",
    "c=25.4\n",
    "area1=3.14*(a**2)\n",
    "area2=3.14*(b**2)\n",
    "area3=3.14*(c**2)\n",
    "\n",
    "print(\"area of circle1\",area1)\n",
    "print(\"area of circle2\",area2)\n",
    "print(\"area of circle3\",area3)"
   ]
  },
  {
   "cell_type": "code",
   "execution_count": null,
   "id": "7512aae5-48a1-4f21-a792-e9ffc6cb4a64",
   "metadata": {},
   "outputs": [],
   "source": [
    "Question-3 Write a program to calculate the volume of the sphere with radious 6"
   ]
  },
  {
   "cell_type": "code",
   "execution_count": 14,
   "id": "98301da1-9643-439c-8cb8-d099d806e154",
   "metadata": {},
   "outputs": [
    {
     "name": "stdout",
     "output_type": "stream",
     "text": [
      "volume of sphere is 904.3199999999999\n"
     ]
    }
   ],
   "source": [
    "r=6\n",
    "print(\"volume of sphere is\",4/3*3.14*r**3)"
   ]
  },
  {
   "cell_type": "code",
   "execution_count": null,
   "id": "2c307457-d139-4a48-ab94-ab1571ee14f3",
   "metadata": {},
   "outputs": [],
   "source": [
    "Question-4 Write a program to calculate the area of trianle accept base and height form user"
   ]
  },
  {
   "cell_type": "code",
   "execution_count": 16,
   "id": "0512d09d-3cf8-4429-a6c4-42fba5b3829e",
   "metadata": {},
   "outputs": [
    {
     "name": "stdin",
     "output_type": "stream",
     "text": [
      "enter the base 6\n",
      "enter the height 12\n"
     ]
    }
   ],
   "source": [
    "b=int(input(\"enter the base\"))\n",
    "h=int(input(\"enter the height\"))"
   ]
  },
  {
   "cell_type": "code",
   "execution_count": 17,
   "id": "e809c910-bebd-422c-bf7b-2667db59a6da",
   "metadata": {},
   "outputs": [
    {
     "name": "stdout",
     "output_type": "stream",
     "text": [
      "area of trianle is 36.0\n"
     ]
    }
   ],
   "source": [
    "area=1/2*b*h\n",
    "print(\"area of trianle is\",area)"
   ]
  },
  {
   "cell_type": "code",
   "execution_count": null,
   "id": "8394f91f-2484-402f-a471-228708701caf",
   "metadata": {},
   "outputs": [],
   "source": [
    "Question-5 Write a program to calculate the simple interest p=100000,r=8%,t=1y"
   ]
  },
  {
   "cell_type": "code",
   "execution_count": 21,
   "id": "d2dd6dc7-0c73-431a-824f-fb37484fd601",
   "metadata": {},
   "outputs": [
    {
     "name": "stdout",
     "output_type": "stream",
     "text": [
      "Simple interest calculated is 8000.0\n"
     ]
    }
   ],
   "source": [
    "p=100000\n",
    "r=8\n",
    "t=1\n",
    "print(\"Simple interest calculated is\",(p*r*t)/100)"
   ]
  },
  {
   "cell_type": "code",
   "execution_count": null,
   "id": "335e7da4-87cf-4181-80f5-a799ac97f066",
   "metadata": {},
   "outputs": [],
   "source": [
    "Question-6 Write a program to convert the distance in feet to inches,yard, and miles"
   ]
  },
  {
   "cell_type": "code",
   "execution_count": 24,
   "id": "c2aff1d5-e7a1-4209-8679-c90d136124a1",
   "metadata": {},
   "outputs": [
    {
     "name": "stdin",
     "output_type": "stream",
     "text": [
      "ennter the distance 12\n"
     ]
    }
   ],
   "source": [
    "v=int(input(\"ennter the distance\"))"
   ]
  },
  {
   "cell_type": "code",
   "execution_count": 25,
   "id": "fcbb6755-ab10-4f38-8f60-c6e1dabe70d8",
   "metadata": {},
   "outputs": [
    {
     "name": "stdout",
     "output_type": "stream",
     "text": [
      "12 feet in inches will be 144\n",
      "12 feet in yard will be 4.0\n",
      "12 feet in miles will be 0.0022727272727272726\n"
     ]
    }
   ],
   "source": [
    "in_inches=v*12\n",
    "in_yard=v/3\n",
    "in_miles=v/5280\n",
    "print(v,\"feet in inches will be\",in_inches)\n",
    "print(v,\"feet in yard will be\",in_yard)\n",
    "print(v,\"feet in miles will be\",in_miles)"
   ]
  },
  {
   "cell_type": "code",
   "execution_count": null,
   "id": "186d8a75-37ef-4bf1-87a3-f5de2e5ddac2",
   "metadata": {},
   "outputs": [],
   "source": [
    "Question-7 Write a program to calculate the hypotenuse of a right angles trianle"
   ]
  },
  {
   "cell_type": "code",
   "execution_count": 29,
   "id": "794df132-abaf-4a88-ad3f-98221449c4a8",
   "metadata": {},
   "outputs": [
    {
     "name": "stdout",
     "output_type": "stream",
     "text": [
      "the hypotenuse of a trianle  is 5.0\n"
     ]
    }
   ],
   "source": [
    "from math import sqrt\n",
    "base=3\n",
    "height=4\n",
    "hypotenuse=sqrt(base**2 + height**2)\n",
    "print(\"the hypotenuse of a trianle  is\",hypotenuse)"
   ]
  },
  {
   "cell_type": "code",
   "execution_count": null,
   "id": "9ac79ef2-1588-4da5-89af-c540e0929f07",
   "metadata": {},
   "outputs": [],
   "source": [
    "Question-8 Write a program to swap ro variable"
   ]
  },
  {
   "cell_type": "code",
   "execution_count": 31,
   "id": "ff84e6c6-1ac0-44b3-8ecf-b550bf98d808",
   "metadata": {},
   "outputs": [
    {
     "name": "stdout",
     "output_type": "stream",
     "text": [
      "value of x 5\n",
      "value of y 3\n"
     ]
    }
   ],
   "source": [
    "#pyhton program to demonstrate the swapping of two variable\n",
    "x=3\n",
    "y=5\n",
    "\n",
    "#swapping of two vraible using third varibale\n",
    "temp=x\n",
    "x=y\n",
    "y=temp\n",
    "\n",
    "print(\"value of x\",x)\n",
    "print(\"value of y\",y)"
   ]
  },
  {
   "cell_type": "code",
   "execution_count": null,
   "id": "8333a3db-a9f9-4680-b69b-32939f31afce",
   "metadata": {},
   "outputs": [],
   "source": [
    "Question-9 Write a program to calculate the area of a square side 10 cm"
   ]
  },
  {
   "cell_type": "code",
   "execution_count": 32,
   "id": "ba45ab07-79ca-4ec4-8397-cc671dabda3b",
   "metadata": {},
   "outputs": [
    {
     "name": "stdout",
     "output_type": "stream",
     "text": [
      "area of square is 100\n"
     ]
    }
   ],
   "source": [
    "side=10\n",
    "print(\"area of square is\",side*side)"
   ]
  },
  {
   "cell_type": "code",
   "execution_count": null,
   "id": "9e68d3f9-fa82-4747-8155-d94a627f5a85",
   "metadata": {},
   "outputs": [],
   "source": [
    "Question-10 Write a program to convert 250kg into gram"
   ]
  },
  {
   "cell_type": "code",
   "execution_count": 34,
   "id": "cff493f9-a8e4-43ed-a376-5d587cd6f237",
   "metadata": {},
   "outputs": [
    {
     "name": "stdout",
     "output_type": "stream",
     "text": [
      "250 kg into gram will be 250000\n"
     ]
    }
   ],
   "source": [
    "v=250\n",
    "u=v*1000\n",
    "print(v,\"kg\",\"into gram will be\",u)"
   ]
  },
  {
   "cell_type": "code",
   "execution_count": null,
   "id": "e3d47961-84b3-43bf-9103-180204b0c263",
   "metadata": {},
   "outputs": [],
   "source": []
  }
 ],
 "metadata": {
  "kernelspec": {
   "display_name": "Python 3 (ipykernel)",
   "language": "python",
   "name": "python3"
  },
  "language_info": {
   "codemirror_mode": {
    "name": "ipython",
    "version": 3
   },
   "file_extension": ".py",
   "mimetype": "text/x-python",
   "name": "python",
   "nbconvert_exporter": "python",
   "pygments_lexer": "ipython3",
   "version": "3.13.1"
  }
 },
 "nbformat": 4,
 "nbformat_minor": 5
}
