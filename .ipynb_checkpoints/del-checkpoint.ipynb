{
 "cells": [
  {
   "cell_type": "code",
   "execution_count": 2,
   "id": "cdf59630",
   "metadata": {},
   "outputs": [
    {
     "name": "stdout",
     "output_type": "stream",
     "text": [
      "Enter a number to find its factorial: -4\n",
      "The factorial of -4 (using recursive method) is: Factorial not defined\n"
     ]
    }
   ],
   "source": [
    "# write a program of factorial using recurrsion.\n",
    "def factorial_recursive(n):\n",
    "    if n == 0 or n == 1:\n",
    "        return 1\n",
    "    elif n<0:\n",
    "        return(\"Factorial not defined\")\n",
    "    else:\n",
    "        return n * factorial_recursive(n - 1)\n",
    "\n",
    "# Example usage\n",
    "number = int(input(\"Enter a number to find its factorial: \"))\n",
    "result_recursive = factorial_recursive(number)\n",
    "print(f\"The factorial of {number} (using recursive method) is: {result_recursive}\")"
   ]
  },
  {
   "cell_type": "code",
   "execution_count": 1,
   "id": "ab9989fc",
   "metadata": {},
   "outputs": [
    {
     "name": "stdout",
     "output_type": "stream",
     "text": [
      "0\n",
      "5\n",
      "10\n",
      "15\n",
      "20\n",
      "25\n",
      "30\n",
      "35\n",
      "40\n",
      "45\n",
      "50\n"
     ]
    }
   ],
   "source": [
    "n=5\n",
    "i=0\n",
    "while i<=10:\n",
    "    print(n*i)\n",
    "    i=i+1"
   ]
  },
  {
   "cell_type": "code",
   "execution_count": 2,
   "id": "8fda22f6",
   "metadata": {},
   "outputs": [
    {
     "name": "stdout",
     "output_type": "stream",
     "text": [
      "3\n",
      "6\n",
      "9\n",
      "12\n",
      "15\n",
      "18\n",
      "21\n",
      "24\n",
      "27\n",
      "30\n"
     ]
    }
   ],
   "source": [
    "n=3\n",
    "for i in range (1,11):\n",
    "    product=n*i\n",
    "    i+=1\n",
    "    print(product)"
   ]
  },
  {
   "cell_type": "code",
   "execution_count": 1,
   "id": "31a8209c",
   "metadata": {},
   "outputs": [],
   "source": [
    "import sys"
   ]
  },
  {
   "cell_type": "code",
   "execution_count": 2,
   "id": "154d8835",
   "metadata": {},
   "outputs": [
    {
     "name": "stdout",
     "output_type": "stream",
     "text": [
      "3.11.5 | packaged by Anaconda, Inc. | (main, Sep 11 2023, 13:26:23) [MSC v.1916 64 bit (AMD64)]\n"
     ]
    }
   ],
   "source": [
    "print(sys.version)"
   ]
  },
  {
   "cell_type": "code",
   "execution_count": null,
   "id": "78cb1c43",
   "metadata": {},
   "outputs": [],
   "source": []
  }
 ],
 "metadata": {
  "kernelspec": {
   "display_name": "Python 3 (ipykernel)",
   "language": "python",
   "name": "python3"
  },
  "language_info": {
   "codemirror_mode": {
    "name": "ipython",
    "version": 3
   },
   "file_extension": ".py",
   "mimetype": "text/x-python",
   "name": "python",
   "nbconvert_exporter": "python",
   "pygments_lexer": "ipython3",
   "version": "3.11.5"
  }
 },
 "nbformat": 4,
 "nbformat_minor": 5
}
