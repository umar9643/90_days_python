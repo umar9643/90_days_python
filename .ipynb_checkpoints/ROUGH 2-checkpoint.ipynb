{
 "cells": [
  {
   "cell_type": "code",
   "execution_count": null,
   "id": "ff8dcf22",
   "metadata": {},
   "outputs": [],
   "source": [
    "lenght=int(input(\"enter lenght\"))\n",
    "braeth=int(input(\"enter breath\"))\n",
    "area=lenght*breath\n",
    "print(area)\n"
   ]
  },
  {
   "cell_type": "code",
   "execution_count": null,
   "id": "557de6ef",
   "metadata": {},
   "outputs": [],
   "source": [
    "x=int(input(\"enter lenght\"))\n",
    "y=int(input(\"enter breath\"))\n",
    "a=int(x*y)\n",
    "print(a)\n"
   ]
  },
  {
   "cell_type": "code",
   "execution_count": null,
   "id": "3cd33abd",
   "metadata": {},
   "outputs": [],
   "source": [
    "x,y=2,4\n",
    "print(x,y)\n",
    "x,y=y,y\n",
    "print(x,y)"
   ]
  },
  {
   "cell_type": "code",
   "execution_count": 2,
   "id": "176f00ee",
   "metadata": {},
   "outputs": [
    {
     "name": "stdout",
     "output_type": "stream",
     "text": [
      "enetr ist no6\n",
      "enter 2nd no4\n",
      "6 4\n",
      "4 6\n"
     ]
    }
   ],
   "source": [
    "x=int(input(\"enetr ist no\"))\n",
    "y=int(input(\"enter 2nd no\"))\n",
    "print(x,y)\n",
    "x,y=y,x\n",
    "print(x,y)"
   ]
  },
  {
   "cell_type": "code",
   "execution_count": 3,
   "id": "d3cab5d8",
   "metadata": {},
   "outputs": [
    {
     "name": "stdout",
     "output_type": "stream",
     "text": [
      "enetr ist no6\n",
      "enter 2nd no7\n",
      "enter 3rd no8\n",
      "6 7 8\n",
      "8 7 6\n"
     ]
    }
   ],
   "source": [
    "x=int(input(\"enetr ist no\"))\n",
    "y=int(input(\"enter 2nd no\"))\n",
    "z=int(input(\"enter 3rd no\"))\n",
    "print(x,y,z)\n",
    "x,y,z=z,y,x\n",
    "print(x,y,z)"
   ]
  },
  {
   "cell_type": "code",
   "execution_count": 5,
   "id": "365ebeb0",
   "metadata": {},
   "outputs": [
    {
     "name": "stdout",
     "output_type": "stream",
     "text": [
      "ist no7\n",
      "2nd no8\n",
      "7 8\n",
      "8 7\n"
     ]
    }
   ],
   "source": [
    "x=int(input(\"ist no\"))\n",
    "y=int(input(\"2nd no\"))\n",
    "print(x,y)\n",
    "x=x+y\n",
    "y=x-y\n",
    "x=x-y\n",
    "print(x,y)"
   ]
  },
  {
   "cell_type": "code",
   "execution_count": 1,
   "id": "59f18710",
   "metadata": {},
   "outputs": [
    {
     "ename": "NameError",
     "evalue": "name 'Eq' is not defined",
     "output_type": "error",
     "traceback": [
      "\u001b[1;31m---------------------------------------------------------------------------\u001b[0m",
      "\u001b[1;31mNameError\u001b[0m                                 Traceback (most recent call last)",
      "Cell \u001b[1;32mIn[1], line 1\u001b[0m\n\u001b[1;32m----> 1\u001b[0m eq1\u001b[38;5;241m=\u001b[39mEq((x\u001b[38;5;241m+\u001b[39my\u001b[38;5;241m+\u001b[39mz),\u001b[38;5;241m1\u001b[39m)\n\u001b[0;32m      2\u001b[0m \u001b[38;5;28mprint\u001b[39m(\u001b[38;5;124m\"\u001b[39m\u001b[38;5;124mequation\u001b[39m\u001b[38;5;124m\"\u001b[39m)\n\u001b[0;32m      3\u001b[0m \u001b[38;5;28mprint\u001b[39m(eq)\n",
      "\u001b[1;31mNameError\u001b[0m: name 'Eq' is not defined"
     ]
    }
   ],
   "source": [
    "eq1=Eq((x+y+z),1)\n",
    "print(\"equation\")\n",
    "print(eq)\n",
    "eq2=Eq((x-y-2^xz))\n",
    "print(\"Equation 2\")\n",
    "print(eq2)"
   ]
  },
  {
   "cell_type": "code",
   "execution_count": 26,
   "id": "f255a31b",
   "metadata": {},
   "outputs": [
    {
     "name": "stdout",
     "output_type": "stream",
     "text": [
      "equation1\n",
      "Eq(x + y + z, 1)\n",
      "Equation2\n",
      "Eq(x - y + 2*z, 1)\n",
      "Equation\n",
      "Eq(2*x - y + 2*z, 1)\n",
      "The sol is\n",
      "{x: 0, y: 1/3, z: 2/3}\n"
     ]
    }
   ],
   "source": [
    "import numpy as np\n",
    "from sympy import symbols,Eq,solve\n",
    "x , y , z = symbols('x,y,z')\n",
    "eq1 = Eq((x+y+z),1)\n",
    "print(\"equation1\")\n",
    "print(eq1)\n",
    "eq2 = Eq((x-y+2*z),1)\n",
    "print(\"Equation2\")\n",
    "print(eq2)\n",
    "eq3 = Eq ((2*x-y+2*z),1)\n",
    "print(\"Equation\")\n",
    "print(eq3)\n",
    "print(\"The sol is\")\n",
    "print(solve((eq1, eq2, eq3),(x,y,z)))"
   ]
  },
  {
   "cell_type": "code",
   "execution_count": 30,
   "id": "92c0ceed",
   "metadata": {},
   "outputs": [
    {
     "name": "stdout",
     "output_type": "stream",
     "text": [
      "[-0.58226371  3.22870478 -1.98599767]\n"
     ]
    }
   ],
   "source": [
    "import numpy as  np\n",
    "from sympy import symbols,Eq,solve\n",
    "A = np.array([[8,3,-2],[-4,7,5],[3,4,-12]])\n",
    "b = np.array([9,15,35])\n",
    "x = np.linalg.solve(A,b)\n",
    "print(x)"
   ]
  },
  {
   "cell_type": "code",
   "execution_count": null,
   "id": "138c7a27",
   "metadata": {},
   "outputs": [],
   "source": []
  }
 ],
 "metadata": {
  "kernelspec": {
   "display_name": "Python 3 (ipykernel)",
   "language": "python",
   "name": "python3"
  },
  "language_info": {
   "codemirror_mode": {
    "name": "ipython",
    "version": 3
   },
   "file_extension": ".py",
   "mimetype": "text/x-python",
   "name": "python",
   "nbconvert_exporter": "python",
   "pygments_lexer": "ipython3",
   "version": "3.11.5"
  }
 },
 "nbformat": 4,
 "nbformat_minor": 5
}
