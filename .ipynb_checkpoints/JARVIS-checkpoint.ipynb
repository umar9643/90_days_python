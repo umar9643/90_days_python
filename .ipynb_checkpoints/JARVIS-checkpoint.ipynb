{
 "cells": [
  {
   "cell_type": "code",
   "execution_count": 1,
   "id": "25bcad39",
   "metadata": {},
   "outputs": [],
   "source": [
    "import pyttsx3\n"
   ]
  },
  {
   "cell_type": "code",
   "execution_count": 2,
   "id": "416defaf-c065-41b6-85e8-39bf537db8d6",
   "metadata": {},
   "outputs": [],
   "source": [
    "import pandas as pd"
   ]
  },
  {
   "cell_type": "code",
   "execution_count": null,
   "id": "2738a8d4",
   "metadata": {},
   "outputs": [],
   "source": [
    "def speak(audio):\n",
    "    pass"
   ]
  }
 ],
 "metadata": {
  "kernelspec": {
   "display_name": "Python 3 (ipykernel)",
   "language": "python",
   "name": "python3"
  },
  "language_info": {
   "codemirror_mode": {
    "name": "ipython",
    "version": 3
   },
   "file_extension": ".py",
   "mimetype": "text/x-python",
   "name": "python",
   "nbconvert_exporter": "python",
   "pygments_lexer": "ipython3",
   "version": "3.11.5"
  }
 },
 "nbformat": 4,
 "nbformat_minor": 5
}
