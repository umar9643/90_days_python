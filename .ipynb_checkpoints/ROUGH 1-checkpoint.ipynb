{
 "cells": [
  {
   "cell_type": "code",
   "execution_count": 3,
   "id": "e66818db",
   "metadata": {},
   "outputs": [
    {
     "name": "stdout",
     "output_type": "stream",
     "text": [
      "enter length7\n",
      "enter breath3\n",
      "21\n"
     ]
    }
   ],
   "source": [
    "length=int(input(\"enter length\"))\n",
    "breath=int(input(\"enter breath\"))\n",
    "area=length*breath\n",
    "\n",
    "print(area)\n"
   ]
  },
  {
   "cell_type": "code",
   "execution_count": 6,
   "id": "a400f540",
   "metadata": {
    "scrolled": true
   },
   "outputs": [
    {
     "name": "stdout",
     "output_type": "stream",
     "text": [
      "enter lenth4\n",
      "enter breath5\n",
      "18\n"
     ]
    }
   ],
   "source": [
    "lenth=int(input(\"enter lenth\"))\n",
    "breath=int(input(\"enter breath\"))\n",
    "area=2*(lenth+breath)\n",
    "print(area)"
   ]
  },
  {
   "cell_type": "code",
   "execution_count": 4,
   "id": "c738f768",
   "metadata": {},
   "outputs": [
    {
     "name": "stdout",
     "output_type": "stream",
     "text": [
      "2 3\n"
     ]
    },
    {
     "ename": "NameError",
     "evalue": "name 'z' is not defined",
     "output_type": "error",
     "traceback": [
      "\u001b[1;31m---------------------------------------------------------------------------\u001b[0m",
      "\u001b[1;31mNameError\u001b[0m                                 Traceback (most recent call last)",
      "Cell \u001b[1;32mIn[4], line 3\u001b[0m\n\u001b[0;32m      1\u001b[0m x,y\u001b[38;5;241m=\u001b[39m\u001b[38;5;241m2\u001b[39m,\u001b[38;5;241m3\u001b[39m\n\u001b[0;32m      2\u001b[0m \u001b[38;5;28mprint\u001b[39m(x,y)\n\u001b[1;32m----> 3\u001b[0m x,y\u001b[38;5;241m=\u001b[39my,z\n\u001b[0;32m      4\u001b[0m \u001b[38;5;28mprint\u001b[39m(x,y)\n",
      "\u001b[1;31mNameError\u001b[0m: name 'z' is not defined"
     ]
    }
   ],
   "source": [
    "x,y=2,3\n",
    "print(x,y)\n",
    "x,y=y,z\n",
    "print(x,y)"
   ]
  },
  {
   "cell_type": "code",
   "execution_count": 1,
   "id": "ff730315",
   "metadata": {},
   "outputs": [
    {
     "name": "stdout",
     "output_type": "stream",
     "text": [
      "13\n"
     ]
    }
   ],
   "source": [
    "a=7\n",
    "b=6\n",
    "print(a+b)"
   ]
  },
  {
   "cell_type": "code",
   "execution_count": 2,
   "id": "243b686b",
   "metadata": {},
   "outputs": [
    {
     "name": "stdout",
     "output_type": "stream",
     "text": [
      "enter ist the number3\n",
      "enter second the number8\n",
      "11\n"
     ]
    }
   ],
   "source": [
    "a=int(input(\"enter ist the number\"))\n",
    "b=int(input(\"enter second the number\"))\n",
    "print(a+b)"
   ]
  },
  {
   "cell_type": "markdown",
   "id": "d139d2b0",
   "metadata": {},
   "source": [
    "# CALCULATING THE PERSEMTAGE OF A STUDENT "
   ]
  },
  {
   "cell_type": "code",
   "execution_count": 2,
   "id": "52c68c17",
   "metadata": {},
   "outputs": [
    {
     "name": "stdout",
     "output_type": "stream",
     "text": [
      "enter the nameumar\n",
      "enter the makrs76\n",
      "enter the makrs45\n",
      "enter the makrs67\n",
      "enter the makrs55\n",
      "enter the makrs76\n",
      "average of student  umar is 63.8\n"
     ]
    }
   ],
   "source": [
    "name=input(\"enter the name\")\n",
    "hin=int(input(\"enter the makrs\"))\n",
    "eng=int(input(\"enter the makrs\"))\n",
    "maths=int(input(\"enter the makrs\"))\n",
    "sci=int(input(\"enter the makrs\"))\n",
    "sst=int(input(\"enter the makrs\"))\n",
    "total=hin+eng+maths+sci+sst\n",
    "avg=total/5\n",
    "print(\"average of student \",name,\"is\",avg)"
   ]
  },
  {
   "cell_type": "markdown",
   "id": "96593d43",
   "metadata": {},
   "source": [
    "# write aprogram to display hii umar if no. enter by user is multiple of 2 else hii imran"
   ]
  },
  {
   "cell_type": "code",
   "execution_count": 4,
   "id": "0a68d67a",
   "metadata": {},
   "outputs": [
    {
     "name": "stdout",
     "output_type": "stream",
     "text": [
      "enter the no8\n",
      "hii umar\n"
     ]
    }
   ],
   "source": [
    "x=int(input(\"enter the no\"))\n",
    "if x%2==0:\n",
    "    print(\"hii umar\")\n",
    "else:\n",
    "    print(\"hii imran\")"
   ]
  },
  {
   "cell_type": "markdown",
   "id": "47d33cb2",
   "metadata": {},
   "source": [
    "# write aprogram to check if a person is eligible fpor voting or not"
   ]
  },
  {
   "cell_type": "code",
   "execution_count": 6,
   "id": "9beae5b4",
   "metadata": {},
   "outputs": [
    {
     "name": "stdout",
     "output_type": "stream",
     "text": [
      "enter youir age21\n",
      "you are eligible\n"
     ]
    }
   ],
   "source": [
    "x=int(input(\"enter youir age\"))\n",
    "if x>18:\n",
    "    print(\"you are eligible\")\n",
    "else:\n",
    "    print(\"you are not eligible\")"
   ]
  },
  {
   "cell_type": "markdown",
   "id": "3f360421",
   "metadata": {},
   "source": [
    "# ACCEPT THE NO. OF DAYS FROM THE USER AND CALCULATE THE CHARGE OF LIBRARY THE FOLLOWING."
   ]
  },
  {
   "cell_type": "code",
   "execution_count": 8,
   "id": "f371d2d6",
   "metadata": {},
   "outputs": [
    {
     "name": "stdout",
     "output_type": "stream",
     "text": [
      "enter the no of days u want to rent book21\n",
      "168\n"
     ]
    }
   ],
   "source": [
    "x=int(input(\"enter the no of days u want to rent book\"))\n",
    "if x>30:\n",
    "    print(x*10)\n",
    "elif x>20:\n",
    "    print(x*8)\n",
    "elif x>10:\n",
    "    print(x*5)\n",
    "else:\n",
    "    print(x*2)"
   ]
  },
  {
   "cell_type": "code",
   "execution_count": 10,
   "id": "2af365bc",
   "metadata": {},
   "outputs": [
    {
     "name": "stdout",
     "output_type": "stream",
     "text": [
      "enter the charecteri\n",
      "it if a vovel\n"
     ]
    }
   ],
   "source": [
    "ch=input(\"enter the charecter\")\n",
    "if(ch==\"a\"or ch==\"A\"or ch==\"e\"or ch==\"E\"or ch==\"i\"or ch==\"I\"or ch==\"0\"or ch==\"O\"or ch==\"u\"or ch==\"U\"):\n",
    "    print(\"it if a vovel\")\n",
    "else:\n",
    "    print(\"consonant\")"
   ]
  },
  {
   "cell_type": "markdown",
   "id": "1523116b",
   "metadata": {},
   "source": [
    "# loopming through a srting"
   ]
  },
  {
   "cell_type": "code",
   "execution_count": 1,
   "id": "9a856a8b",
   "metadata": {},
   "outputs": [
    {
     "name": "stdout",
     "output_type": "stream",
     "text": [
      "b\n",
      "a\n",
      "n\n",
      "a\n",
      "n\n",
      "a\n"
     ]
    }
   ],
   "source": [
    "b=(\"banana\")\n",
    "for x in b:\n",
    "    print(x)\n",
    "\n"
   ]
  },
  {
   "cell_type": "code",
   "execution_count": 6,
   "id": "3572a85d",
   "metadata": {},
   "outputs": [
    {
     "name": "stdout",
     "output_type": "stream",
     "text": [
      "enter the number8\n",
      "not prime\n"
     ]
    }
   ],
   "source": [
    "num=int(input(\"enter the number\"))\n",
    "for i in range (2,num):\n",
    "    if num%i==0:\n",
    "        print(\"not prime\")\n",
    "        break\n",
    "else:\n",
    "    print(\"prime\")"
   ]
  },
  {
   "cell_type": "markdown",
   "id": "0c25205c",
   "metadata": {},
   "source": [
    "# Check Odd or even number for user input"
   ]
  },
  {
   "cell_type": "code",
   "execution_count": 2,
   "id": "a30e1f29",
   "metadata": {},
   "outputs": [
    {
     "name": "stdout",
     "output_type": "stream",
     "text": [
      "enter the number7\n",
      "it is an odd number\n"
     ]
    }
   ],
   "source": [
    "n=int(input(\"enter the number\"))\n",
    "if n%2==0:\n",
    "    print(\"it is an even number\")\n",
    "else:\n",
    "    print(\"it is an odd number\")"
   ]
  },
  {
   "cell_type": "markdown",
   "id": "68b86c03",
   "metadata": {},
   "source": [
    "# Check for Leap Year"
   ]
  },
  {
   "cell_type": "code",
   "execution_count": null,
   "id": "616e6cfe",
   "metadata": {},
   "outputs": [],
   "source": [
    "year=int(input(\"enter the year\"))\n",
    "if year%400==0 and year%100==0:# for century years\n",
    "    print(year,\"is a leap year\")\n",
    "elif year%4==0 and year%100!=0:# for non century years\n",
    "    print(year,\"it is leap year\")\n",
    "else:\n",
    "    print(\"it is not a leap year\")"
   ]
  },
  {
   "cell_type": "markdown",
   "id": "629512fb",
   "metadata": {},
   "source": [
    "# To find if a character is a vowel or a Consonant\n"
   ]
  },
  {
   "cell_type": "code",
   "execution_count": 9,
   "id": "c2d35e3b",
   "metadata": {},
   "outputs": [
    {
     "name": "stdout",
     "output_type": "stream",
     "text": [
      "enter the alphabeti\n",
      "it is a vovel\n"
     ]
    }
   ],
   "source": [
    "chr=input(\"enter the alphabet\")\n",
    "if chr==\"a\" or chr==\"e\" or chr==\"i\" or chr==\"o\" or chr==\"u\" or chr==\"A\" or chr==\"E\" or chr==\"I\" or chr==\"O\" or chr==\"U\":\n",
    "    print(\"it is a vovel\")\n",
    "else:\n",
    "    print(\"it is a consonent\")"
   ]
  },
  {
   "cell_type": "markdown",
   "id": "d1954162",
   "metadata": {},
   "source": [
    "# print no. from 1 to 100"
   ]
  },
  {
   "cell_type": "code",
   "execution_count": 1,
   "id": "e685cd7a",
   "metadata": {},
   "outputs": [
    {
     "name": "stdout",
     "output_type": "stream",
     "text": [
      "1\n",
      "2\n",
      "3\n",
      "4\n",
      "5\n",
      "6\n",
      "7\n",
      "8\n",
      "9\n",
      "10\n",
      "11\n",
      "12\n",
      "13\n",
      "14\n",
      "15\n",
      "16\n",
      "17\n",
      "18\n",
      "19\n",
      "20\n",
      "21\n",
      "22\n",
      "23\n",
      "24\n",
      "25\n",
      "26\n",
      "27\n",
      "28\n",
      "29\n",
      "30\n",
      "31\n",
      "32\n",
      "33\n",
      "34\n",
      "35\n",
      "36\n",
      "37\n",
      "38\n",
      "39\n",
      "40\n",
      "41\n",
      "42\n",
      "43\n",
      "44\n",
      "45\n",
      "46\n",
      "47\n",
      "48\n",
      "49\n",
      "50\n",
      "51\n",
      "52\n",
      "53\n",
      "54\n",
      "55\n",
      "56\n",
      "57\n",
      "58\n",
      "59\n",
      "60\n",
      "61\n",
      "62\n",
      "63\n",
      "64\n",
      "65\n",
      "66\n",
      "67\n",
      "68\n",
      "69\n",
      "70\n",
      "71\n",
      "72\n",
      "73\n",
      "74\n",
      "75\n",
      "76\n",
      "77\n",
      "78\n",
      "79\n",
      "80\n",
      "81\n",
      "82\n",
      "83\n",
      "84\n",
      "85\n",
      "86\n",
      "87\n",
      "88\n",
      "89\n",
      "90\n",
      "91\n",
      "92\n",
      "93\n",
      "94\n",
      "95\n",
      "96\n",
      "97\n",
      "98\n",
      "99\n",
      "100\n"
     ]
    }
   ],
   "source": [
    "i=1\n",
    "while i<=100:\n",
    "    print(i)\n",
    "    i+=1"
   ]
  },
  {
   "cell_type": "markdown",
   "id": "e975cb92",
   "metadata": {},
   "source": [
    "# print number form 100 to 1"
   ]
  },
  {
   "cell_type": "code",
   "execution_count": 1,
   "id": "50a0237e",
   "metadata": {},
   "outputs": [
    {
     "name": "stdout",
     "output_type": "stream",
     "text": [
      "100\n",
      "99\n",
      "98\n",
      "97\n",
      "96\n",
      "95\n",
      "94\n",
      "93\n",
      "92\n",
      "91\n",
      "90\n",
      "89\n",
      "88\n",
      "87\n",
      "86\n",
      "85\n",
      "84\n",
      "83\n",
      "82\n",
      "81\n",
      "80\n",
      "79\n",
      "78\n",
      "77\n",
      "76\n",
      "75\n",
      "74\n",
      "73\n",
      "72\n",
      "71\n",
      "70\n",
      "69\n",
      "68\n",
      "67\n",
      "66\n",
      "65\n",
      "64\n",
      "63\n",
      "62\n",
      "61\n",
      "60\n",
      "59\n",
      "58\n",
      "57\n",
      "56\n",
      "55\n",
      "54\n",
      "53\n",
      "52\n",
      "51\n",
      "50\n",
      "49\n",
      "48\n",
      "47\n",
      "46\n",
      "45\n",
      "44\n",
      "43\n",
      "42\n",
      "41\n",
      "40\n",
      "39\n",
      "38\n",
      "37\n",
      "36\n",
      "35\n",
      "34\n",
      "33\n",
      "32\n",
      "31\n",
      "30\n",
      "29\n",
      "28\n",
      "27\n",
      "26\n",
      "25\n",
      "24\n",
      "23\n",
      "22\n",
      "21\n",
      "20\n",
      "19\n",
      "18\n",
      "17\n",
      "16\n",
      "15\n",
      "14\n",
      "13\n",
      "12\n",
      "11\n",
      "10\n",
      "9\n",
      "8\n",
      "7\n",
      "6\n",
      "5\n",
      "4\n",
      "3\n",
      "2\n",
      "1\n"
     ]
    }
   ],
   "source": [
    "i=100\n",
    "while i>=1:\n",
    "    print(i)\n",
    "    i+=-1"
   ]
  },
  {
   "cell_type": "markdown",
   "id": "a113236b",
   "metadata": {},
   "source": [
    "# PRINT THE MULTIPLICATION TABLE OPF A NUMBER n"
   ]
  },
  {
   "cell_type": "code",
   "execution_count": null,
   "id": "70b75c2c",
   "metadata": {},
   "outputs": [
    {
     "name": "stdout",
     "output_type": "stream",
     "text": [
      "Enter the first table number: 6\n",
      "6 x 1 = 6\n",
      "6 x 2 = 12\n",
      "6 x 3 = 18\n",
      "6 x 4 = 24\n",
      "6 x 5 = 30\n",
      "6 x 6 = 36\n",
      "6 x 7 = 42\n",
      "6 x 8 = 48\n",
      "6 x 9 = 54\n",
      "6 x 10 = 60\n"
     ]
    }
   ],
   "source": [
    "# Write a table using user input and loop\n",
    "def print_table(number):\n",
    "    for i in range(1, 11):\n",
    "        print(f\"{number} x {i} = {number * i}\")\n",
    "\n",
    "# User input for the table number\n",
    "table_number1 = int(input(\"Enter the first table number: \"))\n",
    "print_table(table_number1)\n",
    "\n",
    "table_number2 = int(input(\"Enter the second table number: \"))\n",
    "print_table(table_number2)\n"
   ]
  },
  {
   "cell_type": "code",
   "execution_count": 5,
   "id": "b9416c24",
   "metadata": {},
   "outputs": [
    {
     "name": "stdout",
     "output_type": "stream",
     "text": [
      "enter the number 8\n",
      "8\n",
      "16\n",
      "24\n",
      "32\n",
      "40\n",
      "48\n",
      "56\n",
      "64\n",
      "72\n",
      "80\n",
      "the multiple of given number\n"
     ]
    }
   ],
   "source": [
    "n=int(input(\"enter the number \"))\n",
    "i=1\n",
    "while i<=10:\n",
    "    print(n*i)\n",
    "    i+=1\n",
    "print(\"the multiple of given number\")"
   ]
  },
  {
   "cell_type": "code",
   "execution_count": 1,
   "id": "4a53332b",
   "metadata": {},
   "outputs": [
    {
     "name": "stdout",
     "output_type": "stream",
     "text": [
      "34\n",
      "34\n",
      "54\n",
      "23\n",
      "2\n",
      "4\n",
      "3\n",
      "5\n",
      "6\n",
      "7\n",
      "4\n",
      "5\n",
      "6\n",
      "34\n"
     ]
    }
   ],
   "source": [
    "nums=[34,34,54,23,2,4,3,5,6,7,4,5,6,34,]\n",
    "#we have to print nums by using while loops \n",
    "idx=0\n",
    "while idx<len(nums):\n",
    "    print(nums[idx])\n",
    "    idx+=1"
   ]
  },
  {
   "cell_type": "markdown",
   "id": "e2cf5ffc",
   "metadata": {},
   "source": [
    "# search a number in this tuple (4,5,7,3,76,76,34,2,34,9) using loops"
   ]
  },
  {
   "cell_type": "code",
   "execution_count": 2,
   "id": "bdb4a1ea",
   "metadata": {},
   "outputs": [
    {
     "name": "stdout",
     "output_type": "stream",
     "text": [
      "found\n"
     ]
    }
   ],
   "source": [
    "t=(4,5,7,3,76,6,34,2,34,9) \n",
    "x=76\n",
    "idx=0\n",
    "while idx<len(t):\n",
    "    if t[idx]==x:\n",
    "        print(\"found\")\n",
    "    idx+=1"
   ]
  },
  {
   "cell_type": "code",
   "execution_count": null,
   "id": "353f9607",
   "metadata": {},
   "outputs": [],
   "source": [
    "nums=(4,5,7,3,76,6,34,2,34,9) \n",
    "i=0\n",
    "x=9\n",
    "while i<len(nums):\n",
    "    if nums[i]==x:\n",
    "        print(\"number found\")\n",
    "        i+=1"
   ]
  },
  {
   "cell_type": "code",
   "execution_count": 1,
   "id": "9221a07d",
   "metadata": {},
   "outputs": [
    {
     "name": "stdout",
     "output_type": "stream",
     "text": [
      "1\n",
      "2\n",
      "3\n",
      "4\n",
      "5\n",
      "6\n"
     ]
    }
   ],
   "source": [
    "i=1\n",
    "while i <= 10:\n",
    "    if i== 7:\n",
    "        break\n",
    "    print(i)\n",
    "    \n",
    "    i+=1"
   ]
  },
  {
   "cell_type": "code",
   "execution_count": 1,
   "id": "f50e43f8",
   "metadata": {},
   "outputs": [
    {
     "name": "stdout",
     "output_type": "stream",
     "text": [
      "1\n",
      "2\n",
      "3\n",
      "4\n",
      "5\n",
      "6\n"
     ]
    }
   ],
   "source": [
    "i=1\n",
    "while i <= 10:\n",
    "    print(i)\n",
    "    i+=1\n",
    "    if i== 7:\n",
    "        break"
   ]
  },
  {
   "cell_type": "code",
   "execution_count": 1,
   "id": "cae60004",
   "metadata": {},
   "outputs": [
    {
     "name": "stdout",
     "output_type": "stream",
     "text": [
      "1\n",
      "2\n",
      "3\n",
      "4\n",
      "5\n",
      "6\n",
      "8\n",
      "9\n",
      "10\n"
     ]
    }
   ],
   "source": [
    "i=1\n",
    "while i<=10:\n",
    "    if i==7:\n",
    "        i+=1\n",
    "        continue\n",
    "    print(i)\n",
    "    i+=1"
   ]
  },
  {
   "cell_type": "code",
   "execution_count": 7,
   "id": "36258230",
   "metadata": {},
   "outputs": [
    {
     "name": "stdout",
     "output_type": "stream",
     "text": [
      "0\n",
      "1\n",
      "2\n",
      "5\n",
      "6\n",
      "7\n",
      "8\n",
      "9\n",
      "10\n"
     ]
    }
   ],
   "source": [
    "i=0\n",
    "while i<=10:\n",
    "    print(i)\n",
    "    i+=1\n",
    "    if i==3:\n",
    "        i+=2\n",
    "    continue\n",
    "    "
   ]
  },
  {
   "cell_type": "markdown",
   "id": "d98e00cc",
   "metadata": {},
   "source": [
    "# printing all odd numbers"
   ]
  },
  {
   "cell_type": "code",
   "execution_count": 12,
   "id": "8f0b7c74",
   "metadata": {},
   "outputs": [
    {
     "name": "stdout",
     "output_type": "stream",
     "text": [
      "0\n",
      "2\n",
      "4\n",
      "6\n",
      "8\n",
      "10\n"
     ]
    }
   ],
   "source": [
    "i=0\n",
    "while i<=10:\n",
    "    print(i)\n",
    "    i+=1\n",
    "    if i%2==0:\n",
    "        continue\n",
    "    i+=1"
   ]
  },
  {
   "cell_type": "code",
   "execution_count": 13,
   "id": "f8074977",
   "metadata": {},
   "outputs": [
    {
     "name": "stdout",
     "output_type": "stream",
     "text": [
      "0\n",
      "1\n",
      "3\n",
      "5\n",
      "7\n",
      "9\n"
     ]
    }
   ],
   "source": [
    "i=0\n",
    "while i<=10:\n",
    "    print(i)\n",
    "    i+=1\n",
    "    if i%2!=0:\n",
    "        continue\n",
    "    i+=1"
   ]
  },
  {
   "cell_type": "markdown",
   "id": "d4979341",
   "metadata": {},
   "source": [
    "# FOR LOOPS"
   ]
  },
  {
   "cell_type": "code",
   "execution_count": 1,
   "id": "4c8ad0ec",
   "metadata": {},
   "outputs": [
    {
     "name": "stdout",
     "output_type": "stream",
     "text": [
      "u\n",
      "m\n",
      "a\n",
      "r\n",
      " \n",
      "a\n",
      "l\n",
      "a\n",
      "m\n"
     ]
    }
   ],
   "source": [
    "n=(\"umar alam\")\n",
    "for i in n:\n",
    "    print(i)"
   ]
  },
  {
   "cell_type": "code",
   "execution_count": 1,
   "id": "62b75069",
   "metadata": {},
   "outputs": [
    {
     "name": "stdout",
     "output_type": "stream",
     "text": [
      "1\n",
      "2\n",
      "3\n",
      "4\n",
      "5\n",
      "6\n",
      "7\n",
      "8\n",
      "9\n",
      "10\n"
     ]
    }
   ],
   "source": [
    "i=1\n",
    "while i<=10:\n",
    "    print(i)\n",
    "    i+=1\n",
    "    if i== 7:\n",
    "        continue\n",
    "        i=+1"
   ]
  },
  {
   "cell_type": "markdown",
   "id": "fd3fbfb8",
   "metadata": {},
   "source": [
    "# calculate the cube of all no.from 1 to given no."
   ]
  },
  {
   "cell_type": "code",
   "execution_count": 3,
   "id": "d3ac1375",
   "metadata": {},
   "outputs": [
    {
     "name": "stdout",
     "output_type": "stream",
     "text": [
      "enter the no.9\n",
      "the current no. is 1 and cube is 1\n",
      "the current no. is 2 and cube is 8\n",
      "the current no. is 3 and cube is 27\n",
      "the current no. is 4 and cube is 64\n",
      "the current no. is 5 and cube is 125\n",
      "the current no. is 6 and cube is 216\n",
      "the current no. is 7 and cube is 343\n",
      "the current no. is 8 and cube is 512\n",
      "the current no. is 9 and cube is 729\n"
     ]
    }
   ],
   "source": [
    "n=int(input(\"enter the no.\"))\n",
    "for i in range (1,n+1):\n",
    "    print(\"the current no. is\",i,\"and cube is\",i*i*i)"
   ]
  },
  {
   "cell_type": "markdown",
   "id": "210c0dce",
   "metadata": {},
   "source": [
    "# checking for leap year\n"
   ]
  },
  {
   "cell_type": "code",
   "execution_count": 10,
   "id": "0f6f148a",
   "metadata": {},
   "outputs": [
    {
     "name": "stdout",
     "output_type": "stream",
     "text": [
      "enter the year2024\n",
      "2024 yes it is a leap year\n"
     ]
    }
   ],
   "source": [
    "year=int(input(\"enter the year\"))\n",
    "if year%400==0 and year%100==0:\n",
    "    print(year,\"yes it is a leap year\")\n",
    "elif year%4==0 and year%100!=0:\n",
    "    print(year,\"yes it is a leap year\")\n",
    "else:\n",
    "    print(\"it is not an leap year\")"
   ]
  },
  {
   "cell_type": "code",
   "execution_count": 13,
   "id": "9c0a3a53",
   "metadata": {},
   "outputs": [
    {
     "name": "stdout",
     "output_type": "stream",
     "text": [
      "enter the chracterA\n",
      "IT IS AN VOVEL\n"
     ]
    }
   ],
   "source": [
    "x=input(\"enter the chracter\")\n",
    "if (x==\"a\"or x==\"e\" or x==\"i\" or x==\"o\" or x==\"u\" or\n",
    "    x==\"A\"or x==\"E\" or x==\"I\" or x==\"O\" or x==\"U\"):\n",
    "    print(\"IT IS AN VOVEL\")\n",
    "else:\n",
    "    print(\"IT IS NOT A VOVEL\")"
   ]
  },
  {
   "cell_type": "code",
   "execution_count": 32,
   "id": "b6096437",
   "metadata": {},
   "outputs": [],
   "source": [
    "import pandas as pd\n",
    "import matplotlib.pyplot as plt\n",
    "import seaborn as sns"
   ]
  },
  {
   "cell_type": "code",
   "execution_count": 6,
   "id": "730cf9cf-ad2c-4d71-83e3-58013e6bcc74",
   "metadata": {},
   "outputs": [],
   "source": [
    "data=pd.read_csv(\"C:\\\\Users\\\\Umar Alam\\\\Downloads\\\\global_inflation_data.csv\")"
   ]
  },
  {
   "cell_type": "code",
   "execution_count": 8,
   "id": "ddde9410-0900-411a-933d-97f0c35fb135",
   "metadata": {},
   "outputs": [
    {
     "data": {
      "text/html": [
       "<div>\n",
       "<style scoped>\n",
       "    .dataframe tbody tr th:only-of-type {\n",
       "        vertical-align: middle;\n",
       "    }\n",
       "\n",
       "    .dataframe tbody tr th {\n",
       "        vertical-align: top;\n",
       "    }\n",
       "\n",
       "    .dataframe thead th {\n",
       "        text-align: right;\n",
       "    }\n",
       "</style>\n",
       "<table border=\"1\" class=\"dataframe\">\n",
       "  <thead>\n",
       "    <tr style=\"text-align: right;\">\n",
       "      <th></th>\n",
       "      <th>country_name</th>\n",
       "      <th>indicator_name</th>\n",
       "      <th>1980</th>\n",
       "      <th>1981</th>\n",
       "      <th>1982</th>\n",
       "      <th>1983</th>\n",
       "      <th>1984</th>\n",
       "      <th>1985</th>\n",
       "      <th>1986</th>\n",
       "      <th>1987</th>\n",
       "      <th>...</th>\n",
       "      <th>2015</th>\n",
       "      <th>2016</th>\n",
       "      <th>2017</th>\n",
       "      <th>2018</th>\n",
       "      <th>2019</th>\n",
       "      <th>2020</th>\n",
       "      <th>2021</th>\n",
       "      <th>2022</th>\n",
       "      <th>2023</th>\n",
       "      <th>2024</th>\n",
       "    </tr>\n",
       "  </thead>\n",
       "  <tbody>\n",
       "    <tr>\n",
       "      <th>0</th>\n",
       "      <td>Afghanistan</td>\n",
       "      <td>Annual average inflation (consumer prices) rate</td>\n",
       "      <td>13.4</td>\n",
       "      <td>22.2</td>\n",
       "      <td>18.2</td>\n",
       "      <td>15.9</td>\n",
       "      <td>20.4</td>\n",
       "      <td>8.7</td>\n",
       "      <td>-2.1</td>\n",
       "      <td>18.4</td>\n",
       "      <td>...</td>\n",
       "      <td>-0.66</td>\n",
       "      <td>4.38</td>\n",
       "      <td>4.98</td>\n",
       "      <td>0.63</td>\n",
       "      <td>2.3</td>\n",
       "      <td>5.44</td>\n",
       "      <td>5.06</td>\n",
       "      <td>13.71</td>\n",
       "      <td>9.1</td>\n",
       "      <td>NaN</td>\n",
       "    </tr>\n",
       "    <tr>\n",
       "      <th>1</th>\n",
       "      <td>Albania</td>\n",
       "      <td>Annual average inflation (consumer prices) rate</td>\n",
       "      <td>NaN</td>\n",
       "      <td>NaN</td>\n",
       "      <td>NaN</td>\n",
       "      <td>NaN</td>\n",
       "      <td>NaN</td>\n",
       "      <td>NaN</td>\n",
       "      <td>NaN</td>\n",
       "      <td>NaN</td>\n",
       "      <td>...</td>\n",
       "      <td>1.90</td>\n",
       "      <td>1.30</td>\n",
       "      <td>2.00</td>\n",
       "      <td>2.00</td>\n",
       "      <td>1.4</td>\n",
       "      <td>1.60</td>\n",
       "      <td>2.00</td>\n",
       "      <td>6.70</td>\n",
       "      <td>4.8</td>\n",
       "      <td>4.0</td>\n",
       "    </tr>\n",
       "    <tr>\n",
       "      <th>2</th>\n",
       "      <td>Algeria</td>\n",
       "      <td>Annual average inflation (consumer prices) rate</td>\n",
       "      <td>9.7</td>\n",
       "      <td>14.6</td>\n",
       "      <td>6.6</td>\n",
       "      <td>7.8</td>\n",
       "      <td>6.3</td>\n",
       "      <td>10.4</td>\n",
       "      <td>14.0</td>\n",
       "      <td>5.9</td>\n",
       "      <td>...</td>\n",
       "      <td>4.80</td>\n",
       "      <td>6.40</td>\n",
       "      <td>5.60</td>\n",
       "      <td>4.30</td>\n",
       "      <td>2.0</td>\n",
       "      <td>2.40</td>\n",
       "      <td>7.20</td>\n",
       "      <td>9.30</td>\n",
       "      <td>9.0</td>\n",
       "      <td>6.8</td>\n",
       "    </tr>\n",
       "    <tr>\n",
       "      <th>3</th>\n",
       "      <td>Andorra</td>\n",
       "      <td>Annual average inflation (consumer prices) rate</td>\n",
       "      <td>NaN</td>\n",
       "      <td>NaN</td>\n",
       "      <td>NaN</td>\n",
       "      <td>NaN</td>\n",
       "      <td>NaN</td>\n",
       "      <td>NaN</td>\n",
       "      <td>NaN</td>\n",
       "      <td>NaN</td>\n",
       "      <td>...</td>\n",
       "      <td>-1.10</td>\n",
       "      <td>-0.40</td>\n",
       "      <td>2.60</td>\n",
       "      <td>1.00</td>\n",
       "      <td>0.5</td>\n",
       "      <td>0.10</td>\n",
       "      <td>1.70</td>\n",
       "      <td>6.20</td>\n",
       "      <td>5.2</td>\n",
       "      <td>3.5</td>\n",
       "    </tr>\n",
       "    <tr>\n",
       "      <th>4</th>\n",
       "      <td>Angola</td>\n",
       "      <td>Annual average inflation (consumer prices) rate</td>\n",
       "      <td>46.7</td>\n",
       "      <td>1.4</td>\n",
       "      <td>1.8</td>\n",
       "      <td>1.8</td>\n",
       "      <td>1.8</td>\n",
       "      <td>1.8</td>\n",
       "      <td>1.8</td>\n",
       "      <td>1.8</td>\n",
       "      <td>...</td>\n",
       "      <td>9.20</td>\n",
       "      <td>30.70</td>\n",
       "      <td>29.80</td>\n",
       "      <td>19.60</td>\n",
       "      <td>17.1</td>\n",
       "      <td>22.30</td>\n",
       "      <td>25.80</td>\n",
       "      <td>21.40</td>\n",
       "      <td>13.1</td>\n",
       "      <td>22.3</td>\n",
       "    </tr>\n",
       "    <tr>\n",
       "      <th>...</th>\n",
       "      <td>...</td>\n",
       "      <td>...</td>\n",
       "      <td>...</td>\n",
       "      <td>...</td>\n",
       "      <td>...</td>\n",
       "      <td>...</td>\n",
       "      <td>...</td>\n",
       "      <td>...</td>\n",
       "      <td>...</td>\n",
       "      <td>...</td>\n",
       "      <td>...</td>\n",
       "      <td>...</td>\n",
       "      <td>...</td>\n",
       "      <td>...</td>\n",
       "      <td>...</td>\n",
       "      <td>...</td>\n",
       "      <td>...</td>\n",
       "      <td>...</td>\n",
       "      <td>...</td>\n",
       "      <td>...</td>\n",
       "      <td>...</td>\n",
       "    </tr>\n",
       "    <tr>\n",
       "      <th>191</th>\n",
       "      <td>Vietnam</td>\n",
       "      <td>Annual average inflation (consumer prices) rate</td>\n",
       "      <td>25.2</td>\n",
       "      <td>69.6</td>\n",
       "      <td>95.4</td>\n",
       "      <td>49.5</td>\n",
       "      <td>64.9</td>\n",
       "      <td>91.6</td>\n",
       "      <td>453.5</td>\n",
       "      <td>360.4</td>\n",
       "      <td>...</td>\n",
       "      <td>0.60</td>\n",
       "      <td>2.70</td>\n",
       "      <td>3.50</td>\n",
       "      <td>3.50</td>\n",
       "      <td>2.8</td>\n",
       "      <td>3.20</td>\n",
       "      <td>1.80</td>\n",
       "      <td>3.20</td>\n",
       "      <td>3.4</td>\n",
       "      <td>3.4</td>\n",
       "    </tr>\n",
       "    <tr>\n",
       "      <th>192</th>\n",
       "      <td>West Bank and Gaza</td>\n",
       "      <td>Annual average inflation (consumer prices) rate</td>\n",
       "      <td>NaN</td>\n",
       "      <td>NaN</td>\n",
       "      <td>NaN</td>\n",
       "      <td>NaN</td>\n",
       "      <td>NaN</td>\n",
       "      <td>NaN</td>\n",
       "      <td>NaN</td>\n",
       "      <td>NaN</td>\n",
       "      <td>...</td>\n",
       "      <td>1.40</td>\n",
       "      <td>-0.20</td>\n",
       "      <td>0.20</td>\n",
       "      <td>-0.20</td>\n",
       "      <td>1.6</td>\n",
       "      <td>-0.70</td>\n",
       "      <td>1.20</td>\n",
       "      <td>3.70</td>\n",
       "      <td>3.4</td>\n",
       "      <td>2.7</td>\n",
       "    </tr>\n",
       "    <tr>\n",
       "      <th>193</th>\n",
       "      <td>Yemen</td>\n",
       "      <td>Annual average inflation (consumer prices) rate</td>\n",
       "      <td>NaN</td>\n",
       "      <td>NaN</td>\n",
       "      <td>NaN</td>\n",
       "      <td>NaN</td>\n",
       "      <td>NaN</td>\n",
       "      <td>NaN</td>\n",
       "      <td>NaN</td>\n",
       "      <td>NaN</td>\n",
       "      <td>...</td>\n",
       "      <td>22.00</td>\n",
       "      <td>21.30</td>\n",
       "      <td>30.40</td>\n",
       "      <td>33.60</td>\n",
       "      <td>15.7</td>\n",
       "      <td>21.70</td>\n",
       "      <td>31.50</td>\n",
       "      <td>29.50</td>\n",
       "      <td>14.9</td>\n",
       "      <td>17.3</td>\n",
       "    </tr>\n",
       "    <tr>\n",
       "      <th>194</th>\n",
       "      <td>Zambia</td>\n",
       "      <td>Annual average inflation (consumer prices) rate</td>\n",
       "      <td>11.7</td>\n",
       "      <td>14.0</td>\n",
       "      <td>12.5</td>\n",
       "      <td>19.7</td>\n",
       "      <td>20.0</td>\n",
       "      <td>37.4</td>\n",
       "      <td>48.0</td>\n",
       "      <td>43.0</td>\n",
       "      <td>...</td>\n",
       "      <td>10.10</td>\n",
       "      <td>17.90</td>\n",
       "      <td>6.60</td>\n",
       "      <td>7.50</td>\n",
       "      <td>9.2</td>\n",
       "      <td>15.70</td>\n",
       "      <td>22.00</td>\n",
       "      <td>11.00</td>\n",
       "      <td>10.6</td>\n",
       "      <td>9.6</td>\n",
       "    </tr>\n",
       "    <tr>\n",
       "      <th>195</th>\n",
       "      <td>Zimbabwe</td>\n",
       "      <td>Annual average inflation (consumer prices) rate</td>\n",
       "      <td>NaN</td>\n",
       "      <td>5.6</td>\n",
       "      <td>0.6</td>\n",
       "      <td>-8.5</td>\n",
       "      <td>-1.9</td>\n",
       "      <td>-16.0</td>\n",
       "      <td>10.7</td>\n",
       "      <td>12.8</td>\n",
       "      <td>...</td>\n",
       "      <td>-2.40</td>\n",
       "      <td>-1.60</td>\n",
       "      <td>0.90</td>\n",
       "      <td>10.60</td>\n",
       "      <td>255.3</td>\n",
       "      <td>557.20</td>\n",
       "      <td>98.50</td>\n",
       "      <td>193.40</td>\n",
       "      <td>314.5</td>\n",
       "      <td>222.4</td>\n",
       "    </tr>\n",
       "  </tbody>\n",
       "</table>\n",
       "<p>196 rows × 47 columns</p>\n",
       "</div>"
      ],
      "text/plain": [
       "           country_name                                   indicator_name  \\\n",
       "0           Afghanistan  Annual average inflation (consumer prices) rate   \n",
       "1               Albania  Annual average inflation (consumer prices) rate   \n",
       "2               Algeria  Annual average inflation (consumer prices) rate   \n",
       "3               Andorra  Annual average inflation (consumer prices) rate   \n",
       "4                Angola  Annual average inflation (consumer prices) rate   \n",
       "..                  ...                                              ...   \n",
       "191             Vietnam  Annual average inflation (consumer prices) rate   \n",
       "192  West Bank and Gaza  Annual average inflation (consumer prices) rate   \n",
       "193               Yemen  Annual average inflation (consumer prices) rate   \n",
       "194              Zambia  Annual average inflation (consumer prices) rate   \n",
       "195            Zimbabwe  Annual average inflation (consumer prices) rate   \n",
       "\n",
       "     1980  1981  1982  1983  1984  1985   1986   1987  ...   2015   2016  \\\n",
       "0    13.4  22.2  18.2  15.9  20.4   8.7   -2.1   18.4  ...  -0.66   4.38   \n",
       "1     NaN   NaN   NaN   NaN   NaN   NaN    NaN    NaN  ...   1.90   1.30   \n",
       "2     9.7  14.6   6.6   7.8   6.3  10.4   14.0    5.9  ...   4.80   6.40   \n",
       "3     NaN   NaN   NaN   NaN   NaN   NaN    NaN    NaN  ...  -1.10  -0.40   \n",
       "4    46.7   1.4   1.8   1.8   1.8   1.8    1.8    1.8  ...   9.20  30.70   \n",
       "..    ...   ...   ...   ...   ...   ...    ...    ...  ...    ...    ...   \n",
       "191  25.2  69.6  95.4  49.5  64.9  91.6  453.5  360.4  ...   0.60   2.70   \n",
       "192   NaN   NaN   NaN   NaN   NaN   NaN    NaN    NaN  ...   1.40  -0.20   \n",
       "193   NaN   NaN   NaN   NaN   NaN   NaN    NaN    NaN  ...  22.00  21.30   \n",
       "194  11.7  14.0  12.5  19.7  20.0  37.4   48.0   43.0  ...  10.10  17.90   \n",
       "195   NaN   5.6   0.6  -8.5  -1.9 -16.0   10.7   12.8  ...  -2.40  -1.60   \n",
       "\n",
       "      2017   2018   2019    2020   2021    2022   2023   2024  \n",
       "0     4.98   0.63    2.3    5.44   5.06   13.71    9.1    NaN  \n",
       "1     2.00   2.00    1.4    1.60   2.00    6.70    4.8    4.0  \n",
       "2     5.60   4.30    2.0    2.40   7.20    9.30    9.0    6.8  \n",
       "3     2.60   1.00    0.5    0.10   1.70    6.20    5.2    3.5  \n",
       "4    29.80  19.60   17.1   22.30  25.80   21.40   13.1   22.3  \n",
       "..     ...    ...    ...     ...    ...     ...    ...    ...  \n",
       "191   3.50   3.50    2.8    3.20   1.80    3.20    3.4    3.4  \n",
       "192   0.20  -0.20    1.6   -0.70   1.20    3.70    3.4    2.7  \n",
       "193  30.40  33.60   15.7   21.70  31.50   29.50   14.9   17.3  \n",
       "194   6.60   7.50    9.2   15.70  22.00   11.00   10.6    9.6  \n",
       "195   0.90  10.60  255.3  557.20  98.50  193.40  314.5  222.4  \n",
       "\n",
       "[196 rows x 47 columns]"
      ]
     },
     "execution_count": 8,
     "metadata": {},
     "output_type": "execute_result"
    }
   ],
   "source": [
    "data"
   ]
  },
  {
   "cell_type": "code",
   "execution_count": 10,
   "id": "7949e071-0dba-40d3-83f4-508e186c8e74",
   "metadata": {},
   "outputs": [
    {
     "data": {
      "text/html": [
       "<div>\n",
       "<style scoped>\n",
       "    .dataframe tbody tr th:only-of-type {\n",
       "        vertical-align: middle;\n",
       "    }\n",
       "\n",
       "    .dataframe tbody tr th {\n",
       "        vertical-align: top;\n",
       "    }\n",
       "\n",
       "    .dataframe thead th {\n",
       "        text-align: right;\n",
       "    }\n",
       "</style>\n",
       "<table border=\"1\" class=\"dataframe\">\n",
       "  <thead>\n",
       "    <tr style=\"text-align: right;\">\n",
       "      <th></th>\n",
       "      <th>1980</th>\n",
       "      <th>1981</th>\n",
       "      <th>1982</th>\n",
       "      <th>1983</th>\n",
       "      <th>1984</th>\n",
       "      <th>1985</th>\n",
       "      <th>1986</th>\n",
       "      <th>1987</th>\n",
       "      <th>1988</th>\n",
       "      <th>1989</th>\n",
       "      <th>...</th>\n",
       "      <th>2015</th>\n",
       "      <th>2016</th>\n",
       "      <th>2017</th>\n",
       "      <th>2018</th>\n",
       "      <th>2019</th>\n",
       "      <th>2020</th>\n",
       "      <th>2021</th>\n",
       "      <th>2022</th>\n",
       "      <th>2023</th>\n",
       "      <th>2024</th>\n",
       "    </tr>\n",
       "  </thead>\n",
       "  <tbody>\n",
       "    <tr>\n",
       "      <th>count</th>\n",
       "      <td>140.000000</td>\n",
       "      <td>144.000000</td>\n",
       "      <td>145.000000</td>\n",
       "      <td>145.000000</td>\n",
       "      <td>145.000000</td>\n",
       "      <td>145.000000</td>\n",
       "      <td>145.000000</td>\n",
       "      <td>147.000000</td>\n",
       "      <td>147.000000</td>\n",
       "      <td>147.000000</td>\n",
       "      <td>...</td>\n",
       "      <td>194.000000</td>\n",
       "      <td>194.000000</td>\n",
       "      <td>195.000000</td>\n",
       "      <td>195.000000</td>\n",
       "      <td>195.000000</td>\n",
       "      <td>194.000000</td>\n",
       "      <td>194.000000</td>\n",
       "      <td>194.000000</td>\n",
       "      <td>192.000000</td>\n",
       "      <td>191.000000</td>\n",
       "    </tr>\n",
       "    <tr>\n",
       "      <th>mean</th>\n",
       "      <td>21.757143</td>\n",
       "      <td>17.796528</td>\n",
       "      <td>17.029655</td>\n",
       "      <td>19.177241</td>\n",
       "      <td>26.979310</td>\n",
       "      <td>103.215172</td>\n",
       "      <td>25.262069</td>\n",
       "      <td>111.294558</td>\n",
       "      <td>58.635374</td>\n",
       "      <td>101.246259</td>\n",
       "      <td>...</td>\n",
       "      <td>4.116186</td>\n",
       "      <td>6.594742</td>\n",
       "      <td>7.656821</td>\n",
       "      <td>339.688359</td>\n",
       "      <td>107.294872</td>\n",
       "      <td>19.832680</td>\n",
       "      <td>16.577629</td>\n",
       "      <td>13.616031</td>\n",
       "      <td>13.736458</td>\n",
       "      <td>9.309424</td>\n",
       "    </tr>\n",
       "    <tr>\n",
       "      <th>std</th>\n",
       "      <td>33.656118</td>\n",
       "      <td>18.992691</td>\n",
       "      <td>22.797064</td>\n",
       "      <td>34.806824</td>\n",
       "      <td>111.889811</td>\n",
       "      <td>975.748316</td>\n",
       "      <td>86.931210</td>\n",
       "      <td>1081.094434</td>\n",
       "      <td>400.370989</td>\n",
       "      <td>679.792142</td>\n",
       "      <td>...</td>\n",
       "      <td>10.763149</td>\n",
       "      <td>31.096216</td>\n",
       "      <td>34.954954</td>\n",
       "      <td>4681.227548</td>\n",
       "      <td>1425.256254</td>\n",
       "      <td>173.722612</td>\n",
       "      <td>117.154632</td>\n",
       "      <td>25.282229</td>\n",
       "      <td>39.667874</td>\n",
       "      <td>25.195589</td>\n",
       "    </tr>\n",
       "    <tr>\n",
       "      <th>min</th>\n",
       "      <td>-7.300000</td>\n",
       "      <td>0.000000</td>\n",
       "      <td>-0.900000</td>\n",
       "      <td>-8.500000</td>\n",
       "      <td>-7.400000</td>\n",
       "      <td>-16.000000</td>\n",
       "      <td>-17.600000</td>\n",
       "      <td>-31.200000</td>\n",
       "      <td>-13.000000</td>\n",
       "      <td>-9.600000</td>\n",
       "      <td>...</td>\n",
       "      <td>-3.800000</td>\n",
       "      <td>-5.600000</td>\n",
       "      <td>-13.300000</td>\n",
       "      <td>-44.400000</td>\n",
       "      <td>-3.200000</td>\n",
       "      <td>-2.600000</td>\n",
       "      <td>-3.000000</td>\n",
       "      <td>-3.200000</td>\n",
       "      <td>-0.800000</td>\n",
       "      <td>1.200000</td>\n",
       "    </tr>\n",
       "    <tr>\n",
       "      <th>25%</th>\n",
       "      <td>9.550000</td>\n",
       "      <td>8.600000</td>\n",
       "      <td>6.100000</td>\n",
       "      <td>5.000000</td>\n",
       "      <td>3.800000</td>\n",
       "      <td>2.800000</td>\n",
       "      <td>1.800000</td>\n",
       "      <td>2.150000</td>\n",
       "      <td>2.550000</td>\n",
       "      <td>3.350000</td>\n",
       "      <td>...</td>\n",
       "      <td>0.100000</td>\n",
       "      <td>0.100000</td>\n",
       "      <td>1.150000</td>\n",
       "      <td>1.300000</td>\n",
       "      <td>0.800000</td>\n",
       "      <td>0.400000</td>\n",
       "      <td>1.925000</td>\n",
       "      <td>5.500000</td>\n",
       "      <td>4.000000</td>\n",
       "      <td>2.800000</td>\n",
       "    </tr>\n",
       "    <tr>\n",
       "      <th>50%</th>\n",
       "      <td>13.850000</td>\n",
       "      <td>12.500000</td>\n",
       "      <td>10.300000</td>\n",
       "      <td>8.700000</td>\n",
       "      <td>8.000000</td>\n",
       "      <td>7.100000</td>\n",
       "      <td>5.800000</td>\n",
       "      <td>5.900000</td>\n",
       "      <td>6.800000</td>\n",
       "      <td>6.900000</td>\n",
       "      <td>...</td>\n",
       "      <td>1.500000</td>\n",
       "      <td>1.500000</td>\n",
       "      <td>2.400000</td>\n",
       "      <td>2.500000</td>\n",
       "      <td>2.200000</td>\n",
       "      <td>1.900000</td>\n",
       "      <td>3.500000</td>\n",
       "      <td>8.100000</td>\n",
       "      <td>5.800000</td>\n",
       "      <td>4.000000</td>\n",
       "    </tr>\n",
       "    <tr>\n",
       "      <th>75%</th>\n",
       "      <td>20.525000</td>\n",
       "      <td>19.800000</td>\n",
       "      <td>16.700000</td>\n",
       "      <td>16.000000</td>\n",
       "      <td>17.100000</td>\n",
       "      <td>16.800000</td>\n",
       "      <td>18.200000</td>\n",
       "      <td>16.650000</td>\n",
       "      <td>17.800000</td>\n",
       "      <td>16.700000</td>\n",
       "      <td>...</td>\n",
       "      <td>4.800000</td>\n",
       "      <td>5.125000</td>\n",
       "      <td>5.200000</td>\n",
       "      <td>4.300000</td>\n",
       "      <td>4.000000</td>\n",
       "      <td>4.575000</td>\n",
       "      <td>5.975000</td>\n",
       "      <td>11.975000</td>\n",
       "      <td>9.925000</td>\n",
       "      <td>5.800000</td>\n",
       "    </tr>\n",
       "    <tr>\n",
       "      <th>max</th>\n",
       "      <td>316.600000</td>\n",
       "      <td>116.800000</td>\n",
       "      <td>123.600000</td>\n",
       "      <td>275.600000</td>\n",
       "      <td>1281.300000</td>\n",
       "      <td>11749.600000</td>\n",
       "      <td>885.200000</td>\n",
       "      <td>13109.500000</td>\n",
       "      <td>4775.200000</td>\n",
       "      <td>7428.700000</td>\n",
       "      <td>...</td>\n",
       "      <td>121.700000</td>\n",
       "      <td>346.100000</td>\n",
       "      <td>438.100000</td>\n",
       "      <td>65374.100000</td>\n",
       "      <td>19906.000000</td>\n",
       "      <td>2355.100000</td>\n",
       "      <td>1588.500000</td>\n",
       "      <td>193.400000</td>\n",
       "      <td>360.000000</td>\n",
       "      <td>222.400000</td>\n",
       "    </tr>\n",
       "  </tbody>\n",
       "</table>\n",
       "<p>8 rows × 45 columns</p>\n",
       "</div>"
      ],
      "text/plain": [
       "             1980        1981        1982        1983         1984  \\\n",
       "count  140.000000  144.000000  145.000000  145.000000   145.000000   \n",
       "mean    21.757143   17.796528   17.029655   19.177241    26.979310   \n",
       "std     33.656118   18.992691   22.797064   34.806824   111.889811   \n",
       "min     -7.300000    0.000000   -0.900000   -8.500000    -7.400000   \n",
       "25%      9.550000    8.600000    6.100000    5.000000     3.800000   \n",
       "50%     13.850000   12.500000   10.300000    8.700000     8.000000   \n",
       "75%     20.525000   19.800000   16.700000   16.000000    17.100000   \n",
       "max    316.600000  116.800000  123.600000  275.600000  1281.300000   \n",
       "\n",
       "               1985        1986          1987         1988         1989  ...  \\\n",
       "count    145.000000  145.000000    147.000000   147.000000   147.000000  ...   \n",
       "mean     103.215172   25.262069    111.294558    58.635374   101.246259  ...   \n",
       "std      975.748316   86.931210   1081.094434   400.370989   679.792142  ...   \n",
       "min      -16.000000  -17.600000    -31.200000   -13.000000    -9.600000  ...   \n",
       "25%        2.800000    1.800000      2.150000     2.550000     3.350000  ...   \n",
       "50%        7.100000    5.800000      5.900000     6.800000     6.900000  ...   \n",
       "75%       16.800000   18.200000     16.650000    17.800000    16.700000  ...   \n",
       "max    11749.600000  885.200000  13109.500000  4775.200000  7428.700000  ...   \n",
       "\n",
       "             2015        2016        2017          2018          2019  \\\n",
       "count  194.000000  194.000000  195.000000    195.000000    195.000000   \n",
       "mean     4.116186    6.594742    7.656821    339.688359    107.294872   \n",
       "std     10.763149   31.096216   34.954954   4681.227548   1425.256254   \n",
       "min     -3.800000   -5.600000  -13.300000    -44.400000     -3.200000   \n",
       "25%      0.100000    0.100000    1.150000      1.300000      0.800000   \n",
       "50%      1.500000    1.500000    2.400000      2.500000      2.200000   \n",
       "75%      4.800000    5.125000    5.200000      4.300000      4.000000   \n",
       "max    121.700000  346.100000  438.100000  65374.100000  19906.000000   \n",
       "\n",
       "              2020         2021        2022        2023        2024  \n",
       "count   194.000000   194.000000  194.000000  192.000000  191.000000  \n",
       "mean     19.832680    16.577629   13.616031   13.736458    9.309424  \n",
       "std     173.722612   117.154632   25.282229   39.667874   25.195589  \n",
       "min      -2.600000    -3.000000   -3.200000   -0.800000    1.200000  \n",
       "25%       0.400000     1.925000    5.500000    4.000000    2.800000  \n",
       "50%       1.900000     3.500000    8.100000    5.800000    4.000000  \n",
       "75%       4.575000     5.975000   11.975000    9.925000    5.800000  \n",
       "max    2355.100000  1588.500000  193.400000  360.000000  222.400000  \n",
       "\n",
       "[8 rows x 45 columns]"
      ]
     },
     "execution_count": 10,
     "metadata": {},
     "output_type": "execute_result"
    }
   ],
   "source": [
    "data.describe()"
   ]
  },
  {
   "cell_type": "code",
   "execution_count": 28,
   "id": "64022bc4-5d87-4d51-9d09-421d3b87b888",
   "metadata": {},
   "outputs": [
    {
     "data": {
      "text/html": [
       "<div>\n",
       "<style scoped>\n",
       "    .dataframe tbody tr th:only-of-type {\n",
       "        vertical-align: middle;\n",
       "    }\n",
       "\n",
       "    .dataframe tbody tr th {\n",
       "        vertical-align: top;\n",
       "    }\n",
       "\n",
       "    .dataframe thead th {\n",
       "        text-align: right;\n",
       "    }\n",
       "</style>\n",
       "<table border=\"1\" class=\"dataframe\">\n",
       "  <thead>\n",
       "    <tr style=\"text-align: right;\">\n",
       "      <th></th>\n",
       "      <th>2023</th>\n",
       "      <th>2024</th>\n",
       "    </tr>\n",
       "  </thead>\n",
       "  <tbody>\n",
       "    <tr>\n",
       "      <th>0</th>\n",
       "      <td>9.1</td>\n",
       "      <td>NaN</td>\n",
       "    </tr>\n",
       "    <tr>\n",
       "      <th>1</th>\n",
       "      <td>4.8</td>\n",
       "      <td>4.0</td>\n",
       "    </tr>\n",
       "    <tr>\n",
       "      <th>2</th>\n",
       "      <td>9.0</td>\n",
       "      <td>6.8</td>\n",
       "    </tr>\n",
       "    <tr>\n",
       "      <th>3</th>\n",
       "      <td>5.2</td>\n",
       "      <td>3.5</td>\n",
       "    </tr>\n",
       "    <tr>\n",
       "      <th>4</th>\n",
       "      <td>13.1</td>\n",
       "      <td>22.3</td>\n",
       "    </tr>\n",
       "    <tr>\n",
       "      <th>...</th>\n",
       "      <td>...</td>\n",
       "      <td>...</td>\n",
       "    </tr>\n",
       "    <tr>\n",
       "      <th>191</th>\n",
       "      <td>3.4</td>\n",
       "      <td>3.4</td>\n",
       "    </tr>\n",
       "    <tr>\n",
       "      <th>192</th>\n",
       "      <td>3.4</td>\n",
       "      <td>2.7</td>\n",
       "    </tr>\n",
       "    <tr>\n",
       "      <th>193</th>\n",
       "      <td>14.9</td>\n",
       "      <td>17.3</td>\n",
       "    </tr>\n",
       "    <tr>\n",
       "      <th>194</th>\n",
       "      <td>10.6</td>\n",
       "      <td>9.6</td>\n",
       "    </tr>\n",
       "    <tr>\n",
       "      <th>195</th>\n",
       "      <td>314.5</td>\n",
       "      <td>222.4</td>\n",
       "    </tr>\n",
       "  </tbody>\n",
       "</table>\n",
       "<p>196 rows × 2 columns</p>\n",
       "</div>"
      ],
      "text/plain": [
       "      2023   2024\n",
       "0      9.1    NaN\n",
       "1      4.8    4.0\n",
       "2      9.0    6.8\n",
       "3      5.2    3.5\n",
       "4     13.1   22.3\n",
       "..     ...    ...\n",
       "191    3.4    3.4\n",
       "192    3.4    2.7\n",
       "193   14.9   17.3\n",
       "194   10.6    9.6\n",
       "195  314.5  222.4\n",
       "\n",
       "[196 rows x 2 columns]"
      ]
     },
     "execution_count": 28,
     "metadata": {},
     "output_type": "execute_result"
    }
   ],
   "source": [
    "data1=data[[\"2023\",\"2024\"]]\n",
    "data1"
   ]
  },
  {
   "cell_type": "code",
   "execution_count": 36,
   "id": "3c7d99b4-0491-437b-80c9-53773fbe77a4",
   "metadata": {},
   "outputs": [
    {
     "data": {
      "text/plain": [
       "<Axes: xlabel='2023', ylabel='2024'>"
      ]
     },
     "execution_count": 36,
     "metadata": {},
     "output_type": "execute_result"
    },
    {
     "data": {
      "image/png": "[encoded data removed]",
      "text/plain": [
       "<Figure size 640x480 with 1 Axes>"
      ]
     },
     "metadata": {},
     "output_type": "display_data"
    }
   ],
   "source": [
    "sns.scatterplot(x=\"2023\",y=\"2024\",data=data1)\n",
    "#scatter plot of yearr 2023.2024"
   ]
  },
  {
   "cell_type": "code",
   "execution_count": 84,
   "id": "97a39eba-6885-4f8e-9d4c-b9bd713dc19a",
   "metadata": {},
   "outputs": [
    {
     "data": {
      "text/html": [
       "<div>\n",
       "<style scoped>\n",
       "    .dataframe tbody tr th:only-of-type {\n",
       "        vertical-align: middle;\n",
       "    }\n",
       "\n",
       "    .dataframe tbody tr th {\n",
       "        vertical-align: top;\n",
       "    }\n",
       "\n",
       "    .dataframe thead th {\n",
       "        text-align: right;\n",
       "    }\n",
       "</style>\n",
       "<table border=\"1\" class=\"dataframe\">\n",
       "  <thead>\n",
       "    <tr style=\"text-align: right;\">\n",
       "      <th></th>\n",
       "      <th>country_name</th>\n",
       "      <th>2024</th>\n",
       "    </tr>\n",
       "  </thead>\n",
       "  <tbody>\n",
       "    <tr>\n",
       "      <th>0</th>\n",
       "      <td>Afghanistan</td>\n",
       "      <td>NaN</td>\n",
       "    </tr>\n",
       "    <tr>\n",
       "      <th>1</th>\n",
       "      <td>Albania</td>\n",
       "      <td>4.0</td>\n",
       "    </tr>\n",
       "    <tr>\n",
       "      <th>2</th>\n",
       "      <td>Algeria</td>\n",
       "      <td>6.8</td>\n",
       "    </tr>\n",
       "    <tr>\n",
       "      <th>3</th>\n",
       "      <td>Andorra</td>\n",
       "      <td>3.5</td>\n",
       "    </tr>\n",
       "    <tr>\n",
       "      <th>4</th>\n",
       "      <td>Angola</td>\n",
       "      <td>22.3</td>\n",
       "    </tr>\n",
       "    <tr>\n",
       "      <th>...</th>\n",
       "      <td>...</td>\n",
       "      <td>...</td>\n",
       "    </tr>\n",
       "    <tr>\n",
       "      <th>191</th>\n",
       "      <td>Vietnam</td>\n",
       "      <td>3.4</td>\n",
       "    </tr>\n",
       "    <tr>\n",
       "      <th>192</th>\n",
       "      <td>West Bank and Gaza</td>\n",
       "      <td>2.7</td>\n",
       "    </tr>\n",
       "    <tr>\n",
       "      <th>193</th>\n",
       "      <td>Yemen</td>\n",
       "      <td>17.3</td>\n",
       "    </tr>\n",
       "    <tr>\n",
       "      <th>194</th>\n",
       "      <td>Zambia</td>\n",
       "      <td>9.6</td>\n",
       "    </tr>\n",
       "    <tr>\n",
       "      <th>195</th>\n",
       "      <td>Zimbabwe</td>\n",
       "      <td>222.4</td>\n",
       "    </tr>\n",
       "  </tbody>\n",
       "</table>\n",
       "<p>196 rows × 2 columns</p>\n",
       "</div>"
      ],
      "text/plain": [
       "           country_name   2024\n",
       "0           Afghanistan    NaN\n",
       "1               Albania    4.0\n",
       "2               Algeria    6.8\n",
       "3               Andorra    3.5\n",
       "4                Angola   22.3\n",
       "..                  ...    ...\n",
       "191             Vietnam    3.4\n",
       "192  West Bank and Gaza    2.7\n",
       "193               Yemen   17.3\n",
       "194              Zambia    9.6\n",
       "195            Zimbabwe  222.4\n",
       "\n",
       "[196 rows x 2 columns]"
      ]
     },
     "execution_count": 84,
     "metadata": {},
     "output_type": "execute_result"
    }
   ],
   "source": [
    "data2=data[[\"country_name\",\"2024\"]]\n",
    "data2"
   ]
  },
  {
   "cell_type": "code",
   "execution_count": 88,
   "id": "87c3cc34-c661-4a49-8d4a-3d5f6167c77b",
   "metadata": {},
   "outputs": [
    {
     "data": {
      "text/html": [
       "<div>\n",
       "<style scoped>\n",
       "    .dataframe tbody tr th:only-of-type {\n",
       "        vertical-align: middle;\n",
       "    }\n",
       "\n",
       "    .dataframe tbody tr th {\n",
       "        vertical-align: top;\n",
       "    }\n",
       "\n",
       "    .dataframe thead th {\n",
       "        text-align: right;\n",
       "    }\n",
       "</style>\n",
       "<table border=\"1\" class=\"dataframe\">\n",
       "  <thead>\n",
       "    <tr style=\"text-align: right;\">\n",
       "      <th></th>\n",
       "      <th>country_name</th>\n",
       "      <th>2024</th>\n",
       "    </tr>\n",
       "  </thead>\n",
       "  <tbody>\n",
       "    <tr>\n",
       "      <th>0</th>\n",
       "      <td>Afghanistan</td>\n",
       "      <td>NaN</td>\n",
       "    </tr>\n",
       "    <tr>\n",
       "      <th>1</th>\n",
       "      <td>Albania</td>\n",
       "      <td>4.0</td>\n",
       "    </tr>\n",
       "    <tr>\n",
       "      <th>2</th>\n",
       "      <td>Algeria</td>\n",
       "      <td>6.8</td>\n",
       "    </tr>\n",
       "    <tr>\n",
       "      <th>3</th>\n",
       "      <td>Andorra</td>\n",
       "      <td>3.5</td>\n",
       "    </tr>\n",
       "    <tr>\n",
       "      <th>4</th>\n",
       "      <td>Angola</td>\n",
       "      <td>22.3</td>\n",
       "    </tr>\n",
       "    <tr>\n",
       "      <th>5</th>\n",
       "      <td>Antigua and Barbuda</td>\n",
       "      <td>2.9</td>\n",
       "    </tr>\n",
       "    <tr>\n",
       "      <th>6</th>\n",
       "      <td>Argentina</td>\n",
       "      <td>93.7</td>\n",
       "    </tr>\n",
       "    <tr>\n",
       "      <th>7</th>\n",
       "      <td>Armenia</td>\n",
       "      <td>4.0</td>\n",
       "    </tr>\n",
       "    <tr>\n",
       "      <th>8</th>\n",
       "      <td>Aruba</td>\n",
       "      <td>2.3</td>\n",
       "    </tr>\n",
       "    <tr>\n",
       "      <th>9</th>\n",
       "      <td>Australia</td>\n",
       "      <td>4.0</td>\n",
       "    </tr>\n",
       "  </tbody>\n",
       "</table>\n",
       "</div>"
      ],
      "text/plain": [
       "          country_name  2024\n",
       "0          Afghanistan   NaN\n",
       "1              Albania   4.0\n",
       "2              Algeria   6.8\n",
       "3              Andorra   3.5\n",
       "4               Angola  22.3\n",
       "5  Antigua and Barbuda   2.9\n",
       "6            Argentina  93.7\n",
       "7              Armenia   4.0\n",
       "8                Aruba   2.3\n",
       "9            Australia   4.0"
      ]
     },
     "execution_count": 88,
     "metadata": {},
     "output_type": "execute_result"
    }
   ],
   "source": [
    "data3=data2.head(10)\n",
    "data3"
   ]
  },
  {
   "cell_type": "code",
   "execution_count": 90,
   "id": "c08ef174-eba0-480d-9c86-951b21365385",
   "metadata": {},
   "outputs": [
    {
     "data": {
      "text/plain": [
       "<BarContainer object of 10 artists>"
      ]
     },
     "execution_count": 90,
     "metadata": {},
     "output_type": "execute_result"
    },
    {
     "data": {
      "image/png": "[encoded data removed]",
      "text/plain": [
       "<Figure size 640x480 with 1 Axes>"
      ]
     },
     "metadata": {},
     "output_type": "display_data"
    }
   ],
   "source": [
    "plt.barh(data3[\"country_name\"],data3[\"2024\"])\n",
    "#2024 top 10 country inflation graph"
   ]
  },
  {
   "cell_type": "code",
   "execution_count": null,
   "id": "4bc8560d-2266-4ebf-9999-9d311ac682b5",
   "metadata": {},
   "outputs": [],
   "source": []
  }
 ],
 "metadata": {
  "kernelspec": {
   "display_name": "Python 3 (ipykernel)",
   "language": "python",
   "name": "python3"
  },
  "language_info": {
   "codemirror_mode": {
    "name": "ipython",
    "version": 3
   },
   "file_extension": ".py",
   "mimetype": "text/x-python",
   "name": "python",
   "nbconvert_exporter": "python",
   "pygments_lexer": "ipython3",
   "version": "3.11.5"
  }
 },
 "nbformat": 4,
 "nbformat_minor": 5
}
