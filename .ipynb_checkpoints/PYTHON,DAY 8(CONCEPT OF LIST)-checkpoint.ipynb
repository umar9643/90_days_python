{
 "cells": [
  {
   "cell_type": "markdown",
   "id": "c6f10efd",
   "metadata": {},
   "source": [
    "# List In Pyhton"
   ]
  },
  {
   "cell_type": "markdown",
   "id": "fca59509",
   "metadata": {},
   "source": [
    "LIST ARE USED TO STORE MULTIPLE ITEMS IN A SINGLE VARIABLE.\n"
   ]
  },
  {
   "cell_type": "markdown",
   "id": "582f5739",
   "metadata": {},
   "source": [
    "LIST ARE ONE OF 4 DATA TYPES IN PYTHON USED TO STORE COLLECTECTION OF DATA OTHER ARE TUPPLE,SET,DITCIONARY\n",
    ",ALL WITH  DIF USAGES OR QUALITIES"
   ]
  },
  {
   "cell_type": "markdown",
   "id": "2f2768fe",
   "metadata": {},
   "source": [
    "LIST ARE THE SIMPLST CONTAINER THAT ARE AN INTEGRAL PART OF A PYTHON LANGUAGEL LIST NEED NOT TO BE HOMOGENIOUS ALWLAYS\n",
    "WHICH MAKES IT MORE POWERFUL TOOLS IN PYTHON.\n",
    "A SINGLE LIST MAY CONTAIN DATA TYPES LIKE INTEGERS, STRINGS, AS WELL AS OBJECTS.LIST SRE MUTABLE AND HENCE THEY CAN BE\n",
    "ALTERD EVEN AFTER THEIR CREATION."
   ]
  },
  {
   "cell_type": "markdown",
   "id": "00db291a",
   "metadata": {},
   "source": [
    "LIST ITEMS ARE ORDERED, CHANGABLE, AND ALLOW DUPLICATE VALUES."
   ]
  },
  {
   "cell_type": "markdown",
   "id": "3ff08860",
   "metadata": {},
   "source": [
    "# Creating a List In Pyhton"
   ]
  },
  {
   "cell_type": "code",
   "execution_count": 4,
   "id": "9614ac05",
   "metadata": {},
   "outputs": [
    {
     "name": "stdout",
     "output_type": "stream",
     "text": [
      "['APPLE', 'BANANA', 'GRAPES']\n",
      "<class 'list'>\n"
     ]
    }
   ],
   "source": [
    "MYLIST=[\"APPLE\",\"BANANA\",\"GRAPES\"]\n",
    "print(MYLIST)\n",
    "print(type(MYLIST))"
   ]
  },
  {
   "cell_type": "markdown",
   "id": "fee04f25",
   "metadata": {},
   "source": [
    "# Allow duplicate"
   ]
  },
  {
   "cell_type": "code",
   "execution_count": 5,
   "id": "df7d4112",
   "metadata": {},
   "outputs": [
    {
     "name": "stdout",
     "output_type": "stream",
     "text": [
      "['apple', 'banana', 'grapes', 'banana', 'apple']\n",
      "<class 'list'>\n"
     ]
    }
   ],
   "source": [
    "mylist=[\"apple\",\"banana\",\"grapes\",\"banana\",\"apple\"]\n",
    "print(mylist)\n",
    "print(type(mylist))"
   ]
  },
  {
   "cell_type": "markdown",
   "id": "1e56daec",
   "metadata": {},
   "source": [
    "# List items - Data types"
   ]
  },
  {
   "cell_type": "code",
   "execution_count": 2,
   "id": "22efd61b",
   "metadata": {},
   "outputs": [
    {
     "name": "stdout",
     "output_type": "stream",
     "text": [
      "['apple', 'banana', 'grapes']\n",
      "<class 'list'>\n",
      "[1, 2, 3, 4, 5]\n",
      "<class 'list'>\n",
      "[2.3, 3.4, 2.3, 4.5, 5.2]\n",
      "<class 'list'>\n",
      "[True, False, True]\n",
      "<class 'list'>\n"
     ]
    }
   ],
   "source": [
    "list1=[\"apple\",\"banana\",\"grapes\"]\n",
    "list2=[1,2,3,4,5,]\n",
    "list3=[2.3,3.4,2.3,4.5,5.2]\n",
    "list4=[True,False,True]\n",
    "print(list1)\n",
    "print(type(list1))\n",
    "print(list2)\n",
    "print(type(list2))\n",
    "print(list3)\n",
    "print(type(list3))\n",
    "print(list4)\n",
    "print(type(list4))"
   ]
  },
  {
   "cell_type": "code",
   "execution_count": 7,
   "id": "24991342",
   "metadata": {},
   "outputs": [
    {
     "name": "stdout",
     "output_type": "stream",
     "text": [
      "[1, 2, 3, 4, 5, True, False, 2.2, 4.5, 5.6, 'apple', 'banana']\n",
      "<class 'list'>\n"
     ]
    }
   ],
   "source": [
    "a=[1,2,3,4,5,True,False,2.2,4.5,5.6,\"apple\",\"banana\"]\n",
    "print(a)\n",
    "print(type(a))"
   ]
  },
  {
   "cell_type": "markdown",
   "id": "2fb6c4ff",
   "metadata": {},
   "source": [
    "# List lenght"
   ]
  },
  {
   "cell_type": "code",
   "execution_count": 8,
   "id": "59f1cc49",
   "metadata": {},
   "outputs": [
    {
     "name": "stdout",
     "output_type": "stream",
     "text": [
      "12\n"
     ]
    }
   ],
   "source": [
    "x=[1,2,3,4,5,True,False,2.2,4.5,5.6,\"apple\",\"banana\"]\n",
    "print(len(x))"
   ]
  },
  {
   "cell_type": "markdown",
   "id": "49c71b06",
   "metadata": {},
   "source": [
    "# Indexing"
   ]
  },
  {
   "cell_type": "markdown",
   "id": "044f406f-4ac6-4f9a-b1b9-5f762ef5ebae",
   "metadata": {},
   "source": [
    "Indexing is a way to access individual elements of a sequence (like a tuple, list, or string) by their position (index number)."
   ]
  },
  {
   "cell_type": "code",
   "execution_count": 10,
   "id": "107a55b4",
   "metadata": {},
   "outputs": [
    {
     "name": "stdout",
     "output_type": "stream",
     "text": [
      "55\n"
     ]
    }
   ],
   "source": [
    "list=[22,33,44,55,66,77,88,99,1,2,3,4,5,6,7,8,9]\n",
    "print(list[3])"
   ]
  },
  {
   "cell_type": "code",
   "execution_count": 12,
   "id": "a9df7dc6",
   "metadata": {},
   "outputs": [
    {
     "name": "stdout",
     "output_type": "stream",
     "text": [
      "h\n"
     ]
    }
   ],
   "source": [
    "list=[\"a\",\"s\",\"d\",\"f\",\"g\",\"h\",\"h\",\"j\",\"k\",\"l\"]\n",
    "print(list[5])"
   ]
  },
  {
   "cell_type": "code",
   "execution_count": 15,
   "id": "62c25e04",
   "metadata": {},
   "outputs": [
    {
     "name": "stdout",
     "output_type": "stream",
     "text": [
      "7\n"
     ]
    }
   ],
   "source": [
    "list=[1,2,3,4,5,6,7,8,9,4,3,4,5,7,4,6]\n",
    "print(list[-10])"
   ]
  },
  {
   "cell_type": "code",
   "execution_count": 14,
   "id": "8d56299c",
   "metadata": {},
   "outputs": [
    {
     "name": "stdout",
     "output_type": "stream",
     "text": [
      "h\n"
     ]
    }
   ],
   "source": [
    "list=[\"a\",\"s\",\"d\",\"f\",\"g\",\"h\",\"h\",\"j\",\"k\",\"l\"]\n",
    "print(list[-4])"
   ]
  },
  {
   "cell_type": "markdown",
   "id": "c9556f99",
   "metadata": {},
   "source": [
    "# Slicing of a list\n"
   ]
  },
  {
   "cell_type": "code",
   "execution_count": 16,
   "id": "ec6f78a0",
   "metadata": {},
   "outputs": [
    {
     "name": "stdout",
     "output_type": "stream",
     "text": [
      "[23, 3, 44, 5]\n"
     ]
    }
   ],
   "source": [
    "l=[23,3,44,5,65,34,4,5,6,3,5,6,3,6,4,6,4,4,544]\n",
    "print(l[0:4])"
   ]
  },
  {
   "cell_type": "code",
   "execution_count": 19,
   "id": "8d70f255",
   "metadata": {},
   "outputs": [
    {
     "name": "stdout",
     "output_type": "stream",
     "text": [
      "[4, 3]\n"
     ]
    }
   ],
   "source": [
    "l=[2,3,4,3,4, 5,6,6,6,534,5435,66343,46,43566,9]\n",
    "print(l[2:4])"
   ]
  },
  {
   "cell_type": "code",
   "execution_count": 20,
   "id": "79804f56",
   "metadata": {},
   "outputs": [
    {
     "name": "stdout",
     "output_type": "stream",
     "text": [
      "[44, 65, 4, 6]\n"
     ]
    }
   ],
   "source": [
    "l=[23,3,44,5,65,34,4,5,6,3,5,6,3,6,4,6,4,4,544]\n",
    "print(l[2:10:2])"
   ]
  },
  {
   "cell_type": "code",
   "execution_count": 21,
   "id": "43b38bfa",
   "metadata": {},
   "outputs": [
    {
     "name": "stdout",
     "output_type": "stream",
     "text": [
      "[4, 5, 6, 66343]\n"
     ]
    }
   ],
   "source": [
    "l=[2,3,4,3,4, 5,6,6,6,534,5435,66343,46,43566,9]\n",
    "print(l[2:12:3])"
   ]
  },
  {
   "cell_type": "markdown",
   "id": "13a3298b",
   "metadata": {},
   "source": [
    "# Reversing a list"
   ]
  },
  {
   "cell_type": "code",
   "execution_count": 27,
   "id": "bf481b97",
   "metadata": {},
   "outputs": [
    {
     "name": "stdout",
     "output_type": "stream",
     "text": [
      "['banana', 'apple', 5.6, 4.5, 2.2, False, True, 5, 4, 3, 2, 1]\n"
     ]
    }
   ],
   "source": [
    "x=[1,2,3,4,5,True,False,2.2,4.5,5.6,\"apple\",\"banana\"]\n",
    "x.reverse()\n",
    "print(x)"
   ]
  },
  {
   "cell_type": "code",
   "execution_count": 4,
   "id": "a3a907c7",
   "metadata": {},
   "outputs": [
    {
     "name": "stdout",
     "output_type": "stream",
     "text": [
      "['banana', 'apple', 5.6, 4.5, 2.2, False, True, 5, 4, 3, 2, 1]\n"
     ]
    }
   ],
   "source": [
    "x=[1,2,3,4,5,True,False,2.2,4.5,5.6,\"apple\",\"banana\"]\n",
    "print(x[::-1])"
   ]
  },
  {
   "cell_type": "code",
   "execution_count": 7,
   "id": "7da65a27-90d7-4af6-8446-0c0d693f32f3",
   "metadata": {},
   "outputs": [
    {
     "name": "stdout",
     "output_type": "stream",
     "text": [
      "[2, 3, 4, 5, 61]\n",
      "['apple', 'cat', 'dog']\n",
      "[61, 5, 4, 3, 2]\n",
      "['dog', 'cat', 'apple']\n"
     ]
    }
   ],
   "source": [
    "\"\"\"Divide list into two list and reverse it\"\"\"\n",
    "\n",
    "l=[2,3,4,5,61,\"apple\",\"cat\",\"dog\"]\n",
    "\n",
    "a=l[:5]\n",
    "print(a)\n",
    "\n",
    "b=l[5:]\n",
    "print(b)\n",
    "\n",
    "print(a[::-1])\n",
    "print(b[::-1])"
   ]
  },
  {
   "cell_type": "markdown",
   "id": "749a0beb-ba79-490b-aa47-f2652a1efb55",
   "metadata": {},
   "source": [
    "# Change list items"
   ]
  },
  {
   "cell_type": "code",
   "execution_count": 5,
   "id": "6468f793",
   "metadata": {},
   "outputs": [
    {
     "name": "stdout",
     "output_type": "stream",
     "text": [
      "['apple', 'banana', 'protein']\n"
     ]
    }
   ],
   "source": [
    "thislist=[\"apple\",\"banana\",\"cherry\"]\n",
    "thislist[2]=\"protein\"\n",
    "print(thislist)"
   ]
  },
  {
   "cell_type": "code",
   "execution_count": 6,
   "id": "411051c5",
   "metadata": {},
   "outputs": [
    {
     "name": "stdout",
     "output_type": "stream",
     "text": [
      "['good for digestion', 'banana', 'cherry']\n"
     ]
    }
   ],
   "source": [
    "thislist=[\"apple\",\"banana\",\"cherry\"]\n",
    "thislist[0]=\"good for digestion\"\n",
    "print(thislist)"
   ]
  },
  {
   "cell_type": "markdown",
   "id": "6f6d8560-aa2f-4731-ade2-32c6243356a3",
   "metadata": {},
   "source": [
    "# Change a range of items values\n"
   ]
  },
  {
   "cell_type": "code",
   "execution_count": 7,
   "id": "16180a28",
   "metadata": {},
   "outputs": [
    {
     "name": "stdout",
     "output_type": "stream",
     "text": [
      "[1, 'two', 'three', 3, 4, 5, 6, 7]\n"
     ]
    }
   ],
   "source": [
    "x=[1,2,3,4,5,6,7]\n",
    "x[1:2]=\"two\",\"three\"\n",
    "print(x)"
   ]
  },
  {
   "cell_type": "markdown",
   "id": "6e4e806f",
   "metadata": {},
   "source": [
    "# append() method "
   ]
  },
  {
   "cell_type": "markdown",
   "id": "e7cbd57a",
   "metadata": {},
   "source": [
    "The append() method adds an item to the end of the list without affecting any existing elements."
   ]
  },
  {
   "cell_type": "code",
   "execution_count": 8,
   "id": "7d421765",
   "metadata": {},
   "outputs": [
    {
     "name": "stdout",
     "output_type": "stream",
     "text": [
      "['apple', 'banana', 'cherry', 'orange']\n"
     ]
    }
   ],
   "source": [
    "thislist=[\"apple\",\"banana\",\"cherry\"]\n",
    "thislist.append(\"orange\")\n",
    "print(thislist)"
   ]
  },
  {
   "cell_type": "code",
   "execution_count": 9,
   "id": "28632577",
   "metadata": {},
   "outputs": [
    {
     "name": "stdout",
     "output_type": "stream",
     "text": [
      "[1, 2, 3, 4, 5, 6, 7, 8]\n"
     ]
    }
   ],
   "source": [
    "x=[1,2,3,4,5,6,7]\n",
    "x.append(8)\n",
    "print(x)#append always add the item in last"
   ]
  },
  {
   "cell_type": "code",
   "execution_count": 10,
   "id": "2da47524",
   "metadata": {},
   "outputs": [
    {
     "name": "stdout",
     "output_type": "stream",
     "text": [
      "[1, 2, 3, 4, 5, 6, 7]\n",
      "[1, 2, 3, 4, 5, 6, 7, ['umar', 'alam']]\n"
     ]
    }
   ],
   "source": [
    "#apppending a list into list\n",
    "x=[1,2,3,4,5,6,7]\n",
    "print(x)\n",
    "y=[\"umar\",\"alam\"]\n",
    "x.append(y)\n",
    "print(x)"
   ]
  },
  {
   "cell_type": "code",
   "execution_count": 12,
   "id": "fae973c1",
   "metadata": {},
   "outputs": [
    {
     "name": "stdout",
     "output_type": "stream",
     "text": [
      "[1, 2, 3, 4, 5, 6, 7]\n"
     ]
    },
    {
     "ename": "TypeError",
     "evalue": "list.append() takes exactly one argument (2 given)",
     "output_type": "error",
     "traceback": [
      "\u001b[1;31m---------------------------------------------------------------------------\u001b[0m",
      "\u001b[1;31mTypeError\u001b[0m                                 Traceback (most recent call last)",
      "Cell \u001b[1;32mIn[12], line 4\u001b[0m\n\u001b[0;32m      2\u001b[0m x\u001b[38;5;241m=\u001b[39m[\u001b[38;5;241m1\u001b[39m,\u001b[38;5;241m2\u001b[39m,\u001b[38;5;241m3\u001b[39m,\u001b[38;5;241m4\u001b[39m,\u001b[38;5;241m5\u001b[39m,\u001b[38;5;241m6\u001b[39m,\u001b[38;5;241m7\u001b[39m]\n\u001b[0;32m      3\u001b[0m \u001b[38;5;28mprint\u001b[39m(x)\n\u001b[1;32m----> 4\u001b[0m \u001b[43mx\u001b[49m\u001b[38;5;241;43m.\u001b[39;49m\u001b[43mappend\u001b[49m\u001b[43m(\u001b[49m\u001b[38;5;241;43m4\u001b[39;49m\u001b[43m,\u001b[49m\u001b[38;5;241;43m3\u001b[39;49m\u001b[43m)\u001b[49m\n\u001b[0;32m      5\u001b[0m \u001b[38;5;28mprint\u001b[39m(x)\n",
      "\u001b[1;31mTypeError\u001b[0m: list.append() takes exactly one argument (2 given)"
     ]
    }
   ],
   "source": [
    "#we can give only one argument in apend\n",
    "x=[1,2,3,4,5,6,7]\n",
    "print(x)\n",
    "x.append(4,3)\n",
    "print(x)"
   ]
  },
  {
   "cell_type": "code",
   "execution_count": 13,
   "id": "7c095287",
   "metadata": {},
   "outputs": [
    {
     "name": "stdout",
     "output_type": "stream",
     "text": [
      "[1, 2, 3, 4, 5, 6, 7]\n",
      "[1, 2, 3, 4, 5, 6, 7, (4, 3)]\n"
     ]
    }
   ],
   "source": [
    "#ways to apppend 2 or more element together\n",
    "x=[1,2,3,4,5,6,7]\n",
    "print(x)\n",
    "r=(4,3)\n",
    "x.append(r)\n",
    "print(x)"
   ]
  },
  {
   "cell_type": "markdown",
   "id": "a9c08214-ab55-4bdb-a02e-8475d8a71e4f",
   "metadata": {},
   "source": [
    "# extend() method"
   ]
  },
  {
   "cell_type": "markdown",
   "id": "c179afb4-c406-4d1f-9eca-dea80014b112",
   "metadata": {},
   "source": [
    "In Python, the extend() method is used with lists to add all the elements of an iterable (like another list, tuple, set, or string) to the end of the list in a normal from.\n",
    "\n"
   ]
  },
  {
   "cell_type": "code",
   "execution_count": 15,
   "id": "9878e244-5ca7-4063-a5ca-324cbf3481c5",
   "metadata": {},
   "outputs": [
    {
     "name": "stdout",
     "output_type": "stream",
     "text": [
      "[1, 2, 3, 4, 5, 6, 7]\n",
      "[1, 2, 3, 4, 5, 6, 7, 4, 3]\n"
     ]
    }
   ],
   "source": [
    "#ways to apppend 2 or more element together\n",
    "x=[1,2,3,4,5,6,7]\n",
    "print(x)\n",
    "r=(4,3)\n",
    "x.extend(r)\n",
    "print(x)"
   ]
  },
  {
   "cell_type": "markdown",
   "id": "b8d7957d-2f85-4094-b400-d3fb75f8eb17",
   "metadata": {},
   "source": [
    "### Lecture-2"
   ]
  },
  {
   "cell_type": "markdown",
   "id": "93bfc1aa-489e-45d6-886b-df0e3c6e396b",
   "metadata": {},
   "source": [
    "# insert() method"
   ]
  },
  {
   "cell_type": "markdown",
   "id": "7d251e5d-e1b7-47a1-845d-01fa825c73d1",
   "metadata": {},
   "source": [
    "The insert() method is used to insert an element at a specific position in a list."
   ]
  },
  {
   "cell_type": "code",
   "execution_count": 16,
   "id": "fdfd77bf-e85e-417c-89bf-b2adf268e622",
   "metadata": {},
   "outputs": [
    {
     "name": "stdout",
     "output_type": "stream",
     "text": [
      "['apple', 'orange', 'banana', 'cherry']\n"
     ]
    }
   ],
   "source": [
    "fruits = ['apple', 'banana', 'cherry']\n",
    "fruits.insert(1, 'orange')\n",
    "print(fruits)\n",
    "# Output: ['apple', 'orange', 'banana', 'cherry']\n"
   ]
  },
  {
   "cell_type": "code",
   "execution_count": 19,
   "id": "8b71f8a1-6de3-4ff4-bb64-c3a1d4bf03ef",
   "metadata": {},
   "outputs": [
    {
     "name": "stdout",
     "output_type": "stream",
     "text": [
      "[23, 43, 45, 32, 11, 23]\n",
      "[23, 43, 54, 45, 32, 11, 23]\n"
     ]
    }
   ],
   "source": [
    "#inserting  54 at the place of 45 index 2\n",
    "l=[23,43,45,32,11,23]\n",
    "print(l)\n",
    "l.insert(2,54)\n",
    "print(l)"
   ]
  },
  {
   "cell_type": "code",
   "execution_count": 20,
   "id": "4dbfe68e",
   "metadata": {},
   "outputs": [
    {
     "name": "stdout",
     "output_type": "stream",
     "text": [
      "[23, 43, 45, 32, 11, 23]\n",
      "[23, 43, 'forty_five', 45, 32, 11, 23]\n"
     ]
    }
   ],
   "source": [
    "#inserting  forty_five at index no.2 \n",
    "l=[23,43,45,32,11,23]\n",
    "print(l)\n",
    "l.insert(2,\"forty_five\")\n",
    "print(l)"
   ]
  },
  {
   "cell_type": "markdown",
   "id": "8d36f6ab",
   "metadata": {},
   "source": [
    "# remove() method"
   ]
  },
  {
   "cell_type": "markdown",
   "id": "3560f34c",
   "metadata": {},
   "source": [
    "In Python, the remove() method is a built-in list method used to search for the first occurrence of a specified value (element) in the list and delete it.\n",
    "\n",
    "* It does not use an index; instead, it finds the value and removes it.\n",
    "* If the value appears multiple times, only the first one is removed.\n",
    "* If the value is not found, Python raises a ValueError saying that the item is not in the list."
   ]
  },
  {
   "cell_type": "code",
   "execution_count": 13,
   "id": "fc789357",
   "metadata": {},
   "outputs": [
    {
     "name": "stdout",
     "output_type": "stream",
     "text": [
      "['apple', 'banana']\n"
     ]
    }
   ],
   "source": [
    "thislist=[\"apple\",\"banana\",\"cherry\"]\n",
    "thislist.remove(\"cherry\")\n",
    "print(thislist)"
   ]
  },
  {
   "cell_type": "code",
   "execution_count": 1,
   "id": "b255c983",
   "metadata": {},
   "outputs": [
    {
     "name": "stdout",
     "output_type": "stream",
     "text": [
      "[1, 2, 3, 4, 5, 6, 7]\n",
      "[1, 2, 3, 4, 5, 7]\n"
     ]
    }
   ],
   "source": [
    "x=[1,2,3,4,5,6,7]\n",
    "print(x)\n",
    "x.remove(6)\n",
    "print(x)"
   ]
  },
  {
   "cell_type": "code",
   "execution_count": 25,
   "id": "5b408eff-3f5c-4c5a-a732-5933d72be1fc",
   "metadata": {},
   "outputs": [
    {
     "name": "stdout",
     "output_type": "stream",
     "text": [
      "[1, 2, 3, 4, 5, 6, 7, ['apple', 'banana']]\n",
      "[1, 2, 3, 4, 5, 6, 7, ['apple', 'banana'], [45, 333, 43]]\n"
     ]
    }
   ],
   "source": [
    "# appending lists into list\n",
    "\n",
    "x=[1,2,3,4,5,6,7]\n",
    "y=[\"apple\",\"banana\"]\n",
    "x.append(y)\n",
    "print(x)\n",
    "z=[45,333,43]\n",
    "x.append(z)\n",
    "print(x)"
   ]
  },
  {
   "cell_type": "code",
   "execution_count": 24,
   "id": "a8fc46e2-df7e-4432-81fe-f32b516a5684",
   "metadata": {},
   "outputs": [
    {
     "name": "stdout",
     "output_type": "stream",
     "text": [
      "[1, 2, 3, 4, 5, 6, 7, ['apple', 'banana']]\n",
      "[1, 2, 3, 4, 5, 6, 7, ['apple', 'banana'], [45, 333, 43]]\n",
      "[1, 2, 3, 4, 5, 6, 7, ['apple', 'banana']]\n"
     ]
    }
   ],
   "source": [
    "#now i want  to remove list out of list\n",
    "x=[1,2,3,4,5,6,7]\n",
    "y=[\"apple\",\"banana\"]\n",
    "x.append(y)\n",
    "print(x)\n",
    "z=[45,333,43]\n",
    "x.append(z)\n",
    "print(x)\n",
    "\n",
    "x.remove(z)\n",
    "print(x)"
   ]
  },
  {
   "cell_type": "markdown",
   "id": "03900764-5a0c-490f-8d64-599d4d4467d8",
   "metadata": {},
   "source": [
    "# pop() method"
   ]
  },
  {
   "cell_type": "markdown",
   "id": "3fa95126-f561-499d-bc8d-747ca1ce3571",
   "metadata": {},
   "source": [
    "The pop() method removes an item at a specified index from a list and gives it back (returns it). If no index is given, it removes the last item by default."
   ]
  },
  {
   "cell_type": "code",
   "execution_count": 26,
   "id": "4019979a-6c9c-4f05-8740-7ea908ee9264",
   "metadata": {},
   "outputs": [
    {
     "name": "stdout",
     "output_type": "stream",
     "text": [
      "[33, 34, 24, 56, 78, 65, 45, 32]\n",
      "[33, 34, 56, 78, 65, 45, 32]\n"
     ]
    }
   ],
   "source": [
    "#poping index 2 which is 24\n",
    "a=[33,34,24,56,78,65,45,32]\n",
    "print(a)\n",
    "a.pop(2)\n",
    "print(a)"
   ]
  },
  {
   "cell_type": "code",
   "execution_count": 30,
   "id": "97c0d82c",
   "metadata": {},
   "outputs": [
    {
     "name": "stdout",
     "output_type": "stream",
     "text": [
      "[33, 34, 24, 56, 78, 65, 45, 32]\n",
      "[33, 34, 24, 56, 78, 65, 45]\n"
     ]
    }
   ],
   "source": [
    "#if we donot give an index it will  delete the last elemnet\n",
    "a=[33,34,24,56,78,65,45,32]\n",
    "print(a)\n",
    "a.pop()\n",
    "print(a)"
   ]
  },
  {
   "cell_type": "code",
   "execution_count": 31,
   "id": "2b207e79-3922-48a8-8c15-dc7316cf37ea",
   "metadata": {},
   "outputs": [
    {
     "name": "stdout",
     "output_type": "stream",
     "text": [
      "[1, 2, 3, 4, 5, 6, 7, ['apple', 'banana']]\n",
      "[1, 2, 3, 4, 5, 6, 7, ['apple', 'banana'], [45, 333, 43]]\n"
     ]
    }
   ],
   "source": [
    "# appending lists into list\n",
    "\n",
    "x=[1,2,3,4,5,6,7]\n",
    "y=[\"apple\",\"banana\"]\n",
    "x.append(y)\n",
    "print(x)\n",
    "z=[45,333,43]\n",
    "x.append(z)\n",
    "print(x)"
   ]
  },
  {
   "cell_type": "code",
   "execution_count": 32,
   "id": "af68ff1d-6872-4726-8915-c10927c118ba",
   "metadata": {},
   "outputs": [
    {
     "name": "stdout",
     "output_type": "stream",
     "text": [
      "[1, 2, 3, 4, 5, 6, 7, ['apple', 'banana']]\n",
      "[1, 2, 3, 4, 5, 6, 7, ['apple', 'banana'], [45, 333, 43]]\n",
      "[1, 2, 3, 4, 5, 6, 7, [45, 333, 43]]\n"
     ]
    }
   ],
   "source": [
    "#now i want  to pop list out of list\n",
    "x=[1,2,3,4,5,6,7]\n",
    "y=[\"apple\",\"banana\"]\n",
    "x.append(y)\n",
    "print(x)\n",
    "z=[45,333,43]\n",
    "x.append(z)\n",
    "print(x)\n",
    "\n",
    "x.pop(7)\n",
    "print(x)"
   ]
  },
  {
   "cell_type": "markdown",
   "id": "1b8340de-fd5b-4436-87a8-5612e433cab2",
   "metadata": {},
   "source": [
    "# clear() method"
   ]
  },
  {
   "cell_type": "markdown",
   "id": "1233d627-2448-4685-80a9-d81c42b60afd",
   "metadata": {},
   "source": [
    "The clear() method deletes all items from the list, but the list itself still exists."
   ]
  },
  {
   "cell_type": "code",
   "execution_count": 33,
   "id": "910d9ac5-87d9-4d50-be22-7b0a67839f1b",
   "metadata": {},
   "outputs": [
    {
     "name": "stdout",
     "output_type": "stream",
     "text": [
      "[]\n"
     ]
    }
   ],
   "source": [
    "fruits = ['apple', 'banana', 'cherry']\n",
    "fruits.clear()\n",
    "print(fruits)  # Output: []\n"
   ]
  },
  {
   "cell_type": "code",
   "execution_count": 37,
   "id": "476f612a-14d4-4d5a-9520-c64dfe668032",
   "metadata": {},
   "outputs": [
    {
     "name": "stdout",
     "output_type": "stream",
     "text": [
      "[]\n"
     ]
    },
    {
     "data": {
      "text/plain": [
       "0"
      ]
     },
     "execution_count": 37,
     "metadata": {},
     "output_type": "execute_result"
    }
   ],
   "source": [
    "a=[1,2,3,4,5,True,False,2.2,4.5,5.6,\"apple\",\"banana\"]\n",
    "(a.clear())\n",
    "print(a)\n",
    "len(a)"
   ]
  },
  {
   "cell_type": "markdown",
   "id": "d91bb482-2330-4218-8fba-4f732a64e5c7",
   "metadata": {},
   "source": [
    "Situation\t                         Use\n",
    "\n",
    "* You want to remove a known value      - \tremove()\n",
    "* You want to remove item by position/index\t-pop()\n",
    "* You want to empty the entire list -\tclear()\n",
    "\n"
   ]
  },
  {
   "cell_type": "markdown",
   "id": "c57819b1-ff63-46b2-bf4a-7f20f2967961",
   "metadata": {},
   "source": [
    "# count() method "
   ]
  },
  {
   "cell_type": "markdown",
   "id": "78897cd4-d397-472a-9e49-79aefffde413",
   "metadata": {},
   "source": [
    "The count() method returns the number of times a value appears in a list (or other iterable like a string or tuple)."
   ]
  },
  {
   "cell_type": "code",
   "execution_count": 38,
   "id": "cc1b2f16-bfd4-4ab9-bc91-c00a85cef97b",
   "metadata": {},
   "outputs": [
    {
     "name": "stdout",
     "output_type": "stream",
     "text": [
      "3\n",
      "1\n",
      "0\n"
     ]
    }
   ],
   "source": [
    "# With List:\n",
    "colors = ['red', 'blue', 'red', 'green', 'red']\n",
    "print(colors.count('red'))     # Output: 3\n",
    "print(colors.count('blue'))    # Output: 1\n",
    "print(colors.count('yellow'))  # Output: 0\n"
   ]
  },
  {
   "cell_type": "code",
   "execution_count": 39,
   "id": "9aac1ec3-2ffd-4e6c-9757-f1a9792787ba",
   "metadata": {},
   "outputs": [
    {
     "name": "stdout",
     "output_type": "stream",
     "text": [
      "3\n",
      "2\n",
      "0\n"
     ]
    }
   ],
   "source": [
    "#With String:\n",
    "text = \"banana\"\n",
    "print(text.count('a'))     # Output: 3\n",
    "print(text.count('na'))    # Output: 2\n",
    "print(text.count('x'))     # Output: 0\n"
   ]
  },
  {
   "cell_type": "markdown",
   "id": "beba5997-bdcf-4c8a-9dcc-1746403e947f",
   "metadata": {},
   "source": [
    "# max() function"
   ]
  },
  {
   "cell_type": "markdown",
   "id": "0b143059-8505-4938-a33a-3d92f2880fe8",
   "metadata": {},
   "source": [
    "The max() function returns the maximum (largest) value from a list, tuple, string, or any other iterable.\n",
    "\n",
    "It can also take multiple values and return the largest among them."
   ]
  },
  {
   "cell_type": "code",
   "execution_count": 40,
   "id": "728d89ab-9b0c-4be7-b4d2-5a503a1ef050",
   "metadata": {},
   "outputs": [
    {
     "name": "stdout",
     "output_type": "stream",
     "text": [
      "12\n"
     ]
    }
   ],
   "source": [
    "# Using with a list:\n",
    "\n",
    "nums = [5, 9, 2, 12, 7]\n",
    "print(max(nums))  # Output: 12"
   ]
  },
  {
   "cell_type": "code",
   "execution_count": 41,
   "id": "352a332f-64fd-4915-8644-2430ef195e84",
   "metadata": {},
   "outputs": [
    {
     "name": "stdout",
     "output_type": "stream",
     "text": [
      "9\n"
     ]
    }
   ],
   "source": [
    "# Using with multiple values:\n",
    "print(max(3, 7, 1, 9))  # Output: 9\n"
   ]
  },
  {
   "cell_type": "code",
   "execution_count": 43,
   "id": "2771878b-a8e0-4e03-b547-477eba46e0b9",
   "metadata": {},
   "outputs": [
    {
     "name": "stdout",
     "output_type": "stream",
     "text": [
      "zone\n"
     ]
    }
   ],
   "source": [
    "str=[\"umar\",\"aalam\",\"sun\",\"universe\",\"zone\"]\n",
    "print(max(str))\n",
    "#it is considering the ist  letter no. as paaarameter like a=1,b=2 and so on."
   ]
  },
  {
   "cell_type": "code",
   "execution_count": 48,
   "id": "9e3dda14-210a-459b-95d7-8a1f0c525502",
   "metadata": {},
   "outputs": [
    {
     "name": "stdout",
     "output_type": "stream",
     "text": [
      "universe\n"
     ]
    }
   ],
   "source": [
    "str=[\"umar\",\"aalam\",\"sun\",\"universe\",\"zone\"]\n",
    "print(max(str,key=len))\n",
    "#it is analusyzing based on len of word"
   ]
  },
  {
   "cell_type": "markdown",
   "id": "a4299930-683a-4cb2-9093-740b2bf0ce34",
   "metadata": {},
   "source": [
    "# min() function"
   ]
  },
  {
   "cell_type": "markdown",
   "id": "2591fe9d-aa95-49f3-934c-e95d20de7d9c",
   "metadata": {},
   "source": [
    "The min() function is used to find the minimum (smallest) item in a list, tuple, string, or among several individual values"
   ]
  },
  {
   "cell_type": "code",
   "execution_count": 50,
   "id": "bbefbe30-769a-49bb-9f33-2a143cdb7916",
   "metadata": {},
   "outputs": [
    {
     "name": "stdout",
     "output_type": "stream",
     "text": [
      "2\n"
     ]
    }
   ],
   "source": [
    "# Using with a list:\n",
    "\n",
    "nums = [5, 9, 2, 12, 7]\n",
    "print(min(nums))  # Output: 2"
   ]
  },
  {
   "cell_type": "code",
   "execution_count": 51,
   "id": "68fb1429-ba7e-46ce-ab18-28370b36500a",
   "metadata": {},
   "outputs": [
    {
     "name": "stdout",
     "output_type": "stream",
     "text": [
      "1\n"
     ]
    }
   ],
   "source": [
    "# Using with multiple values:\n",
    "print(min(3, 7, 1, 9))  # Output: 1\n"
   ]
  },
  {
   "cell_type": "code",
   "execution_count": 52,
   "id": "246524fe-ae14-4c12-86e4-a791e9649eee",
   "metadata": {},
   "outputs": [
    {
     "name": "stdout",
     "output_type": "stream",
     "text": [
      "aalam\n"
     ]
    }
   ],
   "source": [
    "str=[\"umar\",\"aalam\",\"sun\",\"universe\",\"zone\"]\n",
    "print(min(str))\n",
    "#it is considering the ist  letter no. as paaarameter like a=1,b=2 and so on."
   ]
  },
  {
   "cell_type": "code",
   "execution_count": 53,
   "id": "776ff41c-dc08-4982-ba62-afac1fe3e979",
   "metadata": {},
   "outputs": [
    {
     "name": "stdout",
     "output_type": "stream",
     "text": [
      "sun\n"
     ]
    }
   ],
   "source": [
    "str=[\"umar\",\"aalam\",\"sun\",\"universe\",\"zone\"]\n",
    "print(min(str,key=len))\n",
    "#it is analusyzing based on len of word"
   ]
  },
  {
   "cell_type": "markdown",
   "id": "dc087f8b-b6f6-4f2f-a50c-0430de2cf9ee",
   "metadata": {},
   "source": [
    "### Lecture-3"
   ]
  },
  {
   "cell_type": "markdown",
   "id": "5da4343f-1b19-4943-a9e0-3da92b28c2c9",
   "metadata": {},
   "source": [
    "# sort() method"
   ]
  },
  {
   "cell_type": "markdown",
   "id": "1e94202a-1191-4bbd-b7f0-04cbe30d44fc",
   "metadata": {},
   "source": [
    "sort() in Python is a built-in list method that arranges the elements of the list in a specific order (ascending by default) directly modifying the original list, and can be customized using a key function or reversed order."
   ]
  },
  {
   "cell_type": "code",
   "execution_count": 6,
   "id": "fdea0e3e-e65e-4b8c-9c02-30e55ea5ca90",
   "metadata": {},
   "outputs": [
    {
     "name": "stdout",
     "output_type": "stream",
     "text": [
      "[2, 4, 5, 7, 6, 5, 4]\n",
      "[2, 4, 4, 5, 5, 6, 7]\n"
     ]
    }
   ],
   "source": [
    "n=[2,4,5,7,6,5,4]\n",
    "print(n)\n",
    "\n",
    "n.sort()\n",
    "print(n)"
   ]
  },
  {
   "cell_type": "code",
   "execution_count": 7,
   "id": "b19bfc68-8843-481f-b6aa-f97ec9c8b047",
   "metadata": {},
   "outputs": [
    {
     "name": "stdout",
     "output_type": "stream",
     "text": [
      "[2, 4, 5, 7, 6, 5, 4]\n",
      "[7, 6, 5, 5, 4, 4, 2]\n"
     ]
    }
   ],
   "source": [
    "n=[2,4,5,7,6,5,4]\n",
    "print(n)\n",
    "\n",
    "n.sort(reverse=True)#reverse=True will sort in desc order\n",
    "print(n)"
   ]
  },
  {
   "cell_type": "code",
   "execution_count": 8,
   "id": "d14264b3-1c13-4ad3-bb23-9a03ab760be3",
   "metadata": {},
   "outputs": [
    {
     "name": "stdout",
     "output_type": "stream",
     "text": [
      "['apple', 'banana', 'cherry']\n"
     ]
    }
   ],
   "source": [
    "words = [\"banana\", \"apple\", \"cherry\"]\n",
    "words.sort(key=len)#sorting on the basis on length of str\n",
    "print(words)  \n",
    "# Output: ['apple', 'banana', 'cherry']\n"
   ]
  },
  {
   "cell_type": "code",
   "execution_count": 9,
   "id": "e8184147-136a-4319-a5e3-7272f73b1c70",
   "metadata": {},
   "outputs": [
    {
     "name": "stdout",
     "output_type": "stream",
     "text": [
      "['apple', 'Banana', 'Cherry']\n"
     ]
    }
   ],
   "source": [
    "words = [\"Banana\", \"apple\", \"Cherry\"]\n",
    "words.sort(key=str.lower)\n",
    "print(words)  \n",
    "# Output: ['apple', 'Banana', 'Cherry']\n"
   ]
  },
  {
   "cell_type": "markdown",
   "id": "7f74a66f-1210-423d-91a8-6b23ad439f75",
   "metadata": {},
   "source": [
    "# reverse() method"
   ]
  },
  {
   "cell_type": "markdown",
   "id": "44b22b04-0dc2-4203-8f06-59ac419fdc09",
   "metadata": {},
   "source": [
    "reverse() is a built-in Python list method that reverses the order of elements in the list in place, meaning it changes the original list instead of creating a new one.\n",
    "    \n",
    "It does not sort; it just flips the order of items."
   ]
  },
  {
   "cell_type": "code",
   "execution_count": 10,
   "id": "77e2ecec-9dd1-403b-a89c-137c2bb0f5b1",
   "metadata": {},
   "outputs": [
    {
     "name": "stdout",
     "output_type": "stream",
     "text": [
      "[4, 3, 2, 1]\n"
     ]
    }
   ],
   "source": [
    "numbers = [1, 2, 3, 4]\n",
    "numbers.reverse()\n",
    "print(numbers)\n",
    "# Output: [4, 3, 2, 1]\n"
   ]
  },
  {
   "cell_type": "code",
   "execution_count": 11,
   "id": "e8fa190a-aa90-428f-ab84-76edacb0cf04",
   "metadata": {},
   "outputs": [
    {
     "name": "stdout",
     "output_type": "stream",
     "text": [
      "['cherry', 'banana', 'apple']\n"
     ]
    }
   ],
   "source": [
    "words = [\"apple\", \"banana\", \"cherry\"]\n",
    "words.reverse()\n",
    "print(words)\n",
    "# Output: ['cherry', 'banana', 'apple']\n"
   ]
  },
  {
   "cell_type": "code",
   "execution_count": 13,
   "id": "7f55005b-ddf9-4d40-9799-2255858b9d9d",
   "metadata": {},
   "outputs": [
    {
     "name": "stdout",
     "output_type": "stream",
     "text": [
      "[30, 20, 10]\n",
      "[10, 20, 30]\n",
      "[30, 20, 10]\n"
     ]
    }
   ],
   "source": [
    "# Difference between reverse() and [::-1]\n",
    "nums = [10, 20, 30]\n",
    "rev_copy = nums[::-1]  # Creates a reversed copy\n",
    "print(rev_copy)  # [30, 20, 10]\n",
    "print(nums)      # [10, 20, 30] (original unchanged)\n",
    "\n",
    "nums.reverse()   # Reverses in place\n",
    "print(nums)      # [30, 20, 10]\n"
   ]
  },
  {
   "cell_type": "markdown",
   "id": "197c9131-b892-4c04-8380-4d1e5909cc82",
   "metadata": {},
   "source": [
    "# index() method"
   ]
  },
  {
   "cell_type": "markdown",
   "id": "5474af49-77fc-4053-9c26-14fcdcdda412",
   "metadata": {},
   "source": [
    "index() is a built-in Python method that returns the position (index number) of the first occurrence of a specified element in a list, tuple, or string."
   ]
  },
  {
   "cell_type": "code",
   "execution_count": null,
   "id": "6b443547-d1c2-475c-b7af-8177f669e442",
   "metadata": {},
   "outputs": [],
   "source": [
    "list.index(element, start, end)\n",
    "\n",
    "Parameters:\n",
    "element → The value you want to search for (required).\n",
    "\n",
    "start → The position to start searching from (optional).\n",
    "\n",
    "end → The position to stop searching (optional, up to but not including end).\n",
    "\n"
   ]
  },
  {
   "cell_type": "code",
   "execution_count": 14,
   "id": "3857d54c-af66-48ee-a03c-4611a9a6d395",
   "metadata": {},
   "outputs": [
    {
     "name": "stdout",
     "output_type": "stream",
     "text": [
      "1\n"
     ]
    }
   ],
   "source": [
    "fruits = [\"apple\", \"banana\", \"cherry\", \"banana\"]\n",
    "pos = fruits.index(\"banana\")\n",
    "print(pos)  \n",
    "# Output: 1  (first occurrence)\n"
   ]
  },
  {
   "cell_type": "code",
   "execution_count": 15,
   "id": "02600bb0-6692-437b-aee2-cdfaa6b95a9e",
   "metadata": {},
   "outputs": [
    {
     "name": "stdout",
     "output_type": "stream",
     "text": [
      "3\n"
     ]
    }
   ],
   "source": [
    "fruits = [\"apple\", \"banana\", \"cherry\", \"banana\"]\n",
    "pos = fruits.index(\"banana\", 2)  # Start from index 2\n",
    "print(pos)  \n",
    "# Output: 3\n"
   ]
  },
  {
   "cell_type": "code",
   "execution_count": 19,
   "id": "71746390-a0b0-4604-a2ce-2a2628ca294a",
   "metadata": {},
   "outputs": [
    {
     "ename": "ValueError",
     "evalue": "'Orange' is not in list",
     "output_type": "error",
     "traceback": [
      "\u001b[1;31m---------------------------------------------------------------------------\u001b[0m",
      "\u001b[1;31mValueError\u001b[0m                                Traceback (most recent call last)",
      "Cell \u001b[1;32mIn[19], line 3\u001b[0m\n\u001b[0;32m      1\u001b[0m fruits \u001b[38;5;241m=\u001b[39m [\u001b[38;5;124m\"\u001b[39m\u001b[38;5;124mapple\u001b[39m\u001b[38;5;124m\"\u001b[39m, \u001b[38;5;124m\"\u001b[39m\u001b[38;5;124mbanana\u001b[39m\u001b[38;5;124m\"\u001b[39m, \u001b[38;5;124m\"\u001b[39m\u001b[38;5;124mcherry\u001b[39m\u001b[38;5;124m\"\u001b[39m]\n\u001b[0;32m      2\u001b[0m \u001b[38;5;66;03m# fruits.index(\"grape\")  # This will raise: ValueError: 'grape' is not in list\u001b[39;00m\n\u001b[1;32m----> 3\u001b[0m pos\u001b[38;5;241m=\u001b[39m\u001b[43mfruits\u001b[49m\u001b[38;5;241;43m.\u001b[39;49m\u001b[43mindex\u001b[49m\u001b[43m(\u001b[49m\u001b[38;5;124;43m\"\u001b[39;49m\u001b[38;5;124;43mOrange\u001b[39;49m\u001b[38;5;124;43m\"\u001b[39;49m\u001b[43m)\u001b[49m\n\u001b[0;32m      4\u001b[0m \u001b[38;5;28mprint\u001b[39m(pos)\n",
      "\u001b[1;31mValueError\u001b[0m: 'Orange' is not in list"
     ]
    }
   ],
   "source": [
    "fruits = [\"apple\", \"banana\", \"cherry\"]\n",
    "# fruits.index(\"grape\")  # This will raise: ValueError: 'grape' is not in list\n",
    "pos=fruits.index(\"Orange\")\n",
    "print(pos)"
   ]
  },
  {
   "cell_type": "code",
   "execution_count": 18,
   "id": "52930ad6-8fc2-4dbb-b3b6-23e0925b7d4c",
   "metadata": {},
   "outputs": [
    {
     "name": "stdout",
     "output_type": "stream",
     "text": [
      "4\n"
     ]
    }
   ],
   "source": [
    "text = \"hello world\"\n",
    "pos = text.index(\"o\")\n",
    "print(pos)  \n",
    "# Output: 4\n"
   ]
  },
  {
   "cell_type": "markdown",
   "id": "755a1b5a-0fda-47e4-a0ff-211384593110",
   "metadata": {},
   "source": [
    "# copy() method"
   ]
  },
  {
   "cell_type": "markdown",
   "id": "4b175ed9-3663-4ccc-86e7-440a6ca355aa",
   "metadata": {},
   "source": [
    "copy() is a built-in Python list (and dictionary, set) method that returns a shallow copy of the original object, meaning it creates a new object with the same elements but does not affect the original when the new one is changed (except for nested objects).\n",
    "\n"
   ]
  },
  {
   "cell_type": "markdown",
   "id": "0a813740-754f-4ff3-867b-78c17c1efce0",
   "metadata": {},
   "source": [
    "## Why do we need copy method?"
   ]
  },
  {
   "cell_type": "code",
   "execution_count": 21,
   "id": "4fa00bae-7700-471b-ab8e-4bc4685cac5f",
   "metadata": {},
   "outputs": [
    {
     "name": "stdout",
     "output_type": "stream",
     "text": [
      "[34, 56, 87, 54]\n"
     ]
    }
   ],
   "source": [
    "L=[34,56,87,54]\n",
    "l1=[]\n",
    "l1=L\n",
    "print(l1)"
   ]
  },
  {
   "cell_type": "code",
   "execution_count": 22,
   "id": "928ffeb3-9866-4857-b16f-1e1d960222c0",
   "metadata": {},
   "outputs": [
    {
     "name": "stdout",
     "output_type": "stream",
     "text": [
      "[34, 56, 'umar', 54]\n"
     ]
    }
   ],
   "source": [
    "L[2]=\"umar\"\n",
    "print(l1)\n",
    "#so here we rae changing in L bbut it is also affecting l1 to avoid this we use copy method"
   ]
  },
  {
   "cell_type": "code",
   "execution_count": null,
   "id": "4b97df04-022c-4444-b16e-cafc2ff84977",
   "metadata": {},
   "outputs": [],
   "source": [
    "copy method"
   ]
  },
  {
   "cell_type": "code",
   "execution_count": 25,
   "id": "6af27423-c8bc-4b58-81e3-0ac3c85fd873",
   "metadata": {},
   "outputs": [
    {
     "name": "stdout",
     "output_type": "stream",
     "text": [
      "[34, 56, 87, 54]\n"
     ]
    }
   ],
   "source": [
    "L=[34,56,87,54]\n",
    "l1=L.copy()\n",
    "print(l1)"
   ]
  },
  {
   "cell_type": "code",
   "execution_count": 32,
   "id": "ca98d2c2-7f67-4e21-85c2-fa37b4d2a463",
   "metadata": {},
   "outputs": [
    {
     "name": "stdout",
     "output_type": "stream",
     "text": [
      "l1 list: [34, 56, 'umar', 54]\n",
      "L list: [34, 56, 87, 54]\n"
     ]
    }
   ],
   "source": [
    "l1[2]=\"umar\"\n",
    "print(\"l1 list:\",l1)\n",
    "print(\"L list:\",L)\n",
    "#now we are changing in l1 to wheather it is also making chnage in L"
   ]
  },
  {
   "cell_type": "code",
   "execution_count": 1,
   "id": "c51f35c5-7c4c-4b3f-8a4c-476707628a19",
   "metadata": {},
   "outputs": [
    {
     "name": "stdin",
     "output_type": "stream",
     "text": [
      "enter the no. of element you want in list 3\n",
      "enter the elemnts 3\n",
      "enter the elemnts 4\n",
      "enter the elemnts 5\n"
     ]
    },
    {
     "name": "stdout",
     "output_type": "stream",
     "text": [
      "[5, 4, 3]\n"
     ]
    }
   ],
   "source": [
    "\"\"\"Take the input of the list from the user and then reverse it\"\"\"\n",
    "\n",
    "a=[]\n",
    "n=int(input(\"enter the no. of element you want in list\"))\n",
    "for i in range(n):\n",
    "    num=int(input(\"enter the elemnts\"))\n",
    "    a.append(num)\n",
    "\n",
    "a.reverse()\n",
    "print(a)"
   ]
  },
  {
   "cell_type": "code",
   "execution_count": 47,
   "id": "c2960aa3-fdcc-4dc0-94c5-af22d1eb5938",
   "metadata": {},
   "outputs": [
    {
     "name": "stdin",
     "output_type": "stream",
     "text": [
      "enter the no. of elemts  of want in list 4\n",
      "enter the elements 1\n",
      "enter the elements 2\n",
      "enter the elements 3\n",
      "enter the elements 4\n"
     ]
    },
    {
     "name": "stdout",
     "output_type": "stream",
     "text": [
      "[1, 2, 3, 4]\n",
      "[4, 2, 3, 1]\n"
     ]
    }
   ],
   "source": [
    "\"\"\"Take the input of the list from the user and then interchange the ist and last elemnt of the list\"\"\"\n",
    "\n",
    "a=[]\n",
    "n=int(input(\"enter the no. of elemts  of want in list\"))\n",
    "for  i in range(n):\n",
    "    a.append(int(input(\"enter the elements\")))\n",
    "\n",
    "print(a)\n",
    "\n",
    "tem=a[0]\n",
    "\n",
    "a[0]=a[-1]\n",
    "a[-1]=tem\n",
    "\n",
    "print(a)\n",
    "\n",
    "\n"
   ]
  },
  {
   "cell_type": "code",
   "execution_count": null,
   "id": "87bdfa2a-a1e6-4624-8a7d-1129baa2c87e",
   "metadata": {},
   "outputs": [],
   "source": []
  },
  {
   "cell_type": "code",
   "execution_count": null,
   "id": "514f7a83-41d5-457e-b0bc-19057b17647b",
   "metadata": {},
   "outputs": [],
   "source": []
  },
  {
   "cell_type": "code",
   "execution_count": null,
   "id": "4db1476a-6639-4fee-9ecd-a553bb83cd17",
   "metadata": {},
   "outputs": [],
   "source": []
  },
  {
   "cell_type": "code",
   "execution_count": null,
   "id": "bc22cfaf-c8d5-4b71-bb4a-25bc68565098",
   "metadata": {},
   "outputs": [],
   "source": []
  },
  {
   "cell_type": "code",
   "execution_count": null,
   "id": "06f2d6d4-2c72-499d-804e-052ae5a40962",
   "metadata": {},
   "outputs": [],
   "source": []
  },
  {
   "cell_type": "code",
   "execution_count": null,
   "id": "ca432159-183f-4207-ab4c-727be2408608",
   "metadata": {},
   "outputs": [],
   "source": []
  },
  {
   "cell_type": "code",
   "execution_count": null,
   "id": "5d481ca7-60ce-49dd-8578-4fd319d7d3af",
   "metadata": {},
   "outputs": [],
   "source": []
  },
  {
   "cell_type": "code",
   "execution_count": null,
   "id": "3d827954-8d71-41fd-bc28-d95ed661acdc",
   "metadata": {},
   "outputs": [],
   "source": []
  },
  {
   "cell_type": "code",
   "execution_count": null,
   "id": "074a643e-64c8-48e7-b47f-14d9713acf38",
   "metadata": {},
   "outputs": [],
   "source": []
  },
  {
   "cell_type": "markdown",
   "id": "780d7411",
   "metadata": {},
   "source": [
    "\n",
    "# JOIN LIST"
   ]
  },
  {
   "cell_type": "code",
   "execution_count": 16,
   "id": "8267cc20",
   "metadata": {},
   "outputs": [
    {
     "name": "stdout",
     "output_type": "stream",
     "text": [
      "[1, 2, 3, 'apple', 'banana', 'cheer']\n"
     ]
    }
   ],
   "source": [
    "list1=[1,2,3]\n",
    "list2=[\"apple\",\"banana\",\"cheer\"]\n",
    "print(list1+list2)"
   ]
  },
  {
   "cell_type": "code",
   "execution_count": 18,
   "id": "81d0d36f",
   "metadata": {},
   "outputs": [
    {
     "name": "stdout",
     "output_type": "stream",
     "text": [
      "[1, 2, 3, 'apple', 'banana', 'cheer']\n"
     ]
    }
   ],
   "source": [
    "list1=[1,2,3]\n",
    "list2=[\"apple\",\"banana\",\"cheer\"]\n",
    "list3=(list1+list2)\n",
    "print(list3)"
   ]
  },
  {
   "cell_type": "markdown",
   "id": "0ce2c148",
   "metadata": {},
   "source": [
    "# CHECK IF LIST CONTAIN AN ELEMENT OR NOT"
   ]
  },
  {
   "cell_type": "code",
   "execution_count": 19,
   "id": "03dd3596",
   "metadata": {},
   "outputs": [
    {
     "data": {
      "text/plain": [
       "True"
      ]
     },
     "execution_count": 19,
     "metadata": {},
     "output_type": "execute_result"
    }
   ],
   "source": [
    "list2=[\"apple\",\"banana\",\"cheer\"]\n",
    "\"apple\" in list2"
   ]
  },
  {
   "cell_type": "code",
   "execution_count": 2,
   "id": "2edbba8b",
   "metadata": {},
   "outputs": [
    {
     "data": {
      "text/plain": [
       "True"
      ]
     },
     "execution_count": 2,
     "metadata": {},
     "output_type": "execute_result"
    }
   ],
   "source": [
    "x=[1,2,3,4,5,6,7]\n",
    "2 in x"
   ]
  },
  {
   "cell_type": "code",
   "execution_count": 5,
   "id": "00302905",
   "metadata": {},
   "outputs": [
    {
     "name": "stdout",
     "output_type": "stream",
     "text": [
      "no\n"
     ]
    }
   ],
   "source": [
    "list2=[\"apple\",\"banana\",\"cheer\"]\n",
    "if \"aple\" in list2:\n",
    "     print(\"it is present\")\n",
    "else:\n",
    "    print(\"no\")"
   ]
  },
  {
   "cell_type": "code",
   "execution_count": null,
   "id": "9c4ea0b7-524b-4a22-958e-8f03a36b96da",
   "metadata": {},
   "outputs": [],
   "source": []
  }
 ],
 "metadata": {
  "kernelspec": {
   "display_name": "Python 3 (ipykernel)",
   "language": "python",
   "name": "python3"
  },
  "language_info": {
   "codemirror_mode": {
    "name": "ipython",
    "version": 3
   },
   "file_extension": ".py",
   "mimetype": "text/x-python",
   "name": "python",
   "nbconvert_exporter": "python",
   "pygments_lexer": "ipython3",
   "version": "3.13.1"
  }
 },
 "nbformat": 4,
 "nbformat_minor": 5
}
