{
 "cells": [
  {
   "cell_type": "markdown",
   "id": "c059982b",
   "metadata": {},
   "source": [
    "# Tuple in pyhton"
   ]
  },
  {
   "cell_type": "markdown",
   "id": "6c9a58e8-dba3-40f4-8643-188122d12b79",
   "metadata": {},
   "source": [
    "A tuple in Python is a built-in, immutable, ordered sequence type that can store a collection of items.\n",
    "It is one of Python’s core data structures, along with lists, sets, and dictionaries.\n",
    "\n",
    "Key Characteristics\n",
    "\n",
    "**Ordered Collection**\n",
    "\n",
    "The elements have a fixed order.\n",
    "\n",
    "The position (index) of each element is maintained.\n",
    "\n",
    "Indexing starts from 0 for the first element.\n",
    "\n",
    "**Immutable**\n",
    "\n",
    "Once a tuple is created, its elements cannot be changed, added, or removed.\n",
    "\n",
    "This immutability makes tuples hashable (if they contain only hashable items), meaning they can be used as keys in dictionaries and stored in sets.\n",
    "\n",
    "**Heterogeneous Data**\n",
    "\n",
    "Tuples can hold elements of different data types: integers, strings, floats, booleans, objects, even other tuples and lists.\n",
    "\n",
    "**Allows Duplicates**\n",
    "\n",
    "Tuples can contain the same value multiple times.\n",
    "\n",
    "**Lightweight & Faster**\n",
    "\n",
    "Tuples are generally faster to access and iterate compared to lists, because of immutability and a smaller memory footprint."
   ]
  },
  {
   "cell_type": "markdown",
   "id": "b2d3a38d",
   "metadata": {},
   "source": [
    "# Creating a  tuple"
   ]
  },
  {
   "cell_type": "code",
   "execution_count": 2,
   "id": "dc5e45a3",
   "metadata": {},
   "outputs": [
    {
     "name": "stdout",
     "output_type": "stream",
     "text": [
      "(1, 2, 3, 4)\n",
      "<class 'tuple'>\n"
     ]
    }
   ],
   "source": [
    "MY_TUPLE=(1,2,3,4)\n",
    "print(MY_TUPLE)\n",
    "print(type(MY_TUPLE))"
   ]
  },
  {
   "cell_type": "markdown",
   "id": "4ea4e7f9",
   "metadata": {},
   "source": [
    "# Tuple with mixed Datatypes"
   ]
  },
  {
   "cell_type": "code",
   "execution_count": 3,
   "id": "59178ba3",
   "metadata": {},
   "outputs": [
    {
     "name": "stdout",
     "output_type": "stream",
     "text": [
      "(1, 'hello', 1.2)\n",
      "<class 'tuple'>\n"
     ]
    }
   ],
   "source": [
    "my_tuple=(1,\"hello\",1.2)\n",
    "print(my_tuple)\n",
    "print(type(my_tuple))"
   ]
  },
  {
   "cell_type": "markdown",
   "id": "aeeb743d",
   "metadata": {},
   "source": [
    "# Empty tuple"
   ]
  },
  {
   "cell_type": "code",
   "execution_count": 4,
   "id": "22b9eaf8",
   "metadata": {},
   "outputs": [
    {
     "name": "stdout",
     "output_type": "stream",
     "text": [
      "()\n"
     ]
    }
   ],
   "source": [
    "t=()\n",
    "print(t)"
   ]
  },
  {
   "cell_type": "markdown",
   "id": "71b2c8e4",
   "metadata": {},
   "source": [
    "# Nesting of tuple"
   ]
  },
  {
   "cell_type": "code",
   "execution_count": 5,
   "id": "87ede91a",
   "metadata": {},
   "outputs": [
    {
     "name": "stdout",
     "output_type": "stream",
     "text": [
      "('APPLE', [1, 2, 3], (1, 2, 3))\n",
      "<class 'tuple'>\n"
     ]
    }
   ],
   "source": [
    "X=(\"APPLE\",[1,2,3],(1,2,3))\n",
    "print(X)\n",
    "print(type(X))"
   ]
  },
  {
   "cell_type": "markdown",
   "id": "384dfeb5",
   "metadata": {},
   "source": [
    "# Creating a tuple with one element"
   ]
  },
  {
   "cell_type": "code",
   "execution_count": 7,
   "id": "54f58219",
   "metadata": {},
   "outputs": [
    {
     "name": "stdout",
     "output_type": "stream",
     "text": [
      "UMAR\n",
      "<class 'str'>\n"
     ]
    }
   ],
   "source": [
    "MYTUPLE=(\"UMAR\")\n",
    "print(MYTUPLE)\n",
    "print(type(MYTUPLE))"
   ]
  },
  {
   "cell_type": "code",
   "execution_count": 9,
   "id": "71694e61",
   "metadata": {},
   "outputs": [
    {
     "name": "stdout",
     "output_type": "stream",
     "text": [
      "UMAR\n",
      "<class 'tuple'>\n"
     ]
    }
   ],
   "source": [
    "YTUPLE=(\"UMAR\",)\n",
    "print(MYTUPLE)\n",
    "print(type(YTUPLE))"
   ]
  },
  {
   "cell_type": "markdown",
   "id": "200cfc8d",
   "metadata": {},
   "source": [
    "# The tuple constructor"
   ]
  },
  {
   "cell_type": "code",
   "execution_count": 14,
   "id": "f017d7d2",
   "metadata": {},
   "outputs": [
    {
     "name": "stdout",
     "output_type": "stream",
     "text": [
      "(1, 2)\n",
      "<class 'tuple'>\n"
     ]
    }
   ],
   "source": [
    "thistuple=tuple((1,2))\n",
    "print(thistuple)\n",
    "print(type(thistuple))"
   ]
  },
  {
   "cell_type": "code",
   "execution_count": 1,
   "id": "1e322cd7",
   "metadata": {},
   "outputs": [
    {
     "name": "stdout",
     "output_type": "stream",
     "text": [
      "[1, 2]\n",
      "<class 'list'>\n"
     ]
    }
   ],
   "source": [
    "thistuple=list((1,2))\n",
    "print(thistuple)\n",
    "print(type(thistuple))"
   ]
  },
  {
   "cell_type": "code",
   "execution_count": 2,
   "id": "025578ea",
   "metadata": {},
   "outputs": [
    {
     "name": "stdout",
     "output_type": "stream",
     "text": [
      "('a',)\n",
      "<class 'tuple'>\n"
     ]
    }
   ],
   "source": [
    "thistuple=tuple((\"a\"))\n",
    "print(thistuple)\n",
    "print(type(thistuple))"
   ]
  },
  {
   "cell_type": "markdown",
   "id": "6facd33d-507a-4ffe-a5b5-41f6bc7c5281",
   "metadata": {},
   "source": [
    "# Concatination of tuples"
   ]
  },
  {
   "cell_type": "code",
   "execution_count": 1,
   "id": "e2c18a83-1043-4251-bb87-e8805daa0eb9",
   "metadata": {},
   "outputs": [
    {
     "name": "stdout",
     "output_type": "stream",
     "text": [
      "(1, 2, 3, 4, 5, 6, 7, 8, 9, 0)\n"
     ]
    }
   ],
   "source": [
    "t=(1,2,3,4,5)\n",
    "t1=(6,7,8,9,0)\n",
    "print(t+t1)"
   ]
  },
  {
   "cell_type": "markdown",
   "id": "47be3914-641e-4c80-a281-fb86f2470bf0",
   "metadata": {},
   "source": [
    "# Adding tuple"
   ]
  },
  {
   "cell_type": "code",
   "execution_count": 21,
   "id": "498e13db-9e20-4f5c-9dfe-88bac3b3dcd1",
   "metadata": {},
   "outputs": [
    {
     "name": "stdout",
     "output_type": "stream",
     "text": [
      "('umar', 'alam', 'imran', 'alam')\n"
     ]
    }
   ],
   "source": [
    "t1=(\"umar\",\"alam\")\n",
    "t2=(\"imran\",\"alam\")\n",
    "t3=(t1+t2)\n",
    "print(t3)"
   ]
  },
  {
   "cell_type": "code",
   "execution_count": 22,
   "id": "e762e6c3-89e9-4a2c-9499-e3ad4f8d7a0e",
   "metadata": {},
   "outputs": [
    {
     "name": "stdout",
     "output_type": "stream",
     "text": [
      "(2, 3, 5, 6)\n"
     ]
    }
   ],
   "source": [
    "t1=(2,3)\n",
    "t2=(5,6)\n",
    "t3=(t1+t2)\n",
    "print(t3)"
   ]
  },
  {
   "cell_type": "markdown",
   "id": "13fc1a47-2ceb-45fd-9887-55964eab5dfb",
   "metadata": {},
   "source": [
    "# Multiply tuple"
   ]
  },
  {
   "cell_type": "code",
   "execution_count": 2,
   "id": "16110bf9-992a-413b-ac39-51e092d74916",
   "metadata": {},
   "outputs": [
    {
     "name": "stdout",
     "output_type": "stream",
     "text": [
      "('apple', 'boy', 'cat', 'rat', 'apple', 'boy', 'cat', 'rat')\n"
     ]
    }
   ],
   "source": [
    "x=(\"apple\",\"boy\",\"cat\",\"rat\")\n",
    "y=x*2\n",
    "print(y)"
   ]
  },
  {
   "cell_type": "code",
   "execution_count": 3,
   "id": "b28ca6c0-5008-4a02-aa3e-7b4983b8c9fd",
   "metadata": {},
   "outputs": [
    {
     "name": "stdout",
     "output_type": "stream",
     "text": [
      "('apple', 'boy', 'cat', 'rat', 'apple', 'boy', 'cat', 'rat', 'apple', 'boy', 'cat', 'rat')\n",
      "\n"
     ]
    }
   ],
   "source": [
    "x=(\"apple\",\"boy\",\"cat\",\"rat\")\n",
    "y=x*3\n",
    "print(y)\n",
    "print()"
   ]
  },
  {
   "cell_type": "markdown",
   "id": "b1adfc44-6012-4f64-9c09-65bbe213f140",
   "metadata": {},
   "source": [
    "# Length fo the tuple"
   ]
  },
  {
   "cell_type": "code",
   "execution_count": 4,
   "id": "7c754e6d-6fcb-48ec-8a19-e4ad9b2b7385",
   "metadata": {},
   "outputs": [
    {
     "name": "stdout",
     "output_type": "stream",
     "text": [
      "4\n"
     ]
    }
   ],
   "source": [
    "x=(\"apple\",\"boy\",\"cat\",\"rat\")\n",
    "print(len(x))"
   ]
  },
  {
   "cell_type": "code",
   "execution_count": 5,
   "id": "a89ef64e-4321-4b08-9339-159cc2f33753",
   "metadata": {},
   "outputs": [
    {
     "name": "stdout",
     "output_type": "stream",
     "text": [
      "3\n"
     ]
    }
   ],
   "source": [
    "X=(\"APPLE\",[1,2,3],(1,2,3))\n",
    "print(len(X))"
   ]
  },
  {
   "cell_type": "code",
   "execution_count": 7,
   "id": "38388243-264c-42c6-8c10-9a1704721249",
   "metadata": {},
   "outputs": [
    {
     "name": "stdout",
     "output_type": "stream",
     "text": [
      "19\n"
     ]
    }
   ],
   "source": [
    "n=(4,5,6,3,4,5,8,6,4,0,97,8,6,5,56,44,33,55,66)\n",
    "print(len(n))"
   ]
  },
  {
   "cell_type": "markdown",
   "id": "d5843eb9-1fe5-4d75-9423-84847b3321c0",
   "metadata": {},
   "source": [
    "# Count() method"
   ]
  },
  {
   "cell_type": "markdown",
   "id": "cf328b3b-c305-484a-b99b-8e6f94fc0a29",
   "metadata": {},
   "source": [
    "In Python, the count() method is a built-in function of sequence types (like tuples, lists, and strings) that returns the number of times a specified value or substring appears in the sequence."
   ]
  },
  {
   "cell_type": "code",
   "execution_count": 13,
   "id": "1160133b-afb3-4acf-96ee-af6cadc1949a",
   "metadata": {},
   "outputs": [
    {
     "name": "stdout",
     "output_type": "stream",
     "text": [
      "(4, 5, 6, 3, 4, 5, 8, 6, 4, 0, 97, 8, 6, 5, 56, 44, 33, 55, 66)\n",
      "3\n",
      "1\n"
     ]
    }
   ],
   "source": [
    "n=(4,5,6,3,4,5,8,6,4,0,97,8,6,5,56,44,33,55,66)\n",
    "print(n)\n",
    "print(n.count(4))\n",
    "print(n.count(3))"
   ]
  },
  {
   "cell_type": "code",
   "execution_count": 1,
   "id": "9ae55004-218e-4477-8cfa-60d79bec705a",
   "metadata": {},
   "outputs": [
    {
     "name": "stdout",
     "output_type": "stream",
     "text": [
      "2\n",
      "0\n"
     ]
    }
   ],
   "source": [
    "#for list\n",
    "\n",
    "fruits = [\"apple\", \"banana\", \"apple\", \"cherry\"]\n",
    "print(fruits.count(\"apple\"))   # 2\n",
    "print(fruits.count(\"orange\"))  # 0\n"
   ]
  },
  {
   "cell_type": "code",
   "execution_count": 2,
   "id": "61ad01aa-dac3-4ccd-922b-d26ca72ad181",
   "metadata": {},
   "outputs": [
    {
     "name": "stdout",
     "output_type": "stream",
     "text": [
      "3\n",
      "2\n",
      "1\n"
     ]
    }
   ],
   "source": [
    "#for str\n",
    "\n",
    "text = \"banana\"\n",
    "print(text.count(\"a\"))       # 3\n",
    "print(text.count(\"na\"))      # 2\n",
    "print(text.count(\"na\", 3))   # 1  (search starts from index 3)\n"
   ]
  },
  {
   "cell_type": "code",
   "execution_count": 3,
   "id": "cc128e6d-f310-4e7f-9915-0de83c5286fb",
   "metadata": {},
   "outputs": [
    {
     "name": "stdout",
     "output_type": "stream",
     "text": [
      "3\n",
      "0\n"
     ]
    }
   ],
   "source": [
    "#for tuple\n",
    "\n",
    "numbers = (1, 2, 2, 3, 2, 4)\n",
    "print(numbers.count(2))   # 3\n",
    "print(numbers.count(5))   # 0\n"
   ]
  },
  {
   "cell_type": "markdown",
   "id": "bbf4ce21",
   "metadata": {},
   "source": [
    "# Indexing"
   ]
  },
  {
   "cell_type": "markdown",
   "id": "412b5a74-aa17-4dec-bc8a-40bf4b71bea4",
   "metadata": {},
   "source": [
    "Indexing is a way to access individual elements of a sequence (like a tuple, list, or string) by their position (index number)."
   ]
  },
  {
   "cell_type": "code",
   "execution_count": 20,
   "id": "c043ee86",
   "metadata": {},
   "outputs": [
    {
     "name": "stdout",
     "output_type": "stream",
     "text": [
      "cat\n"
     ]
    }
   ],
   "source": [
    "x=(\"apple\",\"boy\",\"cat\",\"rat\")\n",
    "print(x[2])"
   ]
  },
  {
   "cell_type": "code",
   "execution_count": 19,
   "id": "5f1c607c",
   "metadata": {},
   "outputs": [
    {
     "name": "stdout",
     "output_type": "stream",
     "text": [
      "55\n"
     ]
    }
   ],
   "source": [
    "a=(22,33,44,55,66,77,88,99)\n",
    "print(a[3])"
   ]
  },
  {
   "cell_type": "code",
   "execution_count": 21,
   "id": "e3357ae2",
   "metadata": {},
   "outputs": [
    {
     "name": "stdout",
     "output_type": "stream",
     "text": [
      "77\n"
     ]
    }
   ],
   "source": [
    "a=(22,33,44,55,66,77,88,99)\n",
    "print(a[-3])"
   ]
  },
  {
   "cell_type": "code",
   "execution_count": 22,
   "id": "aaad421f",
   "metadata": {},
   "outputs": [
    {
     "name": "stdout",
     "output_type": "stream",
     "text": [
      "cat\n"
     ]
    }
   ],
   "source": [
    "x=(\"apple\",\"boy\",\"cat\",\"rat\")\n",
    "print(x[-2])"
   ]
  },
  {
   "cell_type": "markdown",
   "id": "1b22c5ce-9538-49cc-b4ce-d4cb4f477e31",
   "metadata": {},
   "source": [
    "# index() method"
   ]
  },
  {
   "cell_type": "markdown",
   "id": "f9cfd4e4-4d3d-47ed-980a-63122409092c",
   "metadata": {},
   "source": [
    "The index() method in a tuple returns the position (index number) of the first occurrence of a specified value."
   ]
  },
  {
   "cell_type": "code",
   "execution_count": 14,
   "id": "a4092d82-21ac-40f7-8f00-5ed4650a549d",
   "metadata": {},
   "outputs": [
    {
     "name": "stdout",
     "output_type": "stream",
     "text": [
      "1\n"
     ]
    }
   ],
   "source": [
    "x=(\"apple\",\"boy\",\"cat\",\"rat\")\n",
    "print(x.index(\"boy\"))"
   ]
  },
  {
   "cell_type": "code",
   "execution_count": 16,
   "id": "8a5ec948-86ec-45e1-8ac5-7064e9017455",
   "metadata": {},
   "outputs": [
    {
     "name": "stdout",
     "output_type": "stream",
     "text": [
      "5\n"
     ]
    }
   ],
   "source": [
    "a=(12,32,45,34,\"code\",\"program\",\"pyhton\")\n",
    "b=a.index(\"program\")\n",
    "print(b)"
   ]
  },
  {
   "cell_type": "markdown",
   "id": "e78c66eb",
   "metadata": {},
   "source": [
    "# Slicing"
   ]
  },
  {
   "cell_type": "markdown",
   "id": "9358446b-1121-47b3-95a1-8260cb2e353b",
   "metadata": {},
   "source": [
    "Slicing is a way to extract a part (or subset) of a sequence (like a list, tuple, or string) using start, stop, and step positions."
   ]
  },
  {
   "cell_type": "code",
   "execution_count": 23,
   "id": "aac829a3",
   "metadata": {},
   "outputs": [
    {
     "name": "stdout",
     "output_type": "stream",
     "text": [
      "(22, 33, 44)\n"
     ]
    }
   ],
   "source": [
    "a=(22,33,44,55,66,77,88,99)\n",
    "print(a[0:3])"
   ]
  },
  {
   "cell_type": "code",
   "execution_count": 24,
   "id": "29a9c660",
   "metadata": {},
   "outputs": [
    {
     "name": "stdout",
     "output_type": "stream",
     "text": [
      "(22, 33, 44, 55, 66, 77, 88, 99)\n"
     ]
    }
   ],
   "source": [
    "a=(22,33,44,55,66,77,88,99)\n",
    "print(a[0:])"
   ]
  },
  {
   "cell_type": "code",
   "execution_count": 25,
   "id": "a9607978",
   "metadata": {},
   "outputs": [
    {
     "name": "stdout",
     "output_type": "stream",
     "text": [
      "(22, 33, 44, 55, 66, 77, 88)\n"
     ]
    }
   ],
   "source": [
    "a=(22,33,44,55,66,77,88,99)\n",
    "print(a[:7])"
   ]
  },
  {
   "cell_type": "code",
   "execution_count": 26,
   "id": "daecea97",
   "metadata": {},
   "outputs": [
    {
     "name": "stdout",
     "output_type": "stream",
     "text": [
      "(22, 33, 44, 55, 66, 77, 88, 99)\n",
      "8\n"
     ]
    }
   ],
   "source": [
    "a=(22,33,44,55,66,77,88,99)\n",
    "print(a[:])\n",
    "print(len(a))"
   ]
  },
  {
   "cell_type": "code",
   "execution_count": 27,
   "id": "51dbbc6e",
   "metadata": {},
   "outputs": [
    {
     "name": "stdout",
     "output_type": "stream",
     "text": [
      "(22, 44, 66, 88)\n"
     ]
    }
   ],
   "source": [
    "a=(22,33,44,55,66,77,88,99)\n",
    "print(a[::2])"
   ]
  },
  {
   "cell_type": "markdown",
   "id": "bfbf1222",
   "metadata": {},
   "source": [
    "# Reversing a tuple"
   ]
  },
  {
   "cell_type": "markdown",
   "id": "05fcb179-1a3e-437f-9e3e-18c299b87410",
   "metadata": {},
   "source": [
    "Tuples in Python are immutable, so they don’t have a built-in reverse() method like lists.\n",
    "    \n",
    "But you can still reverse their order using these approaches:"
   ]
  },
  {
   "cell_type": "code",
   "execution_count": 28,
   "id": "7d127fbc",
   "metadata": {},
   "outputs": [
    {
     "name": "stdout",
     "output_type": "stream",
     "text": [
      "(99, 88, 77, 66, 55, 44, 33, 22)\n"
     ]
    }
   ],
   "source": [
    "a=(22,33,44,55,66,77,88,99)\n",
    "print(a[::-1])"
   ]
  },
  {
   "cell_type": "markdown",
   "id": "7bd7cc3e",
   "metadata": {},
   "source": []
  },
  {
   "cell_type": "code",
   "execution_count": 26,
   "id": "7d12cbd2",
   "metadata": {},
   "outputs": [
    {
     "name": "stdout",
     "output_type": "stream",
     "text": [
      "(1, 2, 3, 4, 5, 6, 7, 8, 9)\n",
      "(4, 5, 6, 7, 8, 9)\n",
      "(1, 2, 3, 4, 5, 6, 7)\n",
      "()\n"
     ]
    }
   ],
   "source": [
    "## WRITE THE OUTPUT OF THE FOLLOWING CODE\n",
    "t=(1,2,3,4,5,6,7,8,9)\n",
    "print(t[::])\n",
    "print(t[3:])\n",
    "print(t[:7])\n",
    "print(t[-2:-5])"
   ]
  },
  {
   "cell_type": "markdown",
   "id": "1b686ff9",
   "metadata": {},
   "source": [
    "# Duplicate are allowed in tuples"
   ]
  },
  {
   "cell_type": "code",
   "execution_count": 32,
   "id": "9404c7f0",
   "metadata": {},
   "outputs": [
    {
     "name": "stdout",
     "output_type": "stream",
     "text": [
      "(1, 2, 3, 4, 2, 3, 4, 5, 3, 6, 4, 56)\n",
      "<class 'tuple'>\n"
     ]
    }
   ],
   "source": [
    "a=(1,2,3,4,2,3,4,5,3,6,4,56,)\n",
    "print(a)\n",
    "print(type(a))"
   ]
  },
  {
   "cell_type": "markdown",
   "id": "10c83ad2-f89a-403b-bb3c-d59d85de20e9",
   "metadata": {},
   "source": [
    "# Altering the tuple"
   ]
  },
  {
   "cell_type": "markdown",
   "id": "719d4377",
   "metadata": {},
   "source": [
    "ONCE A TUPLE IS CREATED YOU CANNOT CHANGE THE VALUS OF A TUPLE. TUPLES ARE IMMUTABLE AND UN CHANGABLE\n"
   ]
  },
  {
   "cell_type": "markdown",
   "id": "8bb701b5",
   "metadata": {},
   "source": [
    "CONVERT A TUPLE INTO A LIST TO CHNAGE ITS VALUES OR ELEMENTS"
   ]
  },
  {
   "cell_type": "code",
   "execution_count": 33,
   "id": "0bf55383",
   "metadata": {},
   "outputs": [
    {
     "name": "stdout",
     "output_type": "stream",
     "text": [
      "(1, 2, 'three', 4, 5, 6, 7)\n"
     ]
    }
   ],
   "source": [
    "x=(1,2,3,4,5,6,7)\n",
    "y=list(x)\n",
    "y[2]=\"three\"\n",
    "x=tuple(y)\n",
    "print(x)"
   ]
  },
  {
   "cell_type": "code",
   "execution_count": 6,
   "id": "b708fdf2",
   "metadata": {},
   "outputs": [
    {
     "name": "stdout",
     "output_type": "stream",
     "text": [
      "(1, 2, 'three', 4, 5, 6, 7)\n"
     ]
    }
   ],
   "source": [
    "x=(1,2,3,4,5,6,7)\n",
    "y=list(x)\n",
    "y[2]=\"three\"\n",
    "z=tuple(y)\n",
    "print(z)"
   ]
  },
  {
   "cell_type": "markdown",
   "id": "43371e73",
   "metadata": {},
   "source": [
    "# Adding items in tuples"
   ]
  },
  {
   "cell_type": "markdown",
   "id": "aeec7234",
   "metadata": {},
   "source": [
    "SINCE TUPLE IS IMMUTABLE THEY DONOT HAVE A BUILT IN APPEND METHOD ,BUT THERE A ANOTHER WAY TO ADD ITEM IN TUPLE"
   ]
  },
  {
   "cell_type": "code",
   "execution_count": 34,
   "id": "bd6ab2a9",
   "metadata": {},
   "outputs": [
    {
     "name": "stdout",
     "output_type": "stream",
     "text": [
      "(1, 2, 3, 4, 5, 6, 7)\n"
     ]
    }
   ],
   "source": [
    "x=(1,2,3,4,5,6)\n",
    "y=list(x)\n",
    "y.append(7)\n",
    "x=tuple(y)\n",
    "print(x)"
   ]
  },
  {
   "cell_type": "code",
   "execution_count": 7,
   "id": "64b5a07e",
   "metadata": {},
   "outputs": [
    {
     "name": "stdout",
     "output_type": "stream",
     "text": [
      "(1, 2, 3, 4, 5, 6, 7)\n"
     ]
    }
   ],
   "source": [
    "x=(1,2,3,4,5,6)\n",
    "y=list(x)\n",
    "y.append(7)\n",
    "z=tuple(y)\n",
    "print(z)"
   ]
  },
  {
   "cell_type": "markdown",
   "id": "a293c3f8",
   "metadata": {},
   "source": [
    "# Removing items"
   ]
  },
  {
   "cell_type": "markdown",
   "id": "69770ecf",
   "metadata": {},
   "source": [
    "AS TUPLE IS IMMUTABLE SO WE CANNOT CHANGE TUPLE BUT THERE IS A JUGAD TO CHANGE  TUPLE .WE WILL CONVERT TUPLE INTO LIST IST\n",
    "THEN WE WIL BW ABLE TO CHNAGE.\n",
    "\n"
   ]
  },
  {
   "cell_type": "code",
   "execution_count": 37,
   "id": "189affad",
   "metadata": {},
   "outputs": [
    {
     "name": "stdout",
     "output_type": "stream",
     "text": [
      "('u',)\n"
     ]
    }
   ],
   "source": [
    "t1=(\"u\",\"s\")\n",
    "t2=list(t1)\n",
    "t2.remove(\"s\")\n",
    "t1=tuple(t2)\n",
    "print(t1)"
   ]
  },
  {
   "cell_type": "code",
   "execution_count": 9,
   "id": "0affa71b",
   "metadata": {},
   "outputs": [
    {
     "name": "stdout",
     "output_type": "stream",
     "text": [
      "('s',)\n"
     ]
    }
   ],
   "source": [
    "h=(\"i\",\"s\")\n",
    "i=list(h)\n",
    "i.remove(\"i\")\n",
    "h=tuple(i)\n",
    "print(h)"
   ]
  },
  {
   "cell_type": "code",
   "execution_count": 3,
   "id": "a598ebdc-38a9-4ab4-999a-5989b58b28e4",
   "metadata": {},
   "outputs": [
    {
     "name": "stdout",
     "output_type": "stream",
     "text": [
      "('u',)\n",
      "<class 'tuple'>\n"
     ]
    }
   ],
   "source": [
    "h=(\"u\",\"s\")\n",
    "k=list(h)\n",
    "k.remove(\"s\")\n",
    "j=tuple(k)\n",
    "print(j)\n",
    "print(type(j))"
   ]
  },
  {
   "cell_type": "markdown",
   "id": "4ef8539e-6cf2-4d5d-b40b-e5212e909dab",
   "metadata": {},
   "source": [
    "# Del keyword"
   ]
  },
  {
   "cell_type": "markdown",
   "id": "06666a59",
   "metadata": {},
   "source": [
    "THE DEL KKEYWORD CAN DELETE TUPLE PERMANENTLY"
   ]
  },
  {
   "cell_type": "code",
   "execution_count": 40,
   "id": "4e14fab7",
   "metadata": {},
   "outputs": [
    {
     "ename": "NameError",
     "evalue": "name 'a' is not defined",
     "output_type": "error",
     "traceback": [
      "\u001b[1;31m---------------------------------------------------------------------------\u001b[0m",
      "\u001b[1;31mNameError\u001b[0m                                 Traceback (most recent call last)",
      "Cell \u001b[1;32mIn[40], line 3\u001b[0m\n\u001b[0;32m      1\u001b[0m a\u001b[38;5;241m=\u001b[39m(\u001b[38;5;241m1\u001b[39m,\u001b[38;5;241m2\u001b[39m,\u001b[38;5;241m3\u001b[39m,\u001b[38;5;124m\"\u001b[39m\u001b[38;5;124ma\u001b[39m\u001b[38;5;124m\"\u001b[39m,\u001b[38;5;124m\"\u001b[39m\u001b[38;5;124mb\u001b[39m\u001b[38;5;124m\"\u001b[39m,\u001b[38;5;124m\"\u001b[39m\u001b[38;5;124mc\u001b[39m\u001b[38;5;124m\"\u001b[39m)\n\u001b[0;32m      2\u001b[0m \u001b[38;5;28;01mdel\u001b[39;00m a\n\u001b[1;32m----> 3\u001b[0m \u001b[38;5;28mprint\u001b[39m(a)\n",
      "\u001b[1;31mNameError\u001b[0m: name 'a' is not defined"
     ]
    }
   ],
   "source": [
    "a=(1,2,3,\"a\",\"b\",\"c\")\n",
    "del a\n",
    "print(a)"
   ]
  },
  {
   "cell_type": "code",
   "execution_count": 20,
   "id": "77bc89d9-f97f-415b-bf00-038ad786df5b",
   "metadata": {},
   "outputs": [
    {
     "name": "stdout",
     "output_type": "stream",
     "text": [
      "(1, 2, 3, 'a', 'b', 'c')\n",
      "('c', 'b', 'a', 3, 2, 1)\n",
      "<class 'tuple'>\n"
     ]
    }
   ],
   "source": [
    "\"\"\"Convert a list into tuple and  reverse it\"\"\"\n",
    "a=[1,2,3,\"a\",\"b\",\"c\"]\n",
    "\n",
    "b=tuple(a)\n",
    "c=b[::-1]\n",
    "print(b)\n",
    "print(c)\n",
    "print(type(b))\n"
   ]
  },
  {
   "cell_type": "code",
   "execution_count": null,
   "id": "3cbf123a-9c43-423f-8ee9-a6a0190a7566",
   "metadata": {},
   "outputs": [],
   "source": [
    "\"\"\"WRITE A PYTHON PROGRAM TO FIND REPEATED ITEMS IN PROGRAM\"\"\"\n",
    "\n",
    "x=(2,4,5,6,2,4,5,7,4)\n",
    "print(x)\n",
    "print(count)"
   ]
  },
  {
   "cell_type": "code",
   "execution_count": 37,
   "id": "31f7ee23-9875-4413-b65c-6421cf6c5fa9",
   "metadata": {},
   "outputs": [
    {
     "name": "stdin",
     "output_type": "stream",
     "text": [
      "enter the no.s 1\n",
      "enter the no.s 2\n",
      "enter the no.s 3\n",
      "enter the no.s 4\n",
      "enter the no.s 5\n"
     ]
    },
    {
     "name": "stdout",
     "output_type": "stream",
     "text": [
      "(1, 2, 3, 4, 5)\n",
      "<class 'tuple'>\n"
     ]
    }
   ],
   "source": [
    "\"\"\"WRITE A PYHTON PROGRA TO ACCEPT 5 NUMBER FORM THE USER AND STORE IN TUPLE\"\"\"\n",
    "\n",
    "d=[]\n",
    "for i in range(5):\n",
    "    d.append(int(input(\"enter the no.s\")))\n",
    "    \n",
    "\n",
    "t=tuple(d)\n",
    "print(t)\n",
    "print(type(t))\n",
    "\n"
   ]
  },
  {
   "cell_type": "code",
   "execution_count": 38,
   "id": "08e9bbf1",
   "metadata": {},
   "outputs": [
    {
     "name": "stdin",
     "output_type": "stream",
     "text": [
      "Enter number 1:  1\n",
      "Enter number 2:  2\n",
      "Enter number 3:  3\n",
      "Enter number 4:  4\n",
      "Enter number 5:  5\n"
     ]
    },
    {
     "name": "stdout",
     "output_type": "stream",
     "text": [
      "The tuple is: (1, 2, 3, 4, 5)\n"
     ]
    }
   ],
   "source": [
    "# Accept 5 numbers from user and store in a tuple\n",
    "\n",
    "numbers = []  # temporary list to collect numbers\n",
    "\n",
    "for i in range(5):\n",
    "    num = int(input(f\"Enter number {i+1}: \"))\n",
    "    numbers.append(num)  # add to list\n",
    "\n",
    "numbers_tuple = tuple(numbers)  # convert list to tuple\n",
    "\n",
    "print(\"The tuple is:\", numbers_tuple)\n"
   ]
  },
  {
   "cell_type": "markdown",
   "id": "c83eeca9-8ca4-41c1-83b8-cb266d624d73",
   "metadata": {},
   "source": [
    "### Lecture-2"
   ]
  },
  {
   "cell_type": "markdown",
   "id": "b8def3f0-3abc-4d7d-863e-f2209485079b",
   "metadata": {},
   "source": [
    "# max in tuple"
   ]
  },
  {
   "cell_type": "code",
   "execution_count": 1,
   "id": "c858b5bb-b6b8-4e10-8e2d-9633963f4b4b",
   "metadata": {},
   "outputs": [
    {
     "name": "stdout",
     "output_type": "stream",
     "text": [
      "12\n"
     ]
    }
   ],
   "source": [
    "# Using with a tuple:\n",
    "\n",
    "nums = (5, 9, 2, 12, 7)\n",
    "print(max(nums))  # Output: 12"
   ]
  },
  {
   "cell_type": "code",
   "execution_count": 2,
   "id": "bb7ad07d-e890-45ab-99f3-b2dbb06c4207",
   "metadata": {},
   "outputs": [
    {
     "name": "stdout",
     "output_type": "stream",
     "text": [
      "9\n"
     ]
    }
   ],
   "source": [
    "# Using with multiple values:\n",
    "print(max(3, 7, 1, 9))  # Output: 9\n"
   ]
  },
  {
   "cell_type": "code",
   "execution_count": 3,
   "id": "2167d6a3-d113-4e3a-a66f-fe5633f359f1",
   "metadata": {},
   "outputs": [
    {
     "name": "stdout",
     "output_type": "stream",
     "text": [
      "zone\n"
     ]
    }
   ],
   "source": [
    "str=(\"umar\",\"aalam\",\"sun\",\"universe\",\"zone\")\n",
    "print(max(str))\n",
    "#it is considering the ist  letter no. as paaarameter like a=1,b=2 and so on."
   ]
  },
  {
   "cell_type": "code",
   "execution_count": 4,
   "id": "65100e1b-5524-4850-bc07-12a6fb68558d",
   "metadata": {},
   "outputs": [
    {
     "name": "stdout",
     "output_type": "stream",
     "text": [
      "universe\n"
     ]
    }
   ],
   "source": [
    "str=(\"umar\",\"aalam\",\"sun\",\"universe\",\"zone\")\n",
    "print(max(str,key=len))\n",
    "#it is analusyzing based on len of word"
   ]
  },
  {
   "cell_type": "markdown",
   "id": "f0e4c132-2397-4649-bafd-6735b02bc1d9",
   "metadata": {},
   "source": [
    "# min() function"
   ]
  },
  {
   "cell_type": "code",
   "execution_count": 6,
   "id": "912964e3-4892-46b4-9d3d-2590a20f8058",
   "metadata": {},
   "outputs": [
    {
     "name": "stdout",
     "output_type": "stream",
     "text": [
      "2\n"
     ]
    }
   ],
   "source": [
    "# Using with a tuple:\n",
    "\n",
    "nums = (5, 9, 2, 12, 7)\n",
    "print(min(nums))  # Output: 12"
   ]
  },
  {
   "cell_type": "code",
   "execution_count": 7,
   "id": "abcd4546-e86c-44d5-b6d8-1ea97ab59a6a",
   "metadata": {},
   "outputs": [
    {
     "name": "stdout",
     "output_type": "stream",
     "text": [
      "1\n"
     ]
    }
   ],
   "source": [
    "# Using with multiple values:\n",
    "print(min(3, 7, 1, 9))  # Output: 9"
   ]
  },
  {
   "cell_type": "code",
   "execution_count": 8,
   "id": "dfbf8197-d780-45fa-b77e-c4f956f507e4",
   "metadata": {},
   "outputs": [
    {
     "name": "stdout",
     "output_type": "stream",
     "text": [
      "aalam\n"
     ]
    }
   ],
   "source": [
    "str=(\"umar\",\"aalam\",\"sun\",\"universe\",\"zone\")\n",
    "print(min(str))\n",
    "#it is considering the ist  letter no. as paaarameter like a=1,b=2 and so on."
   ]
  },
  {
   "cell_type": "code",
   "execution_count": 9,
   "id": "cfb8b07c-0b63-480b-84a2-36175cea1fe7",
   "metadata": {},
   "outputs": [
    {
     "name": "stdout",
     "output_type": "stream",
     "text": [
      "sun\n"
     ]
    }
   ],
   "source": [
    "str=(\"umar\",\"aalam\",\"sun\",\"universe\",\"zone\")\n",
    "print(min(str,key=len))\n",
    "#it is analusyzing based on len of word"
   ]
  },
  {
   "cell_type": "markdown",
   "id": "3c1b308c-5a20-4164-9698-fa0e4fc7440a",
   "metadata": {},
   "source": [
    "# Unpacking to a tuple"
   ]
  },
  {
   "cell_type": "markdown",
   "id": "e1755f29-43f2-4273-8d55-ad1d2b9afa50",
   "metadata": {},
   "source": [
    "Unpacking to a tuple in Python means taking elements from an iterable (like a list, string, range, or even another tuple) and storing them inside variables — \n",
    "\n",
    "which can then be collected into a tuple again if needed."
   ]
  },
  {
   "cell_type": "code",
   "execution_count": 11,
   "id": "9c4e63a5-1a11-4979-84ea-78d9671140c9",
   "metadata": {},
   "outputs": [
    {
     "name": "stdout",
     "output_type": "stream",
     "text": [
      "10 20 30\n"
     ]
    }
   ],
   "source": [
    "#If the number of variables matches the number of elements in the tuple, Python assigns them in order:\n",
    "\n",
    "t = (10, 20, 30)\n",
    "a, b, c = t\n",
    "print(a, b, c)"
   ]
  },
  {
   "cell_type": "code",
   "execution_count": 12,
   "id": "2fbbaf0b-b544-4094-93ba-b57b65de8204",
   "metadata": {},
   "outputs": [
    {
     "name": "stdout",
     "output_type": "stream",
     "text": [
      "1\n",
      "[2, 3, 4]\n",
      "5\n"
     ]
    }
   ],
   "source": [
    "#using asterisk\n",
    "\n",
    "t = (1, 2, 3, 4, 5)\n",
    "a, *b, c = t\n",
    "print(a)  # 1\n",
    "print(b)  # [2, 3, 4]\n",
    "print(c)  # 5"
   ]
  },
  {
   "cell_type": "code",
   "execution_count": 14,
   "id": "26df1405-2ec2-4e85-b9e0-3f95d205d092",
   "metadata": {},
   "outputs": [
    {
     "name": "stdout",
     "output_type": "stream",
     "text": [
      "1\n",
      "2\n",
      "[3, 4, 5]\n"
     ]
    }
   ],
   "source": [
    "#using asterisk\n",
    "\n",
    "t = (1, 2, 3, 4, 5)\n",
    "a, b, *c = t\n",
    "print(a)  # 1\n",
    "print(b)  # [2, 3, 4]\n",
    "print(c)  # 5"
   ]
  },
  {
   "cell_type": "code",
   "execution_count": 27,
   "id": "0a9c38d4-891a-46a8-b5d4-5c22ed706f5b",
   "metadata": {},
   "outputs": [
    {
     "name": "stdout",
     "output_type": "stream",
     "text": [
      "[2, 3, 5, 6, 7, 4, 3, 6, 7, 8, 5, 4, 22, 3, 5, 3, 5, 6]\n",
      "[2, 3, 3, 3, 3, 4, 4, 5, 5, 5, 5, 6, 6, 6, 7, 7, 8, 22]\n",
      "(2, 3, 3, 3, 3, 4, 4, 5, 5, 5, 5, 6, 6, 6, 7, 7, 8, 22)\n"
     ]
    }
   ],
   "source": [
    "\"\"\"sort a tuple\"\"\"\n",
    "\n",
    "a=(2,3,5,6,7,4,3,6,7,8,5,4,22,3,5,3,5,6)\n",
    "\n",
    "\n",
    "b=list(a)\n",
    "print(b)\n",
    "\n",
    "b.sort()\n",
    "print(b)\n",
    "\n",
    "a=tuple(b)\n",
    "print(a)"
   ]
  },
  {
   "cell_type": "markdown",
   "id": "2a003b1c-7758-4155-8b20-833488eee0e7",
   "metadata": {},
   "source": [
    "# Using loops in tuple"
   ]
  },
  {
   "cell_type": "code",
   "execution_count": 43,
   "id": "7e0aaf2f-47e7-4235-b1fb-52effa5aea28",
   "metadata": {},
   "outputs": [
    {
     "name": "stdout",
     "output_type": "stream",
     "text": [
      "[2, 3, 6, 7, 3, 6, 7, 4, 22, 3, 5, 3, 5]\n",
      "[-5, -4, -8, -5, -6]\n",
      "(2, 3, 6, 7, 3, 6, 7, 4, 22, 3, 5, 3, 5)\n",
      "(-5, -4, -8, -5, -6)\n"
     ]
    }
   ],
   "source": [
    "\"\"\"Sepearte positive and negative int from tuple\"\"\"\n",
    "a=(2,3,-5,6,7,-4,3,6,7,-8,-5,4,22,3,5,3,5,-6)\n",
    "n=list(a)\n",
    "\n",
    "x=[]\n",
    "y=[]\n",
    "\n",
    "for i in n:\n",
    "    if i>=1:\n",
    "        x.append(i)\n",
    "    elif i<1:\n",
    "        y.append(i)\n",
    "    else:\n",
    "        pass\n",
    "\n",
    "print(x)\n",
    "print(y)\n",
    "\n",
    "#now converting to tuple\n",
    "\n",
    "x=tuple(x)\n",
    "y=tuple(y)\n",
    "\n",
    "print(x)\n",
    "print(y)        "
   ]
  },
  {
   "cell_type": "code",
   "execution_count": 45,
   "id": "4205862b-4e93-46af-b78e-55e2cf76b790",
   "metadata": {},
   "outputs": [
    {
     "name": "stdout",
     "output_type": "stream",
     "text": [
      "Positive numbers: [2, 3, 6, 7, 3, 6, 7, 4, 22, 3, 5, 3, 5]\n",
      "Negative numbers: [-5, -4, -8, -5, -6]\n",
      "Positive numbers: (2, 3, 6, 7, 3, 6, 7, 4, 22, 3, 5, 3, 5)\n",
      "Negative numbers: (-5, -4, -8, -5, -6)\n"
     ]
    }
   ],
   "source": [
    "#Alternate way\n",
    "\n",
    "a = (2, 3, -5, 6, 7, -4, 3, 6, 7, -8, -5, 4, 22, 3, 5, 3, 5, -6)\n",
    "n = list(a)\n",
    "\n",
    "x = []\n",
    "y = []\n",
    "\n",
    "for i in range(len(n)):\n",
    "    if n[i] >= 1:\n",
    "        x.append(n[i])   # positive\n",
    "    else:\n",
    "        y.append(n[i])   # negative\n",
    "\n",
    "print(\"Positive numbers:\", x)\n",
    "print(\"Negative numbers:\", y)\n",
    "\n",
    "\n",
    "#now converting to tuple\n",
    "\n",
    "x=tuple(x)\n",
    "y=tuple(y)\n",
    "\n",
    "print(\"Positive numbers:\", x)\n",
    "print(\"Negative numbers:\", y)\n"
   ]
  },
  {
   "cell_type": "code",
   "execution_count": 51,
   "id": "854a1e74-5ca3-4d1e-9864-6ac3a4f2171e",
   "metadata": {},
   "outputs": [
    {
     "name": "stdout",
     "output_type": "stream",
     "text": [
      "[15, 30, 42, 21, 6, 8, 20]\n",
      "(15, 30, 42, 21, 6, 8, 20)\n"
     ]
    }
   ],
   "source": [
    "\"\"\"Multiply adjacent elements of tuple\"\"\"\n",
    "\n",
    "a=(3,5,6,7,3,2,4,5)\n",
    "b=list(a)\n",
    "\n",
    "n=[]\n",
    "\n",
    "for i in range(len(a)-1):\n",
    "    x=b[i]*b[i+1]\n",
    "    n.append(x)\n",
    "\n",
    "print(n)\n",
    "\n",
    "print(tuple(n))"
   ]
  },
  {
   "cell_type": "code",
   "execution_count": 68,
   "id": "1bb615d7-9d91-44a4-b5da-943e41b8d695",
   "metadata": {},
   "outputs": [
    {
     "name": "stdout",
     "output_type": "stream",
     "text": [
      "[[1, 2], [3, 4], [5, 6]]\n"
     ]
    }
   ],
   "source": [
    "\"\"\"Orignal list of tuple  [(1,2),(3,4),(5,6)]\n",
    "Convert into list of list [[1,2],[3,4],[5,6]]\"\"\"\n",
    "\n",
    "lt= [(1,2),(3,4),(5,6)]\n",
    "\n",
    "ll=[]\n",
    "\n",
    "ll0=list(lt[0])\n",
    "ll1=list(lt[1])\n",
    "ll2=list(lt[2])\n",
    "\n",
    "ll.append(ll0)\n",
    "ll.append(ll1)\n",
    "ll.append(ll2)\n",
    "\n",
    "print(ll)\n"
   ]
  },
  {
   "cell_type": "code",
   "execution_count": 63,
   "id": "463ace1a-825b-4197-8cc5-f81a644585e0",
   "metadata": {},
   "outputs": [
    {
     "name": "stdout",
     "output_type": "stream",
     "text": [
      "[(1, 2), (3, 4), (5, 6)]\n",
      "[[1, 2], [3, 4], [5, 6]]\n"
     ]
    }
   ],
   "source": [
    "#Other way to do this\n",
    "\n",
    "\"\"\"Orignal list of tuple  [(1,2),(3,4),(5,6)]\n",
    "Convert into list of list [[1,2],[3,4],[5,6]]\"\"\"\n",
    "\n",
    "lt= [(1,2),(3,4),(5,6)]\n",
    "\n",
    "ll=[]\n",
    "\n",
    "for i in range(len(lt)):\n",
    "    ll.append(list(lt[i]))\n",
    "    \n",
    "print(lt)\n",
    "print(ll)"
   ]
  },
  {
   "cell_type": "code",
   "execution_count": 77,
   "id": "29bdca7d-0418-4a37-ab64-98ad692b7434",
   "metadata": {},
   "outputs": [
    {
     "name": "stdout",
     "output_type": "stream",
     "text": [
      "[3, 7, 11]\n"
     ]
    }
   ],
   "source": [
    "\"\"\"Orignal list of tuple  [(1,2),(3,4),(5,6)]\n",
    "Convert into list of list [3,7,11]\"\"\"\n",
    "\n",
    "l= [(1,2),(3,4),(5,6)]\n",
    "x=[]\n",
    "\n",
    "for i in range(len(l)):\n",
    "    j=l[i]\n",
    "    k=j[0]+j[1]\n",
    "    x.append(k)\n",
    "    \n",
    "print(x)\n",
    "\n",
    "\n"
   ]
  },
  {
   "cell_type": "code",
   "execution_count": 78,
   "id": "52400a46-8ba7-44f6-b33d-d57fd022849a",
   "metadata": {},
   "outputs": [
    {
     "name": "stdout",
     "output_type": "stream",
     "text": [
      "[3, 7, 11]\n"
     ]
    }
   ],
   "source": [
    "l = [(1, 2), (3, 4), (5, 6)]\n",
    "x = []\n",
    "\n",
    "for a, b in l:\n",
    "    x.append(a + b)\n",
    "\n",
    "print(x)\n"
   ]
  },
  {
   "cell_type": "code",
   "execution_count": 80,
   "id": "791837e5-8c0b-4bbf-b80f-786c04daea7f",
   "metadata": {},
   "outputs": [
    {
     "name": "stdin",
     "output_type": "stream",
     "text": [
      "enter how many elemnts u want in tuple 4\n",
      "enter the elemnts now 22\n",
      "enter the elemnts now 33\n",
      "enter the elemnts now 44\n",
      "enter the elemnts now 55\n"
     ]
    },
    {
     "name": "stdout",
     "output_type": "stream",
     "text": [
      "The tuple u made is here (22, 33, 44, 55)\n"
     ]
    }
   ],
   "source": [
    "\"\"\"Take input from user like no. of element in tuple then store all the elements i tuple\"\"\"\n",
    "\n",
    "n=int(input(\"enter how many elemnts u want in tuple\"))\n",
    "l=[]\n",
    "\n",
    "for i in range(n):\n",
    "    elements=int(input(\"enter the elemnts now\"))\n",
    "    l.append(elements)\n",
    "    \n",
    "print(\"The tuple u made is here\",tuple(l))\n",
    "\n"
   ]
  },
  {
   "cell_type": "code",
   "execution_count": null,
   "id": "f414a06f-9783-4ae9-b8fa-d7bcfc4cc684",
   "metadata": {},
   "outputs": [],
   "source": []
  },
  {
   "cell_type": "code",
   "execution_count": null,
   "id": "6617bff1-bc3c-4431-92d7-c922d54d86e3",
   "metadata": {},
   "outputs": [],
   "source": []
  }
 ],
 "metadata": {
  "kernelspec": {
   "display_name": "Python 3 (ipykernel)",
   "language": "python",
   "name": "python3"
  },
  "language_info": {
   "codemirror_mode": {
    "name": "ipython",
    "version": 3
   },
   "file_extension": ".py",
   "mimetype": "text/x-python",
   "name": "python",
   "nbconvert_exporter": "python",
   "pygments_lexer": "ipython3",
   "version": "3.13.1"
  }
 },
 "nbformat": 4,
 "nbformat_minor": 5
}
