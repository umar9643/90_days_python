{
 "cells": [
  {
   "cell_type": "markdown",
   "id": "4cb9eed6-9c38-4b2b-a3ca-9262cf97d2e9",
   "metadata": {},
   "source": [
    "# UNIT 3 ASSIGNMENT"
   ]
  },
  {
   "cell_type": "code",
   "execution_count": null,
   "id": "f254db93-b2fe-4045-b813-5b52ac8d0ed6",
   "metadata": {},
   "outputs": [],
   "source": [
    "Question-1 In an experiment the scientist was measuring the lenght of a line,\n",
    "the following are the lenght in mm:\n",
    "                                  2.398,5.639,7.452,0.123,5.754\n",
    "Find the avg lenght also round off uppto two digit\n"
   ]
  },
  {
   "cell_type": "code",
   "execution_count": 6,
   "id": "eeb97074-8a9a-43a8-99c4-5f476c53c856",
   "metadata": {},
   "outputs": [
    {
     "name": "stdout",
     "output_type": "stream",
     "text": [
      "The avg lenght is 4.273\n"
     ]
    }
   ],
   "source": [
    "x=2.398+5.639+7.452+0.123+5.754\n",
    "y=5\n",
    "z=x/y\n",
    "\n",
    "print(\"The avg lenght is\",round(z,3))\n"
   ]
  },
  {
   "cell_type": "code",
   "execution_count": null,
   "id": "4ecba749-482f-408b-9def-ec188c905ff4",
   "metadata": {},
   "outputs": [],
   "source": [
    "Question-2 Rahul travle a distance of 12567.7854 Km,\n",
    "divide it the cost 45,76,63 Rs.\n",
    "find the avg of quotient and remainder\n",
    "Figure out the round off value of quotient and remainder. "
   ]
  },
  {
   "cell_type": "code",
   "execution_count": 21,
   "id": "40039ce3-e38e-45be-959e-ddf4a23fd5f6",
   "metadata": {},
   "outputs": [
    {
     "name": "stdout",
     "output_type": "stream",
     "text": [
      "Quotient , Remmainder\n",
      "(279.0, 12.785400000000664)\n",
      "(165.0, 27.785400000000664)\n",
      "(199.0, 30.785400000000664)\n",
      "Avg of quotient 214.33333333333334\n",
      "Avg of remainder 23.785400000000664\n",
      "Round off quotient 214.33\n",
      "Round off remainder 23.79\n"
     ]
    }
   ],
   "source": [
    "# We will use divmod() fn\n",
    "Dis=12567.7854\n",
    "Rs1=45\n",
    "Rs2=76\n",
    "Rs3=63\n",
    "\n",
    "x=divmod(Dis,Rs1)\n",
    "y=divmod(Dis,Rs2)\n",
    "z=divmod(Dis,Rs3)\n",
    "\n",
    "print(\"Quotient\",\",\",\"Remmainder\")\n",
    "print(x)\n",
    "print(y)\n",
    "print(z)\n",
    "\n",
    "#finding the avg of quotient\n",
    "print(\"Avg of quotient\",(x[0]+y[0]+z[0])/3)\n",
    "\n",
    "\n",
    "#finding the avg of remainder\n",
    "print(\"Avg of remainder\",(x[1]+y[1]+z[1])/3)\n",
    "\n",
    "#Round off \n",
    "print(\"Round off quotient\",round((x[0]+y[0]+z[0])/3,2))\n",
    "print(\"Round off remainder\",round((x[1]+y[1]+z[1])/3,2))"
   ]
  },
  {
   "cell_type": "code",
   "execution_count": null,
   "id": "7088eadd-5d71-4d93-ad8f-c99e5f458fe5",
   "metadata": {},
   "outputs": [],
   "source": [
    "Question-3 10524 raised to the power 2,3,4,5 and divide it by 71\n",
    "Find the remainder in each case."
   ]
  },
  {
   "cell_type": "code",
   "execution_count": 32,
   "id": "a29429a2-c0ba-444a-8355-00a8947e7504",
   "metadata": {},
   "outputs": [
    {
     "name": "stdout",
     "output_type": "stream",
     "text": [
      "53.61\n",
      "50.69\n",
      "40.03\n",
      "28.0\n"
     ]
    }
   ],
   "source": [
    "a=10524**2\n",
    "b=10524**3\n",
    "c=10524**4\n",
    "d=10524**5\n",
    "\n",
    "\n",
    "print(round((a/71)%71,2))\n",
    "print(round((b/71)%71,2))\n",
    "print(round((c/71)%71,2))\n",
    "print((d/71)%71)"
   ]
  },
  {
   "cell_type": "code",
   "execution_count": 33,
   "id": "2f233de3-6d93-4e27-b3c9-148cdd5ffc21",
   "metadata": {},
   "outputs": [
    {
     "name": "stdout",
     "output_type": "stream",
     "text": [
      "43 49 3 48\n"
     ]
    }
   ],
   "source": [
    "#easy way using pow fn\n",
    "\n",
    "a=pow(10524,2,71)\n",
    "b=pow(10524,3,71)\n",
    "c=pow(10524,4,71)\n",
    "d=pow(10524,5,71)\n",
    "\n",
    "print(a,b,c,d)"
   ]
  },
  {
   "cell_type": "code",
   "execution_count": null,
   "id": "aba0c92b-d655-459a-b262-74b42fc645a9",
   "metadata": {},
   "outputs": [],
   "source": [
    "Question-4  Enter the value of 5 stock inthe form of float from the user and\n",
    "Find the avg of 5 stock and round off.\n"
   ]
  },
  {
   "cell_type": "code",
   "execution_count": 36,
   "id": "bfe1ede4-70a5-4294-976d-648e1a4bc33f",
   "metadata": {},
   "outputs": [
    {
     "name": "stdin",
     "output_type": "stream",
     "text": [
      "enter the value of stock 1 66.5\n",
      "enter the value of stock 2 5656.554456\n",
      "enter the value of stock 3 5454.545\n",
      "enter the value of stock 4 515465.5154\n",
      "enter the value of stock 5 544.5454\n"
     ]
    },
    {
     "name": "stdout",
     "output_type": "stream",
     "text": [
      "The avg of 5 stock is 105437.53205119997\n",
      "the round off value is  105438\n"
     ]
    }
   ],
   "source": [
    "v1=float(input(\"enter the value of stock 1\"))\n",
    "v2=float(input(\"enter the value of stock 2\"))\n",
    "v3=float(input(\"enter the value of stock 3\"))\n",
    "v4=float(input(\"enter the value of stock 4\"))\n",
    "v5=float(input(\"enter the value of stock 5\"))\n",
    "\n",
    "avg=(v1+v2++v3+v4+v5)/5\n",
    "print(\"The avg of 5 stock is\",avg)\n",
    "print(\"the round off value is \",round(avg))"
   ]
  },
  {
   "cell_type": "code",
   "execution_count": null,
   "id": "2d25d2cf-3252-40ad-948f-89d8be61553c",
   "metadata": {},
   "outputs": [],
   "source": [
    "Question-5  Find th min and max and then sort in asc and desc order\n",
    "[7, 42, 18, 63, -90, 3, 27, 55, 14, 81, -36, 0, 71, 99, 22, 48, 66, 10, 5, -33]"
   ]
  },
  {
   "cell_type": "code",
   "execution_count": 44,
   "id": "fbe953c8-2c68-4872-9472-b7c84526f086",
   "metadata": {},
   "outputs": [
    {
     "name": "stdout",
     "output_type": "stream",
     "text": [
      "Maximum is  99\n",
      "minimun is  -90\n",
      "Sorted in Asc order [-90, -36, -33, 0, 3, 5, 7, 10, 14, 18, 22, 27, 42, 48, 55, 63, 66, 71, 81, 99]\n",
      "Sorted in Desc order [99, 81, 71, 66, 63, 55, 48, 42, 27, 22, 18, 14, 10, 7, 5, 3, 0, -33, -36, -90]\n"
     ]
    }
   ],
   "source": [
    "list=[7, 42, 18, 63, -90, 3, 27, 55, 14, 81, -36, 0, 71, 99, 22, 48, 66, 10, 5, -33]\n",
    "print(\"Maximum is \",max(list))\n",
    "print(\"minimun is \",min(list))\n",
    "\n",
    "print(\"Sorted in Asc order\",sorted(list))\n",
    "print(\"Sorted in Desc order\",sorted(list,reverse=True))\n"
   ]
  },
  {
   "cell_type": "code",
   "execution_count": null,
   "id": "50c7c1fb-aec6-4ed8-a384-49494de2b331",
   "metadata": {},
   "outputs": [],
   "source": []
  },
  {
   "cell_type": "code",
   "execution_count": null,
   "id": "3be4a4ae-9a7f-4535-84e7-98658bc13a8e",
   "metadata": {},
   "outputs": [],
   "source": []
  }
 ],
 "metadata": {
  "kernelspec": {
   "display_name": "Python 3 (ipykernel)",
   "language": "python",
   "name": "python3"
  },
  "language_info": {
   "codemirror_mode": {
    "name": "ipython",
    "version": 3
   },
   "file_extension": ".py",
   "mimetype": "text/x-python",
   "name": "python",
   "nbconvert_exporter": "python",
   "pygments_lexer": "ipython3",
   "version": "3.13.1"
  }
 },
 "nbformat": 4,
 "nbformat_minor": 5
}
