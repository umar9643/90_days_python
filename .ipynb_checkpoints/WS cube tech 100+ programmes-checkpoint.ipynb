{
 "cells": [
  {
   "cell_type": "markdown",
   "id": "63a4ac98",
   "metadata": {},
   "source": [
    "# ADD TWO NUMBERS IN PYTHON\n"
   ]
  },
  {
   "cell_type": "markdown",
   "id": "d7a36eeb",
   "metadata": {},
   "source": [
    "SOL1 WITH PRE DEFINED VARIABLES"
   ]
  },
  {
   "cell_type": "code",
   "execution_count": 1,
   "id": "1dd5937b",
   "metadata": {},
   "outputs": [
    {
     "name": "stdout",
     "output_type": "stream",
     "text": [
      "16\n"
     ]
    }
   ],
   "source": [
    "a=9\n",
    "b=7\n",
    "c=a+b\n",
    "print(c)"
   ]
  },
  {
   "cell_type": "markdown",
   "id": "08aef785",
   "metadata": {},
   "source": [
    "SOL2 TAKING INPUT BY USER"
   ]
  },
  {
   "cell_type": "code",
   "execution_count": 3,
   "id": "5d94961e",
   "metadata": {},
   "outputs": [
    {
     "name": "stdout",
     "output_type": "stream",
     "text": [
      "enter ist number8\n",
      "enter 2nd number5\n",
      "13.0\n"
     ]
    }
   ],
   "source": [
    "num1=float(input(\"enter ist number\"))\n",
    "num2=float(input(\"enter 2nd number\") ) \n",
    "print(num1+num2)           \n",
    "                 "
   ]
  },
  {
   "cell_type": "markdown",
   "id": "7609c6dd",
   "metadata": {},
   "source": [
    "# CALCULATING SQUARE ROOT IN PYTHON PROGRAM"
   ]
  },
  {
   "cell_type": "code",
   "execution_count": null,
   "id": "19c78ae5",
   "metadata": {},
   "outputs": [],
   "source": []
  }
 ],
 "metadata": {
  "kernelspec": {
   "display_name": "Python 3 (ipykernel)",
   "language": "python",
   "name": "python3"
  },
  "language_info": {
   "codemirror_mode": {
    "name": "ipython",
    "version": 3
   },
   "file_extension": ".py",
   "mimetype": "text/x-python",
   "name": "python",
   "nbconvert_exporter": "python",
   "pygments_lexer": "ipython3",
   "version": "3.11.5"
  }
 },
 "nbformat": 4,
 "nbformat_minor": 5
}
