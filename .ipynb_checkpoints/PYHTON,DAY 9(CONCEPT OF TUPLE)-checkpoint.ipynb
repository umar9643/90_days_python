{
 "cells": [
  {
   "cell_type": "markdown",
   "id": "c059982b",
   "metadata": {},
   "source": [
    "# TUPLE IN PYTHON"
   ]
  },
  {
   "cell_type": "code",
   "execution_count": null,
   "id": "e697592a-53c4-49e5-809f-c4fd2528ce75",
   "metadata": {},
   "outputs": [],
   "source": []
  },
  {
   "cell_type": "markdown",
   "id": "b2d3a38d",
   "metadata": {},
   "source": [
    "# CREATING A TUPLE"
   ]
  },
  {
   "cell_type": "code",
   "execution_count": 2,
   "id": "dc5e45a3",
   "metadata": {},
   "outputs": [
    {
     "name": "stdout",
     "output_type": "stream",
     "text": [
      "(1, 2, 3, 4)\n",
      "<class 'tuple'>\n"
     ]
    }
   ],
   "source": [
    "MY_TUPLE=(1,2,3,4)\n",
    "print(MY_TUPLE)\n",
    "print(type(MY_TUPLE))"
   ]
  },
  {
   "cell_type": "markdown",
   "id": "4ea4e7f9",
   "metadata": {},
   "source": [
    "# TUPLE WITH MIXED DATA TYPES"
   ]
  },
  {
   "cell_type": "code",
   "execution_count": 3,
   "id": "59178ba3",
   "metadata": {},
   "outputs": [
    {
     "name": "stdout",
     "output_type": "stream",
     "text": [
      "(1, 'hello', 1.2)\n",
      "<class 'tuple'>\n"
     ]
    }
   ],
   "source": [
    "my_tuple=(1,\"hello\",1.2)\n",
    "print(my_tuple)\n",
    "print(type(my_tuple))"
   ]
  },
  {
   "cell_type": "markdown",
   "id": "aeeb743d",
   "metadata": {},
   "source": [
    "# Emplty tuple"
   ]
  },
  {
   "cell_type": "code",
   "execution_count": 4,
   "id": "22b9eaf8",
   "metadata": {},
   "outputs": [
    {
     "name": "stdout",
     "output_type": "stream",
     "text": [
      "()\n"
     ]
    }
   ],
   "source": [
    "t=()\n",
    "print(t)"
   ]
  },
  {
   "cell_type": "markdown",
   "id": "71b2c8e4",
   "metadata": {},
   "source": [
    "# Nesting of tuple"
   ]
  },
  {
   "cell_type": "code",
   "execution_count": 5,
   "id": "87ede91a",
   "metadata": {},
   "outputs": [
    {
     "name": "stdout",
     "output_type": "stream",
     "text": [
      "('APPLE', [1, 2, 3], (1, 2, 3))\n",
      "<class 'tuple'>\n"
     ]
    }
   ],
   "source": [
    "X=(\"APPLE\",[1,2,3],(1,2,3))\n",
    "print(X)\n",
    "print(type(X))"
   ]
  },
  {
   "cell_type": "markdown",
   "id": "384dfeb5",
   "metadata": {},
   "source": [
    "# Creating a tuple with one element"
   ]
  },
  {
   "cell_type": "code",
   "execution_count": 7,
   "id": "54f58219",
   "metadata": {},
   "outputs": [
    {
     "name": "stdout",
     "output_type": "stream",
     "text": [
      "UMAR\n",
      "<class 'str'>\n"
     ]
    }
   ],
   "source": [
    "MYTUPLE=(\"UMAR\")\n",
    "print(MYTUPLE)\n",
    "print(type(MYTUPLE))"
   ]
  },
  {
   "cell_type": "code",
   "execution_count": 9,
   "id": "71694e61",
   "metadata": {},
   "outputs": [
    {
     "name": "stdout",
     "output_type": "stream",
     "text": [
      "UMAR\n",
      "<class 'tuple'>\n"
     ]
    }
   ],
   "source": [
    "YTUPLE=(\"UMAR\",)\n",
    "print(MYTUPLE)\n",
    "print(type(YTUPLE))"
   ]
  },
  {
   "cell_type": "markdown",
   "id": "200cfc8d",
   "metadata": {},
   "source": [
    "# THE TUPLE CONSTRUCTOR"
   ]
  },
  {
   "cell_type": "code",
   "execution_count": 14,
   "id": "f017d7d2",
   "metadata": {},
   "outputs": [
    {
     "name": "stdout",
     "output_type": "stream",
     "text": [
      "(1, 2)\n",
      "<class 'tuple'>\n"
     ]
    }
   ],
   "source": [
    "thistuple=tuple((1,2))\n",
    "print(thistuple)\n",
    "print(type(thistuple))"
   ]
  },
  {
   "cell_type": "code",
   "execution_count": 1,
   "id": "1e322cd7",
   "metadata": {},
   "outputs": [
    {
     "name": "stdout",
     "output_type": "stream",
     "text": [
      "[1, 2]\n",
      "<class 'list'>\n"
     ]
    }
   ],
   "source": [
    "thistuple=list((1,2))\n",
    "print(thistuple)\n",
    "print(type(thistuple))"
   ]
  },
  {
   "cell_type": "code",
   "execution_count": 2,
   "id": "025578ea",
   "metadata": {},
   "outputs": [
    {
     "name": "stdout",
     "output_type": "stream",
     "text": [
      "('a',)\n",
      "<class 'tuple'>\n"
     ]
    }
   ],
   "source": [
    "thistuple=tuple((\"a\"))\n",
    "print(thistuple)\n",
    "print(type(thistuple))"
   ]
  },
  {
   "cell_type": "markdown",
   "id": "6facd33d-507a-4ffe-a5b5-41f6bc7c5281",
   "metadata": {},
   "source": [
    "# Concatination of tuples"
   ]
  },
  {
   "cell_type": "code",
   "execution_count": 1,
   "id": "e2c18a83-1043-4251-bb87-e8805daa0eb9",
   "metadata": {},
   "outputs": [
    {
     "name": "stdout",
     "output_type": "stream",
     "text": [
      "(1, 2, 3, 4, 5, 6, 7, 8, 9, 0)\n"
     ]
    }
   ],
   "source": [
    "t=(1,2,3,4,5)\n",
    "t1=(6,7,8,9,0)\n",
    "print(t+t1)"
   ]
  },
  {
   "cell_type": "markdown",
   "id": "47be3914-641e-4c80-a281-fb86f2470bf0",
   "metadata": {},
   "source": [
    "# Adding tuple"
   ]
  },
  {
   "cell_type": "code",
   "execution_count": 21,
   "id": "498e13db-9e20-4f5c-9dfe-88bac3b3dcd1",
   "metadata": {},
   "outputs": [
    {
     "name": "stdout",
     "output_type": "stream",
     "text": [
      "('umar', 'alam', 'imran', 'alam')\n"
     ]
    }
   ],
   "source": [
    "t1=(\"umar\",\"alam\")\n",
    "t2=(\"imran\",\"alam\")\n",
    "t3=(t1+t2)\n",
    "print(t3)"
   ]
  },
  {
   "cell_type": "code",
   "execution_count": 22,
   "id": "e762e6c3-89e9-4a2c-9499-e3ad4f8d7a0e",
   "metadata": {},
   "outputs": [
    {
     "name": "stdout",
     "output_type": "stream",
     "text": [
      "(2, 3, 5, 6)\n"
     ]
    }
   ],
   "source": [
    "t1=(2,3)\n",
    "t2=(5,6)\n",
    "t3=(t1+t2)\n",
    "print(t3)"
   ]
  },
  {
   "cell_type": "markdown",
   "id": "13fc1a47-2ceb-45fd-9887-55964eab5dfb",
   "metadata": {},
   "source": [
    "# Multiply tuple"
   ]
  },
  {
   "cell_type": "code",
   "execution_count": 2,
   "id": "16110bf9-992a-413b-ac39-51e092d74916",
   "metadata": {},
   "outputs": [
    {
     "name": "stdout",
     "output_type": "stream",
     "text": [
      "('apple', 'boy', 'cat', 'rat', 'apple', 'boy', 'cat', 'rat')\n"
     ]
    }
   ],
   "source": [
    "x=(\"apple\",\"boy\",\"cat\",\"rat\")\n",
    "y=x*2\n",
    "print(y)"
   ]
  },
  {
   "cell_type": "code",
   "execution_count": 3,
   "id": "b28ca6c0-5008-4a02-aa3e-7b4983b8c9fd",
   "metadata": {},
   "outputs": [
    {
     "name": "stdout",
     "output_type": "stream",
     "text": [
      "('apple', 'boy', 'cat', 'rat', 'apple', 'boy', 'cat', 'rat', 'apple', 'boy', 'cat', 'rat')\n",
      "\n"
     ]
    }
   ],
   "source": [
    "x=(\"apple\",\"boy\",\"cat\",\"rat\")\n",
    "y=x*3\n",
    "print(y)\n",
    "print()"
   ]
  },
  {
   "cell_type": "markdown",
   "id": "b1adfc44-6012-4f64-9c09-65bbe213f140",
   "metadata": {},
   "source": [
    "# Length fo the tuple"
   ]
  },
  {
   "cell_type": "code",
   "execution_count": 4,
   "id": "7c754e6d-6fcb-48ec-8a19-e4ad9b2b7385",
   "metadata": {},
   "outputs": [
    {
     "name": "stdout",
     "output_type": "stream",
     "text": [
      "4\n"
     ]
    }
   ],
   "source": [
    "x=(\"apple\",\"boy\",\"cat\",\"rat\")\n",
    "print(len(x))"
   ]
  },
  {
   "cell_type": "code",
   "execution_count": 5,
   "id": "a89ef64e-4321-4b08-9339-159cc2f33753",
   "metadata": {},
   "outputs": [
    {
     "name": "stdout",
     "output_type": "stream",
     "text": [
      "3\n"
     ]
    }
   ],
   "source": [
    "X=(\"APPLE\",[1,2,3],(1,2,3))\n",
    "print(len(X))"
   ]
  },
  {
   "cell_type": "code",
   "execution_count": 7,
   "id": "38388243-264c-42c6-8c10-9a1704721249",
   "metadata": {},
   "outputs": [
    {
     "name": "stdout",
     "output_type": "stream",
     "text": [
      "19\n"
     ]
    }
   ],
   "source": [
    "n=(4,5,6,3,4,5,8,6,4,0,97,8,6,5,56,44,33,55,66)\n",
    "print(len(n))"
   ]
  },
  {
   "cell_type": "markdown",
   "id": "d5843eb9-1fe5-4d75-9423-84847b3321c0",
   "metadata": {},
   "source": [
    "# Count() method"
   ]
  },
  {
   "cell_type": "markdown",
   "id": "cf328b3b-c305-484a-b99b-8e6f94fc0a29",
   "metadata": {},
   "source": [
    "In Python, the count() method is a built-in function of sequence types (like tuples, lists, and strings) that returns the number of times a specified value or substring appears in the sequence."
   ]
  },
  {
   "cell_type": "code",
   "execution_count": 13,
   "id": "1160133b-afb3-4acf-96ee-af6cadc1949a",
   "metadata": {},
   "outputs": [
    {
     "name": "stdout",
     "output_type": "stream",
     "text": [
      "(4, 5, 6, 3, 4, 5, 8, 6, 4, 0, 97, 8, 6, 5, 56, 44, 33, 55, 66)\n",
      "3\n",
      "1\n"
     ]
    }
   ],
   "source": [
    "n=(4,5,6,3,4,5,8,6,4,0,97,8,6,5,56,44,33,55,66)\n",
    "print(n)\n",
    "print(n.count(4))\n",
    "print(n.count(3))"
   ]
  },
  {
   "cell_type": "code",
   "execution_count": null,
   "id": "9ae55004-218e-4477-8cfa-60d79bec705a",
   "metadata": {},
   "outputs": [],
   "source": []
  },
  {
   "cell_type": "code",
   "execution_count": null,
   "id": "61ad01aa-dac3-4ccd-922b-d26ca72ad181",
   "metadata": {},
   "outputs": [],
   "source": []
  },
  {
   "cell_type": "code",
   "execution_count": null,
   "id": "cc128e6d-f310-4e7f-9915-0de83c5286fb",
   "metadata": {},
   "outputs": [],
   "source": []
  },
  {
   "cell_type": "code",
   "execution_count": null,
   "id": "5d46b802-5df2-4526-be62-a6dd970ae358",
   "metadata": {},
   "outputs": [],
   "source": []
  },
  {
   "cell_type": "code",
   "execution_count": null,
   "id": "8f09f4bc-c19d-4050-bed4-12fd6be22994",
   "metadata": {},
   "outputs": [],
   "source": []
  },
  {
   "cell_type": "markdown",
   "id": "bbf4ce21",
   "metadata": {},
   "source": [
    "# Indexing"
   ]
  },
  {
   "cell_type": "markdown",
   "id": "412b5a74-aa17-4dec-bc8a-40bf4b71bea4",
   "metadata": {},
   "source": [
    "Indexing is a way to access individual elements of a sequence (like a tuple, list, or string) by their position (index number)."
   ]
  },
  {
   "cell_type": "code",
   "execution_count": 20,
   "id": "c043ee86",
   "metadata": {},
   "outputs": [
    {
     "name": "stdout",
     "output_type": "stream",
     "text": [
      "cat\n"
     ]
    }
   ],
   "source": [
    "x=(\"apple\",\"boy\",\"cat\",\"rat\")\n",
    "print(x[2])"
   ]
  },
  {
   "cell_type": "code",
   "execution_count": 19,
   "id": "5f1c607c",
   "metadata": {},
   "outputs": [
    {
     "name": "stdout",
     "output_type": "stream",
     "text": [
      "55\n"
     ]
    }
   ],
   "source": [
    "a=(22,33,44,55,66,77,88,99)\n",
    "print(a[3])"
   ]
  },
  {
   "cell_type": "code",
   "execution_count": 21,
   "id": "e3357ae2",
   "metadata": {},
   "outputs": [
    {
     "name": "stdout",
     "output_type": "stream",
     "text": [
      "77\n"
     ]
    }
   ],
   "source": [
    "a=(22,33,44,55,66,77,88,99)\n",
    "print(a[-3])"
   ]
  },
  {
   "cell_type": "code",
   "execution_count": 22,
   "id": "aaad421f",
   "metadata": {},
   "outputs": [
    {
     "name": "stdout",
     "output_type": "stream",
     "text": [
      "cat\n"
     ]
    }
   ],
   "source": [
    "x=(\"apple\",\"boy\",\"cat\",\"rat\")\n",
    "print(x[-2])"
   ]
  },
  {
   "cell_type": "markdown",
   "id": "1b22c5ce-9538-49cc-b4ce-d4cb4f477e31",
   "metadata": {},
   "source": [
    "# index() method"
   ]
  },
  {
   "cell_type": "markdown",
   "id": "f9cfd4e4-4d3d-47ed-980a-63122409092c",
   "metadata": {},
   "source": [
    "The index() method in a tuple returns the position (index number) of the first occurrence of a specified value."
   ]
  },
  {
   "cell_type": "code",
   "execution_count": 14,
   "id": "a4092d82-21ac-40f7-8f00-5ed4650a549d",
   "metadata": {},
   "outputs": [
    {
     "name": "stdout",
     "output_type": "stream",
     "text": [
      "1\n"
     ]
    }
   ],
   "source": [
    "x=(\"apple\",\"boy\",\"cat\",\"rat\")\n",
    "print(x.index(\"boy\"))"
   ]
  },
  {
   "cell_type": "code",
   "execution_count": 16,
   "id": "8a5ec948-86ec-45e1-8ac5-7064e9017455",
   "metadata": {},
   "outputs": [
    {
     "name": "stdout",
     "output_type": "stream",
     "text": [
      "5\n"
     ]
    }
   ],
   "source": [
    "a=(12,32,45,34,\"code\",\"program\",\"pyhton\")\n",
    "b=a.index(\"program\")\n",
    "print(b)"
   ]
  },
  {
   "cell_type": "markdown",
   "id": "e78c66eb",
   "metadata": {},
   "source": [
    "# Slicing"
   ]
  },
  {
   "cell_type": "markdown",
   "id": "9358446b-1121-47b3-95a1-8260cb2e353b",
   "metadata": {},
   "source": [
    "Slicing is a way to extract a part (or subset) of a sequence (like a list, tuple, or string) using start, stop, and step positions."
   ]
  },
  {
   "cell_type": "code",
   "execution_count": 23,
   "id": "aac829a3",
   "metadata": {},
   "outputs": [
    {
     "name": "stdout",
     "output_type": "stream",
     "text": [
      "(22, 33, 44)\n"
     ]
    }
   ],
   "source": [
    "a=(22,33,44,55,66,77,88,99)\n",
    "print(a[0:3])"
   ]
  },
  {
   "cell_type": "code",
   "execution_count": 24,
   "id": "29a9c660",
   "metadata": {},
   "outputs": [
    {
     "name": "stdout",
     "output_type": "stream",
     "text": [
      "(22, 33, 44, 55, 66, 77, 88, 99)\n"
     ]
    }
   ],
   "source": [
    "a=(22,33,44,55,66,77,88,99)\n",
    "print(a[0:])"
   ]
  },
  {
   "cell_type": "code",
   "execution_count": 25,
   "id": "a9607978",
   "metadata": {},
   "outputs": [
    {
     "name": "stdout",
     "output_type": "stream",
     "text": [
      "(22, 33, 44, 55, 66, 77, 88)\n"
     ]
    }
   ],
   "source": [
    "a=(22,33,44,55,66,77,88,99)\n",
    "print(a[:7])"
   ]
  },
  {
   "cell_type": "code",
   "execution_count": 26,
   "id": "daecea97",
   "metadata": {},
   "outputs": [
    {
     "name": "stdout",
     "output_type": "stream",
     "text": [
      "(22, 33, 44, 55, 66, 77, 88, 99)\n",
      "8\n"
     ]
    }
   ],
   "source": [
    "a=(22,33,44,55,66,77,88,99)\n",
    "print(a[:])\n",
    "print(len(a))"
   ]
  },
  {
   "cell_type": "code",
   "execution_count": 27,
   "id": "51dbbc6e",
   "metadata": {},
   "outputs": [
    {
     "name": "stdout",
     "output_type": "stream",
     "text": [
      "(22, 44, 66, 88)\n"
     ]
    }
   ],
   "source": [
    "a=(22,33,44,55,66,77,88,99)\n",
    "print(a[::2])"
   ]
  },
  {
   "cell_type": "markdown",
   "id": "bfbf1222",
   "metadata": {},
   "source": [
    "# Reversing a tuple"
   ]
  },
  {
   "cell_type": "markdown",
   "id": "05fcb179-1a3e-437f-9e3e-18c299b87410",
   "metadata": {},
   "source": [
    "Tuples in Python are immutable, so they don’t have a built-in reverse() method like lists.\n",
    "    \n",
    "But you can still reverse their order using these approaches:"
   ]
  },
  {
   "cell_type": "code",
   "execution_count": 28,
   "id": "7d127fbc",
   "metadata": {},
   "outputs": [
    {
     "name": "stdout",
     "output_type": "stream",
     "text": [
      "(99, 88, 77, 66, 55, 44, 33, 22)\n"
     ]
    }
   ],
   "source": [
    "a=(22,33,44,55,66,77,88,99)\n",
    "print(a[::-1])"
   ]
  },
  {
   "cell_type": "markdown",
   "id": "7bd7cc3e",
   "metadata": {},
   "source": []
  },
  {
   "cell_type": "code",
   "execution_count": 26,
   "id": "7d12cbd2",
   "metadata": {},
   "outputs": [
    {
     "name": "stdout",
     "output_type": "stream",
     "text": [
      "(1, 2, 3, 4, 5, 6, 7, 8, 9)\n",
      "(4, 5, 6, 7, 8, 9)\n",
      "(1, 2, 3, 4, 5, 6, 7)\n",
      "()\n"
     ]
    }
   ],
   "source": [
    "## WRITE THE OUTPUT OF THE FOLLOWING CODE\n",
    "t=(1,2,3,4,5,6,7,8,9)\n",
    "print(t[::])\n",
    "print(t[3:])\n",
    "print(t[:7])\n",
    "print(t[-2:-5])"
   ]
  },
  {
   "cell_type": "markdown",
   "id": "1b686ff9",
   "metadata": {},
   "source": [
    "# Duplicate are allowed in tuples"
   ]
  },
  {
   "cell_type": "code",
   "execution_count": 32,
   "id": "9404c7f0",
   "metadata": {},
   "outputs": [
    {
     "name": "stdout",
     "output_type": "stream",
     "text": [
      "(1, 2, 3, 4, 2, 3, 4, 5, 3, 6, 4, 56)\n",
      "<class 'tuple'>\n"
     ]
    }
   ],
   "source": [
    "a=(1,2,3,4,2,3,4,5,3,6,4,56,)\n",
    "print(a)\n",
    "print(type(a))"
   ]
  },
  {
   "cell_type": "markdown",
   "id": "10c83ad2-f89a-403b-bb3c-d59d85de20e9",
   "metadata": {},
   "source": [
    "# Altering the tuple"
   ]
  },
  {
   "cell_type": "markdown",
   "id": "719d4377",
   "metadata": {},
   "source": [
    "ONCE A TUPLE IS CREATED YOU CANNOT CHANGE THE VALUS OF A TUPLE. TUPLES ARE IMMUTABLE AND UN CHANGABLE\n"
   ]
  },
  {
   "cell_type": "markdown",
   "id": "8bb701b5",
   "metadata": {},
   "source": [
    "CONVERT A TUPLE INTO A LIST TO CHNAGE ITS VALUES OR ELEMENTS"
   ]
  },
  {
   "cell_type": "code",
   "execution_count": 33,
   "id": "0bf55383",
   "metadata": {},
   "outputs": [
    {
     "name": "stdout",
     "output_type": "stream",
     "text": [
      "(1, 2, 'three', 4, 5, 6, 7)\n"
     ]
    }
   ],
   "source": [
    "x=(1,2,3,4,5,6,7)\n",
    "y=list(x)\n",
    "y[2]=\"three\"\n",
    "x=tuple(y)\n",
    "print(x)"
   ]
  },
  {
   "cell_type": "code",
   "execution_count": 6,
   "id": "b708fdf2",
   "metadata": {},
   "outputs": [
    {
     "name": "stdout",
     "output_type": "stream",
     "text": [
      "(1, 2, 'three', 4, 5, 6, 7)\n"
     ]
    }
   ],
   "source": [
    "x=(1,2,3,4,5,6,7)\n",
    "y=list(x)\n",
    "y[2]=\"three\"\n",
    "z=tuple(y)\n",
    "print(z)"
   ]
  },
  {
   "cell_type": "markdown",
   "id": "43371e73",
   "metadata": {},
   "source": [
    "# Adding items in tuples"
   ]
  },
  {
   "cell_type": "markdown",
   "id": "aeec7234",
   "metadata": {},
   "source": [
    "SINCE TUPLE IS IMMUTABLE THEY DONOT HAVE A BUILT IN APPEND METHOD ,BUT THERE A ANOTHER WAY TO ADD ITEM IN TUPLE"
   ]
  },
  {
   "cell_type": "code",
   "execution_count": 34,
   "id": "bd6ab2a9",
   "metadata": {},
   "outputs": [
    {
     "name": "stdout",
     "output_type": "stream",
     "text": [
      "(1, 2, 3, 4, 5, 6, 7)\n"
     ]
    }
   ],
   "source": [
    "x=(1,2,3,4,5,6)\n",
    "y=list(x)\n",
    "y.append(7)\n",
    "x=tuple(y)\n",
    "print(x)"
   ]
  },
  {
   "cell_type": "code",
   "execution_count": 7,
   "id": "64b5a07e",
   "metadata": {},
   "outputs": [
    {
     "name": "stdout",
     "output_type": "stream",
     "text": [
      "(1, 2, 3, 4, 5, 6, 7)\n"
     ]
    }
   ],
   "source": [
    "x=(1,2,3,4,5,6)\n",
    "y=list(x)\n",
    "y.append(7)\n",
    "z=tuple(y)\n",
    "print(z)"
   ]
  },
  {
   "cell_type": "markdown",
   "id": "a293c3f8",
   "metadata": {},
   "source": [
    "# Removing items"
   ]
  },
  {
   "cell_type": "markdown",
   "id": "69770ecf",
   "metadata": {},
   "source": [
    "AS TUPLE IS IMMUTABLE SO WE CANNOT CHANGE TUPLE BUT THERE IS A JUGAD TO CHANGE  TUPLE .WE WILL CONVERT TUPLE INTO LIST IST\n",
    "THEN WE WIL BW ABLE TO CHNAGE.\n",
    "\n"
   ]
  },
  {
   "cell_type": "code",
   "execution_count": 37,
   "id": "189affad",
   "metadata": {},
   "outputs": [
    {
     "name": "stdout",
     "output_type": "stream",
     "text": [
      "('u',)\n"
     ]
    }
   ],
   "source": [
    "t1=(\"u\",\"s\")\n",
    "t2=list(t1)\n",
    "t2.remove(\"s\")\n",
    "t1=tuple(t2)\n",
    "print(t1)"
   ]
  },
  {
   "cell_type": "code",
   "execution_count": 9,
   "id": "0affa71b",
   "metadata": {},
   "outputs": [
    {
     "name": "stdout",
     "output_type": "stream",
     "text": [
      "('s',)\n"
     ]
    }
   ],
   "source": [
    "h=(\"i\",\"s\")\n",
    "i=list(h)\n",
    "i.remove(\"i\")\n",
    "h=tuple(i)\n",
    "print(h)"
   ]
  },
  {
   "cell_type": "code",
   "execution_count": 3,
   "id": "a598ebdc-38a9-4ab4-999a-5989b58b28e4",
   "metadata": {},
   "outputs": [
    {
     "name": "stdout",
     "output_type": "stream",
     "text": [
      "('u',)\n",
      "<class 'tuple'>\n"
     ]
    }
   ],
   "source": [
    "h=(\"u\",\"s\")\n",
    "k=list(h)\n",
    "k.remove(\"s\")\n",
    "j=tuple(k)\n",
    "print(j)\n",
    "print(type(j))"
   ]
  },
  {
   "cell_type": "markdown",
   "id": "4ef8539e-6cf2-4d5d-b40b-e5212e909dab",
   "metadata": {},
   "source": [
    "# Del keyword"
   ]
  },
  {
   "cell_type": "markdown",
   "id": "06666a59",
   "metadata": {},
   "source": [
    "THE DEL KKEYWORD CAN DELETE TUPLE PERMANENTLY"
   ]
  },
  {
   "cell_type": "code",
   "execution_count": 40,
   "id": "4e14fab7",
   "metadata": {},
   "outputs": [
    {
     "ename": "NameError",
     "evalue": "name 'a' is not defined",
     "output_type": "error",
     "traceback": [
      "\u001b[1;31m---------------------------------------------------------------------------\u001b[0m",
      "\u001b[1;31mNameError\u001b[0m                                 Traceback (most recent call last)",
      "Cell \u001b[1;32mIn[40], line 3\u001b[0m\n\u001b[0;32m      1\u001b[0m a\u001b[38;5;241m=\u001b[39m(\u001b[38;5;241m1\u001b[39m,\u001b[38;5;241m2\u001b[39m,\u001b[38;5;241m3\u001b[39m,\u001b[38;5;124m\"\u001b[39m\u001b[38;5;124ma\u001b[39m\u001b[38;5;124m\"\u001b[39m,\u001b[38;5;124m\"\u001b[39m\u001b[38;5;124mb\u001b[39m\u001b[38;5;124m\"\u001b[39m,\u001b[38;5;124m\"\u001b[39m\u001b[38;5;124mc\u001b[39m\u001b[38;5;124m\"\u001b[39m)\n\u001b[0;32m      2\u001b[0m \u001b[38;5;28;01mdel\u001b[39;00m a\n\u001b[1;32m----> 3\u001b[0m \u001b[38;5;28mprint\u001b[39m(a)\n",
      "\u001b[1;31mNameError\u001b[0m: name 'a' is not defined"
     ]
    }
   ],
   "source": [
    "a=(1,2,3,\"a\",\"b\",\"c\")\n",
    "del a\n",
    "print(a)"
   ]
  },
  {
   "cell_type": "code",
   "execution_count": 20,
   "id": "77bc89d9-f97f-415b-bf00-038ad786df5b",
   "metadata": {},
   "outputs": [
    {
     "name": "stdout",
     "output_type": "stream",
     "text": [
      "(1, 2, 3, 'a', 'b', 'c')\n",
      "('c', 'b', 'a', 3, 2, 1)\n",
      "<class 'tuple'>\n"
     ]
    }
   ],
   "source": [
    "\"\"\"Convert a list into tuple and  reverse it\"\"\"\n",
    "a=[1,2,3,\"a\",\"b\",\"c\"]\n",
    "\n",
    "b=tuple(a)\n",
    "c=b[::-1]\n",
    "print(b)\n",
    "print(c)\n",
    "print(type(b))\n"
   ]
  },
  {
   "cell_type": "code",
   "execution_count": null,
   "id": "3cbf123a-9c43-423f-8ee9-a6a0190a7566",
   "metadata": {},
   "outputs": [],
   "source": [
    "\"\"\"WRITE A PYTHON PROGRAM TO FIND REPEATED ITEMS IN PROGRAM\"\"\"\n",
    "\n",
    "x=(2,4,5,6,2,4,5,7,4)\n",
    "print(x)\n",
    "print(count)"
   ]
  },
  {
   "cell_type": "code",
   "execution_count": 37,
   "id": "31f7ee23-9875-4413-b65c-6421cf6c5fa9",
   "metadata": {},
   "outputs": [
    {
     "name": "stdin",
     "output_type": "stream",
     "text": [
      "enter the no.s 1\n",
      "enter the no.s 2\n",
      "enter the no.s 3\n",
      "enter the no.s 4\n",
      "enter the no.s 5\n"
     ]
    },
    {
     "name": "stdout",
     "output_type": "stream",
     "text": [
      "(1, 2, 3, 4, 5)\n",
      "<class 'tuple'>\n"
     ]
    }
   ],
   "source": [
    "\"\"\"WRITE A PYHTON PROGRA TO ACCEPT 5 NUMBER FORM THE USER AND STORE IN TUPLE\"\"\"\n",
    "\n",
    "d=[]\n",
    "for i in range(5):\n",
    "    d.append(int(input(\"enter the no.s\")))\n",
    "    \n",
    "\n",
    "t=tuple(d)\n",
    "print(t)\n",
    "print(type(t))\n",
    "\n"
   ]
  },
  {
   "cell_type": "code",
   "execution_count": 38,
   "id": "08e9bbf1",
   "metadata": {},
   "outputs": [
    {
     "name": "stdin",
     "output_type": "stream",
     "text": [
      "Enter number 1:  1\n",
      "Enter number 2:  2\n",
      "Enter number 3:  3\n",
      "Enter number 4:  4\n",
      "Enter number 5:  5\n"
     ]
    },
    {
     "name": "stdout",
     "output_type": "stream",
     "text": [
      "The tuple is: (1, 2, 3, 4, 5)\n"
     ]
    }
   ],
   "source": [
    "# Accept 5 numbers from user and store in a tuple\n",
    "\n",
    "numbers = []  # temporary list to collect numbers\n",
    "\n",
    "for i in range(5):\n",
    "    num = int(input(f\"Enter number {i+1}: \"))\n",
    "    numbers.append(num)  # add to list\n",
    "\n",
    "numbers_tuple = tuple(numbers)  # convert list to tuple\n",
    "\n",
    "print(\"The tuple is:\", numbers_tuple)\n"
   ]
  },
  {
   "cell_type": "code",
   "execution_count": null,
   "id": "5ab21612-326e-4092-add0-2235daa5e931",
   "metadata": {},
   "outputs": [],
   "source": []
  }
 ],
 "metadata": {
  "kernelspec": {
   "display_name": "Python 3 (ipykernel)",
   "language": "python",
   "name": "python3"
  },
  "language_info": {
   "codemirror_mode": {
    "name": "ipython",
    "version": 3
   },
   "file_extension": ".py",
   "mimetype": "text/x-python",
   "name": "python",
   "nbconvert_exporter": "python",
   "pygments_lexer": "ipython3",
   "version": "3.13.1"
  }
 },
 "nbformat": 4,
 "nbformat_minor": 5
}
