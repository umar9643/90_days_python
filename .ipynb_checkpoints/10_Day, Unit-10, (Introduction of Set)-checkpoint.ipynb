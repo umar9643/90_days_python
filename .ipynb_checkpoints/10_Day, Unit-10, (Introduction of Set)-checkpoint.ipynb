{
 "cells": [
  {
   "cell_type": "markdown",
   "id": "c3c496a6",
   "metadata": {},
   "source": [
    "# INTRODUCTION TO SET"
   ]
  },
  {
   "cell_type": "markdown",
   "id": "302ea04d",
   "metadata": {},
   "source": [
    " PERHAOS YOU RECALL LEARNIG ABOUT SET AND SET THEORY AT SOME PPOINT OF TIME IN YOUR MATHEMATICAL EDICATION.\n",
    "MAYBE YOU EVEN REMEMBER VENN DIAGRAM:"
   ]
  },
  {
   "cell_type": "markdown",
   "id": "6be8142a",
   "metadata": {},
   "source": [
    "A SET CAN BE THOUGHT OF SIMPLY AS A WELL-DEFINED COLLECTION OF DISTINCT OBJECTS, TYPICALLY CALLED ELEMENT OR MAMBER.\n",
    "GROUPING OBJECTS IN SET CAN BE USEFULL IN PROGHRAMMING AS WELL, AND PYTHON PROVBIDES A BUILT IN SET TYPE TO DO SO."
   ]
  },
  {
   "cell_type": "markdown",
   "id": "85c4c2a2",
   "metadata": {},
   "source": [
    "SET ARE USED TO STORED MULTIPLE ITEMS IN A SINGLE VARIABLE.\n"
   ]
  },
  {
   "cell_type": "markdown",
   "id": "31967257",
   "metadata": {},
   "source": [
    "SET IS ONE OF FOUR BUILT IN DATA TYPES I PYTHON USED TO STORE COLLECTION OF DATA, THE ORDER 3 ARE LIST,TUPLE, AND DICTIONARY\n",
    ",ALLL WITH DIFFERNET QUALITIES AND USAGES."
   ]
  },
  {
   "cell_type": "markdown",
   "id": "4443e590",
   "metadata": {},
   "source": [
    "A SET IS A COLLECTION WHICH IS UNORDERED, UNCHANGABLE,AND UNINDEXED."
   ]
  },
  {
   "cell_type": "markdown",
   "id": "9176aae5",
   "metadata": {},
   "source": [
    "# CREATING A SET"
   ]
  },
  {
   "cell_type": "code",
   "execution_count": 2,
   "id": "1352d9ec",
   "metadata": {},
   "outputs": [
    {
     "name": "stdout",
     "output_type": "stream",
     "text": [
      "{'animal', 'cat', 'ball'}\n",
      "<class 'set'>\n"
     ]
    }
   ],
   "source": [
    "a={\"animal\",\"ball\",\"cat\"}\n",
    "print(a)\n",
    "print(type(a))"
   ]
  },
  {
   "cell_type": "markdown",
   "id": "ec4d4216",
   "metadata": {},
   "source": [
    "# SET ITEMS ARE UNORDERD"
   ]
  },
  {
   "cell_type": "code",
   "execution_count": 1,
   "id": "faab1dfa",
   "metadata": {},
   "outputs": [
    {
     "ename": "TypeError",
     "evalue": "'set' object is not subscriptable",
     "output_type": "error",
     "traceback": [
      "\u001b[1;31m---------------------------------------------------------------------------\u001b[0m",
      "\u001b[1;31mTypeError\u001b[0m                                 Traceback (most recent call last)",
      "Cell \u001b[1;32mIn[1], line 2\u001b[0m\n\u001b[0;32m      1\u001b[0m a\u001b[38;5;241m=\u001b[39m{\u001b[38;5;124m\"\u001b[39m\u001b[38;5;124manimal\u001b[39m\u001b[38;5;124m\"\u001b[39m,\u001b[38;5;124m\"\u001b[39m\u001b[38;5;124mball\u001b[39m\u001b[38;5;124m\"\u001b[39m,\u001b[38;5;124m\"\u001b[39m\u001b[38;5;124mcat\u001b[39m\u001b[38;5;124m\"\u001b[39m}\n\u001b[1;32m----> 2\u001b[0m \u001b[38;5;28mprint\u001b[39m(a[\u001b[38;5;241m2\u001b[39m])\n",
      "\u001b[1;31mTypeError\u001b[0m: 'set' object is not subscriptable"
     ]
    }
   ],
   "source": [
    "a={\"animal\",\"ball\",\"cat\"}\n",
    "print(a[2])"
   ]
  },
  {
   "cell_type": "markdown",
   "id": "306e7db1",
   "metadata": {},
   "source": [
    "# DUPLICATES ARE NOT ALLOWED"
   ]
  },
  {
   "cell_type": "code",
   "execution_count": 5,
   "id": "7f09a24e",
   "metadata": {},
   "outputs": [
    {
     "name": "stdout",
     "output_type": "stream",
     "text": [
      "{'animal', 'cat', 'ball'}\n",
      "<class 'set'>\n"
     ]
    }
   ],
   "source": [
    "a={\"animal\",\"ball\",\"cat\",\"cat\",\"animal\"}\n",
    "print(a)\n",
    "print(type(a))"
   ]
  },
  {
   "cell_type": "markdown",
   "id": "4dcd0019",
   "metadata": {},
   "source": [
    "# TRUE AND 1 IS CONSIDER AS A SAME VALUE"
   ]
  },
  {
   "cell_type": "code",
   "execution_count": null,
   "id": "76c0f0e3",
   "metadata": {},
   "outputs": [],
   "source": []
  },
  {
   "cell_type": "markdown",
   "id": "bfd814e0",
   "metadata": {},
   "source": [
    "# GET THE LENGTH OF THE SET"
   ]
  },
  {
   "cell_type": "code",
   "execution_count": 6,
   "id": "adc6089a",
   "metadata": {},
   "outputs": [
    {
     "name": "stdout",
     "output_type": "stream",
     "text": [
      "8\n"
     ]
    }
   ],
   "source": [
    "a={\"ram\",\"sham\",\"dam\",\"paam\",\"apple\",\"cat\",\"dog\",\"bille\"}\n",
    "print(len(a))"
   ]
  },
  {
   "cell_type": "markdown",
   "id": "0448771f",
   "metadata": {},
   "source": [
    "# SET ITEMS DATA TYPES"
   ]
  },
  {
   "cell_type": "code",
   "execution_count": 7,
   "id": "de181334",
   "metadata": {},
   "outputs": [
    {
     "name": "stdout",
     "output_type": "stream",
     "text": [
      "{1, 2, 3, 4} {1.2, 2.3, 12.3, 23.32} {'c', 'd', 'a', 'b'} {False, True}\n"
     ]
    }
   ],
   "source": [
    "a={1,2,3,4}\n",
    "b={1.2,2.3,12.3,23.32}\n",
    "c={\"a\",\"b\",\"c\",\"d\"}\n",
    "d={True,False,True}\n",
    "print(a,b,c,d)"
   ]
  },
  {
   "cell_type": "code",
   "execution_count": 59,
   "id": "dbfecb16",
   "metadata": {},
   "outputs": [
    {
     "ename": "TypeError",
     "evalue": "unhashable type: 'list'",
     "output_type": "error",
     "traceback": [
      "\u001b[1;31m---------------------------------------------------------------------------\u001b[0m",
      "\u001b[1;31mTypeError\u001b[0m                                 Traceback (most recent call last)",
      "Cell \u001b[1;32mIn[59], line 1\u001b[0m\n\u001b[1;32m----> 1\u001b[0m a\u001b[38;5;241m=\u001b[39m{[\u001b[38;5;241m1\u001b[39m,\u001b[38;5;241m2\u001b[39m,\u001b[38;5;241m3\u001b[39m,\u001b[38;5;241m4\u001b[39m]}\n\u001b[0;32m      2\u001b[0m \u001b[38;5;28mprint\u001b[39m(a)\n",
      "\u001b[1;31mTypeError\u001b[0m: unhashable type: 'list'"
     ]
    }
   ],
   "source": [
    "a={[1,2,3,4]}\n",
    "print(a)\n",
    "#we cannot add list in set\n",
    "#LIST ARE MUTABLE OBJECT IN PYTHON WHEREAS SET IN PYHTON IMMUTABLE AND DOES NOT ALLOW UNHASHABLE OBJECTS.\n",
    "#THEREFORE, PYTHON DOES NOT ALLOW A SET TO STORE LIST,YOU CANNOT ADD A LIST TO SET."
   ]
  },
  {
   "cell_type": "code",
   "execution_count": 58,
   "id": "2abd0ac1",
   "metadata": {},
   "outputs": [
    {
     "name": "stdout",
     "output_type": "stream",
     "text": [
      "{(1, 2, 3, 4)}\n"
     ]
    }
   ],
   "source": [
    "a={(1,2,3,4)}\n",
    "print(a)\n",
    "#we can add TUPLE in set"
   ]
  },
  {
   "cell_type": "markdown",
   "id": "bc75f47e",
   "metadata": {},
   "source": [
    "# NESTED IS NOT A PROPERTY OF SET"
   ]
  },
  {
   "cell_type": "code",
   "execution_count": 12,
   "id": "37855eab",
   "metadata": {},
   "outputs": [
    {
     "ename": "TypeError",
     "evalue": "unhashable type: 'set'",
     "output_type": "error",
     "traceback": [
      "\u001b[1;31m---------------------------------------------------------------------------\u001b[0m",
      "\u001b[1;31mTypeError\u001b[0m                                 Traceback (most recent call last)",
      "Cell \u001b[1;32mIn[12], line 1\u001b[0m\n\u001b[1;32m----> 1\u001b[0m s\u001b[38;5;241m=\u001b[39m{{\u001b[38;5;241m1\u001b[39m,\u001b[38;5;241m2\u001b[39m,\u001b[38;5;241m3\u001b[39m,\u001b[38;5;241m4\u001b[39m},{\u001b[38;5;124m\"\u001b[39m\u001b[38;5;124ma\u001b[39m\u001b[38;5;124m\"\u001b[39m,\u001b[38;5;124m\"\u001b[39m\u001b[38;5;124mv\u001b[39m\u001b[38;5;124m\"\u001b[39m}}\n\u001b[0;32m      2\u001b[0m \u001b[38;5;28mprint\u001b[39m(s)\n\u001b[0;32m      3\u001b[0m \u001b[38;5;28mprint\u001b[39m(\u001b[38;5;28mtype\u001b[39m(s))\n",
      "\u001b[1;31mTypeError\u001b[0m: unhashable type: 'set'"
     ]
    }
   ],
   "source": [
    "s={{1,2,3,4},{\"a\",\"v\"}}\n",
    "print(s)\n",
    "print(type(s))"
   ]
  },
  {
   "cell_type": "markdown",
   "id": "c83b11ff",
   "metadata": {},
   "source": [
    "# THE SET CONSTRUCTOR"
   ]
  },
  {
   "cell_type": "code",
   "execution_count": 13,
   "id": "5cf0c1c1",
   "metadata": {},
   "outputs": [
    {
     "name": "stdout",
     "output_type": "stream",
     "text": [
      "{'ornge', 'apple'}\n",
      "<class 'set'>\n"
     ]
    }
   ],
   "source": [
    "x=set((\"apple\",\"ornge\"))\n",
    "print(x)\n",
    "print(type(x))"
   ]
  },
  {
   "cell_type": "code",
   "execution_count": 14,
   "id": "955c4a6e",
   "metadata": {},
   "outputs": [
    {
     "name": "stdout",
     "output_type": "stream",
     "text": [
      "('apple', 'ornge')\n",
      "<class 'tuple'>\n"
     ]
    }
   ],
   "source": [
    "x=(\"apple\",\"ornge\")\n",
    "print(x)\n",
    "print(type(x))"
   ]
  },
  {
   "cell_type": "markdown",
   "id": "9df42c58",
   "metadata": {},
   "source": [
    "# CREATING EMPTY SET"
   ]
  },
  {
   "cell_type": "code",
   "execution_count": 19,
   "id": "9c94a3cd",
   "metadata": {},
   "outputs": [
    {
     "name": "stdout",
     "output_type": "stream",
     "text": [
      "{}\n",
      "<class 'dict'>\n"
     ]
    }
   ],
   "source": [
    "s={}\n",
    "print(s)\n",
    "print(type(s))"
   ]
  },
  {
   "cell_type": "markdown",
   "id": "8774136e",
   "metadata": {},
   "source": [
    "# ACCESS ITEMS"
   ]
  },
  {
   "cell_type": "markdown",
   "id": "faf49317",
   "metadata": {},
   "source": [
    "YOU CANNOT ACCESS  ITMES INA SET BY REFFERING INDEX OR KEY."
   ]
  },
  {
   "cell_type": "markdown",
   "id": "5316fd41",
   "metadata": {},
   "source": [
    "BUT YOU CAN LOOP THROUGN THE SET ITEMS USING A FIR LOOP, OR ASK IF A SPECIFIC VALUE IS PRESENT IN A SET ,BY SUING THE IN KEYWORD"
   ]
  },
  {
   "cell_type": "code",
   "execution_count": 22,
   "id": "698ce150",
   "metadata": {},
   "outputs": [
    {
     "name": "stdout",
     "output_type": "stream",
     "text": [
      "c\n",
      "d\n",
      "a\n",
      "b\n"
     ]
    }
   ],
   "source": [
    "a={\"a\",\"b\",\"c\",\"d\"}\n",
    "for x in a:\n",
    "    print(x)"
   ]
  },
  {
   "cell_type": "markdown",
   "id": "351485ad",
   "metadata": {},
   "source": [
    "# CHECKING IA AN ITEM OS PRESENT IN A SET OR NOT"
   ]
  },
  {
   "cell_type": "code",
   "execution_count": 25,
   "id": "fbc190f2",
   "metadata": {},
   "outputs": [
    {
     "name": "stdout",
     "output_type": "stream",
     "text": [
      "True\n"
     ]
    }
   ],
   "source": [
    "a={\"a\",\"b\",\"c\",\"d\"}\n",
    "print(\"a\" in a)"
   ]
  },
  {
   "cell_type": "code",
   "execution_count": 26,
   "id": "d4530607",
   "metadata": {},
   "outputs": [
    {
     "name": "stdout",
     "output_type": "stream",
     "text": [
      "True\n"
     ]
    }
   ],
   "source": [
    "a={\"a\",\"b\",\"c\",\"d\"}\n",
    "b=\"c\" in a\n",
    "print(b)"
   ]
  },
  {
   "cell_type": "markdown",
   "id": "5a49946b",
   "metadata": {},
   "source": [
    "# ADD ITEMS"
   ]
  },
  {
   "cell_type": "code",
   "execution_count": 29,
   "id": "227021ae",
   "metadata": {},
   "outputs": [
    {
     "name": "stdout",
     "output_type": "stream",
     "text": [
      "{'d', 'c', 'a', 'e', 'b'}\n"
     ]
    }
   ],
   "source": [
    "a={\"a\",\"b\",\"c\",\"d\"}\n",
    "a.add(\"e\")\n",
    "print(a)"
   ]
  },
  {
   "cell_type": "code",
   "execution_count": 33,
   "id": "d80fe5b4",
   "metadata": {},
   "outputs": [
    {
     "name": "stdout",
     "output_type": "stream",
     "text": [
      "{10.2, 'data', 'python', 40, 'code', 30}\n"
     ]
    }
   ],
   "source": [
    "x={\"data\",\"python\",\"code\"}\n",
    "y={10.20,30,40}\n",
    "x.update(y)\n",
    "print(x)"
   ]
  },
  {
   "cell_type": "markdown",
   "id": "b3f7dedc",
   "metadata": {},
   "source": [
    "# REMOVE SET ITEMS"
   ]
  },
  {
   "cell_type": "code",
   "execution_count": 38,
   "id": "29108602",
   "metadata": {},
   "outputs": [
    {
     "name": "stdout",
     "output_type": "stream",
     "text": [
      "{10.2, 'data', 'python', 40, 30}\n"
     ]
    }
   ],
   "source": [
    "n={\"data\",\"python\",\"code\",10.20,30,40}\n",
    "(n.remove(\"code\"))\n",
    "print(n)"
   ]
  },
  {
   "cell_type": "markdown",
   "id": "772663ad",
   "metadata": {},
   "source": [
    "# YOU CAN ALSO USE THE POP() METHOD TO REMOVE ITEMS BUT THIS WILL REMOVE RANDOM ITEM"
   ]
  },
  {
   "cell_type": "code",
   "execution_count": 44,
   "id": "640c78d4",
   "metadata": {},
   "outputs": [
    {
     "name": "stdout",
     "output_type": "stream",
     "text": [
      "{'data', 'python', 40, 'code', 30}\n"
     ]
    }
   ],
   "source": [
    "n={\"data\",\"python\",\"code\",10.20,30,40}\n",
    "n.pop()\n",
    "print(n)\n"
   ]
  },
  {
   "cell_type": "markdown",
   "id": "2f478d40",
   "metadata": {},
   "source": [
    "# THE CLEAR METHOD EMPTIES THE SET"
   ]
  },
  {
   "cell_type": "code",
   "execution_count": 46,
   "id": "e2c51e79",
   "metadata": {},
   "outputs": [
    {
     "name": "stdout",
     "output_type": "stream",
     "text": [
      "set()\n"
     ]
    }
   ],
   "source": [
    "n={\"data\",\"python\",\"code\",10.20,30,40}\n",
    "n.clear()\n",
    "print(n)"
   ]
  },
  {
   "cell_type": "markdown",
   "id": "f7af94a6",
   "metadata": {},
   "source": [
    "# THE DEL KEY WILL DELETE THE SET COMPLETELY"
   ]
  },
  {
   "cell_type": "code",
   "execution_count": 49,
   "id": "03ad76b4",
   "metadata": {},
   "outputs": [
    {
     "ename": "NameError",
     "evalue": "name 'n' is not defined",
     "output_type": "error",
     "traceback": [
      "\u001b[1;31m---------------------------------------------------------------------------\u001b[0m",
      "\u001b[1;31mNameError\u001b[0m                                 Traceback (most recent call last)",
      "Cell \u001b[1;32mIn[49], line 3\u001b[0m\n\u001b[0;32m      1\u001b[0m n\u001b[38;5;241m=\u001b[39m{\u001b[38;5;124m\"\u001b[39m\u001b[38;5;124mdata\u001b[39m\u001b[38;5;124m\"\u001b[39m,\u001b[38;5;124m\"\u001b[39m\u001b[38;5;124mpython\u001b[39m\u001b[38;5;124m\"\u001b[39m,\u001b[38;5;124m\"\u001b[39m\u001b[38;5;124mcode\u001b[39m\u001b[38;5;124m\"\u001b[39m,\u001b[38;5;241m10.20\u001b[39m,\u001b[38;5;241m30\u001b[39m,\u001b[38;5;241m40\u001b[39m}\n\u001b[0;32m      2\u001b[0m \u001b[38;5;28;01mdel\u001b[39;00m n\n\u001b[1;32m----> 3\u001b[0m \u001b[38;5;28mprint\u001b[39m(n)\n",
      "\u001b[1;31mNameError\u001b[0m: name 'n' is not defined"
     ]
    }
   ],
   "source": [
    "n={\"data\",\"python\",\"code\",10.20,30,40}\n",
    "del n\n",
    "print(n)"
   ]
  },
  {
   "cell_type": "markdown",
   "id": "028ce1df",
   "metadata": {},
   "source": [
    "# JOIN TWO SET"
   ]
  },
  {
   "cell_type": "code",
   "execution_count": 50,
   "id": "f19e2beb",
   "metadata": {},
   "outputs": [
    {
     "name": "stdout",
     "output_type": "stream",
     "text": [
      "{1, 2, 3, 4, 'd', 'c', 'a', 'b'}\n"
     ]
    }
   ],
   "source": [
    "a={\"a\",\"b\",\"c\",\"d\"}\n",
    "b={1,2,3,4}\n",
    "c=a.union(b)\n",
    "print(c)"
   ]
  },
  {
   "cell_type": "code",
   "execution_count": 51,
   "id": "0e7aef9a",
   "metadata": {},
   "outputs": [
    {
     "name": "stdout",
     "output_type": "stream",
     "text": [
      "{1, 2, 3, 4, 'd', 'c', 'a', 'b'}\n"
     ]
    }
   ],
   "source": [
    "a={\"a\",\"b\",\"c\",\"d\"}\n",
    "b={1,2,3,4}\n",
    "print(a.union(b))\n"
   ]
  },
  {
   "cell_type": "markdown",
   "id": "2f06989c",
   "metadata": {},
   "source": [
    "# RETURN IDENTICAL ITEMS FORM 2 SET"
   ]
  },
  {
   "cell_type": "code",
   "execution_count": 54,
   "id": "d3aefb35",
   "metadata": {},
   "outputs": [
    {
     "name": "stdout",
     "output_type": "stream",
     "text": [
      "{40, 10, 20}\n"
     ]
    }
   ],
   "source": [
    "set1={10,20,30,40,50}\n",
    "set2={20,10,40,60,70}\n",
    "print(set1.intersection(set2))"
   ]
  },
  {
   "cell_type": "code",
   "execution_count": 55,
   "id": "b2902e7c",
   "metadata": {},
   "outputs": [
    {
     "name": "stdout",
     "output_type": "stream",
     "text": [
      "{40, 10, 20}\n"
     ]
    }
   ],
   "source": [
    "set1={10,20,30,40,50}\n",
    "set2={20,10,40,60,70}\n",
    "set3=set1.intersection(set2)\n",
    "print(set3)"
   ]
  },
  {
   "cell_type": "markdown",
   "id": "cb5ae82d",
   "metadata": {},
   "source": [
    "# WRITE A PYTHON PROGRAM TO CHECK MAX AND MIN VALUE OF A SET"
   ]
  },
  {
   "cell_type": "code",
   "execution_count": 57,
   "id": "671688a9",
   "metadata": {},
   "outputs": [
    {
     "name": "stdout",
     "output_type": "stream",
     "text": [
      "The actual value of set is:\n",
      "{513, 2, 35, 4, 34, 55, 10}\n",
      "The max value of set is:\n",
      "513\n",
      "The min value of set is:\n",
      "2\n"
     ]
    }
   ],
   "source": [
    "setx={2,4,513,10,55,35,34,}\n",
    "print(\"The actual value of set is:\")\n",
    "print(setx)\n",
    "print(\"The max value of set is:\")\n",
    "print(max(setx))\n",
    "print(\"The min value of set is:\")\n",
    "print(min(setx))"
   ]
  },
  {
   "cell_type": "code",
   "execution_count": null,
   "id": "9921383e",
   "metadata": {},
   "outputs": [],
   "source": []
  }
 ],
 "metadata": {
  "kernelspec": {
   "display_name": "Python 3 (ipykernel)",
   "language": "python",
   "name": "python3"
  },
  "language_info": {
   "codemirror_mode": {
    "name": "ipython",
    "version": 3
   },
   "file_extension": ".py",
   "mimetype": "text/x-python",
   "name": "python",
   "nbconvert_exporter": "python",
   "pygments_lexer": "ipython3",
   "version": "3.13.1"
  }
 },
 "nbformat": 4,
 "nbformat_minor": 5
}
