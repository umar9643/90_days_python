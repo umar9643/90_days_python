{
 "cells": [
  {
   "cell_type": "code",
   "execution_count": null,
   "id": "b14f783c-ea5a-43ec-ba1f-641b46b9ebd0",
   "metadata": {},
   "outputs": [],
   "source": [
    "Question-1 Write a pyhton program to print the even lenght words in a str\n",
    "\n",
    "input=\"This is a python language and i am learnig it\"\n"
   ]
  },
  {
   "cell_type": "code",
   "execution_count": 4,
   "id": "e3f8ff16-4c5b-403f-99ca-28ca80de1266",
   "metadata": {},
   "outputs": [
    {
     "name": "stdout",
     "output_type": "stream",
     "text": [
      "This\n",
      "is\n",
      "python\n",
      "language\n",
      "am\n",
      "it\n"
     ]
    }
   ],
   "source": [
    "\n",
    "input=\"This is a python language and i am learnig it\"\n",
    "a=input.split(\" \")\n",
    "\n",
    "for i in a:\n",
    "    if len(i)%2==0:\n",
    "        print(i)\n",
    "    else:\n",
    "        pass\n"
   ]
  },
  {
   "cell_type": "code",
   "execution_count": null,
   "id": "79347127-5512-4ca9-81c6-05db3e55552c",
   "metadata": {},
   "outputs": [],
   "source": [
    "Question-2 Write a pyhton program to check if a str has  atleast one letter and one number\n",
    "input: welcome2ourcountry23"
   ]
  },
  {
   "cell_type": "code",
   "execution_count": null,
   "id": "ff9a4ce3-0c7e-47c3-b45e-eeccca84a99a",
   "metadata": {},
   "outputs": [],
   "source": []
  },
  {
   "cell_type": "code",
   "execution_count": null,
   "id": "8a178c4a-1efc-4a21-b74f-8786a3b7c7d8",
   "metadata": {},
   "outputs": [],
   "source": [
    "Question-3 Write a pyhtno program  to find the frequency of numbers in str"
   ]
  },
  {
   "cell_type": "code",
   "execution_count": 46,
   "id": "321cfd19-55ec-47e5-b8dd-29ec74813bb3",
   "metadata": {},
   "outputs": [
    {
     "name": "stdout",
     "output_type": "stream",
     "text": [
      "the orignal str is : pyhton for data analyst is no. 34 41 ,4 python\n",
      "count of numerics in str is 5\n"
     ]
    }
   ],
   "source": [
    "import re\n",
    "\n",
    "test_str=\"pyhton for data analyst is no. 34 41 ,4 python\"\n",
    "print(\"the orignal str is :\",test_str)\n",
    "\n",
    "res=len(re.findall(r\"\\d\",test_str))\n",
    "\n",
    "print(\"count of numerics in str is\",res)\n",
    "\n",
    "\n"
   ]
  },
  {
   "cell_type": "code",
   "execution_count": null,
   "id": "642bda52-7fd7-4f2f-9605-f535b0d970ea",
   "metadata": {},
   "outputs": [],
   "source": [
    "Question-4 Write a pyhton program to swap  commas with dots in str and vice versa\n",
    "input:23,45,665,45,34,5.4,78.1\n"
   ]
  },
  {
   "cell_type": "code",
   "execution_count": 47,
   "id": "282d72fb-3345-47e4-b95b-f93f7a1d4cb8",
   "metadata": {},
   "outputs": [],
   "source": [
    "def replace(text):\n",
    "    text=text.replace(\",\",\"$\")\n",
    "    text=text.replace(\".\",\",\")\n",
    "    text=text.replace(\"$\",\".\")\n",
    "\n",
    "    print(text)"
   ]
  },
  {
   "cell_type": "code",
   "execution_count": 48,
   "id": "b489e603-8261-4ceb-a4c1-78cf96ca3cf8",
   "metadata": {},
   "outputs": [
    {
     "name": "stdout",
     "output_type": "stream",
     "text": [
      "23.45.665.45.34.5,4.78,1\n"
     ]
    }
   ],
   "source": [
    "text=\"23,45,665,45,34,5.4,78.1\"\n",
    "\n",
    "replace(text)"
   ]
  },
  {
   "cell_type": "code",
   "execution_count": null,
   "id": "179f1c8d-0d9c-4aed-8bdc-5853de6e3d5b",
   "metadata": {},
   "outputs": [],
   "source": [
    "Question-5 calculate the sum and  avg of digits presents in the str\n",
    "\n",
    "input:datapyhton39@3459"
   ]
  },
  {
   "cell_type": "code",
   "execution_count": 91,
   "id": "1b74bf00-9d0e-4344-a89b-e3b5a5c9da87",
   "metadata": {},
   "outputs": [],
   "source": [
    "def xxx(inp):\n",
    "    t=0\n",
    "    c=0\n",
    "    for i in inp:\n",
    "        if i.isdigit():\n",
    "            t=t+int(i)\n",
    "            c=c+1\n",
    "\n",
    "\n",
    "\n",
    "    print(\"The sum of digits is \",t)\n",
    "    print(\"And the avg is\",t/c)\n",
    "\n",
    "\n",
    "\n"
   ]
  },
  {
   "cell_type": "code",
   "execution_count": 92,
   "id": "17020fe6-b48f-44e7-94d2-00292173441e",
   "metadata": {},
   "outputs": [
    {
     "name": "stdout",
     "output_type": "stream",
     "text": [
      "The sum of digits is  23\n",
      "And the avg is 3.8333333333333335\n"
     ]
    }
   ],
   "source": [
    "inp=\"datapyhton39@3251\"\n",
    "\n",
    "xxx(inp)"
   ]
  },
  {
   "cell_type": "code",
   "execution_count": null,
   "id": "df12d1bf-f6c1-43b3-85ab-b23933e464c2",
   "metadata": {},
   "outputs": [],
   "source": [
    "Question-6  count all letters, digits, and special symbols from the given str\n",
    "\n",
    "input:\"Ade783&*%4hh87F6\"\n"
   ]
  },
  {
   "cell_type": "code",
   "execution_count": 99,
   "id": "69df7ecf-7637-456b-b8bf-9f37b3e28ef6",
   "metadata": {},
   "outputs": [
    {
     "name": "stdout",
     "output_type": "stream",
     "text": [
      "Letters: 6\n",
      "Digits: 7\n",
      "Symbols: 3\n"
     ]
    }
   ],
   "source": [
    "strn = \"Ade783&*%4hh87F6\"\n",
    "\n",
    "string = 0   # Counter for letters\n",
    "digit = 0    # Counter for digits\n",
    "symbol = 0   # Counter for special characters\n",
    "\n",
    "for i in strn:\n",
    "    if i.isalpha():\n",
    "        string += 1\n",
    "    elif i.isdigit():\n",
    "        digit += 1\n",
    "    else:\n",
    "        symbol += 1\n",
    "\n",
    "print(\"Letters:\", string)\n",
    "print(\"Digits:\", digit)\n",
    "print(\"Symbols:\", symbol)\n"
   ]
  },
  {
   "cell_type": "code",
   "execution_count": null,
   "id": "b10ce2ad-adf5-4f0f-974e-10fb58cac4a0",
   "metadata": {},
   "outputs": [],
   "source": [
    "Question-7 Take input from the user and reverse it"
   ]
  },
  {
   "cell_type": "code",
   "execution_count": 2,
   "id": "f4b1155b-8049-4866-a558-e980d25be80e",
   "metadata": {},
   "outputs": [
    {
     "name": "stdin",
     "output_type": "stream",
     "text": [
      "enter the string :  abcd\n"
     ]
    },
    {
     "name": "stdout",
     "output_type": "stream",
     "text": [
      "the reverse of input_str is dcba\n"
     ]
    }
   ],
   "source": [
    "a=input(\"enter the string : \")\n",
    "\n",
    "print(\"the reverse of input_str is\",a[::-1])"
   ]
  },
  {
   "cell_type": "code",
   "execution_count": null,
   "id": "041de4ec-73bf-47ef-86be-9baf670e4480",
   "metadata": {},
   "outputs": [],
   "source": []
  }
 ],
 "metadata": {
  "kernelspec": {
   "display_name": "Python 3 (ipykernel)",
   "language": "python",
   "name": "python3"
  },
  "language_info": {
   "codemirror_mode": {
    "name": "ipython",
    "version": 3
   },
   "file_extension": ".py",
   "mimetype": "text/x-python",
   "name": "python",
   "nbconvert_exporter": "python",
   "pygments_lexer": "ipython3",
   "version": "3.13.1"
  }
 },
 "nbformat": 4,
 "nbformat_minor": 5
}
