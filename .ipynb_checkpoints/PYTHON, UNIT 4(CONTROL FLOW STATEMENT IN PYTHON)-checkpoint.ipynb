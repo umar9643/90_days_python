{
 "cells": [
  {
   "cell_type": "markdown",
   "id": "09368ace",
   "metadata": {},
   "source": [
    "# CONTROL FLOW STATEMENT IN PYTHON"
   ]
  },
  {
   "cell_type": "markdown",
   "id": "e01b0e4d",
   "metadata": {},
   "source": [
    "# -WHAT IS CONTROL FLOW STATE IN PYTHON"
   ]
  },
  {
   "cell_type": "markdown",
   "id": "ea5f86a6",
   "metadata": {},
   "source": [
    "THERE ARE TWO WORDS,THE FIRST IS FLOW AND THE SECOND IS CONTROL.\n",
    "FROM A TECHNICAL PROSPECTIVE, WE CAN SAY THAT FLOW IS NOTHING BUT MANY STATEMENT CONSISTING OF MULTIPLE OPERATION\n",
    "WHICH NEEDED TO BE EXECUTED.FOR EX:ADDING TEN NO. AND FINDING THE MEAN OF THE NO.\n",
    "    \n",
    "WE DONOT HAVE ANY CONTROL OVER THE STATEMENT YET.BY CONTROL,I MEAN THE DECISION  POWER.\n",
    "TO REALATE WITH REAL LIFE ONE CAN IMAGINE THAT IN THEIR DAY TO DAY LIFE,THEY MAKE DECISION \n",
    "WHAETHER TO DO THIS OR THAT,CHOOSE THIS OR THAT,ETC.\n",
    "\n",
    "SIMILARLY, IN THE CODING WORLD ALSO,WE MAKE DECISION ACCORDING TO THE SITUATUIN,\n",
    "WE FOLLOW REQUIRED STATEMENT AND SKIP IRRELAVENT ONE."
   ]
  },
  {
   "cell_type": "markdown",
   "id": "bfa08809",
   "metadata": {},
   "source": [
    "# TYPES OF FLOW CONTROL"
   ]
  },
  {
   "cell_type": "markdown",
   "id": "9cd7c699",
   "metadata": {},
   "source": [
    "1.CONDITIONAL STATEMENT(IF,IF-ELSE,IF-ELIF-ELSE,NESTED IF ELSE)\n",
    "\n",
    "2.ITERATIVE STATEMENT(FOR,WHILE)\n",
    "\n",
    "3.TRANSFER STATEMENT(BRAEK,CONTINUE,PASS)\n",
    "\n",
    "                     \n",
    "\n",
    "\n",
    "                      "
   ]
  },
  {
   "cell_type": "markdown",
   "id": "f89ecb91",
   "metadata": {},
   "source": [
    "# IF STATEMENT"
   ]
  },
  {
   "cell_type": "markdown",
   "id": "be864c73",
   "metadata": {},
   "source": [
    "THE IF STATEMENT IS THE MOST SIMPLE DECISION-MAKING STATEMENT.\n",
    "IT IS USED  TO DECIDE WHEATHER A CERTAIN STATEMENT OR BLOCK\n",
    "OF STATEMENT WILL BE EXECUTED OR NOT.\n",
    "\n",
    "\n",
    "SYNTAX:\n",
    "    if condition\n",
    "    \n",
    "    statement1\n",
    "    statement2"
   ]
  },
  {
   "cell_type": "code",
   "execution_count": 3,
   "id": "6a91594f-f58d-421e-aed8-559a5c747764",
   "metadata": {},
   "outputs": [
    {
     "name": "stdin",
     "output_type": "stream",
     "text": [
      "enter number 1 6\n",
      "enter number 2 9\n"
     ]
    },
    {
     "name": "stdout",
     "output_type": "stream",
     "text": [
      "n2 is big 9\n"
     ]
    }
   ],
   "source": [
    "\"\"\"take  two no from user and pritnt the greater one\"\"\"\n",
    "n1=int(input(\"enter number 1\"))\n",
    "n2=int(input(\"enter number 2\"))\n",
    "\n",
    "if n1>n2:\n",
    "    print(\"n1 is greater \",n1)\n",
    "if n2>n1:\n",
    "    print(\"n2 is big\",n2)"
   ]
  },
  {
   "cell_type": "code",
   "execution_count": null,
   "id": "7f3d704b-598e-47d3-a512-543c14341860",
   "metadata": {},
   "outputs": [
    {
     "name": "stdin",
     "output_type": "stream",
     "text": [
      "enter number 1 7\n"
     ]
    }
   ],
   "source": [
    "\"\"\"check the no.  is odd or even\"\"\"\n",
    "a=int(input(\"enter number 1\"))\n",
    "\n",
    "if a%2==0:\n",
    "    print(\"it is a even number\")\n",
    "if a%2!=0:\n",
    "    print(\"is odd\"  )"
   ]
  },
  {
   "cell_type": "code",
   "execution_count": 4,
   "id": "09278780-35a6-46ac-b823-5a4a56f9da98",
   "metadata": {},
   "outputs": [
    {
     "name": "stdin",
     "output_type": "stream",
     "text": [
      "ineter  tail\n"
     ]
    },
    {
     "name": "stdout",
     "output_type": "stream",
     "text": [
      "team b will bat\n"
     ]
    }
   ],
   "source": [
    "\"\"\"umpire tosssed a coin if its head team 1 will bat of its tail team will bat\"\"\"\n",
    "\n",
    "a=input(\"tossed result\")\n",
    "\n",
    "if a==\"head\":\n",
    "    print(\"team a will bat ist\")\n",
    "if a==\"tail\":\n",
    "    print(\"team b will bat\")"
   ]
  },
  {
   "cell_type": "code",
   "execution_count": 6,
   "id": "6b6a99dc-91c1-4ef6-a858-dc80ef2d37db",
   "metadata": {},
   "outputs": [
    {
     "name": "stdin",
     "output_type": "stream",
     "text": [
      "color of ball green\n"
     ]
    },
    {
     "name": "stdout",
     "output_type": "stream",
     "text": [
      "raju is going to play from green team\n"
     ]
    }
   ],
   "source": [
    "\"\"\"raju went for shopping if he purchased blue ball then he will play from blue team if he buy green ball he will play froom the grenn team side\"\"\"\n",
    "\n",
    "z=input(\"color of ball\")\n",
    "if z==\"blue\":\n",
    "    print(\"raju will play from blue team\")\n",
    "if z==\"green\":\n",
    "    print(\"raju is going to play from green team\")\n",
    "\n",
    "print(\"raju will not play\")"
   ]
  },
  {
   "cell_type": "code",
   "execution_count": null,
   "id": "0a32bad3-9cc7-44c0-888f-2d0f655757f2",
   "metadata": {},
   "outputs": [],
   "source": [
    "\"\"\"Mkaing the result of the student\"\"\""
   ]
  },
  {
   "cell_type": "code",
   "execution_count": 4,
   "id": "6c111c39",
   "metadata": {},
   "outputs": [
    {
     "name": "stdout",
     "output_type": "stream",
     "text": [
      "enter the name of the studentumar alam\n",
      "enter the marks obtained in english89\n",
      "enter the marks obtained in hindi87\n",
      "enter the marks obtained in maths65\n",
      "enter the marks obtained in science56\n",
      "enter the marks obtained in social99\n",
      "persentage scored by student umar alam is 79.2\n"
     ]
    }
   ],
   "source": [
    "x=input(\"enter the name of the student\")\n",
    "a=input(\"enter the marks obtained in english\")\n",
    "b=input(\"enter the marks obtained in hindi\")\n",
    "c=input(\"enter the marks obtained in maths\")\n",
    "d=input(\"enter the marks obtained in science\")\n",
    "e=input(\"enter the marks obtained in social\")\n",
    "p=int(a)+int(b)+int(c)+int(d)+int(e)\n",
    "n=(p/500)*100\n",
    "print(\"persentage scored by student\",x,\"is\",n,)"
   ]
  },
  {
   "cell_type": "code",
   "execution_count": 9,
   "id": "47fb4164",
   "metadata": {},
   "outputs": [
    {
     "name": "stdout",
     "output_type": "stream",
     "text": [
      "enter your marks70\n",
      "enter your marks80\n",
      "enter your marks90\n",
      "enter your marks55\n",
      "enter your marks69\n",
      "u have scored 72.8 %\n"
     ]
    }
   ],
   "source": [
    "hin=int(input(\"enter your marks\"))\n",
    "eng=int(input(\"enter your marks\"))\n",
    "maths=int(input(\"enter your marks\"))\n",
    "sci=int(input(\"enter your marks\"))\n",
    "sst=int(input(\"enter your marks\"))\n",
    "total=hin+eng+maths+sci+sst\n",
    "n=5\n",
    "persentage=total/n\n",
    "print(\"u have scored\",persentage,\"%\")\n"
   ]
  },
  {
   "cell_type": "code",
   "execution_count": 1,
   "id": "25616fa3",
   "metadata": {},
   "outputs": [
    {
     "name": "stdout",
     "output_type": "stream",
     "text": [
      "enter the marks scored by students75\n",
      "student has ontained b grade\n",
      "<class 'int'>\n"
     ]
    }
   ],
   "source": [
    "a=int(input(\"enter the marks scored by students\"))\n",
    "if a>90:\n",
    "    print(\"student has obtained A grade\")\n",
    "elif a>70 and a<90:\n",
    "    print(\"student has ontained b grade\")\n",
    "elif a<70:\n",
    "    print(\"student has obtained c grade\")\n",
    "print(type(a))"
   ]
  },
  {
   "cell_type": "markdown",
   "id": "460f074a",
   "metadata": {},
   "source": [
    "# IF ELSE STATEMENT"
   ]
  },
  {
   "cell_type": "markdown",
   "id": "8663d100-bad7-43e5-851d-9c4aa93bbd1f",
   "metadata": {},
   "source": [
    "The else block runs when none of the if or elif conditions are True."
   ]
  },
  {
   "cell_type": "code",
   "execution_count": 22,
   "id": "e8e955f3",
   "metadata": {},
   "outputs": [
    {
     "name": "stdout",
     "output_type": "stream",
     "text": [
      "enter the number78\n",
      "dekh kr daal\n"
     ]
    }
   ],
   "source": [
    "\"\"\"WRITE A PROGRAM TO DISPLAY HELLO IS THE NO. INTER BY THE USER IS MULTIPLE OF 5 OTHERWISE PRINT BYE.\"\"\"\n",
    "a=int(input(\"enter the number\"))\n",
    "if a%5==0:\n",
    "    print(\"hello\")\n",
    "else:\n",
    "          print(\"dekh kr daal\")\n"
   ]
  },
  {
   "cell_type": "code",
   "execution_count": 3,
   "id": "3a8e0be2",
   "metadata": {},
   "outputs": [
    {
     "name": "stdout",
     "output_type": "stream",
     "text": [
      "enetr your number15\n",
      "hello\n"
     ]
    }
   ],
   "source": [
    "#WRITE A PROGRAM TO DISPLAY HELLO IS THE NO. INTER BY THE USER IS MULTIPLE OF 5 OTHERWISE PRINT BYE.\n",
    "\n",
    "x=int(input(\"enetr your number\"))\n",
    "if x%5==0:\n",
    "    print(\"hello\")\n",
    "else:\n",
    "    print(\"bye\")"
   ]
  },
  {
   "cell_type": "markdown",
   "id": "f47fa77c",
   "metadata": {},
   "source": []
  },
  {
   "cell_type": "code",
   "execution_count": 9,
   "id": "4852d8c7",
   "metadata": {},
   "outputs": [
    {
     "name": "stdin",
     "output_type": "stream",
     "text": [
      "please inter your age 20\n"
     ]
    },
    {
     "name": "stdout",
     "output_type": "stream",
     "text": [
      "you are eligible\n",
      "election is comming soon\n"
     ]
    }
   ],
   "source": [
    "#write a progam to check wheather a person is eligible for voting or not.\n",
    "a=int(input(\"please inter your age\"))\n",
    "if a>=18:\n",
    "    print(\"you are eligible\")\n",
    "else:\n",
    "    print(\"you are not eligible\")\n",
    "\n",
    "print(\"election is comming soon\")"
   ]
  },
  {
   "cell_type": "markdown",
   "id": "121e40a8",
   "metadata": {},
   "source": []
  },
  {
   "cell_type": "code",
   "execution_count": 33,
   "id": "0552a2a7",
   "metadata": {},
   "outputs": [
    {
     "name": "stdout",
     "output_type": "stream",
     "text": [
      "please inter the number76\n",
      "positive\n"
     ]
    }
   ],
   "source": [
    "#write a program to check wheather the number enter by a user is positive or negative\n",
    "x=int(input(\"please inter the number\"))\n",
    "if x>0:\n",
    "    print(\"positive\")\n",
    "else:\n",
    "    print(\"negative\")"
   ]
  },
  {
   "cell_type": "code",
   "execution_count": 10,
   "id": "e107fc1e",
   "metadata": {},
   "outputs": [
    {
     "name": "stdout",
     "output_type": "stream",
     "text": [
      "enter your age12\n",
      "junior\n"
     ]
    }
   ],
   "source": [
    "x=int(input(\"enter your age\"))\n",
    "if x>20:\n",
    "    print(\"adult\")\n",
    "else:\n",
    "    print(\"junior\")"
   ]
  },
  {
   "cell_type": "code",
   "execution_count": null,
   "id": "c7494a1c-9c4f-4af9-bf86-ac4194c997a4",
   "metadata": {},
   "outputs": [],
   "source": []
  },
  {
   "cell_type": "markdown",
   "id": "66d988c9",
   "metadata": {},
   "source": [
    "# IF-ELIF-ELSE STATEMENT"
   ]
  },
  {
   "cell_type": "markdown",
   "id": "f3f6c1c3-4ea9-4e93-af92-d734f7939a95",
   "metadata": {},
   "source": [
    "\n",
    "elif (short for \"else if\") checks another condition if the previous if or elif was False. You can have multiple elif statements.\n"
   ]
  },
  {
   "cell_type": "code",
   "execution_count": 2,
   "id": "a6c0cfdb",
   "metadata": {},
   "outputs": [
    {
     "name": "stdin",
     "output_type": "stream",
     "text": [
      "enter the city name delhi\n"
     ]
    },
    {
     "name": "stdout",
     "output_type": "stream",
     "text": [
      "india gate\n"
     ]
    }
   ],
   "source": [
    "a=input(\"enter the city name\")\n",
    "if a==\"delhi\":\n",
    "    print(\"india gate\")\n",
    "elif a==\"mumbai\":\n",
    "    print(\"local\")\n",
    "elif a==\"hyderabad\":\n",
    "    print(\"chaar minaar\")\n",
    "elif a==\"other\":\n",
    "    print(\"ptanhi\")\n",
    "else:\n",
    "    print(\"not found\")"
   ]
  },
  {
   "cell_type": "code",
   "execution_count": 10,
   "id": "cb08e325-729f-41cd-b7bf-661cd5c8361c",
   "metadata": {},
   "outputs": [
    {
     "name": "stdin",
     "output_type": "stream",
     "text": [
      "enter the value 22\n"
     ]
    },
    {
     "name": "stdout",
     "output_type": "stream",
     "text": [
      "it is divisible by 2\n"
     ]
    }
   ],
   "source": [
    "\"\"\" Take value from user and check it is divisible by 2 orr 3 or neither 2 or 3\"\"\"\n",
    "v=int(input(\"enter the value\"))\n",
    "\n",
    "if v%2==0:\n",
    "    print(\"it is divisible by 2\")\n",
    "elif v%3==0:\n",
    "    print(\"it is divisible by 3\")\n",
    "else:\n",
    "    print(\"it is not divisible by 2 or 3\")\n"
   ]
  },
  {
   "cell_type": "code",
   "execution_count": 14,
   "id": "73216aa8-c498-45f4-bfd6-b3721570176b",
   "metadata": {},
   "outputs": [
    {
     "name": "stdin",
     "output_type": "stream",
     "text": [
      "enter the marks of hindi 88\n",
      "enter the marks of english 41\n",
      "enter the marks of maths 23\n",
      "enter the marks of sci 21\n",
      "enter the marks of sst 96\n"
     ]
    },
    {
     "name": "stdout",
     "output_type": "stream",
     "text": [
      "percentage of student is  53.8\n",
      "You can do better\n"
     ]
    }
   ],
   "source": [
    "#enter the marks of the students if marks>90% then \"excellent\",marks>80% then very good, marks>70 then \"good\"\n",
    "\n",
    "hin=int(input(\"enter the marks of hindi\"))\n",
    "eng=int(input(\"enter the marks of english\"))\n",
    "maths=int(input(\"enter the marks of maths\"))\n",
    "sci=int(input(\"enter the marks of sci\"))\n",
    "sst=int(input(\"enter the marks of sst\"))\n",
    "\n",
    "total=hin+eng+maths+sci+sst\n",
    "percentage=total/5\n",
    "print(\"percentage of student is \",percentage)\n",
    "\n",
    "if percentage > 90:\n",
    "    print(\"excellent\")\n",
    "elif percentage > 80:\n",
    "    print(\"very good\")\n",
    "elif percentage > 70:\n",
    "    print(\"good\")\n",
    "else:\n",
    "    print(\"You can do better\")"
   ]
  },
  {
   "cell_type": "code",
   "execution_count": 5,
   "id": "ce85b7dc-5217-4994-83e3-5fcb8eadf0ea",
   "metadata": {},
   "outputs": [
    {
     "name": "stdin",
     "output_type": "stream",
     "text": [
      "enter the city name mumbai\n"
     ]
    },
    {
     "name": "stdout",
     "output_type": "stream",
     "text": [
      "local\n"
     ]
    }
   ],
   "source": [
    "a=input(\"enter the city name\")\n",
    "if a==\"delhi\":\n",
    "    print(\"india gate\")\n",
    "if a==\"mumbai\":\n",
    "    print(\"local\")\n",
    "if a==\"hyderabad\":\n",
    "    print(\"chaar minaar\")\n",
    "if a==\"other\":\n",
    "    print(\"ptanhi\")\n"
   ]
  },
  {
   "cell_type": "code",
   "execution_count": 56,
   "id": "b2f7ba8d",
   "metadata": {},
   "outputs": [
    {
     "name": "stdin",
     "output_type": "stream",
     "text": [
      "no. of days you want to take book 6\n"
     ]
    },
    {
     "name": "stdout",
     "output_type": "stream",
     "text": [
      "you nees to pay 18 RS\n"
     ]
    }
   ],
   "source": [
    "#ACCEPT THE NO. OF DAYS FROM THE USER AND CALCULATE THE CHARGE OF LIBRARY THE FOLLOWING.\n",
    "a=int(input(\"no. of days you want to take book\"))\n",
    "if a<5:\n",
    "    print(\"you need to pay\",a*2,\"RS\")\n",
    "elif a>5 and a<10:\n",
    "    print(\"you nees to pay\",a*3,\"RS\")\n",
    "elif a>10 and a<15:\n",
    "    print(\"you need to pay\",a*4,\"RS\")\n",
    "elif a>15:\n",
    "    print(\"you need to pay\",a*5,\"RS\")\n",
    "    "
   ]
  },
  {
   "cell_type": "code",
   "execution_count": null,
   "id": "80f88d57",
   "metadata": {},
   "outputs": [],
   "source": [
    "num=int(input(\"number daal laude\"))\n",
    "if(num%2)==0:\n",
    "    print(\"even\")\n",
    "else:\n",
    "    print(\"odd\")"
   ]
  },
  {
   "cell_type": "code",
   "execution_count": null,
   "id": "102b58e6",
   "metadata": {},
   "outputs": [],
   "source": [
    "num=int(input(\"number daal laude\"))\n",
    "if(num%2)==0:\n",
    "    print(\"even\")\n",
    "else:\n",
    "    print(\"odd\")"
   ]
  },
  {
   "cell_type": "code",
   "execution_count": 4,
   "id": "4043b06c",
   "metadata": {},
   "outputs": [
    {
     "name": "stdout",
     "output_type": "stream",
     "text": [
      "number daal laude8\n",
      "odd\n"
     ]
    }
   ],
   "source": [
    "num=int(input(\"number daal laude\"))\n",
    "if(num/2)==0:\n",
    "    print(\"even\")\n",
    "else:\n",
    "    print(\"odd\")"
   ]
  },
  {
   "cell_type": "code",
   "execution_count": 18,
   "id": "46a2c412",
   "metadata": {},
   "outputs": [
    {
     "name": "stdout",
     "output_type": "stream",
     "text": [
      "enter the charcterp\n",
      "consonent\n"
     ]
    }
   ],
   "source": [
    "ch=input(\"enter the charcter\")\n",
    "if(ch==\"a\"or ch==\"A\"or ch==\"e\"or ch==\"E\"or ch==\"i\"or ch==\"I\"or ch==\"o\"or ch==\"O\" or ch==\"u\"or ch==\"U\"):\n",
    "    print(\"it is a vowel\")\n",
    "else:\n",
    "    print(\"consonent\")"
   ]
  },
  {
   "cell_type": "code",
   "execution_count": 5,
   "id": "53ba9933",
   "metadata": {},
   "outputs": [
    {
     "name": "stdout",
     "output_type": "stream",
     "text": [
      "enter the alphabetB\n",
      " it is a consonent\n"
     ]
    }
   ],
   "source": [
    "chr=input(\"enter the alphabet\")\n",
    "if (chr==\"a\" or chr==\"e\" or chr==\"i\" or chr==\"o\" or chr==\"u\" or chr==\"A\" or chr==\"E\" or chr==\"I\" or chr==\"O\" or chr==\"U\"):\n",
    "    print(\"yes it is a vovel\")\n",
    "else:\n",
    "    print(\" it is a consonent\")"
   ]
  },
  {
   "cell_type": "code",
   "execution_count": 13,
   "id": "2d9eb582",
   "metadata": {},
   "outputs": [
    {
     "name": "stdout",
     "output_type": "stream",
     "text": [
      "enter the unit u have consumed700\n",
      "7000\n"
     ]
    }
   ],
   "source": [
    "#write a programme to calculate elctricity bill on the given condition\n",
    "#ist 100  unit no charge\n",
    "#more then 100 than charge 5rupee\n",
    "# more than 200 than charge 10rupee\n",
    "\n",
    "unit=int(input(\"enter the unit u have consumed\"))\n",
    "if unit<100:\n",
    "    print(\"u donot have to pay\")\n",
    "elif unit>100 and unit<200:\n",
    "    print(\"u have to pay\",unit*5,\"rupee\")\n",
    "else:\n",
    "    print(unit*10)"
   ]
  },
  {
   "cell_type": "markdown",
   "id": "aab0719b-6993-4e53-8046-b4c6d715f7af",
   "metadata": {},
   "source": [
    "# NESTED IF ELSE"
   ]
  },
  {
   "cell_type": "markdown",
   "id": "6cc9af1b-1f3f-4507-a196-399276a26cd4",
   "metadata": {},
   "source": [
    "A nested if is when you put one if (or elif/else) block inside another if. It allows for more complex conditions."
   ]
  },
  {
   "cell_type": "code",
   "execution_count": 34,
   "id": "86347332-efab-4517-8001-40919c7b6706",
   "metadata": {},
   "outputs": [
    {
     "name": "stdin",
     "output_type": "stream",
     "text": [
      "enter the value 3\n"
     ]
    },
    {
     "name": "stdout",
     "output_type": "stream",
     "text": [
      "outside the condition\n"
     ]
    }
   ],
   "source": [
    "\"\"\"enter the value fromuser and check is it greater than 10 or 20 and not\"\"\"\n",
    "\n",
    "v=int(input(\"enter the value\"))\n",
    "\n",
    "if v>10:\n",
    "    print(\"inside the if condition\")\n",
    "    if v>20:\n",
    "        print(\"inside the nested if\")\n",
    "    else:\n",
    "        print(\"inside the esle part of nested if\")\n",
    "else:\n",
    "    print(\"outside the condition\")"
   ]
  },
  {
   "cell_type": "code",
   "execution_count": 55,
   "id": "8e06d2ab-07c8-4a58-89e9-df36e531fb5c",
   "metadata": {},
   "outputs": [
    {
     "name": "stdin",
     "output_type": "stream",
     "text": [
      "enter the no. of classes you have attended 1\n",
      "enter the no. of assignment you have submitted 2\n"
     ]
    },
    {
     "name": "stdout",
     "output_type": "stream",
     "text": [
      "not  allowed to sit in any exam\n"
     ]
    }
   ],
   "source": [
    " \"\"\"Write a Python program to:\n",
    "\n",
    "- Take input from the user for:\n",
    "  - Number of classes attended by a student\n",
    "  - Number of assignments submitted by the student\n",
    "\n",
    "- Check the following conditions:\n",
    "  1. If the student has attended more than 75 classes, they are allowed to appear in Exam 1.\n",
    "  2. If the student has attended more than 75 classes and submitted more than 10 assignments, \n",
    "     they are allowed to appear in Exam 2.\n",
    "\n",
    "Display appropriate messages based on the conditions.\"\"\"\n",
    "\n",
    "\n",
    "c=int(input(\"enter the no. of classes you have attended\"))\n",
    "a=int(input(\"enter the no. of assignment you have submitted\"))\n",
    "\n",
    "if c>75:\n",
    "    print(\"you are eligible to sit in exam one\")\n",
    "    if a>=10:\n",
    "        print(\"you are eligible to sit in exam one and two\")\n",
    "    else:\n",
    "        print(\"eligible to sit in exam one but not in exam 2 due to low assignment\")\n",
    "    \n",
    "else:\n",
    "    print(\"not  allowed to sit in any exam\")\n",
    "\n",
    "\n",
    "\n"
   ]
  },
  {
   "cell_type": "code",
   "execution_count": 6,
   "id": "cde3cbb7-b373-4e5f-b1dc-5150e0e5089a",
   "metadata": {},
   "outputs": [
    {
     "name": "stdin",
     "output_type": "stream",
     "text": [
      "Enter the number of classes you have attended:  90\n",
      "Enter the number of assignments you have submitted:  3\n"
     ]
    },
    {
     "name": "stdout",
     "output_type": "stream",
     "text": [
      "You are eligible to sit in Exam 1 but not in Exam 2 due to low assignment submission.\n"
     ]
    }
   ],
   "source": [
    "# c = int(input(\"Enter the number of classes you have attended: \"))\n",
    "\n",
    "\n",
    "c = int(input(\"Enter the number of classes you have attended: \"))\n",
    "a = int(input(\"Enter the number of assignments you have submitted: \"))\n",
    "\n",
    "if c > 75:\n",
    "    print(\"You are eligible to sit in Exam 1 but not in Exam 2 due to low assignment submission.\")\n",
    "elif c > 75 and a > 10:\n",
    "    print(\"You are eligible to sit in Exam 1 and Exam 2.\")\n",
    "else:\n",
    "    print(\"You are not allowed to sit in any exam due to low attendance.\")\n"
   ]
  },
  {
   "cell_type": "code",
   "execution_count": null,
   "id": "76413840-a736-4be5-9ac4-20e211496a00",
   "metadata": {},
   "outputs": [],
   "source": []
  }
 ],
 "metadata": {
  "kernelspec": {
   "display_name": "Python 3 (ipykernel)",
   "language": "python",
   "name": "python3"
  },
  "language_info": {
   "codemirror_mode": {
    "name": "ipython",
    "version": 3
   },
   "file_extension": ".py",
   "mimetype": "text/x-python",
   "name": "python",
   "nbconvert_exporter": "python",
   "pygments_lexer": "ipython3",
   "version": "3.13.1"
  }
 },
 "nbformat": 4,
 "nbformat_minor": 5
}
