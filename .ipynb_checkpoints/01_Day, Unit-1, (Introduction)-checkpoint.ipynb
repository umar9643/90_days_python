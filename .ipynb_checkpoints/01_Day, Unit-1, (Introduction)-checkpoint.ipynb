{
 "cells": [
  {
   "cell_type": "markdown",
   "id": "36f1e8a6",
   "metadata": {},
   "source": [
    "DAY  1\n",
    "\n",
    "# WHAT IS AN IDE ?"
   ]
  },
  {
   "cell_type": "markdown",
   "id": "30bbfb28",
   "metadata": {},
   "source": [
    "IDE IS A INTEGRETED DEVELOPMENT ENVIROMENT,ENANLES PROGRAMMER TO CONSOLIDATE THR DIFFIRENT ASPECT OF WRITNG A COMPUTER PROGRAM.\n",
    "\n",
    "AN INTEGRETED DEVELOPMENT ENVIROMENT(IDE)IS SOFTWARE FOR BUILDING APPLICATION THAT COMBINES COMMON DEVELOPER TOOLS INTO A SINGLE\n",
    "GRAPHICAL USER INTERFACE(GUI).\n",
    "\n",
    "IDEs INCREASE PROGRAMMER PRUDUCTIVITY BY COMBINING COMMON ACTIVITIES OF WRITING SOFTWARE INTO A SINGLE APPLICATION :WRITING ,\n",
    "RUNNING OR DEBUGGING.\n"
   ]
  },
  {
   "cell_type": "markdown",
   "id": "af8691b4",
   "metadata": {},
   "source": [
    "# WRITHING THE FIRST \"HELLO WORLD \" PROGRAMME"
   ]
  },
  {
   "cell_type": "code",
   "execution_count": 2,
   "id": "8a87d1e5",
   "metadata": {},
   "outputs": [
    {
     "name": "stdout",
     "output_type": "stream",
     "text": [
      "hello world\n"
     ]
    }
   ],
   "source": [
    "print(\"hello world\")"
   ]
  },
  {
   "cell_type": "code",
   "execution_count": 3,
   "id": "0614559c",
   "metadata": {},
   "outputs": [
    {
     "name": "stdout",
     "output_type": "stream",
     "text": [
      "17\n"
     ]
    }
   ],
   "source": [
    "print(8+9)"
   ]
  },
  {
   "cell_type": "markdown",
   "id": "b15c0739",
   "metadata": {},
   "source": [
    "# PYTHON COMMENTS"
   ]
  },
  {
   "cell_type": "markdown",
   "id": "c724a251-3046-4669-b02d-2254fbf7b186",
   "metadata": {},
   "source": [
    "COMMMENTS ARE THE NON EXECUATBLE PART OF THE CODE."
   ]
  },
  {
   "cell_type": "markdown",
   "id": "d4274775",
   "metadata": {},
   "source": [
    "CREATING A COMMENT (PUT # BEFORE WRITING SOMETHING)"
   ]
  },
  {
   "cell_type": "code",
   "execution_count": 5,
   "id": "02861c02",
   "metadata": {},
   "outputs": [
    {
     "name": "stdout",
     "output_type": "stream",
     "text": [
      "farhat\n"
     ]
    }
   ],
   "source": [
    "print(\"farhat\")# it is an commnet"
   ]
  },
  {
   "cell_type": "code",
   "execution_count": 9,
   "id": "da586cdf",
   "metadata": {},
   "outputs": [
    {
     "name": "stdout",
     "output_type": "stream",
     "text": [
      "hello world\n"
     ]
    }
   ],
   "source": [
    "print(\"hello world\")\n",
    "#this is an comment"
   ]
  },
  {
   "cell_type": "markdown",
   "id": "ec50a690",
   "metadata": {},
   "source": [
    "# MULTILINE COMMENTS"
   ]
  },
  {
   "cell_type": "code",
   "execution_count": 13,
   "id": "1c757388",
   "metadata": {},
   "outputs": [
    {
     "name": "stdout",
     "output_type": "stream",
     "text": [
      "umar\n"
     ]
    }
   ],
   "source": [
    "#MY NAME IS UMAR ALAM\n",
    "#I AM LEARING PYTHON\n",
    "print(\"umar\")"
   ]
  },
  {
   "cell_type": "code",
   "execution_count": 14,
   "id": "6b76e4c3",
   "metadata": {},
   "outputs": [
    {
     "name": "stdout",
     "output_type": "stream",
     "text": [
      "QAMAR ALAM\n"
     ]
    }
   ],
   "source": [
    "\"\"\"\"this is an comment\"\"\"\n",
    "print(\"QAMAR ALAM\")"
   ]
  },
  {
   "cell_type": "markdown",
   "id": "1a3d7002",
   "metadata": {},
   "source": [
    "umar alam"
   ]
  },
  {
   "cell_type": "code",
   "execution_count": 1,
   "id": "1df27a26",
   "metadata": {},
   "outputs": [
    {
     "name": "stdout",
     "output_type": "stream",
     "text": [
      "imran\n"
     ]
    }
   ],
   "source": [
    "print(\"imran\")#ye kya likha hai"
   ]
  },
  {
   "cell_type": "code",
   "execution_count": 2,
   "id": "01aaf141",
   "metadata": {},
   "outputs": [
    {
     "name": "stdout",
     "output_type": "stream",
     "text": [
      "shiv\n"
     ]
    }
   ],
   "source": [
    "print(\"shiv\")"
   ]
  },
  {
   "cell_type": "code",
   "execution_count": 2,
   "id": "0c9bbf39",
   "metadata": {},
   "outputs": [
    {
     "name": "stdout",
     "output_type": "stream",
     "text": [
      "umar alam is s future data scientist\n"
     ]
    }
   ],
   "source": [
    "#my name is umar alam \n",
    "print(\"umar alam is s future data scientist\")"
   ]
  },
  {
   "cell_type": "code",
   "execution_count": 1,
   "id": "c2d90775",
   "metadata": {},
   "outputs": [
    {
     "name": "stdout",
     "output_type": "stream",
     "text": [
      "i am doing revison of pyhton\n"
     ]
    }
   ],
   "source": [
    "print(\"i am doing revison of pyhton\")"
   ]
  },
  {
   "cell_type": "code",
   "execution_count": null,
   "id": "82e05b98",
   "metadata": {},
   "outputs": [],
   "source": []
  }
 ],
 "metadata": {
  "kernelspec": {
   "display_name": "Python 3 (ipykernel)",
   "language": "python",
   "name": "python3"
  },
  "language_info": {
   "codemirror_mode": {
    "name": "ipython",
    "version": 3
   },
   "file_extension": ".py",
   "mimetype": "text/x-python",
   "name": "python",
   "nbconvert_exporter": "python",
   "pygments_lexer": "ipython3",
   "version": "3.13.1"
  }
 },
 "nbformat": 4,
 "nbformat_minor": 5
}
