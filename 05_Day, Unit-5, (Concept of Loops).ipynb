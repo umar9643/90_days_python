{
 "cells": [
  {
   "cell_type": "markdown",
   "id": "3cead35e",
   "metadata": {},
   "source": [
    "# CONCEPT OF LOOPS"
   ]
  },
  {
   "cell_type": "markdown",
   "id": "789fe81c",
   "metadata": {},
   "source": [
    "IN COMPUTER PROGRAMMING, LOOPS ARE USED TO REPEAT A BLOCK OF CODE.FOR EXAMPLE:\n",
    "IF WE WNAT TO SHOW A MESSAGE 100 TIMES,THEN WE CAN USE LOOPS.\n",
    "A LOOP STATEMENR ALLOW US TO EXECUTE A STATEMENT A GROUP OF STATEMENT MULTIPLE TIMES.    "
   ]
  },
  {
   "cell_type": "markdown",
   "id": "860efb0a",
   "metadata": {},
   "source": [
    "THERE ARE TWO TYPES OF LOOPS\n",
    "\n",
    "1:FOR LOOPS(IF WE KNOW HOW MANY TIMES THE LOOP ITERATE).\n",
    "    \n",
    "2:WHILE LOOPS(IF WE KNOW THE CONDITION WHEN TO STOP THE LOOPS)."
   ]
  },
  {
   "cell_type": "markdown",
   "id": "efef3b94",
   "metadata": {},
   "source": [
    "# WHILE LOOPS"
   ]
  },
  {
   "cell_type": "markdown",
   "id": "aa066d34",
   "metadata": {},
   "source": [
    "IN PYTHON,A WHILOE LOOPS IS IUED TO EXECUTEA BLOCK OF STATEMENT REPEATEDLY UNTIL A GIVEN CONCITION IS SATISFIED.\n",
    "AND WHEN THE CONDITION BECOME FLASE,THE LINE IMMEDIATE AFTER THE LOOP IN THE PROGRAM IS EXECUTED."
   ]
  },
  {
   "cell_type": "code",
   "execution_count": 12,
   "id": "71940623-e018-4b79-bb81-190ffb626f49",
   "metadata": {},
   "outputs": [
    {
     "name": "stdin",
     "output_type": "stream",
     "text": [
      "enter the no. 5\n"
     ]
    },
    {
     "name": "stdout",
     "output_type": "stream",
     "text": [
      "1\n",
      "2\n",
      "3\n",
      "4\n",
      "5\n",
      "its done\n"
     ]
    }
   ],
   "source": [
    "#Take the no from the user and print all no from 1  till the user no. in sequence.\n",
    "\n",
    "i=1\n",
    "x=int(input(\"enter the no.\"))\n",
    "\n",
    "\n",
    "while i<=x:\n",
    "    print(i)\n",
    "    i=i+1\n",
    "\n",
    "print(\"its done\")"
   ]
  },
  {
   "cell_type": "code",
   "execution_count": 18,
   "id": "98f05932-c9df-4c53-b16c-0ebf5f03932b",
   "metadata": {},
   "outputs": [
    {
     "name": "stdin",
     "output_type": "stream",
     "text": [
      "enter the no.  7\n"
     ]
    },
    {
     "name": "stdout",
     "output_type": "stream",
     "text": [
      "7\n",
      "14\n",
      "21\n",
      "28\n",
      "35\n",
      "42\n",
      "49\n",
      "56\n",
      "63\n",
      "70\n",
      "this is the  multiplication table of  7\n"
     ]
    }
   ],
   "source": [
    "#Enter the value and write the multiplication table till 10\n",
    "\n",
    "x=int(input(\"enter the no. \"))\n",
    "\n",
    "i=1\n",
    "n=10\n",
    "\n",
    "while i<=n:\n",
    "    print(x*i)\n",
    "    i+=1\n",
    "print(\"this is the  multiplication table of \",x)\n",
    "\n",
    "\n",
    "\n",
    "\n"
   ]
  },
  {
   "cell_type": "code",
   "execution_count": 20,
   "id": "7198eb48-0af3-489a-a214-bcea1d5e7664",
   "metadata": {},
   "outputs": [
    {
     "name": "stdin",
     "output_type": "stream",
     "text": [
      "enter the no.  5\n"
     ]
    },
    {
     "name": "stdout",
     "output_type": "stream",
     "text": [
      "5\n",
      "25\n",
      "125\n",
      "625\n",
      "3125\n",
      "this is the  exponential table of  5\n"
     ]
    }
   ],
   "source": [
    "#Take  a no. from user and printt its exponential value till power 5\n",
    "\n",
    "x=int(input(\"enter the no. \"))\n",
    "\n",
    "i=1\n",
    "n=5\n",
    "\n",
    "while i<=n:\n",
    "    print(x**i)\n",
    "    i+=1\n",
    "print(\"this is the  exponential table of \",x)\n",
    "\n",
    "\n",
    "\n",
    "\n"
   ]
  },
  {
   "cell_type": "code",
   "execution_count": null,
   "id": "20fef583-60b1-4431-a86b-b9e9f66e187c",
   "metadata": {},
   "outputs": [],
   "source": [
    "#Write a value  and find out the even no. between that\n",
    "\n",
    "i=1\n",
    "x=int(input(\"enter the no. \"))\n",
    "\n",
    "while i<=x:\n",
    "    if i%2==0:\n",
    "        print(i)\n",
    "    else:\n",
    "        pass\n",
    "        \n",
    "    i+=1\n",
    "\n",
    "\n",
    "\n"
   ]
  },
  {
   "cell_type": "code",
   "execution_count": 3,
   "id": "d1662864-05d4-462c-822d-011f311b6d01",
   "metadata": {},
   "outputs": [
    {
     "name": "stdin",
     "output_type": "stream",
     "text": [
      "enter the no of rows 3\n"
     ]
    },
    {
     "name": "stdout",
     "output_type": "stream",
     "text": [
      "* \n",
      "* * \n",
      "* * * \n"
     ]
    }
   ],
   "source": [
    "# Making a satr pattern\n",
    "\n",
    "x=int(input(\"enter the no of rows\"))\n",
    "i=1\n",
    "while i<=x:\n",
    "    j=1\n",
    "    while j<=i:\n",
    "        print(\"*\",end=\" \")\n",
    "        j+=1\n",
    "    print()\n",
    "    i+=1"
   ]
  },
  {
   "cell_type": "code",
   "execution_count": 6,
   "id": "8ed22c5b-40d4-47d3-be3c-9efa30d2309e",
   "metadata": {},
   "outputs": [
    {
     "name": "stdin",
     "output_type": "stream",
     "text": [
      "enter the no of rows 4\n"
     ]
    },
    {
     "name": "stdout",
     "output_type": "stream",
     "text": [
      "& \n",
      "& & \n",
      "& & & \n",
      "& & & & \n"
     ]
    }
   ],
   "source": [
    "# Making a satr pattern\n",
    "\n",
    "i=1\n",
    "x=int(input(\"enter the no of rows\"))\n",
    "while i<=x:\n",
    "    j=1\n",
    "    while j<=i:\n",
    "        print(\"&\",end=\" \")\n",
    "        j+=1\n",
    "    print()\n",
    "    i+=1"
   ]
  },
  {
   "cell_type": "code",
   "execution_count": 7,
   "id": "fdd66476-0b4d-42b5-84aa-e42180b41eb2",
   "metadata": {},
   "outputs": [
    {
     "name": "stdin",
     "output_type": "stream",
     "text": [
      "enter the no of rows 6\n"
     ]
    },
    {
     "name": "stdout",
     "output_type": "stream",
     "text": [
      "$ \n",
      "$ $ \n",
      "$ $ $ \n",
      "$ $ $ $ \n",
      "$ $ $ $ $ \n",
      "$ $ $ $ $ $ \n"
     ]
    }
   ],
   "source": [
    "# Making a satr pattern\n",
    "\n",
    "i=1\n",
    "x=int(input(\"enter the no of rows\"))\n",
    "while i<=x:\n",
    "    j=1\n",
    "    while j<=i:\n",
    "        print(\"$\",end=\" \")\n",
    "        j+=1\n",
    "    print()\n",
    "    i+=1"
   ]
  },
  {
   "cell_type": "code",
   "execution_count": 9,
   "id": "c7f4b202-395b-4936-a202-f202a1494b18",
   "metadata": {},
   "outputs": [
    {
     "name": "stdin",
     "output_type": "stream",
     "text": [
      "enter the no of rows 7\n"
     ]
    },
    {
     "name": "stdout",
     "output_type": "stream",
     "text": [
      "* * * * * * * \n",
      "* * * * * * \n",
      "* * * * * \n",
      "* * * * \n",
      "* * * \n",
      "* * \n",
      "* \n",
      "\n"
     ]
    }
   ],
   "source": [
    "# Making a satr pattern upside down\n",
    "\n",
    "i=1\n",
    "n=int(input(\"enter the no of rows\"))\n",
    "while i<=x:\n",
    "    j=n\n",
    "    while j>=i:\n",
    "        print(\"*\",end=\" \")\n",
    "        j-=1\n",
    "    print()\n",
    "    i+=1"
   ]
  },
  {
   "cell_type": "code",
   "execution_count": 10,
   "id": "3ff64cc9-de8c-4beb-a335-a2fe02ba7dde",
   "metadata": {},
   "outputs": [
    {
     "name": "stdin",
     "output_type": "stream",
     "text": [
      "enter the no of rows 7\n"
     ]
    },
    {
     "name": "stdout",
     "output_type": "stream",
     "text": [
      "&* &* &* &* &* &* &* \n",
      "&* &* &* &* &* &* \n",
      "&* &* &* &* &* \n",
      "&* &* &* &* \n",
      "&* &* &* \n",
      "&* &* \n",
      "&* \n",
      "\n"
     ]
    }
   ],
   "source": [
    "# Making a satr pattern upside down\n",
    "\n",
    "i=1\n",
    "n=int(input(\"enter the no of rows\"))\n",
    "while i<=x:\n",
    "    j=n\n",
    "    while j>=i:\n",
    "        print(\"&*\",end=\" \")\n",
    "        j-=1\n",
    "    print()\n",
    "    i+=1"
   ]
  },
  {
   "cell_type": "markdown",
   "id": "9634fff1-cee2-424e-b6e6-450674babe6a",
   "metadata": {},
   "source": [
    "## Control flow statements in loops"
   ]
  },
  {
   "cell_type": "markdown",
   "id": "e888fd02-f99a-442b-8e77-251b7bded25b",
   "metadata": {},
   "source": [
    "Control flow statements in loops are used to manage how the loop executes — whether to skip an iteration, exit the loop early, or jump to the next iteration. These statements help make loops more flexible and powerful.\n",
    "\n",
    "Here are the three main control flow statements used inside loops (like for and while loops):\n",
    "\n"
   ]
  },
  {
   "cell_type": "markdown",
   "id": "7608e5ef-ec33-479c-9a93-3b633a625cb5",
   "metadata": {},
   "source": [
    "### 1. break Statement\n",
    "\n",
    "   \n"
   ]
  },
  {
   "cell_type": "markdown",
   "id": "63b633f0-4e02-4e7c-8fbd-a04e136070df",
   "metadata": {},
   "source": [
    "Use: Terminates the loop entirely.\n",
    "\n",
    "When: You want to exit the loop before it naturally ends."
   ]
  },
  {
   "cell_type": "code",
   "execution_count": 2,
   "id": "828e06c9-8958-4f69-9b52-a39bb3d37542",
   "metadata": {},
   "outputs": [
    {
     "name": "stdout",
     "output_type": "stream",
     "text": [
      "inside else condt\n",
      "inside else condt\n",
      "inside else condt\n",
      "inside else condt\n",
      "inside else condt\n",
      "inside else condt\n",
      "inside else condt\n",
      "inside if condt\n",
      "loop terminated\n"
     ]
    }
   ],
   "source": [
    "n=10\n",
    "i=1\n",
    "while True:\n",
    "    if i%8==0:\n",
    "        print(\"inside if condt\")\n",
    "        break\n",
    "    else:\n",
    "        print(\"inside else condt\")\n",
    "        i+=1\n",
    "\n",
    "print(\"loop terminated\")\n",
    "    \n",
    "     "
   ]
  },
  {
   "cell_type": "markdown",
   "id": "95c368d7-087f-4bc5-a4ea-8749d4f5768a",
   "metadata": {},
   "source": [
    "### 2. continue Statement\n",
    "\n"
   ]
  },
  {
   "cell_type": "markdown",
   "id": "3bf778ab-f744-4779-9c7e-46ea8d0548f9",
   "metadata": {},
   "source": [
    "Use: Skips the current iteration and goes to the next iteration.\n",
    "\n",
    "When: You want to skip some values or conditions but continue looping.\n",
    "\n"
   ]
  },
  {
   "cell_type": "markdown",
   "id": "a15e6868-cad8-48af-8abd-aac5b236e465",
   "metadata": {},
   "source": [
    "### 3. pass Statement"
   ]
  },
  {
   "cell_type": "markdown",
   "id": "30453c1d-632e-491f-98b6-d3f26c213246",
   "metadata": {},
   "source": [
    "\n",
    "Use: A placeholder that does nothing — used when a statement is syntactically required but no action is needed.\n",
    "\n",
    "When: You’re still planning to write logic, or want an empty block."
   ]
  },
  {
   "cell_type": "code",
   "execution_count": 1,
   "id": "abfdd0ce",
   "metadata": {},
   "outputs": [
    {
     "name": "stdout",
     "output_type": "stream",
     "text": [
      "1\n",
      "2\n",
      "3\n",
      "4\n",
      "5\n",
      "6\n",
      "7\n",
      "8\n",
      "9\n",
      "10\n"
     ]
    }
   ],
   "source": [
    "#PROGRAM TO DISPLAY NO. FROM 1 TO 10\n",
    "i=1\n",
    "n=10\n",
    "while i<=n:\n",
    "    print(i)\n",
    "\n",
    "    i=i+1"
   ]
  },
  {
   "cell_type": "code",
   "execution_count": 1,
   "id": "81778eea",
   "metadata": {},
   "outputs": [
    {
     "name": "stdout",
     "output_type": "stream",
     "text": [
      "i am learing loops\n",
      "i am learing loops\n",
      "i am learing loops\n",
      "i am learing loops\n",
      "i am learing loops\n"
     ]
    }
   ],
   "source": [
    "i=1\n",
    "n=11\n",
    "while i<n:\n",
    "    print(\"i am learing loops\")\n",
    "    i+=2\n",
    "    "
   ]
  },
  {
   "cell_type": "code",
   "execution_count": 1,
   "id": "8b9f392d",
   "metadata": {},
   "outputs": [
    {
     "name": "stdout",
     "output_type": "stream",
     "text": [
      "i am doning revison of pyhton\n",
      "i am doning revison of pyhton\n",
      "i am doning revison of pyhton\n",
      "i am doning revison of pyhton\n",
      "i am doning revison of pyhton\n",
      "i am doning revison of pyhton\n"
     ]
    }
   ],
   "source": [
    "i=1\n",
    "m=7\n",
    "while i<m:\n",
    "    print(\"i am doning revison of pyhton\")\n",
    "    \n",
    "    i=i+1"
   ]
  },
  {
   "cell_type": "markdown",
   "id": "c74b3281",
   "metadata": {},
   "source": [
    "ENTER THE VALUE OF A USER AND MAKE MULTIPLE TILL 10"
   ]
  },
  {
   "cell_type": "code",
   "execution_count": 3,
   "id": "87c7b3cc",
   "metadata": {},
   "outputs": [
    {
     "name": "stdout",
     "output_type": "stream",
     "text": [
      "enter the value17\n",
      "17\n",
      "34\n",
      "51\n",
      "68\n",
      "85\n",
      "102\n",
      "119\n",
      "136\n",
      "153\n",
      "170\n",
      "this is the multiplicaton table\n"
     ]
    }
   ],
   "source": [
    "x=int(input(\"enter the value\"))\n",
    "i=1\n",
    "while i<=10:\n",
    "    print(x*i)\n",
    "    i=i+1\n",
    "print(\"this is the multiplicaton table\")"
   ]
  },
  {
   "cell_type": "code",
   "execution_count": 2,
   "id": "dc715e93-b8c7-478c-af46-8e61a76d2ce7",
   "metadata": {},
   "outputs": [
    {
     "name": "stdin",
     "output_type": "stream",
     "text": [
      "enter the no. 6\n"
     ]
    },
    {
     "name": "stdout",
     "output_type": "stream",
     "text": [
      "6\n",
      "12\n",
      "18\n",
      "24\n",
      "30\n",
      "36\n",
      "42\n",
      "48\n",
      "54\n",
      "60\n"
     ]
    }
   ],
   "source": [
    "x=int(input(\"enter the no.\"))\n",
    "i=1\n",
    "while i<=10:\n",
    "    print(x*i)\n",
    "    i=i+1"
   ]
  },
  {
   "cell_type": "code",
   "execution_count": 9,
   "id": "7dcb75da",
   "metadata": {},
   "outputs": [
    {
     "name": "stdout",
     "output_type": "stream",
     "text": [
      "enter the no.10\n",
      "10\n",
      "20\n",
      "30\n",
      "40\n",
      "50\n",
      "60\n",
      "70\n",
      "80\n",
      "90\n",
      "100\n",
      "this is yoyr multiplication table\n"
     ]
    }
   ],
   "source": [
    "x=int(input(\"enter the no.\"))\n",
    "i=1\n",
    "while i<=10:\n",
    "    print(i*x)\n",
    "    i+=1\n",
    "print(\"this is yoyr multiplication table\")\n",
    "    \n",
    "    "
   ]
  },
  {
   "cell_type": "code",
   "execution_count": null,
   "id": "3878d1f8",
   "metadata": {},
   "outputs": [],
   "source": [
    "num=int(input(\"enter the number\"))\n",
    "i=1\n",
    "n=10\n",
    "while i<=n:\n",
    "    print(num*i)\n",
    "    i+=1"
   ]
  },
  {
   "cell_type": "markdown",
   "id": "5ae5e9d0",
   "metadata": {},
   "source": [
    "# INFINITE LOOP"
   ]
  },
  {
   "cell_type": "code",
   "execution_count": null,
   "id": "a80b11c3",
   "metadata": {},
   "outputs": [],
   "source": [
    "age = 32\n",
    "while age>18:\n",
    "    print(\"you can vote\")\n",
    "    \n",
    "    "
   ]
  },
  {
   "cell_type": "markdown",
   "id": "b835f9c8",
   "metadata": {},
   "source": [
    "# STR KO REPEAT KRWANE KE LIYE YE CODE HAI "
   ]
  },
  {
   "cell_type": "code",
   "execution_count": 5,
   "id": "908a7afd",
   "metadata": {},
   "outputs": [
    {
     "name": "stdout",
     "output_type": "stream",
     "text": [
      "umsa\n",
      "umsa\n",
      "umsa\n",
      "umsa\n",
      "umsa\n",
      "umsa\n"
     ]
    }
   ],
   "source": [
    "count=0\n",
    "while(count<11):\n",
    "    print(\"umsa\")\n",
    "    count=count+2\n"
   ]
  },
  {
   "cell_type": "code",
   "execution_count": 1,
   "id": "f29fcae0",
   "metadata": {},
   "outputs": [
    {
     "name": "stdout",
     "output_type": "stream",
     "text": [
      "alam\n",
      "alam\n",
      "alam\n",
      "alam\n",
      "alam\n",
      "alam\n",
      "alam\n"
     ]
    }
   ],
   "source": [
    "i=1\n",
    "n=7\n",
    "while i<=n:\n",
    "    print(\"alam\")\n",
    "    \n",
    "    i+=1"
   ]
  },
  {
   "cell_type": "markdown",
   "id": "734fddaf",
   "metadata": {},
   "source": [
    "# USING ELSE STATEMENT IN WHILE LOOP"
   ]
  },
  {
   "cell_type": "code",
   "execution_count": 5,
   "id": "3ad0806e",
   "metadata": {},
   "outputs": [
    {
     "name": "stdout",
     "output_type": "stream",
     "text": [
      "umar alam\n",
      "umar alam\n",
      "umar alam\n",
      "umar alam\n",
      "umar alam\n",
      "umar alam\n",
      "umar alam\n",
      "umar alam\n",
      "umar alam\n",
      "umar alam\n",
      "umar alam\n",
      "umar alam\n",
      "umar alam\n",
      "bss ho gya\n"
     ]
    }
   ],
   "source": [
    "count = 0\n",
    "while(count<25):\n",
    "    print(\"umar alam\")\n",
    "    count=count+2\n",
    "else:\n",
    "    print(\"bss ho gya\")"
   ]
  },
  {
   "cell_type": "code",
   "execution_count": 6,
   "id": "fc5e466a",
   "metadata": {},
   "outputs": [
    {
     "name": "stdout",
     "output_type": "stream",
     "text": [
      "salman khan\n",
      "salman khan\n",
      "salman khan\n",
      "salman khan\n",
      "srk\n"
     ]
    }
   ],
   "source": [
    "count=3\n",
    "while(count<7):\n",
    "    print(\"salman khan\")\n",
    "    count=count + 1\n",
    "else:\n",
    "    print(\"srk\")"
   ]
  },
  {
   "cell_type": "code",
   "execution_count": 1,
   "id": "629ffcb9",
   "metadata": {},
   "outputs": [
    {
     "name": "stdout",
     "output_type": "stream",
     "text": [
      "less than eleven\n",
      "less than eleven\n",
      "less than eleven\n",
      "less than eleven\n",
      "less than eleven\n",
      "less than eleven\n",
      "less than eleven\n",
      "less than eleven\n",
      "less than eleven\n",
      "less than eleven\n",
      "less than eleven\n",
      "more the eleven\n"
     ]
    }
   ],
   "source": [
    "x=0\n",
    "while x<11:\n",
    "    print(\"less than eleven\")\n",
    "    x=x+1\n",
    "else:\n",
    "    print(\"more the eleven\")"
   ]
  },
  {
   "cell_type": "code",
   "execution_count": 1,
   "id": "ce537ff3",
   "metadata": {},
   "outputs": [
    {
     "name": "stdout",
     "output_type": "stream",
     "text": [
      "salman khan\n",
      "salman khan\n",
      "salman khan\n",
      "salman khan\n",
      "srk\n"
     ]
    }
   ],
   "source": [
    "count=3\n",
    "while(count<7):\n",
    "    print(\"salman khan\")\n",
    "    count=count + 1\n",
    "else:\n",
    "    print(\"srk\")"
   ]
  },
  {
   "cell_type": "code",
   "execution_count": 1,
   "id": "7fe13ea6",
   "metadata": {},
   "outputs": [
    {
     "name": "stdout",
     "output_type": "stream",
     "text": [
      "i m learnig pyhton\n",
      "i m learnig pyhton\n",
      "i m learnig pyhton\n",
      "i m learnig pyhton\n",
      "i m learnig pyhton\n",
      "i m learnig pyhton\n",
      "i m learnig pyhton\n",
      "i m learnig pyhton\n",
      "i m doin great\n"
     ]
    }
   ],
   "source": [
    "start=2\n",
    "while(start<10):\n",
    "    print(\"i m learnig pyhton\")\n",
    "    start=start+1\n",
    "else:\n",
    "    print(\"i m doin great\")"
   ]
  },
  {
   "cell_type": "markdown",
   "id": "d4089a3b",
   "metadata": {},
   "source": [
    "# FOR LOOPS"
   ]
  },
  {
   "cell_type": "markdown",
   "id": "b81163be",
   "metadata": {},
   "source": [
    "IN PYTHON FOR LOOPS IS USED TO RUN A BLOCK OF CODE FOR A CERTIAN NUMBER OF TIMES.\n",
    "IT IS USED TO ITERATE OVER ANY SEQUENCE SUCH AS LIST,TUPLE,STRING,ETC."
   ]
  },
  {
   "cell_type": "markdown",
   "id": "1fc496b6",
   "metadata": {},
   "source": [
    "# LOOPING THROUNG A SATRING"
   ]
  },
  {
   "cell_type": "code",
   "execution_count": 2,
   "id": "04f3c843",
   "metadata": {},
   "outputs": [
    {
     "name": "stdout",
     "output_type": "stream",
     "text": [
      "R\n",
      "A\n",
      "N\n",
      "V\n",
      "I\n",
      "R\n"
     ]
    }
   ],
   "source": [
    "X=\"RANVIR\"\n",
    "for x in X:\n",
    "    print(x)"
   ]
  },
  {
   "cell_type": "code",
   "execution_count": 2,
   "id": "0ac47ff5-05f0-4d8d-b6a8-9e14d2b4070a",
   "metadata": {},
   "outputs": [
    {
     "name": "stdout",
     "output_type": "stream",
     "text": [
      "R\n",
      "A\n",
      "N\n",
      "V\n",
      "I\n",
      "R\n"
     ]
    }
   ],
   "source": [
    "X=\"RANVIR\"\n",
    "for i in X:\n",
    "    print(i)"
   ]
  },
  {
   "cell_type": "code",
   "execution_count": 7,
   "id": "06fb0b6a",
   "metadata": {},
   "outputs": [
    {
     "name": "stdout",
     "output_type": "stream",
     "text": [
      "0\n",
      "1\n",
      "2\n",
      "3\n",
      "4\n",
      "5\n"
     ]
    }
   ],
   "source": [
    "for x in range(6):\n",
    "    print(x)"
   ]
  },
  {
   "cell_type": "code",
   "execution_count": 8,
   "id": "9c0cfbe3",
   "metadata": {},
   "outputs": [
    {
     "name": "stdout",
     "output_type": "stream",
     "text": [
      "2\n",
      "3\n",
      "4\n",
      "5\n"
     ]
    }
   ],
   "source": [
    "for x in range(2,6):\n",
    "    print(x)"
   ]
  },
  {
   "cell_type": "code",
   "execution_count": 9,
   "id": "2c660ff3",
   "metadata": {},
   "outputs": [
    {
     "name": "stdout",
     "output_type": "stream",
     "text": [
      "2\n",
      "4\n"
     ]
    }
   ],
   "source": [
    "for x in range(2,6,2):\n",
    "    print(x)"
   ]
  },
  {
   "cell_type": "code",
   "execution_count": 10,
   "id": "8bc4a4ce",
   "metadata": {},
   "outputs": [
    {
     "name": "stdout",
     "output_type": "stream",
     "text": [
      "0\n",
      "1\n",
      "2\n",
      "3\n",
      "4\n",
      "5\n",
      "finnaly finished\n"
     ]
    }
   ],
   "source": [
    "for x in range(6):\n",
    "    print(x)\n",
    "else:\n",
    "    print(\"finnaly finished\")"
   ]
  },
  {
   "cell_type": "code",
   "execution_count": 3,
   "id": "ef47bdf0",
   "metadata": {},
   "outputs": [
    {
     "name": "stdout",
     "output_type": "stream",
     "text": [
      "1\n",
      "2\n",
      "3\n",
      "4\n",
      "5\n",
      "6\n",
      "7\n",
      "8\n",
      "9\n",
      "10\n"
     ]
    }
   ],
   "source": [
    "for x in range(1,11):\n",
    "    print(x)"
   ]
  },
  {
   "cell_type": "code",
   "execution_count": 18,
   "id": "eb701229",
   "metadata": {},
   "outputs": [
    {
     "name": "stdout",
     "output_type": "stream",
     "text": [
      "[0, 1, 4, 9, 16, 25, 36, 49, 64, 81]\n"
     ]
    }
   ],
   "source": [
    "\"\"\"write a program to print the square of  the no. till 10\"\"\"\n",
    "l=[]\n",
    "for i in range(10):\n",
    "    l.append(i**2)\n",
    "print(l)\n",
    "    \n",
    "    \n",
    "     \n",
    "   "
   ]
  },
  {
   "cell_type": "code",
   "execution_count": null,
   "id": "ab290eaf-e611-4be8-9f38-3587d0eacd0b",
   "metadata": {},
   "outputs": [],
   "source": []
  },
  {
   "cell_type": "code",
   "execution_count": null,
   "id": "0e40da9a-ba54-4a0e-a880-f0a2e864b520",
   "metadata": {},
   "outputs": [],
   "source": []
  }
 ],
 "metadata": {
  "kernelspec": {
   "display_name": "Python 3 (ipykernel)",
   "language": "python",
   "name": "python3"
  },
  "language_info": {
   "codemirror_mode": {
    "name": "ipython",
    "version": 3
   },
   "file_extension": ".py",
   "mimetype": "text/x-python",
   "name": "python",
   "nbconvert_exporter": "python",
   "pygments_lexer": "ipython3",
   "version": "3.13.1"
  }
 },
 "nbformat": 4,
 "nbformat_minor": 5
}
