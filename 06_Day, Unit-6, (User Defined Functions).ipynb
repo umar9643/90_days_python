{
 "cells": [
  {
   "cell_type": "markdown",
   "id": "593fda0e",
   "metadata": {},
   "source": [
    "# WHAT IS USER DEF FUNCTIONS"
   ]
  },
  {
   "cell_type": "markdown",
   "id": "2949d9df",
   "metadata": {},
   "source": [
    "FUNCTIONS THAT WE DEFINED OURSELVES TO DO A CERTAIN SPECIFIC TASK ARE CALLED USER DEFINED.\n",
    "ALL THE FUNCTION THAT ARE WRITENN BY US ARE COMES UNDER USER DEFINED FUNCTION."
   ]
  },
  {
   "cell_type": "markdown",
   "id": "d113e52b",
   "metadata": {},
   "source": [
    " A FUNCTION IS A REUSABLE BLOCK OF PROGRAMING THAT ARE USED TO PERFORM A SPECIFIC TASK."
   ]
  },
  {
   "cell_type": "markdown",
   "id": "491f1c94",
   "metadata": {},
   "source": [
    "# CREATING USER DEFINED"
   ]
  },
  {
   "cell_type": "markdown",
   "id": "b804e9bf-1378-4f22-acf0-b4e946f41d4e",
   "metadata": {},
   "source": [
    "IN PYHTON def KEYWORD IS USED TO DEFINE A FN"
   ]
  },
  {
   "cell_type": "code",
   "execution_count": 1,
   "id": "624aee71",
   "metadata": {},
   "outputs": [],
   "source": [
    "def umar():\n",
    "    print(\"i love python\")"
   ]
  },
  {
   "cell_type": "markdown",
   "id": "bff1a1d3",
   "metadata": {},
   "source": [
    "# CALLING A FUNCTION"
   ]
  },
  {
   "cell_type": "markdown",
   "id": "9c170e97-6065-4776-883f-2711b17afc8f",
   "metadata": {},
   "source": [
    "TO CALL A FUNCTION USE THE FUNCTION NAME FOLLOWED BY PARENTHESIS\n",
    "\n",
    "EXAMPLE DEF MY FUNCTION(): PRINT(JO BHU STATEMENT HO)"
   ]
  },
  {
   "cell_type": "code",
   "execution_count": 2,
   "id": "efa0f40f",
   "metadata": {},
   "outputs": [
    {
     "name": "stdout",
     "output_type": "stream",
     "text": [
      "i love python\n"
     ]
    }
   ],
   "source": [
    "#calling a fn\n",
    "umar()"
   ]
  },
  {
   "cell_type": "code",
   "execution_count": 1,
   "id": "fbfe8170",
   "metadata": {},
   "outputs": [],
   "source": [
    "# def a fn\n",
    "def umar():\n",
    "    print(\"i am doing revison of python\")"
   ]
  },
  {
   "cell_type": "code",
   "execution_count": 2,
   "id": "9b662b18",
   "metadata": {},
   "outputs": [
    {
     "name": "stdout",
     "output_type": "stream",
     "text": [
      "i am doing revison of python\n"
     ]
    }
   ],
   "source": [
    "umar()"
   ]
  },
  {
   "cell_type": "code",
   "execution_count": 3,
   "id": "1a6c8be1-3695-4ee9-9011-d6f796678a62",
   "metadata": {},
   "outputs": [],
   "source": [
    "#def a fn\n",
    "def python_info():\n",
    "    print(\"pyhton is open sourse\")\n",
    "    print(\"This has several libraries\")\n",
    "    print(\"pyhton is dynamiclly types\")\n",
    "    print(\"pyhton is a high level programming language\")"
   ]
  },
  {
   "cell_type": "code",
   "execution_count": 5,
   "id": "350dee64-c406-4a51-a761-e9949088d9bb",
   "metadata": {},
   "outputs": [
    {
     "name": "stdout",
     "output_type": "stream",
     "text": [
      "6\n",
      "pyhton is open sourse\n",
      "This has several libraries\n",
      "pyhton is dynamiclly types\n",
      "pyhton is a high level programming language\n"
     ]
    }
   ],
   "source": [
    "a=3\n",
    "b=3\n",
    "print(a+b)\n",
    "python_info()"
   ]
  },
  {
   "cell_type": "markdown",
   "id": "9a8ce9d2-87c9-4f14-a32a-f6c33b330cba",
   "metadata": {},
   "source": [
    "## Making report of a patient"
   ]
  },
  {
   "cell_type": "code",
   "execution_count": 5,
   "id": "2f43391f-82f8-414f-961d-108c3dd9c3ea",
   "metadata": {},
   "outputs": [],
   "source": [
    "#Write a program to make the report of a patient, calculate the BMI,and tahke input from the patient like weight in kg,height in meter and hb level\n",
    "#BMI Range\tCategory\n",
    "#Less than 18.5\tUnderweight\n",
    "#25.0 – 29.9\tOverweight"
   ]
  },
  {
   "cell_type": "code",
   "execution_count": 2,
   "id": "649df67a-b6b8-47f6-9dbe-88815d9f4ff3",
   "metadata": {},
   "outputs": [],
   "source": [
    "def diet_pla():\n",
    "    print(\"In the breakfats take milk\")\n",
    "    print(\"IN the lunch eat meat\")\n",
    "    print(\"At night eat light food\")\n",
    "    print(\"do workout regularly\")"
   ]
  },
  {
   "cell_type": "code",
   "execution_count": 3,
   "id": "44edf738-d208-43ef-a44a-21bedea45e53",
   "metadata": {},
   "outputs": [
    {
     "name": "stdin",
     "output_type": "stream",
     "text": [
      "enter your weight in kg 71\n",
      "enter your height in meter 1.9\n"
     ]
    },
    {
     "name": "stdout",
     "output_type": "stream",
     "text": [
      "your BMI is 19.667590027700832\n",
      "Normal weight\n",
      "In the breakfats take milk\n",
      "IN the lunch eat meat\n",
      "At night eat light food\n",
      "do workout regularly\n",
      "\n"
     ]
    },
    {
     "name": "stdin",
     "output_type": "stream",
     "text": [
      "enter your weight in kg 40\n",
      "enter your height in meter 2\n"
     ]
    },
    {
     "name": "stdout",
     "output_type": "stream",
     "text": [
      "your BMI is 10.0\n",
      "Underweight\n",
      "In the breakfats take milk\n",
      "IN the lunch eat meat\n",
      "At night eat light food\n",
      "do workout regularly\n",
      "\n"
     ]
    },
    {
     "name": "stdin",
     "output_type": "stream",
     "text": [
      "enter your weight in kg 2\n",
      "enter your height in meter 5\n"
     ]
    },
    {
     "name": "stdout",
     "output_type": "stream",
     "text": [
      "your BMI is 0.08\n",
      "Underweight\n",
      "In the breakfats take milk\n",
      "IN the lunch eat meat\n",
      "At night eat light food\n",
      "do workout regularly\n",
      "\n"
     ]
    }
   ],
   "source": [
    "n=5\n",
    "i=1\n",
    "\n",
    "while i<=n:\n",
    "    x=float(input(\"enter your weight in kg\"))\n",
    "    y=float(input(\"enter your height in meter\"))\n",
    "\n",
    "    BMI=x/y**2\n",
    "    print(\"your BMI is\",BMI)\n",
    "\n",
    "    if BMI <18.5:\n",
    "        print(\"Underweight\")\n",
    "    elif BMI>18.5 and BMI<24.9:\n",
    "        print(\"Normal weight\")\n",
    "    else:\n",
    "        print(\"Overweight\")\n",
    "    diet_plan()\n",
    "    print()\n",
    "\n",
    "    i+=2\n",
    "\n",
    "\n",
    "\n"
   ]
  },
  {
   "cell_type": "markdown",
   "id": "4883f5f2-392a-403d-8c12-e96dede63cd6",
   "metadata": {},
   "source": [
    "# ✅ Docstring in Python"
   ]
  },
  {
   "cell_type": "markdown",
   "id": "5fbf06b3-8fd7-495d-bd4b-83c97406e5a9",
   "metadata": {},
   "source": [
    "\n",
    "A docstring (documentation string) is a special string used to explain what a function, class, or module does.\n",
    "\n",
    "It helps you and others understand the purpose of the code — very useful for large projects or collaborative work."
   ]
  },
  {
   "cell_type": "markdown",
   "id": "9326768b-a724-48d8-a43f-1364f8027005",
   "metadata": {},
   "source": [
    "🔹 Syntax:\n",
    "A docstring is written just below the function or class definition, inside triple quotes \"\"\" \"\"\" or ''' '''."
   ]
  },
  {
   "cell_type": "code",
   "execution_count": 16,
   "id": "de778a9a-5e50-489c-bc77-236285c83bb5",
   "metadata": {},
   "outputs": [],
   "source": [
    "def learn():\n",
    "    \"\"\"this fn does nothing except printing\"\"\"\n",
    "    print(\"pyhton is easy to use\")"
   ]
  },
  {
   "cell_type": "code",
   "execution_count": 17,
   "id": "a152c7c7-f663-4646-8fa4-c160e685a6cb",
   "metadata": {},
   "outputs": [
    {
     "name": "stdout",
     "output_type": "stream",
     "text": [
      "pyhton is easy to use\n"
     ]
    }
   ],
   "source": [
    "learn()"
   ]
  },
  {
   "cell_type": "code",
   "execution_count": 10,
   "id": "78368e02-1d5c-48a7-86bf-204448a1e526",
   "metadata": {},
   "outputs": [],
   "source": [
    "def greet(name):\n",
    "    \"\"\"\n",
    "    This function takes a name as input\n",
    "    and prints a greeting message.\n",
    "    \"\"\"\n",
    "    print(\"Hello,\", name)\n"
   ]
  },
  {
   "cell_type": "code",
   "execution_count": 15,
   "id": "352eef98-90a2-41e2-a7e7-632a9b2dc4f0",
   "metadata": {},
   "outputs": [
    {
     "name": "stdout",
     "output_type": "stream",
     "text": [
      "Hello, alam\n"
     ]
    }
   ],
   "source": [
    "greet(\"alam\")"
   ]
  },
  {
   "cell_type": "code",
   "execution_count": 18,
   "id": "5b86919f-2b25-40a7-bc69-adf10bfb95cd",
   "metadata": {},
   "outputs": [
    {
     "data": {
      "text/plain": [
       "\u001b[1;31mSignature:\u001b[0m \u001b[0mgreet\u001b[0m\u001b[1;33m(\u001b[0m\u001b[0mname\u001b[0m\u001b[1;33m)\u001b[0m\u001b[1;33m\u001b[0m\u001b[1;33m\u001b[0m\u001b[0m\n",
       "\u001b[1;31mDocstring:\u001b[0m\n",
       "This function takes a name as input\n",
       "and prints a greeting message.\n",
       "\u001b[1;31mFile:\u001b[0m      c:\\users\\umar\\appdata\\local\\temp\\ipykernel_13336\\2705526186.py\n",
       "\u001b[1;31mType:\u001b[0m      function"
      ]
     },
     "metadata": {},
     "output_type": "display_data"
    }
   ],
   "source": [
    "greet?"
   ]
  },
  {
   "cell_type": "code",
   "execution_count": null,
   "id": "70f35d85-73bc-46c7-96b1-7a86dfb00b81",
   "metadata": {},
   "outputs": [],
   "source": []
  },
  {
   "cell_type": "markdown",
   "id": "1e6131d4",
   "metadata": {},
   "source": [
    "## Making the result of a student"
   ]
  },
  {
   "cell_type": "code",
   "execution_count": 1,
   "id": "bb956301",
   "metadata": {},
   "outputs": [],
   "source": [
    "def contact():\n",
    "    print(\"contact details of the school\")\n",
    "    print(\"delhi public shool\")\n",
    "    print(\"delhi\")\n",
    "    print(\"87698765\")\n",
    "    print(\"alam umar @gamil.com\")"
   ]
  },
  {
   "cell_type": "code",
   "execution_count": null,
   "id": "45d93d40",
   "metadata": {},
   "outputs": [],
   "source": [
    "for i in range(5):\n",
    "    a=input(\"enter the name of studemnt\")\n",
    "    b=int(input(\"enter the mak=rks of maths\"))\n",
    "    c=int(input(\"enter the mak=rks of sci\"))\n",
    "    d=int(input(\"enter the mak=rks of sst\"))\n",
    "    e=int(input(\"enter the mak=rks of hin\"))\n",
    "    contact()\n",
    "    print()"
   ]
  },
  {
   "cell_type": "markdown",
   "id": "ee0f5f56-98e5-446a-8f61-df9f469a2913",
   "metadata": {},
   "source": [
    "# ✅ Function Input Arguments in Python (L2)\n"
   ]
  },
  {
   "cell_type": "markdown",
   "id": "4939ce0e-0250-4239-a937-79567d6d9dc7",
   "metadata": {},
   "source": [
    "In Python, input arguments (or parameters) are values you pass to a function so it can perform a task based on those inputs.\n",
    "\n"
   ]
  },
  {
   "cell_type": "code",
   "execution_count": 19,
   "id": "04c11123-4a6d-4d4f-9c3f-cc9a831283f6",
   "metadata": {},
   "outputs": [],
   "source": [
    "#taking an input parameter and showing thier type\n",
    "def happy(a):\n",
    "    print(a)\n",
    "    print(type(a))\n",
    "    print(\"we are learning python\")"
   ]
  },
  {
   "cell_type": "code",
   "execution_count": 20,
   "id": "1f7a67c4-bf10-4116-ab8b-d6a274d5d48d",
   "metadata": {},
   "outputs": [
    {
     "name": "stdout",
     "output_type": "stream",
     "text": [
      "2\n",
      "<class 'int'>\n",
      "we are learning python\n"
     ]
    }
   ],
   "source": [
    "happy(2)"
   ]
  },
  {
   "cell_type": "code",
   "execution_count": 21,
   "id": "2e613929-21f8-40a6-93f3-81adbc40adff",
   "metadata": {},
   "outputs": [
    {
     "name": "stdout",
     "output_type": "stream",
     "text": [
      "alam\n",
      "<class 'str'>\n",
      "we are learning python\n"
     ]
    }
   ],
   "source": [
    "happy(\"alam\")"
   ]
  },
  {
   "cell_type": "code",
   "execution_count": 22,
   "id": "346559cd-bb6e-44c5-be7c-8f7bc85be0ac",
   "metadata": {},
   "outputs": [
    {
     "name": "stdout",
     "output_type": "stream",
     "text": [
      "(3+5j)\n",
      "<class 'complex'>\n",
      "we are learning python\n"
     ]
    }
   ],
   "source": [
    "happy(3+5j)"
   ]
  },
  {
   "cell_type": "code",
   "execution_count": 23,
   "id": "1202452a-f482-449a-a772-b1dfc1ae0dc9",
   "metadata": {},
   "outputs": [],
   "source": [
    "#take a str as an input asgument and print it\n",
    "def print_msg(msg):\n",
    "    if isinstance(msg,str):\n",
    "        print(msg)\n",
    "    else:\n",
    "        print(\"input parameter is not str\")\n",
    "        print(\"type of input argument is\",type(msg))"
   ]
  },
  {
   "cell_type": "code",
   "execution_count": 24,
   "id": "2fb595ba-a083-4dcf-9beb-7c156c1b53a0",
   "metadata": {},
   "outputs": [
    {
     "name": "stdout",
     "output_type": "stream",
     "text": [
      "my name is khan\n"
     ]
    }
   ],
   "source": [
    "print_msg(\"my name is khan\")"
   ]
  },
  {
   "cell_type": "code",
   "execution_count": 25,
   "id": "ea85f99c-1170-4323-9929-8eb023e8acab",
   "metadata": {},
   "outputs": [
    {
     "name": "stdout",
     "output_type": "stream",
     "text": [
      "input parameter is not str\n",
      "type of input argument is <class 'int'>\n"
     ]
    }
   ],
   "source": [
    "print_msg(4)"
   ]
  },
  {
   "cell_type": "code",
   "execution_count": 26,
   "id": "24f78ed0-38a4-4c5f-afe6-252f49a34dcf",
   "metadata": {},
   "outputs": [],
   "source": [
    "#Taking 2 input\n",
    "def power(x,y):\n",
    "    z=x**y\n",
    "    print(z)"
   ]
  },
  {
   "cell_type": "code",
   "execution_count": 27,
   "id": "e8895402-2f93-4fd4-80ff-7784a8665ac0",
   "metadata": {},
   "outputs": [
    {
     "name": "stdout",
     "output_type": "stream",
     "text": [
      "81\n"
     ]
    }
   ],
   "source": [
    "power(3,4)"
   ]
  },
  {
   "cell_type": "code",
   "execution_count": 28,
   "id": "7f553b46-ed96-4e39-8eb2-fbd925ba31b1",
   "metadata": {},
   "outputs": [
    {
     "name": "stdout",
     "output_type": "stream",
     "text": [
      "4\n"
     ]
    }
   ],
   "source": [
    "power(2,2)"
   ]
  },
  {
   "cell_type": "code",
   "execution_count": 29,
   "id": "39aaf5b6-e7ea-4936-ba11-d3d8df09e085",
   "metadata": {},
   "outputs": [],
   "source": [
    "#Taking 3 arguments\n",
    "def test(a,b,c):\n",
    "    x=a+b+c\n",
    "    print(x)"
   ]
  },
  {
   "cell_type": "code",
   "execution_count": 35,
   "id": "57d7bc90-9dce-4166-8b41-926c57abde06",
   "metadata": {},
   "outputs": [
    {
     "name": "stdout",
     "output_type": "stream",
     "text": [
      "12\n"
     ]
    }
   ],
   "source": [
    "test(4,3,5)"
   ]
  },
  {
   "cell_type": "code",
   "execution_count": 31,
   "id": "e9fb3c35",
   "metadata": {},
   "outputs": [],
   "source": [
    "#Taking 3 arguments\n",
    "def fest(a,b,c):\n",
    "    if isinstance(a,(int,float))and isinstance(b,(int,float))and isinstance(c,(int,float)):\n",
    "        x=(a+b+c)/3\n",
    "        print(x)\n",
    "    else:\n",
    "        print(\"error\")\n"
   ]
  },
  {
   "cell_type": "code",
   "execution_count": 32,
   "id": "1ce1df15-3187-4d08-8290-aa9d4ea7197d",
   "metadata": {},
   "outputs": [
    {
     "name": "stdout",
     "output_type": "stream",
     "text": [
      "6.0\n"
     ]
    }
   ],
   "source": [
    "fest(4,6,8)"
   ]
  },
  {
   "cell_type": "code",
   "execution_count": 34,
   "id": "dbcb284b-bc6d-40c6-a2c7-422822db8541",
   "metadata": {},
   "outputs": [
    {
     "name": "stdout",
     "output_type": "stream",
     "text": [
      "4.133333333333334\n"
     ]
    }
   ],
   "source": [
    "fest(4,5,3.4)"
   ]
  },
  {
   "cell_type": "code",
   "execution_count": 33,
   "id": "415d2135-2cd2-478c-929a-20d1d13bc05d",
   "metadata": {},
   "outputs": [
    {
     "name": "stdout",
     "output_type": "stream",
     "text": [
      "error\n"
     ]
    }
   ],
   "source": [
    "fest(3,4,\"ss\")"
   ]
  },
  {
   "cell_type": "code",
   "execution_count": 37,
   "id": "3c21b2fa-5080-435b-a85f-5cb1eb2d032d",
   "metadata": {},
   "outputs": [],
   "source": [
    "#Taking 4  parameter\n",
    "def best(a,b,c,d):\n",
    "    print(a+b)\n",
    "    print(c+a)\n",
    "    print(d)"
   ]
  },
  {
   "cell_type": "code",
   "execution_count": 38,
   "id": "89f153c0-358e-47dd-b54a-ecd30679feeb",
   "metadata": {},
   "outputs": [
    {
     "name": "stdout",
     "output_type": "stream",
     "text": [
      "11\n",
      "7\n",
      "imran\n"
     ]
    }
   ],
   "source": [
    "best(5,6,2,\"imran\")"
   ]
  },
  {
   "cell_type": "code",
   "execution_count": 2,
   "id": "1c2ab7a0",
   "metadata": {},
   "outputs": [],
   "source": [
    "def myfunction(fname):\n",
    "    print(fname+\" \"+\"sharma\")"
   ]
  },
  {
   "cell_type": "code",
   "execution_count": 3,
   "id": "04e7a1e4",
   "metadata": {},
   "outputs": [
    {
     "name": "stdout",
     "output_type": "stream",
     "text": [
      "raju sharma\n"
     ]
    }
   ],
   "source": [
    "myfunction(\"raju\")"
   ]
  },
  {
   "cell_type": "code",
   "execution_count": 4,
   "id": "19d2b918",
   "metadata": {},
   "outputs": [
    {
     "name": "stdout",
     "output_type": "stream",
     "text": [
      "naji sharma\n"
     ]
    }
   ],
   "source": [
    "myfunction(\"naji\")"
   ]
  },
  {
   "cell_type": "code",
   "execution_count": 41,
   "id": "32e6c805",
   "metadata": {},
   "outputs": [],
   "source": [
    "def myfunction(fname, lname):\n",
    "    print(\"Mr\",fname+\" \"+lname)\n",
    "    "
   ]
  },
  {
   "cell_type": "code",
   "execution_count": 42,
   "id": "492d79e2",
   "metadata": {},
   "outputs": [
    {
     "name": "stdout",
     "output_type": "stream",
     "text": [
      "Mr umar alam\n"
     ]
    }
   ],
   "source": [
    "myfunction(\"umar\",\"alam\")"
   ]
  },
  {
   "cell_type": "markdown",
   "id": "69ff2aca-999e-4a83-8fb0-4d8ea2b7987d",
   "metadata": {},
   "source": [
    "#  Local and Global Variables in Python"
   ]
  },
  {
   "cell_type": "markdown",
   "id": "0d300105-a000-4c66-97ca-ee60e73ce1a6",
   "metadata": {},
   "source": [
    "##  Local Variable "
   ]
  },
  {
   "cell_type": "markdown",
   "id": "0c4e6cfb-fb31-4b3c-bae1-5013810d30b2",
   "metadata": {},
   "source": [
    "\n",
    "A local variable is a variable that is declared inside a function and can only be used within that function. \n",
    "\n",
    "It cannot be accessed outside the function where it is defined."
   ]
  },
  {
   "cell_type": "code",
   "execution_count": 46,
   "id": "0c58ee3a-8f74-4d5e-a045-5b60cc921e73",
   "metadata": {},
   "outputs": [],
   "source": [
    "def greet():\n",
    "    name = \"Umar\"  # local variable\n",
    "    print(name)\n"
   ]
  },
  {
   "cell_type": "markdown",
   "id": "3159d455-1e45-4508-b0b3-b805d6a7f216",
   "metadata": {},
   "source": [
    "## Global Variable \n"
   ]
  },
  {
   "cell_type": "markdown",
   "id": "4e1ffe39-8fd2-493c-a994-7790fe2357c4",
   "metadata": {},
   "source": [
    "A global variable is a variable that is declared outside all functions and can be accessed and \n",
    "\n",
    "used anywhere in the program — both inside and outside functions."
   ]
  },
  {
   "cell_type": "code",
   "execution_count": 54,
   "id": "feb81285-b1a5-446d-b317-fac33d95b4b6",
   "metadata": {},
   "outputs": [],
   "source": [
    "name = \"Umar\"  # global variable\n",
    "\n",
    "def greet():\n",
    "    print(name)\n",
    "\n"
   ]
  },
  {
   "cell_type": "code",
   "execution_count": null,
   "id": "4361c25f-c417-45a6-a2cb-e8d3f70e3fd6",
   "metadata": {},
   "outputs": [],
   "source": []
  },
  {
   "cell_type": "code",
   "execution_count": 43,
   "id": "6f0f8638-97b1-4aac-b546-9228cc401c74",
   "metadata": {},
   "outputs": [],
   "source": [
    "# This is a global variable\n",
    "message = \"Hello from global!\"\n",
    "\n",
    "def my_function():\n",
    "    # This is a local variable\n",
    "    message = \"Hello from local!\"\n",
    "    print(\"Inside function:\", message)  # Local variable is used here\n",
    "\n"
   ]
  },
  {
   "cell_type": "code",
   "execution_count": 52,
   "id": "e960b7a2-6d9b-410d-9a47-fd3e5d39af70",
   "metadata": {},
   "outputs": [
    {
     "name": "stdout",
     "output_type": "stream",
     "text": [
      "Inside function: Hello from local!\n",
      "Outside function: Hello from global!\n"
     ]
    }
   ],
   "source": [
    " # Function call\n",
    "my_function()\n",
    "\n",
    "# Outside the function\n",
    "print(\"Outside function:\", message)     # Global variable is used here"
   ]
  },
  {
   "cell_type": "markdown",
   "id": "aa2d0963-499e-420b-b686-27e459fe355a",
   "metadata": {},
   "source": [
    "# Return Statement"
   ]
  },
  {
   "cell_type": "code",
   "execution_count": null,
   "id": "1f6e8ce6-62fd-4b32-9d85-7d4901d911ee",
   "metadata": {},
   "outputs": [],
   "source": [
    "The return statement is used inside a function to send the result (or multiple results) back to the place where the function was called.\n",
    "\n"
   ]
  },
  {
   "cell_type": "code",
   "execution_count": 7,
   "id": "34fda9ea-4f08-4923-8449-bc9f70020c7e",
   "metadata": {},
   "outputs": [],
   "source": [
    "def demo():\n",
    "    x=(2+3)**2\n",
    "    return x"
   ]
  },
  {
   "cell_type": "code",
   "execution_count": 8,
   "id": "b3fca6b3-ad40-4699-b587-10bb4353f179",
   "metadata": {},
   "outputs": [
    {
     "data": {
      "text/plain": [
       "25"
      ]
     },
     "execution_count": 8,
     "metadata": {},
     "output_type": "execute_result"
    }
   ],
   "source": [
    "demo()\n"
   ]
  },
  {
   "cell_type": "code",
   "execution_count": 2,
   "id": "3555ed2e-0e6f-41ee-a8e0-aa9518c507a6",
   "metadata": {},
   "outputs": [],
   "source": [
    "def demo1(a):\n",
    "    a=a+4\n",
    "    print(\"we are learning about return statement\")\n",
    "    return a"
   ]
  },
  {
   "cell_type": "code",
   "execution_count": 3,
   "id": "61fe1d3c-6996-481b-b435-3d90fcd510ac",
   "metadata": {},
   "outputs": [
    {
     "name": "stdout",
     "output_type": "stream",
     "text": [
      "we are learning about return statement\n"
     ]
    },
    {
     "data": {
      "text/plain": [
       "8"
      ]
     },
     "execution_count": 3,
     "metadata": {},
     "output_type": "execute_result"
    }
   ],
   "source": [
    "demo1(4)"
   ]
  },
  {
   "cell_type": "code",
   "execution_count": 4,
   "id": "593a2c2d-dbb4-4add-a98d-95043d5fec02",
   "metadata": {},
   "outputs": [],
   "source": [
    "\"\"\"Write a program to calculate simple interest\"\"\"\n",
    "\n",
    "def simint(p,r,t):\n",
    "    si=(p*r*t)/100\n",
    "    print(\"the si of given parameter is\")\n",
    "    return si"
   ]
  },
  {
   "cell_type": "code",
   "execution_count": 5,
   "id": "b440646c-21c9-4555-8295-c0b8ace3e3a9",
   "metadata": {},
   "outputs": [
    {
     "name": "stdout",
     "output_type": "stream",
     "text": [
      "the si of given parameter is\n"
     ]
    },
    {
     "data": {
      "text/plain": [
       "100.0"
      ]
     },
     "execution_count": 5,
     "metadata": {},
     "output_type": "execute_result"
    }
   ],
   "source": [
    "simint(1000,5,2)"
   ]
  },
  {
   "cell_type": "markdown",
   "id": "bb609c37-4117-4fe5-99da-c8b16fa61c50",
   "metadata": {},
   "source": [
    "# Variable Number of Input Arguments in Python (L3)"
   ]
  },
  {
   "cell_type": "markdown",
   "id": "f748f115-fdba-43ff-9d31-0ae1f67faee3",
   "metadata": {},
   "source": [
    "## *args — Variable Positional Arguments"
   ]
  },
  {
   "cell_type": "markdown",
   "id": "23c04fc2-d35d-487d-a4d8-bd9a59d9225d",
   "metadata": {},
   "source": [
    "*args allows a function to accept any number of positional (non-keyword) arguments as a tuple.\n",
    "\n",
    "It is useful when you're not sure how many arguments will be passed to your function."
   ]
  },
  {
   "cell_type": "code",
   "execution_count": 9,
   "id": "694e9a25-3d15-4801-a9ff-37ba553f4af1",
   "metadata": {},
   "outputs": [
    {
     "data": {
      "text/plain": [
       "102"
      ]
     },
     "execution_count": 9,
     "metadata": {},
     "output_type": "execute_result"
    }
   ],
   "source": [
    "def total(*args):\n",
    "    return(sum(args))\n",
    "\n",
    "total(4,5,9,84)"
   ]
  },
  {
   "cell_type": "code",
   "execution_count": 2,
   "id": "f2a7f453-96ae-4310-900e-d0e3925130a5",
   "metadata": {},
   "outputs": [
    {
     "name": "stdout",
     "output_type": "stream",
     "text": [
      "102\n"
     ]
    }
   ],
   "source": [
    "def total(*args):\n",
    "    print(sum(args))\n",
    "\n",
    "total(4,5,9,84)"
   ]
  },
  {
   "cell_type": "code",
   "execution_count": null,
   "id": "fe9a2fee-f965-4d81-bf66-429d849e1efb",
   "metadata": {},
   "outputs": [],
   "source": []
  },
  {
   "cell_type": "markdown",
   "id": "8ec2b18f-ba19-4377-93b5-2d1ebb81f90b",
   "metadata": {},
   "source": [
    "## **kwargs — Variable Keyword Arguments"
   ]
  },
  {
   "cell_type": "markdown",
   "id": "0c4ac88b-b005-47f5-8a40-1963ccc49721",
   "metadata": {},
   "source": [
    "**kwargs allows a function to accept any number of keyword (named) arguments as a dictionary.\n",
    "    \n",
    "It is useful when you want to handle named inputs without fixing the parameter names."
   ]
  },
  {
   "cell_type": "code",
   "execution_count": 8,
   "id": "e9c74174-d1d5-4fc2-8753-1e2dd24579d7",
   "metadata": {},
   "outputs": [
    {
     "name": "stdout",
     "output_type": "stream",
     "text": [
      "name = Umar\n",
      "age = 21\n"
     ]
    }
   ],
   "source": [
    "def show_info(**kwargs):\n",
    "    for key, value in kwargs.items():\n",
    "        print(f\"{key} = {value}\")\n",
    "\n",
    "show_info(name=\"Umar\", age=21)\n"
   ]
  },
  {
   "cell_type": "code",
   "execution_count": null,
   "id": "27241a3f-2f86-405a-a015-e735dddf89aa",
   "metadata": {},
   "outputs": [],
   "source": []
  },
  {
   "cell_type": "markdown",
   "id": "11517519-bc1a-42b7-b36e-fd1e207a02fd",
   "metadata": {},
   "source": [
    "# Lambda Function in Python\n"
   ]
  },
  {
   "cell_type": "markdown",
   "id": "83912f3f-ae06-4838-99c6-38eea7e033ee",
   "metadata": {},
   "source": [
    "A lambda function is a small, anonymous (nameless) function defined using the lambda keyword.\n",
    "    \n",
    "It is mostly used when you need a short function for a short period of time.\n",
    "\n",
    "A lambda function is a single-line, anonymous function that can take any number of arguments but has only one expression."
   ]
  },
  {
   "cell_type": "code",
   "execution_count": 3,
   "id": "d597472c-c62a-41f7-8108-d8d0fc2c8774",
   "metadata": {},
   "outputs": [
    {
     "name": "stdout",
     "output_type": "stream",
     "text": [
      "16\n"
     ]
    }
   ],
   "source": [
    "square = lambda n: n * n\n",
    "print(square(4))  # Output: 16\n"
   ]
  },
  {
   "cell_type": "code",
   "execution_count": 15,
   "id": "0e5b2996-4a73-4832-a1c0-728bbdfa96db",
   "metadata": {},
   "outputs": [
    {
     "data": {
      "text/plain": [
       "77.0"
      ]
     },
     "execution_count": 15,
     "metadata": {},
     "output_type": "execute_result"
    }
   ],
   "source": [
    "\"\"\"convert degree celcious into farenhite\"\"\"\n",
    "\n",
    "v=lambda c: c*(9/5)+32\n",
    "\n",
    "v(25)\n"
   ]
  },
  {
   "cell_type": "code",
   "execution_count": null,
   "id": "d9a47c1b-f0ab-4bab-98d7-7e4d9ecd1d66",
   "metadata": {},
   "outputs": [],
   "source": []
  },
  {
   "cell_type": "markdown",
   "id": "bd157c73-82fc-4336-a92f-46e3ff2a28f7",
   "metadata": {},
   "source": [
    "## WRINTING A PROGRAM TO CALCULATE ELECTRICITY BILL\n"
   ]
  },
  {
   "cell_type": "code",
   "execution_count": 7,
   "id": "cc754569-e26e-4e8a-991d-fb0f8d51bb4d",
   "metadata": {},
   "outputs": [
    {
     "name": "stdout",
     "output_type": "stream",
     "text": [
      "\n"
     ]
    }
   ],
   "source": [
    "\n",
    "\"\"\"IF 500 UNIT USED PAY 5 RUPEE AS PER UNIT\n",
    "IF 700 UNIT USED PAY 7 RUPEE AS PER UNIT\n",
    "IF 1000 UNIT USED PAY 10 RUPEE AS PER UNIT\n",
    "IF M0RE THAN 1000 UNIT USED PPAY 15 RUPEE AS PER UNIT\"\"\"\n",
    "print()"
   ]
  },
  {
   "cell_type": "code",
   "execution_count": 3,
   "id": "2217c6c3",
   "metadata": {},
   "outputs": [],
   "source": [
    "def elctricity_bill(e):\n",
    "    if e<=500:\n",
    "        print(\"your electricity bill is\",e*5)\n",
    "    elif e>500 and e<=700:\n",
    "        print(\"your electricity bill is\",e*7)\n",
    "    elif e>700 and e<=1000:\n",
    "        print(\"your electricity bill is\",e*10)\n",
    "    "
   ]
  },
  {
   "cell_type": "code",
   "execution_count": 4,
   "id": "b124a485",
   "metadata": {},
   "outputs": [],
   "source": [
    "def inst():\n",
    "    print(\"your last date to pay bill is xxxx\")\n",
    "    print(\"you have to pay fine if you will not pay as per time\")\n",
    "    print(\"delhi sarita vihar\")"
   ]
  },
  {
   "cell_type": "code",
   "execution_count": 5,
   "id": "3390e157",
   "metadata": {},
   "outputs": [
    {
     "name": "stdout",
     "output_type": "stream",
     "text": [
      "enter your namealam\n",
      "enter the unit of electriciyt you have consumed500\n",
      "your electricity bill is 2500\n",
      "\n",
      "your last date to pay bill is xxxx\n",
      "you have to pay fine if you will not pay as per time\n",
      "delhi sarita vihar\n"
     ]
    }
   ],
   "source": [
    "a=input(\"enter your name\")\n",
    "e=int(input(\"enter the unit of electriciyt you have consumed\"))\n",
    "elctricity_bill(e)\n",
    "print()\n",
    "inst()"
   ]
  },
  {
   "cell_type": "code",
   "execution_count": null,
   "id": "b1e69033",
   "metadata": {},
   "outputs": [
    {
     "name": "stdout",
     "output_type": "stream",
     "text": [
      "enter your nameahmad\n",
      "enter the unit of electriciyt you have consumed100\n",
      "your electricity bill is 500\n",
      "\n",
      "your last date to pay bill is xxxx\n",
      "you have to pay fine if you will not pay as per time\n",
      "delhi sarita vihar\n"
     ]
    }
   ],
   "source": [
    "for i in range(3):\n",
    "    a=input(\"enter your name\")\n",
    "    e=int(input(\"enter the unit of electriciyt you have consumed\"))\n",
    "    elctricity_bill(e)\n",
    "    print()\n",
    "    inst()"
   ]
  },
  {
   "cell_type": "markdown",
   "id": "7f45121e",
   "metadata": {},
   "source": [
    "WRINTING A PROGRAM TO CALCULATE ELECTRICITY BILL\n",
    "IF 500 UNIT USED PAY 5 RUPEE AS PER UNIT IF 700 UNIT USED PAY 7 RUPEE AS PER UNIT IF 1000 UNIT USED PAY 10 RUPEE AS PER UNIT IF M0RE THAN 1000 UNIT USED PPAY 15 RUPEE AS PER UNIT"
   ]
  },
  {
   "cell_type": "code",
   "execution_count": 4,
   "id": "c3ea5794",
   "metadata": {},
   "outputs": [],
   "source": [
    "def elctricity_bill(e):\n",
    "    if e>1000:\n",
    "        print(\"your bill is\",10*e)\n",
    "    elif e>700:\n",
    "        print(\"your bill is\",7*e)\n",
    "    elif e>500:\n",
    "        print(\"your bill is\",5*e)\n",
    "    else:\n",
    "        print(\"u donot need to pay\")\n",
    "    "
   ]
  },
  {
   "cell_type": "code",
   "execution_count": 5,
   "id": "5062d1d7",
   "metadata": {},
   "outputs": [],
   "source": [
    "def inst():\n",
    "    print(\"last date to pay\")\n",
    "    print(\"u will have to pay fine if u failed to pay till last date\")\n",
    "    print(\"address: sarita vihar\")"
   ]
  },
  {
   "cell_type": "code",
   "execution_count": 6,
   "id": "ee617538",
   "metadata": {},
   "outputs": [
    {
     "name": "stdout",
     "output_type": "stream",
     "text": [
      "enter your namealam\n",
      "enter the unit u have comsumed7\n",
      "u donot need to pay\n",
      "\n",
      "last date to pay\n",
      "u will have to pay fine if u failed to pay till last date\n",
      "address: sarita vihar\n",
      "enter your nameumar\n",
      "enter the unit u have comsumed1000\n",
      "your bill is 7000\n",
      "\n",
      "last date to pay\n",
      "u will have to pay fine if u failed to pay till last date\n",
      "address: sarita vihar\n",
      "enter your nameimran\n",
      "enter the unit u have comsumed3\n",
      "u donot need to pay\n",
      "\n",
      "last date to pay\n",
      "u will have to pay fine if u failed to pay till last date\n",
      "address: sarita vihar\n"
     ]
    }
   ],
   "source": [
    "for i in range (3):\n",
    "    a=input(\"enter your name\")\n",
    "    e=int(input(\"enter the unit u have comsumed\"))\n",
    "    elctricity_bill(e)\n",
    "    print()\n",
    "    inst()"
   ]
  },
  {
   "cell_type": "code",
   "execution_count": null,
   "id": "7c6f70dd",
   "metadata": {},
   "outputs": [],
   "source": []
  }
 ],
 "metadata": {
  "kernelspec": {
   "display_name": "Python 3 (ipykernel)",
   "language": "python",
   "name": "python3"
  },
  "language_info": {
   "codemirror_mode": {
    "name": "ipython",
    "version": 3
   },
   "file_extension": ".py",
   "mimetype": "text/x-python",
   "name": "python",
   "nbconvert_exporter": "python",
   "pygments_lexer": "ipython3",
   "version": "3.13.1"
  }
 },
 "nbformat": 4,
 "nbformat_minor": 5
}
