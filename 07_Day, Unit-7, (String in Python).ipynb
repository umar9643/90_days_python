{
 "cells": [
  {
   "cell_type": "markdown",
   "id": "256f833e",
   "metadata": {},
   "source": [
    "# STRING IN PYTHON"
   ]
  },
  {
   "cell_type": "markdown",
   "id": "250815e5-7e75-4bb2-9747-6fcab1e04887",
   "metadata": {},
   "source": [
    "## What is a str in Python?\n"
   ]
  },
  {
   "cell_type": "markdown",
   "id": "68b3fb1d-1062-419f-9b52-f279c8183e47",
   "metadata": {},
   "source": [
    "In Python, str (short for string) is a data type used to store textual data.\n",
    "\n",
    "A string is a sequence of characters enclosed in single quotes ' ', double quotes \" \", or triple quotes ''' ''' / \"\"\" \"\"\"\n",
    "\n",
    "A string (str) is an ordered collection of characters used to represent text.   \n",
    "\n",
    "It can contain letters, numbers, symbols, or even spaces."
   ]
  },
  {
   "cell_type": "markdown",
   "id": "46a055bb",
   "metadata": {},
   "source": [
    "## CREATING STRING IN PYTHON"
   ]
  },
  {
   "cell_type": "code",
   "execution_count": 1,
   "id": "9bc21d06",
   "metadata": {},
   "outputs": [
    {
     "name": "stdout",
     "output_type": "stream",
     "text": [
      "hello\n"
     ]
    }
   ],
   "source": [
    "x=(\"hello\")\n",
    "print(x)"
   ]
  },
  {
   "cell_type": "markdown",
   "id": "c622090b",
   "metadata": {},
   "source": [
    "#                                                         MULTILINE STRING"
   ]
  },
  {
   "cell_type": "markdown",
   "id": "37d8c96c",
   "metadata": {},
   "source": [
    "YOU CAN ASSIGN A MULTILINE STRING TO A VARIABLEBY USING 3 QUOTES"
   ]
  },
  {
   "cell_type": "code",
   "execution_count": 2,
   "id": "a69249ea",
   "metadata": {},
   "outputs": [
    {
     "name": "stdout",
     "output_type": "stream",
     "text": [
      "Another way to perform timing analysis is to use dynamic simulation,which determines the full behavior of the circuit for a given set of input stimulus vectors. Compared to dynamic simulation, static timing analysis is much faster because it is not necessary to simulate the logical operation of the circuit. STA is also more thorough because it checks all timing paths, not just the logical conditions that are sensitized by a set of test vectors. However, STA can only check the timing, not the functionality, of a circuit design.\n"
     ]
    }
   ],
   "source": [
    "X=\"Another way to perform timing analysis is to use dynamic simulation,which determines the full behavior of the circuit for a given set of input stimulus vectors. Compared to dynamic simulation, static timing analysis is much faster because it is not necessary to simulate the logical operation of the circuit. STA is also more thorough because it checks all timing paths, not just the logical conditions that are sensitized by a set of test vectors. However, STA can only check the timing, not the functionality, of a circuit design.\"\n",
    "print(X)"
   ]
  },
  {
   "cell_type": "code",
   "execution_count": 6,
   "id": "d1fdff5c",
   "metadata": {},
   "outputs": [
    {
     "name": "stdout",
     "output_type": "stream",
     "text": [
      "Another way to perform timing analysis\n",
      "is to use dynamic simulation, which determines the \n",
      "full behavior of the circuit for a given set of input stimulus \n",
      "vectors. Compared to dynamic simulation, static timing analysis is\n",
      "much faster because it is not necessary to simulate the logical operation of the circuit. \n",
      "is also more thorough because it checks all timing paths, not just the logical conditions \n",
      "that are sensitized by a set of test vectors.\n",
      "However, STA can only check the timing, not the functionality, of a circuit design.\n"
     ]
    }
   ],
   "source": [
    "x=(\"\"\"Another way to perform timing analysis\n",
    "is to use dynamic simulation, which determines the \n",
    "full behavior of the circuit for a given set of input stimulus \n",
    "vectors. Compared to dynamic simulation, static timing analysis is\n",
    "much faster because it is not necessary to simulate the logical operation of the circuit. \n",
    "is also more thorough because it checks all timing paths, not just the logical conditions \n",
    "that are sensitized by a set of test vectors.\n",
    "However, STA can only check the timing, not the functionality, of a circuit design.\"\"\")\n",
    "print(x)"
   ]
  },
  {
   "cell_type": "markdown",
   "id": "0de59393-4bbb-42dd-968d-88dcf73b2d7e",
   "metadata": {},
   "source": [
    "# str() Function in Python "
   ]
  },
  {
   "cell_type": "markdown",
   "id": "581341bd-ef32-4674-91aa-c8fed9dfda38",
   "metadata": {},
   "source": [
    "The str() function in Python is a built-in function that converts any data type into a string (str) format.\n",
    "\n",
    "It is used to represent numbers, lists, tuples, booleans, etc., as text.\n",
    "\n"
   ]
  },
  {
   "cell_type": "code",
   "execution_count": 8,
   "id": "4b32ac5a-6f92-418e-a252-b6e661c66558",
   "metadata": {},
   "outputs": [
    {
     "name": "stdout",
     "output_type": "stream",
     "text": [
      "3\n",
      "<class 'int'>\n"
     ]
    }
   ],
   "source": [
    "x=3\n",
    "print(x)\n",
    "print(type(x))"
   ]
  },
  {
   "cell_type": "code",
   "execution_count": 9,
   "id": "c7f07caf-6b3a-4d6d-ae54-5f5ae07a9999",
   "metadata": {},
   "outputs": [
    {
     "name": "stdout",
     "output_type": "stream",
     "text": [
      "3\n",
      "<class 'str'>\n"
     ]
    }
   ],
   "source": [
    "#using str fn\n",
    "x=str(3)\n",
    "print(x)\n",
    "print(type(x))"
   ]
  },
  {
   "cell_type": "markdown",
   "id": "7cd99170",
   "metadata": {},
   "source": [
    "# Indexing of a string"
   ]
  },
  {
   "cell_type": "markdown",
   "id": "4fffe727-13a2-4e34-8c17-eb37c042c1c7",
   "metadata": {},
   "source": [
    "Indexing in Python refers to accessing individual characters in a string using their position (index).\n",
    "\n",
    "Python uses zero-based indexing, which means the first character is at index 0, the second at 1, and so on."
   ]
  },
  {
   "cell_type": "markdown",
   "id": "8c42c27c-ced1-416b-962d-7a6bef3249da",
   "metadata": {},
   "source": [
    "🔹 Types of Indexing:\n",
    "\n",
    "Positive Indexing – Starts from 0 and moves forward\n",
    "\n",
    "Negative Indexing – Starts from -1 and moves backward\n",
    "\n"
   ]
  },
  {
   "cell_type": "code",
   "execution_count": 10,
   "id": "23d40566",
   "metadata": {},
   "outputs": [
    {
     "name": "stdout",
     "output_type": "stream",
     "text": [
      "h\n"
     ]
    }
   ],
   "source": [
    "a=\"hello umar\"\n",
    "print(a[0])"
   ]
  },
  {
   "cell_type": "code",
   "execution_count": 8,
   "id": "0ed5a619",
   "metadata": {},
   "outputs": [
    {
     "name": "stdout",
     "output_type": "stream",
     "text": [
      "m\n"
     ]
    }
   ],
   "source": [
    "a=\"hello umar\"\n",
    "print(a[7])"
   ]
  },
  {
   "cell_type": "code",
   "execution_count": 4,
   "id": "6049e217",
   "metadata": {},
   "outputs": [
    {
     "name": "stdout",
     "output_type": "stream",
     "text": [
      "r\n"
     ]
    }
   ],
   "source": [
    "s=\"how's your studies going on\"\n",
    "print(s[9])"
   ]
  },
  {
   "cell_type": "code",
   "execution_count": 14,
   "id": "c2434929",
   "metadata": {},
   "outputs": [
    {
     "name": "stdout",
     "output_type": "stream",
     "text": [
      "n\n"
     ]
    }
   ],
   "source": [
    "s=\"how's your studies going on\"\n",
    "print(s[-1])"
   ]
  },
  {
   "cell_type": "code",
   "execution_count": 16,
   "id": "74adce3e",
   "metadata": {},
   "outputs": [
    {
     "name": "stdout",
     "output_type": "stream",
     "text": [
      "o\n"
     ]
    }
   ],
   "source": [
    "s=\"how's your studies going on\"\n",
    "print(s[-7])"
   ]
  },
  {
   "cell_type": "code",
   "execution_count": 12,
   "id": "2270a727",
   "metadata": {},
   "outputs": [
    {
     "name": "stdout",
     "output_type": "stream",
     "text": [
      "n\n"
     ]
    }
   ],
   "source": [
    "s=\"how's your studies going on\"\n",
    "print(s[len(s)-1])"
   ]
  },
  {
   "cell_type": "markdown",
   "id": "45e6dd94",
   "metadata": {},
   "source": [
    "# SLICING OF STRINGS"
   ]
  },
  {
   "cell_type": "markdown",
   "id": "10798f56-7902-48fb-8b36-e5090bbf4639",
   "metadata": {},
   "source": [
    "Slicing is the process of extracting a substring from a string using index range.\n",
    "    \n",
    "Python allows you to slice strings using the colon : operator within square brackets.\n",
    "\n"
   ]
  },
  {
   "cell_type": "markdown",
   "id": "3793fcd1-8c8d-4158-9f13-621101cd67bf",
   "metadata": {},
   "source": [
    "Syntax:\n",
    "string[start : end : step]\n",
    "\n",
    "start → Index to begin (included)\n",
    "\n",
    "end → Index to stop (excluded)\n",
    "\n",
    "step → (Optional) Gap between characters\n",
    "\n"
   ]
  },
  {
   "cell_type": "code",
   "execution_count": 1,
   "id": "5cf3c540",
   "metadata": {},
   "outputs": [
    {
     "name": "stdout",
     "output_type": "stream",
     "text": [
      "o\n"
     ]
    }
   ],
   "source": [
    "s=\"how's your studies going on\"\n",
    "print(s[1])# indexing"
   ]
  },
  {
   "cell_type": "code",
   "execution_count": 2,
   "id": "560a4c79",
   "metadata": {},
   "outputs": [
    {
     "name": "stdout",
     "output_type": "stream",
     "text": [
      "ow's y\n"
     ]
    }
   ],
   "source": [
    "s=\"how's your studies going on\"\n",
    "t=(s[1:7])\n",
    "print(t)"
   ]
  },
  {
   "cell_type": "code",
   "execution_count": 18,
   "id": "3b021a77",
   "metadata": {},
   "outputs": [
    {
     "name": "stdout",
     "output_type": "stream",
     "text": [
      " your \n"
     ]
    }
   ],
   "source": [
    "s=\"how's your studies going on\"\n",
    "print(s[5:11])"
   ]
  },
  {
   "cell_type": "code",
   "execution_count": 1,
   "id": "bb775389",
   "metadata": {},
   "outputs": [
    {
     "name": "stdout",
     "output_type": "stream",
     "text": [
      "hwsyu td\n"
     ]
    }
   ],
   "source": [
    "s=\"how's your studies going on\"\n",
    "print(s[0:15:2])"
   ]
  },
  {
   "cell_type": "code",
   "execution_count": 21,
   "id": "8699dff3",
   "metadata": {},
   "outputs": [
    {
     "name": "stdout",
     "output_type": "stream",
     "text": [
      "hwsyu tde on n\n"
     ]
    }
   ],
   "source": [
    "s=\"how's your studies going on\"\n",
    "print(s[::2])"
   ]
  },
  {
   "cell_type": "code",
   "execution_count": 3,
   "id": "dd213c0e",
   "metadata": {},
   "outputs": [
    {
     "name": "stdout",
     "output_type": "stream",
     "text": [
      "how's your studies going on\n"
     ]
    }
   ],
   "source": [
    "s=\"how's your studies going on\"\n",
    "print(s[::])"
   ]
  },
  {
   "cell_type": "code",
   "execution_count": 1,
   "id": "dc391d18",
   "metadata": {},
   "outputs": [
    {
     "name": "stdout",
     "output_type": "stream",
     "text": [
      "umar alam\n"
     ]
    }
   ],
   "source": [
    "x=\"umar alam\"\n",
    "print(x[:])"
   ]
  },
  {
   "cell_type": "code",
   "execution_count": 2,
   "id": "a2c13cdb",
   "metadata": {},
   "outputs": [
    {
     "name": "stdout",
     "output_type": "stream",
     "text": [
      "selmo\n"
     ]
    }
   ],
   "source": [
    "x=\"selmon boi\"\n",
    "print(x[:5])"
   ]
  },
  {
   "cell_type": "code",
   "execution_count": 4,
   "id": "a37b266f",
   "metadata": {},
   "outputs": [
    {
     "name": "stdout",
     "output_type": "stream",
     "text": [
      "boi\n"
     ]
    }
   ],
   "source": [
    "x=\"selmon boi\"\n",
    "print(x[-3:])"
   ]
  },
  {
   "cell_type": "code",
   "execution_count": 5,
   "id": "f26a4b9d",
   "metadata": {},
   "outputs": [
    {
     "name": "stdout",
     "output_type": "stream",
     "text": [
      "hlosuet\n"
     ]
    }
   ],
   "source": [
    "x='hello students'\n",
    "print(x[0::2])"
   ]
  },
  {
   "cell_type": "code",
   "execution_count": 23,
   "id": "cbb79414-6dcf-49de-83cc-4eaaf20f0673",
   "metadata": {},
   "outputs": [
    {
     "name": "stdout",
     "output_type": "stream",
     "text": [
      "Apples Oranges Mangoes are fruits\n"
     ]
    }
   ],
   "source": [
    "\"\"\"by usiing a, b, c, and d form a str apples oranges mangoes are fruit \"\"\"\n",
    "\n",
    "a=\"Apples are erd in colour\"\n",
    "b=\"Oranges are sweet and soyr in taste\"\n",
    "c=\"Mangoes are rich source  of vitamins\"\n",
    "d=\"These are fruits\"\n",
    "\n",
    "print(a[0:6]+\" \"+b[0:7]+\" \"+c[0:11]+\" \"+d[-6:])"
   ]
  },
  {
   "cell_type": "markdown",
   "id": "2b2c7fa6",
   "metadata": {},
   "source": [
    "# Reversing of string"
   ]
  },
  {
   "cell_type": "markdown",
   "id": "7fbf1577-b88c-45e0-a673-9e285c08d73f",
   "metadata": {},
   "source": [
    "Strings in Python don’t have a built-in reverse() method (unlike lists) because strings are immutable.\n",
    "    \n",
    "But you can reverse a string using other techniques."
   ]
  },
  {
   "cell_type": "code",
   "execution_count": 22,
   "id": "a8f04075",
   "metadata": {},
   "outputs": [
    {
     "name": "stdout",
     "output_type": "stream",
     "text": [
      "no gniog seiduts ruoy s'woh\n"
     ]
    }
   ],
   "source": [
    "s=\"how's your studies going on\"\n",
    "print(s[::-1])"
   ]
  },
  {
   "cell_type": "markdown",
   "id": "b43d9beb-2184-458c-bab0-353effb3812f",
   "metadata": {},
   "source": [
    "# Length of str"
   ]
  },
  {
   "cell_type": "code",
   "execution_count": 1,
   "id": "c22f9a60",
   "metadata": {},
   "outputs": [
    {
     "name": "stdout",
     "output_type": "stream",
     "text": [
      "21\n"
     ]
    }
   ],
   "source": [
    "A=\"MY NAME EIS UMAR ALAM\"\n",
    "print(len(A))"
   ]
  },
  {
   "cell_type": "code",
   "execution_count": 26,
   "id": "215f61d8",
   "metadata": {},
   "outputs": [
    {
     "name": "stdout",
     "output_type": "stream",
     "text": [
      "26\n",
      "<class 'str'>\n"
     ]
    }
   ],
   "source": [
    "b=\"i am pursuing data science\"\n",
    "print(len(b))\n",
    "print(type(b))"
   ]
  },
  {
   "cell_type": "markdown",
   "id": "624fa4b5-da38-4d1f-b3c0-bea4675be38d",
   "metadata": {},
   "source": [
    "### Lecture-2"
   ]
  },
  {
   "cell_type": "markdown",
   "id": "3e05d434-9cb6-4fb5-9ff9-b4d5466148bf",
   "metadata": {},
   "source": [
    "# strip() method"
   ]
  },
  {
   "cell_type": "markdown",
   "id": "dbb455fb-0196-452f-93ff-6cb61ca8efa5",
   "metadata": {},
   "source": [
    "The strip() function in Python is a string method that removes all leading and trailing whitespace characters (spaces, tabs, newlines) from a string.\n",
    "\n"
   ]
  },
  {
   "cell_type": "code",
   "execution_count": 25,
   "id": "3a344bc4-9ce2-41e5-ad27-55a5fa690e60",
   "metadata": {},
   "outputs": [
    {
     "name": "stdout",
     "output_type": "stream",
     "text": [
      "    umar alam    \n",
      "umar alam\n"
     ]
    }
   ],
   "source": [
    "a=\"    umar alam    \"\n",
    "b=a.strip()\n",
    "print(a)# it will give the output with spaces\n",
    "print(b)# this will give the output with no space\n",
    "#it only remove spaces of ending ang begginning"
   ]
  },
  {
   "cell_type": "code",
   "execution_count": 9,
   "id": "ebfa5e4c",
   "metadata": {},
   "outputs": [
    {
     "name": "stdout",
     "output_type": "stream",
     "text": [
      "Hello World\n"
     ]
    }
   ],
   "source": [
    "# Removing specific characters\n",
    "\n",
    "text = \"xxHello Worldxx\"\n",
    "print(text.strip(\"x\"))  \n"
   ]
  },
  {
   "cell_type": "code",
   "execution_count": 6,
   "id": "bfbd8483-2628-4c77-8dcf-d5bf69709340",
   "metadata": {},
   "outputs": [
    {
     "name": "stdout",
     "output_type": "stream",
     "text": [
      "Hello World\n"
     ]
    }
   ],
   "source": [
    "#Removing newline and tab characters\n",
    "\n",
    "\n",
    "text = \"\\n\\tHello World\\t\\n\"\n",
    "print(text.strip())"
   ]
  },
  {
   "cell_type": "markdown",
   "id": "cd77f5d1",
   "metadata": {},
   "source": [
    "# Check string"
   ]
  },
  {
   "cell_type": "markdown",
   "id": "2802df00",
   "metadata": {},
   "source": [
    "TO CHECK IF A CERTAIN CHR OR PHRASE IS PRESENT IN A STRING .WE CAN USE THE KEYWORD in."
   ]
  },
  {
   "cell_type": "code",
   "execution_count": 27,
   "id": "63f41a40",
   "metadata": {},
   "outputs": [
    {
     "name": "stdout",
     "output_type": "stream",
     "text": [
      "True\n"
     ]
    }
   ],
   "source": [
    "a=\"new delhi is the capital of india\"\n",
    "print(\"capital\"in a)"
   ]
  },
  {
   "cell_type": "code",
   "execution_count": 8,
   "id": "51edc03b",
   "metadata": {},
   "outputs": [
    {
     "name": "stdout",
     "output_type": "stream",
     "text": [
      "True\n"
     ]
    }
   ],
   "source": [
    "a=\"new delhi is the capital of india\"\n",
    "b= \"new\" in a\n",
    "print(b)"
   ]
  },
  {
   "cell_type": "code",
   "execution_count": 28,
   "id": "eb7b7082",
   "metadata": {},
   "outputs": [
    {
     "name": "stdout",
     "output_type": "stream",
     "text": [
      "False\n"
     ]
    }
   ],
   "source": [
    "a=\"new delhi is the capital of india\"\n",
    "print(\"country\"in a)"
   ]
  },
  {
   "cell_type": "code",
   "execution_count": 31,
   "id": "53bb537f",
   "metadata": {},
   "outputs": [
    {
     "name": "stdout",
     "output_type": "stream",
     "text": [
      "yes,capital is present\n"
     ]
    }
   ],
   "source": [
    "a=\"new delhi is the capital of india\"\n",
    "if \"capital\" in a:\n",
    "    print(\"yes,capital is present\")\n"
   ]
  },
  {
   "cell_type": "code",
   "execution_count": 3,
   "id": "0518b6f5",
   "metadata": {},
   "outputs": [
    {
     "name": "stdout",
     "output_type": "stream",
     "text": [
      "it you are right\n"
     ]
    }
   ],
   "source": [
    "a=\"my name is umar alam\"\n",
    "if \"name\" in a:\n",
    "    print(\"it you are right\")"
   ]
  },
  {
   "cell_type": "markdown",
   "id": "6cdec642",
   "metadata": {},
   "source": [
    "# check if not"
   ]
  },
  {
   "cell_type": "code",
   "execution_count": 32,
   "id": "f3d0a156",
   "metadata": {},
   "outputs": [
    {
     "name": "stdout",
     "output_type": "stream",
     "text": [
      "False\n"
     ]
    }
   ],
   "source": [
    "a=\"new delhi is the capital of india\"\n",
    "print(\"capital\" not in a)"
   ]
  },
  {
   "cell_type": "code",
   "execution_count": 35,
   "id": "9421c6c2",
   "metadata": {},
   "outputs": [
    {
     "name": "stdout",
     "output_type": "stream",
     "text": [
      "True\n"
     ]
    }
   ],
   "source": [
    "a=\"new delhi is the capital of india\"\n",
    "print(\"bharat\" not in a)"
   ]
  },
  {
   "cell_type": "markdown",
   "id": "26d1f218-f3bf-492b-952e-4cd7b68a5eeb",
   "metadata": {},
   "source": [
    "# find() method "
   ]
  },
  {
   "cell_type": "markdown",
   "id": "182dbc87-e08a-4181-86c1-5ec4fa6e7ca3",
   "metadata": {},
   "source": [
    "The find() method searches for a substring in a string and returns the index of its first occurrence.\n",
    "If the substring is not found, it returns -1.\n",
    "\n",
    "Only for strings → Lists and tuples use index() instead."
   ]
  },
  {
   "cell_type": "code",
   "execution_count": 87,
   "id": "20872cba-9b7f-48b1-8f69-6b1464579780",
   "metadata": {},
   "outputs": [
    {
     "name": "stdout",
     "output_type": "stream",
     "text": [
      "7\n"
     ]
    }
   ],
   "source": [
    "text = \"Python is awesome\"\n",
    "index = text.find(\"is\")\n",
    "print(index)\n"
   ]
  },
  {
   "cell_type": "code",
   "execution_count": 88,
   "id": "177cbd99-4c27-4c39-8417-c301e6ba374a",
   "metadata": {},
   "outputs": [
    {
     "name": "stdout",
     "output_type": "stream",
     "text": [
      "-1\n"
     ]
    }
   ],
   "source": [
    "text = \"Python\"\n",
    "print(text.find(\"Java\"))\n"
   ]
  },
  {
   "cell_type": "markdown",
   "id": "03f13000-9480-4b71-b245-7cc8317ea1b8",
   "metadata": {},
   "source": [
    "# index() method "
   ]
  },
  {
   "cell_type": "markdown",
   "id": "737a59cf-c35a-4bc8-8e78-f922aecbaae6",
   "metadata": {},
   "source": [
    "The index() method works just like find() — it returns the index of the first occurrence of a substring.\n",
    "\n",
    "BUT if the substring is not found, it raises a ValueError instead of returning -1.\n",
    "\n"
   ]
  },
  {
   "cell_type": "code",
   "execution_count": 89,
   "id": "922dd032-5569-4526-a16c-244ec16c8d21",
   "metadata": {},
   "outputs": [
    {
     "name": "stdout",
     "output_type": "stream",
     "text": [
      "7\n"
     ]
    }
   ],
   "source": [
    "text = \"Python is awesome\"\n",
    "index = text.index(\"is\")\n",
    "print(index)"
   ]
  },
  {
   "cell_type": "code",
   "execution_count": 90,
   "id": "af4ba16c-9458-408e-93a3-4e7e129e0717",
   "metadata": {},
   "outputs": [
    {
     "ename": "ValueError",
     "evalue": "substring not found",
     "output_type": "error",
     "traceback": [
      "\u001b[1;31m---------------------------------------------------------------------------\u001b[0m",
      "\u001b[1;31mValueError\u001b[0m                                Traceback (most recent call last)",
      "Cell \u001b[1;32mIn[90], line 2\u001b[0m\n\u001b[0;32m      1\u001b[0m text \u001b[38;5;241m=\u001b[39m \u001b[38;5;124m\"\u001b[39m\u001b[38;5;124mPython\u001b[39m\u001b[38;5;124m\"\u001b[39m\n\u001b[1;32m----> 2\u001b[0m \u001b[38;5;28mprint\u001b[39m(\u001b[43mtext\u001b[49m\u001b[38;5;241;43m.\u001b[39;49m\u001b[43mindex\u001b[49m\u001b[43m(\u001b[49m\u001b[38;5;124;43m\"\u001b[39;49m\u001b[38;5;124;43mJava\u001b[39;49m\u001b[38;5;124;43m\"\u001b[39;49m\u001b[43m)\u001b[49m)\n",
      "\u001b[1;31mValueError\u001b[0m: substring not found"
     ]
    }
   ],
   "source": [
    "text = \"Python\"\n",
    "print(text.index(\"Java\"))"
   ]
  },
  {
   "cell_type": "code",
   "execution_count": 93,
   "id": "cae13e29-2684-4c67-a4ce-c0c5547e3994",
   "metadata": {},
   "outputs": [
    {
     "ename": "AttributeError",
     "evalue": "'list' object has no attribute 'find'",
     "output_type": "error",
     "traceback": [
      "\u001b[1;31m---------------------------------------------------------------------------\u001b[0m",
      "\u001b[1;31mAttributeError\u001b[0m                            Traceback (most recent call last)",
      "Cell \u001b[1;32mIn[93], line 2\u001b[0m\n\u001b[0;32m      1\u001b[0m x\u001b[38;5;241m=\u001b[39m[\u001b[38;5;241m2\u001b[39m,\u001b[38;5;241m3\u001b[39m,\u001b[38;5;241m4\u001b[39m,\u001b[38;5;241m5\u001b[39m,\u001b[38;5;241m7\u001b[39m,\u001b[38;5;241m5\u001b[39m,\u001b[38;5;241m4\u001b[39m]\n\u001b[1;32m----> 2\u001b[0m \u001b[38;5;28mprint\u001b[39m(\u001b[43mx\u001b[49m\u001b[38;5;241;43m.\u001b[39;49m\u001b[43mfind\u001b[49m(\u001b[38;5;241m7\u001b[39m))\n",
      "\u001b[1;31mAttributeError\u001b[0m: 'list' object has no attribute 'find'"
     ]
    }
   ],
   "source": [
    "x=[2,3,4,5,7,5,4]\n",
    "print(x.find(7))\n",
    "# we cannot use find() with list "
   ]
  },
  {
   "cell_type": "code",
   "execution_count": 92,
   "id": "e42802a1-fda8-4b17-967f-2102ec2a876e",
   "metadata": {},
   "outputs": [
    {
     "name": "stdout",
     "output_type": "stream",
     "text": [
      "4\n"
     ]
    }
   ],
   "source": [
    "x=[2,3,4,5,7,5,4]\n",
    "print(x.index(7))\n",
    "#but we can use index"
   ]
  },
  {
   "cell_type": "code",
   "execution_count": 95,
   "id": "2b9dbc28-bc15-414f-b362-e1b9c5be8289",
   "metadata": {},
   "outputs": [
    {
     "ename": "AttributeError",
     "evalue": "'list' object has no attribute 'find'",
     "output_type": "error",
     "traceback": [
      "\u001b[1;31m---------------------------------------------------------------------------\u001b[0m",
      "\u001b[1;31mAttributeError\u001b[0m                            Traceback (most recent call last)",
      "Cell \u001b[1;32mIn[95], line 2\u001b[0m\n\u001b[0;32m      1\u001b[0m x\u001b[38;5;241m=\u001b[39m[\u001b[38;5;124m\"\u001b[39m\u001b[38;5;124mapple\u001b[39m\u001b[38;5;124m\"\u001b[39m,\u001b[38;5;124m\"\u001b[39m\u001b[38;5;124mgrapes\u001b[39m\u001b[38;5;124m\"\u001b[39m,\u001b[38;5;124m\"\u001b[39m\u001b[38;5;124mbanana\u001b[39m\u001b[38;5;124m\"\u001b[39m]\n\u001b[1;32m----> 2\u001b[0m \u001b[38;5;28mprint\u001b[39m(\u001b[43mx\u001b[49m\u001b[38;5;241;43m.\u001b[39;49m\u001b[43mfind\u001b[49m(\u001b[38;5;124m\"\u001b[39m\u001b[38;5;124mapple\u001b[39m\u001b[38;5;124m\"\u001b[39m))\n",
      "\u001b[1;31mAttributeError\u001b[0m: 'list' object has no attribute 'find'"
     ]
    }
   ],
   "source": [
    "x=[\"apple\",\"grapes\",\"banana\"]\n",
    "print(x.find(\"apple\"))\n",
    "# we cannot use find() with list "
   ]
  },
  {
   "cell_type": "code",
   "execution_count": 97,
   "id": "4c916c22",
   "metadata": {},
   "outputs": [
    {
     "name": "stdout",
     "output_type": "stream",
     "text": [
      "0\n"
     ]
    }
   ],
   "source": [
    "x=[\"apple\",\"grapes\",\"banana\"]\n",
    "print(x.index(\"apple\"))\n",
    "#but we can use index()"
   ]
  },
  {
   "cell_type": "markdown",
   "id": "50a27fe9",
   "metadata": {},
   "source": [
    "# upper() method"
   ]
  },
  {
   "cell_type": "markdown",
   "id": "54806985",
   "metadata": {},
   "source": [
    "The upper() method returns a copy of the string with all lowercase characters converted to uppercase.\n",
    "\n"
   ]
  },
  {
   "cell_type": "code",
   "execution_count": 39,
   "id": "c3650b37",
   "metadata": {},
   "outputs": [
    {
     "name": "stdout",
     "output_type": "stream",
     "text": [
      "HELLO ALAM\n"
     ]
    }
   ],
   "source": [
    "a=\"hello alam\"\n",
    "print(a. upper())"
   ]
  },
  {
   "cell_type": "code",
   "execution_count": 10,
   "id": "46524921",
   "metadata": {},
   "outputs": [
    {
     "name": "stdout",
     "output_type": "stream",
     "text": [
      "UMAR\n"
     ]
    }
   ],
   "source": [
    "a=\"umar\"\n",
    "b=a.upper()\n",
    "print(b)"
   ]
  },
  {
   "cell_type": "code",
   "execution_count": 40,
   "id": "cb8bdc3e",
   "metadata": {},
   "outputs": [
    {
     "name": "stdout",
     "output_type": "stream",
     "text": [
      "DATA ANALYTICS IS ONE OF THE BEST JOB TO DO\n"
     ]
    }
   ],
   "source": [
    "b=\"data analytics is one of the best job to do\"\n",
    "print(b.upper())"
   ]
  },
  {
   "cell_type": "code",
   "execution_count": 35,
   "id": "64a03275-a1ca-4f55-aef9-667f00fd8177",
   "metadata": {},
   "outputs": [
    {
     "name": "stdout",
     "output_type": "stream",
     "text": [
      "HONESTY IS THE BEST POLICY\n",
      "HONEST MAN IS ALWAYS GOOD\n",
      "WE APPRECIATE HONESTY\n"
     ]
    }
   ],
   "source": [
    "a=\"         honesty is the Best POLIcy\"\n",
    "b=  \"               HOnest man is always GOOD \"\n",
    "c=\"   we appreciate honesty\"\n",
    "\n",
    "print(a.strip().upper())\n",
    "print(b.strip().upper())\n",
    "print(c.upper().strip())"
   ]
  },
  {
   "cell_type": "markdown",
   "id": "fbcc9132",
   "metadata": {},
   "source": [
    "# lower() method "
   ]
  },
  {
   "cell_type": "markdown",
   "id": "b0a7ef1a",
   "metadata": {},
   "source": [
    "The lower() method returns a copy of the string with all uppercase characters converted to lowercase.\n",
    "\n"
   ]
  },
  {
   "cell_type": "code",
   "execution_count": 46,
   "id": "35609512",
   "metadata": {},
   "outputs": [
    {
     "name": "stdout",
     "output_type": "stream",
     "text": [
      "umar alam\n"
     ]
    }
   ],
   "source": [
    "a=\"UMAR ALAM\"\n",
    "print(a.lower())"
   ]
  },
  {
   "cell_type": "code",
   "execution_count": 16,
   "id": "6ca6f696",
   "metadata": {},
   "outputs": [
    {
     "name": "stdout",
     "output_type": "stream",
     "text": [
      "my name is umar alam\n"
     ]
    }
   ],
   "source": [
    "x=\"MY NAME IS UMAR ALAM\"\n",
    "y=x.lower()\n",
    "print(y)"
   ]
  },
  {
   "cell_type": "code",
   "execution_count": 48,
   "id": "a491c2d3",
   "metadata": {},
   "outputs": [
    {
     "name": "stdout",
     "output_type": "stream",
     "text": [
      "tiger zinda hai\n"
     ]
    }
   ],
   "source": [
    "b=\"TIGER ZINDA hai\"\n",
    "print(b.lower())"
   ]
  },
  {
   "cell_type": "code",
   "execution_count": 49,
   "id": "a4c4fd2b",
   "metadata": {},
   "outputs": [
    {
     "name": "stdout",
     "output_type": "stream",
     "text": [
      "practice makes a man perfect\n",
      "<class 'str'>\n"
     ]
    }
   ],
   "source": [
    "c=\"PRACTICE MAKES A MAN PERFECT\"\n",
    "print(c.lower())\n",
    "print(type(c))"
   ]
  },
  {
   "cell_type": "markdown",
   "id": "d27a29cb",
   "metadata": {},
   "source": [
    "# replace() method"
   ]
  },
  {
   "cell_type": "markdown",
   "id": "ace1390b",
   "metadata": {},
   "source": [
    "THE REPLACE() METHOD REPLACE A STRING WITH ANOTHER STRING\n",
    "\n",
    "The replace() method returns a copy of the string where all occurrences of a specified substring are replaced with another substring.\n",
    "\n",
    "Lists and tuples don’t have replace() — you’d use indexing or list comprehensions instead.\n",
    "\n"
   ]
  },
  {
   "cell_type": "code",
   "execution_count": 98,
   "id": "62c7798c",
   "metadata": {},
   "outputs": [
    {
     "name": "stdout",
     "output_type": "stream",
     "text": [
      "hello imran\n"
     ]
    }
   ],
   "source": [
    "a=\"hello umar\"\n",
    "print(a.replace(\"umar\",\"imran\"))"
   ]
  },
  {
   "cell_type": "code",
   "execution_count": 17,
   "id": "218e1b95",
   "metadata": {},
   "outputs": [
    {
     "name": "stdout",
     "output_type": "stream",
     "text": [
      "i am a aspiring data scientist\n"
     ]
    }
   ],
   "source": [
    "x=\"i am a aspiring data analyst\"\n",
    "y=x.replace(\"analyst\",\"scientist\")\n",
    "print(y)"
   ]
  },
  {
   "cell_type": "code",
   "execution_count": 58,
   "id": "a91c2099",
   "metadata": {},
   "outputs": [
    {
     "name": "stdout",
     "output_type": "stream",
     "text": [
      "tamal hasan\n"
     ]
    }
   ],
   "source": [
    "b=(\"kamal hasan\")\n",
    "print(b.replace(\"k\",\"t\"))"
   ]
  },
  {
   "cell_type": "code",
   "execution_count": 59,
   "id": "ee4b91ee",
   "metadata": {},
   "outputs": [
    {
     "name": "stdout",
     "output_type": "stream",
     "text": [
      "python is exiting language\n"
     ]
    }
   ],
   "source": [
    "c=\"python is amazing language\"\n",
    "print(c.replace(\"amazing\",\"exiting\"))"
   ]
  },
  {
   "cell_type": "code",
   "execution_count": 41,
   "id": "8b591bd8-aebb-4c92-9131-ad72cb1a2acb",
   "metadata": {},
   "outputs": [
    {
     "name": "stdout",
     "output_type": "stream",
     "text": [
      "maths 28 / 30\n",
      "sci 27 / 30\n",
      "sst 22 / 30\n",
      "gk 30 / 30\n",
      "urdu 26 / 30\n"
     ]
    }
   ],
   "source": [
    "a=\"\"\"maths 28 out of 30\n",
    "sci 27 out of 30\n",
    "sst 22 out of 30\n",
    "gk 30 out of 30\n",
    "urdu 26 out of 30\"\"\"\n",
    "\n",
    "print(a.replace(\"out of\",\"/\"))"
   ]
  },
  {
   "cell_type": "markdown",
   "id": "aca652b8",
   "metadata": {},
   "source": [
    "# Concatenation"
   ]
  },
  {
   "cell_type": "markdown",
   "id": "e089c3bc-cca6-449a-a6fc-9e746e591338",
   "metadata": {},
   "source": [
    "Concatenation means joining two or more strings together into one string."
   ]
  },
  {
   "cell_type": "code",
   "execution_count": 61,
   "id": "a23e81a4",
   "metadata": {},
   "outputs": [
    {
     "name": "stdout",
     "output_type": "stream",
     "text": [
      "umar alam\n"
     ]
    }
   ],
   "source": [
    "a=\"umar\"\n",
    "b=\"alam\"\n",
    "print(a+\" \"+b)"
   ]
  },
  {
   "cell_type": "code",
   "execution_count": 63,
   "id": "458e2535",
   "metadata": {},
   "outputs": [
    {
     "name": "stdout",
     "output_type": "stream",
     "text": [
      "umar alam\n"
     ]
    }
   ],
   "source": [
    "a=\"umar\"\n",
    "b=\"alam\"\n",
    "c=(a+\" \"+b)\n",
    "print(c)"
   ]
  },
  {
   "cell_type": "code",
   "execution_count": 3,
   "id": "1f5c0a48",
   "metadata": {},
   "outputs": [
    {
     "name": "stdout",
     "output_type": "stream",
     "text": [
      "ansh butoliya\n"
     ]
    }
   ],
   "source": [
    "x=\"ansh\"\n",
    "y=\"butoliya\"\n",
    "print(x+\" \"+y)"
   ]
  },
  {
   "cell_type": "code",
   "execution_count": 4,
   "id": "efac1978",
   "metadata": {},
   "outputs": [
    {
     "name": "stdout",
     "output_type": "stream",
     "text": [
      "umaralam\n"
     ]
    }
   ],
   "source": [
    "x=\"umar\"\n",
    "y=\"alam\"\n",
    "print(x+y)"
   ]
  },
  {
   "cell_type": "markdown",
   "id": "bb4efbb5-e2a7-4a84-8531-9cfcdfbd9f28",
   "metadata": {},
   "source": [
    "### lecture-3"
   ]
  },
  {
   "cell_type": "markdown",
   "id": "9acc20db-1925-4e17-b66d-2881042bd445",
   "metadata": {},
   "source": [
    "# split() method"
   ]
  },
  {
   "cell_type": "markdown",
   "id": "27367289-c394-4481-a458-cecccd8cf9bf",
   "metadata": {},
   "source": [
    "The split() method in Python is used to split a string into a list of substrings based on a specified separator (by default, whitespace).\n",
    "\n"
   ]
  },
  {
   "cell_type": "code",
   "execution_count": 42,
   "id": "71096148-3840-455f-a85b-15d491efa4b6",
   "metadata": {},
   "outputs": [
    {
     "name": "stdout",
     "output_type": "stream",
     "text": [
      "['I', 'am', 'learning', 'python', 'from', 'basics', 'to', 'adv']\n"
     ]
    }
   ],
   "source": [
    "a=\"I am learning python from basics to adv\"\n",
    "print(a.split())"
   ]
  },
  {
   "cell_type": "code",
   "execution_count": 44,
   "id": "9a6fdf93-5d18-4bb7-a208-dba5fdc54690",
   "metadata": {},
   "outputs": [
    {
     "name": "stdout",
     "output_type": "stream",
     "text": [
      "['I am', ' learning python', ' from basics to ', 'adv']\n"
     ]
    }
   ],
   "source": [
    "a=\"I am- learning python- from basics to -adv\"\n",
    "print(a.split(\"-\"))"
   ]
  },
  {
   "cell_type": "code",
   "execution_count": 52,
   "id": "126fb8eb-aa17-4325-868b-d30efd1d1125",
   "metadata": {},
   "outputs": [
    {
     "name": "stdout",
     "output_type": "stream",
     "text": [
      "['RED', ' BLUE', ' GREEN ARE THE COLOR OF BALL']\n",
      " BLUE\n"
     ]
    }
   ],
   "source": [
    "x=\"REd, blue, green are the color of ball\"\n",
    "y=x.upper().split(\",\")\n",
    "print(y)\n",
    "print(y[1])\n"
   ]
  },
  {
   "cell_type": "markdown",
   "id": "51522324-cdc0-42c5-95cb-d7a2e27534c5",
   "metadata": {},
   "source": [
    "# capitalize() method"
   ]
  },
  {
   "cell_type": "markdown",
   "id": "39726a56-5fb2-48f1-8d77-91025fb64404",
   "metadata": {},
   "source": [
    "The capitalize() method in Python is used to convert the first character of a string to uppercase and the rest to lowercase.\n",
    "\n"
   ]
  },
  {
   "cell_type": "code",
   "execution_count": 57,
   "id": "97a55bea-e804-4583-a8bb-9494686fff01",
   "metadata": {},
   "outputs": [
    {
     "name": "stdout",
     "output_type": "stream",
     "text": [
      "Hello\n"
     ]
    }
   ],
   "source": [
    "x=\"hello\"\n",
    "print(x.capitalize())"
   ]
  },
  {
   "cell_type": "code",
   "execution_count": 11,
   "id": "5abf1ead-5135-4ac2-b416-cf7f2bb92531",
   "metadata": {},
   "outputs": [
    {
     "name": "stdout",
     "output_type": "stream",
     "text": [
      "Hi my name is umar alam and. i am goung to get a job with more then 6lpa as a fresher\n"
     ]
    }
   ],
   "source": [
    "str=\"hi my name is umar alam and. i am goung to get a job with more then 6lpa as a fresher\"\n",
    "print(str.capitalize())"
   ]
  },
  {
   "cell_type": "markdown",
   "id": "0b41fd5c-1222-46ff-bb18-45d0f6efc422",
   "metadata": {},
   "source": [
    "# title() method"
   ]
  },
  {
   "cell_type": "markdown",
   "id": "103dcba9-b755-401c-9217-d2bca552d8b4",
   "metadata": {},
   "source": [
    "The title() method in Python is used to convert the first character of each word in a string to uppercase and the rest to lowercase.\n",
    "\n"
   ]
  },
  {
   "cell_type": "code",
   "execution_count": 59,
   "id": "61c7d174-0dfa-4111-b1b9-9ccd5324b45a",
   "metadata": {},
   "outputs": [
    {
     "name": "stdout",
     "output_type": "stream",
     "text": [
      "Hi My Name Is Umar Alam And. I Am Going To Get A Job With More Then 6Lpa As A Fresher\n"
     ]
    }
   ],
   "source": [
    "str=\"hi my name is umar alam and. i am going to get a job with more then 6lpa as a fresher\"\n",
    "print(str.title())"
   ]
  },
  {
   "cell_type": "code",
   "execution_count": 60,
   "id": "6620f7c5-0715-4ccf-bd82-4878a24d7e5e",
   "metadata": {},
   "outputs": [
    {
     "name": "stdout",
     "output_type": "stream",
     "text": [
      "I Am Learning Python From Basics To Adv\n"
     ]
    }
   ],
   "source": [
    "a=\"I am learning python from basics to adv\"\n",
    "print(a.title())"
   ]
  },
  {
   "cell_type": "code",
   "execution_count": 68,
   "id": "573e0aa2-d614-4d35-b6f5-ea6ec068ea24",
   "metadata": {},
   "outputs": [
    {
     "name": "stdout",
     "output_type": "stream",
     "text": [
      "earth revolves around a sun\n",
      "Earth Revolves Around A Sun\n"
     ]
    }
   ],
   "source": [
    "a=\"earth revolves around the sun\"\n",
    "b=(a.replace(\"the\",\"a\"))\n",
    "print(b)\n",
    "print(b.title())"
   ]
  },
  {
   "cell_type": "markdown",
   "id": "3565d503-b364-4d26-a323-330cee90571e",
   "metadata": {},
   "source": [
    "# swapcase() method"
   ]
  },
  {
   "cell_type": "markdown",
   "id": "d203e8f4-5bf6-4d74-be50-3816ae9b241d",
   "metadata": {},
   "source": [
    "swapcase() returns a new string where all uppercase letters are converted to lowercase, and all lowercase letters are converted to uppercase."
   ]
  },
  {
   "cell_type": "code",
   "execution_count": 82,
   "id": "e251eb79-3d73-4014-98a4-efde3258b146",
   "metadata": {},
   "outputs": [
    {
     "name": "stdout",
     "output_type": "stream",
     "text": [
      "HELLO\n"
     ]
    }
   ],
   "source": [
    "x=\"hello\"\n",
    "y=x.swapcase()\n",
    "print(y)"
   ]
  },
  {
   "cell_type": "code",
   "execution_count": 83,
   "id": "0a6d61cd",
   "metadata": {},
   "outputs": [
    {
     "name": "stdout",
     "output_type": "stream",
     "text": [
      "hello\n",
      "HELLO\n"
     ]
    }
   ],
   "source": [
    "x=\"HELLO\"\n",
    "print(x.swapcase())\n",
    "print(x)"
   ]
  },
  {
   "cell_type": "code",
   "execution_count": 85,
   "id": "0ad8d194-f0f8-4cec-a21f-07aa53d75181",
   "metadata": {},
   "outputs": [
    {
     "name": "stdout",
     "output_type": "stream",
     "text": [
      "HELLO umar\n"
     ]
    }
   ],
   "source": [
    "x=\"hello\"\n",
    "y=\"UMAR\"\n",
    "print(x.swapcase()+\" \"+y.swapcase())"
   ]
  },
  {
   "cell_type": "code",
   "execution_count": 70,
   "id": "99347e35-b8ec-48ea-8377-836e2135933b",
   "metadata": {},
   "outputs": [
    {
     "name": "stdout",
     "output_type": "stream",
     "text": [
      "HI I AM umar, i AM LEARNING python FROM isCALE\n"
     ]
    }
   ],
   "source": [
    "\n",
    "s=\"hi i am UMAR, I am learning PYTHON from IScale\"\n",
    "print(s.swapcase())"
   ]
  },
  {
   "cell_type": "markdown",
   "id": "7586e65e-4059-42cb-97fb-c2906d206327",
   "metadata": {},
   "source": [
    "### Lecture -4"
   ]
  },
  {
   "cell_type": "markdown",
   "id": "ab04905e-eefa-468a-90a1-45ae91fe30c8",
   "metadata": {},
   "source": [
    "#  isalnum() method"
   ]
  },
  {
   "cell_type": "markdown",
   "id": "61799727-eba3-4350-89aa-3b4c4952d32c",
   "metadata": {},
   "source": [
    "isalnum() is a built-in string method in Python that checks whether a string contains only alphanumeric characters—that is, only letters (A–Z, a–z) and digits (0–9), with no spaces, symbols, or punctuation.\n",
    "\n",
    "It returns True if all characters in the string are alphanumeric and the string is not empty; otherwise, it returns False.\n",
    "\n"
   ]
  },
  {
   "cell_type": "code",
   "execution_count": 7,
   "id": "fbff750a-eaff-40d8-9a7a-108bff268bfd",
   "metadata": {},
   "outputs": [
    {
     "name": "stdout",
     "output_type": "stream",
     "text": [
      "True\n",
      "False\n",
      "False\n",
      "False\n"
     ]
    }
   ],
   "source": [
    "\n",
    "print(\"Python123\".isalnum())   # True\n",
    "print(\"Python 123\".isalnum())  # False (space)\n",
    "print(\"123!\".isalnum())        # False (symbol)\n",
    "print(\"\".isalnum())            # False (empty string)"
   ]
  },
  {
   "cell_type": "code",
   "execution_count": 3,
   "id": "55e3957a-5021-47f0-8d1a-272f78eb193d",
   "metadata": {},
   "outputs": [
    {
     "name": "stdout",
     "output_type": "stream",
     "text": [
      "True\n"
     ]
    }
   ],
   "source": [
    "a=\"students\"\n",
    "print(a.isalnum())"
   ]
  },
  {
   "cell_type": "code",
   "execution_count": 12,
   "id": "5ea90e16",
   "metadata": {},
   "outputs": [
    {
     "name": "stdout",
     "output_type": "stream",
     "text": [
      "True\n"
     ]
    }
   ],
   "source": [
    "a=\"54\"\n",
    "print(a.isalnum())"
   ]
  },
  {
   "cell_type": "code",
   "execution_count": 4,
   "id": "3fa70ea3",
   "metadata": {},
   "outputs": [
    {
     "name": "stdout",
     "output_type": "stream",
     "text": [
      "True\n"
     ]
    }
   ],
   "source": [
    "a=\"students123\"\n",
    "print(a.isalnum())"
   ]
  },
  {
   "cell_type": "code",
   "execution_count": 6,
   "id": "11ca056f",
   "metadata": {},
   "outputs": [
    {
     "name": "stdout",
     "output_type": "stream",
     "text": [
      "False\n"
     ]
    }
   ],
   "source": [
    "a=\"students,1\"\n",
    "print(a.isalnum())"
   ]
  },
  {
   "cell_type": "markdown",
   "id": "d328760c-f00f-41a1-ae3f-d660dd13f3c7",
   "metadata": {},
   "source": [
    "# isalpha() method"
   ]
  },
  {
   "cell_type": "markdown",
   "id": "ac2ab76d-e0b8-4295-9dae-947fee99099d",
   "metadata": {},
   "source": [
    "isalpha() is a built-in string method in Python that checks if a string contains only alphabetic characters (A–Z or a–z) and no numbers, spaces, or special characters.\n",
    "    \n",
    "It returns True if all characters in the string are alphabets and the string is not empty; otherwise, it returns False."
   ]
  },
  {
   "cell_type": "code",
   "execution_count": 9,
   "id": "11c5d51b-09c7-431f-b126-d3814afd9d22",
   "metadata": {},
   "outputs": [
    {
     "name": "stdout",
     "output_type": "stream",
     "text": [
      "True\n",
      "False\n",
      "False\n",
      "False\n",
      "False\n"
     ]
    }
   ],
   "source": [
    "print(\"Python\".isalpha())     # ✅ True (only letters)\n",
    "print(\"Python123\".isalpha())  # ❌ False (has numbers)\n",
    "print(\"Python!\".isalpha())    # ❌ False (has symbol)\n",
    "print(\"Python Code\".isalpha())# ❌ False (has space)\n",
    "print(\"\".isalpha())           # ❌ False (empty string)\n"
   ]
  },
  {
   "cell_type": "code",
   "execution_count": 10,
   "id": "be020c13-d7b1-4482-a122-7763c1d4d8f6",
   "metadata": {},
   "outputs": [
    {
     "data": {
      "text/plain": [
       "True"
      ]
     },
     "execution_count": 10,
     "metadata": {},
     "output_type": "execute_result"
    }
   ],
   "source": [
    "a=\"teacher\"\n",
    "a.isalpha()"
   ]
  },
  {
   "cell_type": "code",
   "execution_count": 11,
   "id": "73fc904b",
   "metadata": {},
   "outputs": [
    {
     "data": {
      "text/plain": [
       "True"
      ]
     },
     "execution_count": 11,
     "metadata": {},
     "output_type": "execute_result"
    }
   ],
   "source": [
    "a=\"TEACHER\"\n",
    "a.isalpha()"
   ]
  },
  {
   "cell_type": "code",
   "execution_count": 12,
   "id": "b412a932",
   "metadata": {},
   "outputs": [
    {
     "data": {
      "text/plain": [
       "False"
      ]
     },
     "execution_count": 12,
     "metadata": {},
     "output_type": "execute_result"
    }
   ],
   "source": [
    "a=\"TEACHER656\"\n",
    "a.isalpha()"
   ]
  },
  {
   "cell_type": "code",
   "execution_count": 14,
   "id": "e801fb2b-3da7-48f5-bf2e-6ec623638a52",
   "metadata": {},
   "outputs": [
    {
     "name": "stdout",
     "output_type": "stream",
     "text": [
      "False\n"
     ]
    }
   ],
   "source": [
    "a=\"pyhton is so easy to learn\"\n",
    "print(a.isalpha())"
   ]
  },
  {
   "cell_type": "markdown",
   "id": "97dc3665-906b-41f5-a6f1-bf09d2cb2e30",
   "metadata": {},
   "source": [
    "#  isdigit() method"
   ]
  },
  {
   "cell_type": "markdown",
   "id": "f2b4c007-df54-463b-b823-41bd79733e7c",
   "metadata": {},
   "source": [
    "isdigit()\tChecks if the string contains only numeric digits (0–9). No letters, spaces, or symbols.\n"
   ]
  },
  {
   "cell_type": "code",
   "execution_count": 15,
   "id": "170e95e6-2d58-41ef-abb3-e0bd670e8e8e",
   "metadata": {},
   "outputs": [
    {
     "name": "stdout",
     "output_type": "stream",
     "text": [
      "True\n",
      "True\n",
      "False\n",
      "False\n",
      "False\n",
      "False\n"
     ]
    }
   ],
   "source": [
    "print(\"123\".isdigit())       # ✅ True (all digits)\n",
    "print(\"000456\".isdigit())    # ✅ True (all digits, leading zeros OK)\n",
    "print(\"12a3\".isdigit())      # ❌ False (contains a letter)\n",
    "print(\"123.45\".isdigit())    # ❌ False (dot is not a digit)\n",
    "print(\"\".isdigit())          # ❌ False (empty string)\n",
    "print(\"12 34\".isdigit())     # ❌ False (space not allowed)\n"
   ]
  },
  {
   "cell_type": "code",
   "execution_count": 16,
   "id": "c4eb33d6-5f96-4a57-ae5b-82a4ec711e9f",
   "metadata": {},
   "outputs": [
    {
     "data": {
      "text/plain": [
       "True"
      ]
     },
     "execution_count": 16,
     "metadata": {},
     "output_type": "execute_result"
    }
   ],
   "source": [
    "a=\"545454551\"\n",
    "a.isdigit()"
   ]
  },
  {
   "cell_type": "code",
   "execution_count": 17,
   "id": "0caf7dd5",
   "metadata": {},
   "outputs": [
    {
     "data": {
      "text/plain": [
       "False"
      ]
     },
     "execution_count": 17,
     "metadata": {},
     "output_type": "execute_result"
    }
   ],
   "source": [
    "a=\"54545   4551\"\n",
    "a.isdigit()"
   ]
  },
  {
   "cell_type": "code",
   "execution_count": 18,
   "id": "620a83f7",
   "metadata": {},
   "outputs": [
    {
     "data": {
      "text/plain": [
       "False"
      ]
     },
     "execution_count": 18,
     "metadata": {},
     "output_type": "execute_result"
    }
   ],
   "source": [
    "a=\"54545  hjhj 4551\"\n",
    "a.isdigit()"
   ]
  },
  {
   "cell_type": "code",
   "execution_count": 19,
   "id": "96f27ac1",
   "metadata": {},
   "outputs": [
    {
     "data": {
      "text/plain": [
       "False"
      ]
     },
     "execution_count": 19,
     "metadata": {},
     "output_type": "execute_result"
    }
   ],
   "source": [
    "a=\"545454551@\"\n",
    "a.isdigit()"
   ]
  },
  {
   "cell_type": "code",
   "execution_count": 26,
   "id": "adc6ac90-f2ee-4705-92cc-819d536a148a",
   "metadata": {},
   "outputs": [
    {
     "name": "stdin",
     "output_type": "stream",
     "text": [
      "enter your number 8750098986\n"
     ]
    },
    {
     "name": "stdout",
     "output_type": "stream",
     "text": [
      "valid\n"
     ]
    }
   ],
   "source": [
    "\"\"\"taake mobile nno. from the user and check mobile no. is valid or not?\"\"\"\n",
    "\n",
    "n=input(\"enter your number\")\n",
    "if n.isdigit()==True:\n",
    "    print(\"valid\")\n",
    "else:\n",
    "    print(\"invalid\")"
   ]
  },
  {
   "cell_type": "code",
   "execution_count": 27,
   "id": "9570a7b2",
   "metadata": {},
   "outputs": [
    {
     "name": "stdin",
     "output_type": "stream",
     "text": [
      "enter your number 875009898/\n"
     ]
    },
    {
     "name": "stdout",
     "output_type": "stream",
     "text": [
      "invalid\n"
     ]
    }
   ],
   "source": [
    "\"\"\"taake mobile nno. from the user and check mobile no. is valid or not?\"\"\"\n",
    "\n",
    "n=input(\"enter your number\")\n",
    "if n.isdigit()==True:\n",
    "    print(\"valid\")\n",
    "else:\n",
    "    print(\"invalid\")"
   ]
  },
  {
   "cell_type": "markdown",
   "id": "a1c78419-6631-49ce-ae34-2ac1faf795e7",
   "metadata": {},
   "source": [
    "# isupper() method"
   ]
  },
  {
   "cell_type": "markdown",
   "id": "3b76e934-c835-4752-93ea-04d020428ace",
   "metadata": {},
   "source": [
    "isupper() is a built-in string method in Python.\n",
    "\n",
    "It returns True if all the alphabetic characters in the string are uppercase letters (A–Z) and there is at least one letter.\n",
    "Otherwise, it returns False."
   ]
  },
  {
   "cell_type": "code",
   "execution_count": 30,
   "id": "fc9b5ac4-1f70-4340-be76-bcac89a45743",
   "metadata": {},
   "outputs": [
    {
     "name": "stdout",
     "output_type": "stream",
     "text": [
      "True\n",
      "True\n",
      "True\n",
      "False\n",
      "False\n",
      "False\n"
     ]
    }
   ],
   "source": [
    "print(\"HELLO\".isupper())       # True → All letters are uppercase\n",
    "print(\"HELLO123\".isupper())    # True → Letters are uppercase, digits are ignored\n",
    "print(\"HELLO!\".isupper())      # True → Symbols are ignored\n",
    "print(\"Hello\".isupper())       # False → Contains lowercase 'e'\n",
    "print(\"123\".isupper())         # False → No letters at all\n",
    "print(\"\".isupper())            # False → Empty string\n"
   ]
  },
  {
   "cell_type": "markdown",
   "id": "c3ce81c6-a794-4a18-99f2-0b05adafed8f",
   "metadata": {},
   "source": [
    "# islower() method"
   ]
  },
  {
   "cell_type": "markdown",
   "id": "bba7f17a-79aa-4330-ad7e-b6dac579df31",
   "metadata": {},
   "source": [
    "islower() is a string method in Python that checks if all the alphabetic characters in the string are in lowercase (i.e., from 'a' to 'z').\n",
    "\n",
    "It returns True if the string contains at least one letter, and all letters are lowercase.\n",
    "    \n",
    "Non-letter characters such as numbers, spaces, or symbols are ignored during the check. If the string has no alphabetic characters or contains even one uppercase letter, it returns False."
   ]
  },
  {
   "cell_type": "code",
   "execution_count": 31,
   "id": "1937033d-2631-401c-a7e7-b348d611062d",
   "metadata": {},
   "outputs": [
    {
     "name": "stdout",
     "output_type": "stream",
     "text": [
      "True\n",
      "True\n",
      "True\n",
      "False\n",
      "False\n",
      "False\n"
     ]
    }
   ],
   "source": [
    "print(\"hello\".islower())       # ✅ True (all letters are lowercase)\n",
    "print(\"hello123\".islower())    # ✅ True (letters are lowercase, digits are ignored)\n",
    "print(\"hello!\".islower())      # ✅ True (symbols are ignored)\n",
    "print(\"Hello\".islower())       # ❌ False (contains uppercase 'H')\n",
    "print(\"123\".islower())         # ❌ False (no letters)\n",
    "print(\"\".islower())            # ❌ False (empty string)\n"
   ]
  },
  {
   "cell_type": "markdown",
   "id": "d6b9d867-a316-4676-9175-b3f0033c445d",
   "metadata": {},
   "source": [
    "# istitle() method"
   ]
  },
  {
   "cell_type": "markdown",
   "id": "5866c7a7-fa44-44cc-bd9d-34adba0b6a39",
   "metadata": {},
   "source": [
    "The istitle() method in Python is used to check whether a string is in title case.\n",
    "A string is said to be in title case if each word in the string:\n",
    "\n",
    "* Starts with an uppercase letter (A-Z), and\n",
    "* The rest of the characters in each word are lowercase letters (a-z)."
   ]
  },
  {
   "cell_type": "code",
   "execution_count": 32,
   "id": "0594306d-6710-4e38-8d50-d53114197c8e",
   "metadata": {},
   "outputs": [
    {
     "name": "stdout",
     "output_type": "stream",
     "text": [
      "True\n",
      "False\n",
      "False\n",
      "True\n",
      "True\n",
      "True\n",
      "False\n",
      "False\n",
      "True\n"
     ]
    }
   ],
   "source": [
    "# Only letters, proper title case\n",
    "print(\"This Is Python\".istitle())  # ✅ True\n",
    "\n",
    "# Lowercase word\n",
    "print(\"This is Python\".istitle())  # ❌ False (\"is\" is not capitalized)\n",
    "\n",
    "# All uppercase\n",
    "print(\"THIS IS PYTHON\".istitle())  # ❌ False\n",
    "\n",
    "# Mixed with numbers and punctuation\n",
    "print(\"Hello World 2025!\".istitle())  # ✅ True\n",
    "\n",
    "# Number at the start of word\n",
    "print(\"Hello 123World\".istitle())    # ❌ False (\"123World\" is not a title word)\n",
    "\n",
    "# Symbol in between\n",
    "print(\"Welcome To #Python!\".istitle())  # ✅ True\n",
    "\n",
    "# Starts with a lowercase letter after a space\n",
    "print(\"Python is Great!\".istitle())     # ❌ False\n",
    "\n",
    "# Title case with punctuation\n",
    "print(\"The Cat's Meow.\".istitle())      # ✅ True\n",
    "\n",
    "# Word starts with a symbol\n",
    "print(\"Hello @World\".istitle())         # ❌ False (\"@World\" doesn't start with a letter)\n"
   ]
  },
  {
   "cell_type": "code",
   "execution_count": null,
   "id": "2ea88016-8328-41da-8a41-730ab8d60835",
   "metadata": {},
   "outputs": [],
   "source": []
  }
 ],
 "metadata": {
  "kernelspec": {
   "display_name": "Python 3 (ipykernel)",
   "language": "python",
   "name": "python3"
  },
  "language_info": {
   "codemirror_mode": {
    "name": "ipython",
    "version": 3
   },
   "file_extension": ".py",
   "mimetype": "text/x-python",
   "name": "python",
   "nbconvert_exporter": "python",
   "pygments_lexer": "ipython3",
   "version": "3.13.1"
  }
 },
 "nbformat": 4,
 "nbformat_minor": 5
}
