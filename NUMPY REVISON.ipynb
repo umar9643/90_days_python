{
 "cells": [
  {
   "cell_type": "code",
   "execution_count": 4,
   "id": "ccd1191a",
   "metadata": {},
   "outputs": [],
   "source": [
    "import numpy as np"
   ]
  },
  {
   "cell_type": "code",
   "execution_count": 2,
   "id": "8a5c5baa",
   "metadata": {},
   "outputs": [
    {
     "name": "stdout",
     "output_type": "stream",
     "text": [
      "[1 2 3 4]\n",
      "<class 'numpy.ndarray'>\n"
     ]
    }
   ],
   "source": [
    "arr=np.array([1,2,3,4])\n",
    "print(arr)\n",
    "print(type(arr))"
   ]
  },
  {
   "cell_type": "code",
   "execution_count": 3,
   "id": "e635939f",
   "metadata": {},
   "outputs": [
    {
     "name": "stdout",
     "output_type": "stream",
     "text": [
      "[2 3 4 5]\n",
      "<class 'numpy.ndarray'>\n"
     ]
    }
   ],
   "source": [
    "arr=np.array((2,3,4,5))\n",
    "print(arr)\n",
    "print(type(arr))"
   ]
  },
  {
   "cell_type": "markdown",
   "id": "6e31cbff",
   "metadata": {},
   "source": [
    "# o dimenasion array"
   ]
  },
  {
   "cell_type": "code",
   "execution_count": 5,
   "id": "e4a87c09",
   "metadata": {},
   "outputs": [
    {
     "name": "stdout",
     "output_type": "stream",
     "text": [
      "30\n",
      "0\n"
     ]
    }
   ],
   "source": [
    "arr=np.array(30)\n",
    "print(arr)\n",
    "print(arr.ndim)"
   ]
  },
  {
   "cell_type": "markdown",
   "id": "5b2fec41",
   "metadata": {},
   "source": [
    "# 1 dimention array"
   ]
  },
  {
   "cell_type": "code",
   "execution_count": 6,
   "id": "62e69ac5",
   "metadata": {},
   "outputs": [
    {
     "name": "stdout",
     "output_type": "stream",
     "text": [
      "[2 3 4 5]\n",
      "1\n"
     ]
    }
   ],
   "source": [
    "arr=np.array([2,3,4,5,])\n",
    "print(arr)\n",
    "print(arr.ndim)"
   ]
  },
  {
   "cell_type": "markdown",
   "id": "3a44833c",
   "metadata": {},
   "source": [
    "# 2 dimention array"
   ]
  },
  {
   "cell_type": "code",
   "execution_count": 8,
   "id": "b84c9de3",
   "metadata": {},
   "outputs": [
    {
     "name": "stdout",
     "output_type": "stream",
     "text": [
      "[[1 2 3 3]\n",
      " [5 4 5 6]]\n",
      "2\n"
     ]
    }
   ],
   "source": [
    "arr=np.array(([1,2,3,3],[5,4,5,6]))\n",
    "print(arr)\n",
    "print(arr.ndim)"
   ]
  },
  {
   "cell_type": "markdown",
   "id": "2470ecb4",
   "metadata": {},
   "source": [
    "# 3 dimention array"
   ]
  },
  {
   "cell_type": "code",
   "execution_count": 10,
   "id": "54a0b91b",
   "metadata": {},
   "outputs": [
    {
     "name": "stdout",
     "output_type": "stream",
     "text": [
      "[[[2 3 4]\n",
      "  [5 6 7]]\n",
      "\n",
      " [[6 5 6]\n",
      "  [8 7 8]]]\n",
      "3\n"
     ]
    }
   ],
   "source": [
    "arr=np.array((([2,3,4,],[5,6,7]),([6,5,6,],[8,7,8])))\n",
    "print(arr)\n",
    "print(arr.ndim)"
   ]
  },
  {
   "cell_type": "code",
   "execution_count": 11,
   "id": "2d48da45",
   "metadata": {},
   "outputs": [
    {
     "name": "stdout",
     "output_type": "stream",
     "text": [
      "[[[1 2 3]\n",
      "  [4 5 6]]\n",
      "\n",
      " [[7 8 9]\n",
      "  [3 4 5]]]\n"
     ]
    }
   ],
   "source": [
    "arr=np.array((([1,2,3],[4,5,6]),([7,8,9],[3,4,5])))\n",
    "print(arr)"
   ]
  },
  {
   "cell_type": "markdown",
   "id": "d2180040",
   "metadata": {},
   "source": [
    "# check no. of dimention"
   ]
  },
  {
   "cell_type": "code",
   "execution_count": 21,
   "id": "0be17b58",
   "metadata": {},
   "outputs": [
    {
     "name": "stdout",
     "output_type": "stream",
     "text": [
      "0\n",
      "1\n",
      "2\n",
      "3\n"
     ]
    }
   ],
   "source": [
    "a=np.array(20)\n",
    "\n",
    "b=np.array([2,3,4])\n",
    "\n",
    "c=np.array(([1,2,3],[4,5,6]))\n",
    "\n",
    "d=np.array((([1,2,3],[4,5,6]),([7,8,9],[11,12,13])))\n",
    "\n",
    "print(a.ndim)\n",
    "\n",
    "print(b.ndim)\n",
    "\n",
    "print(c.ndim)\n",
    "\n",
    "print(d.ndim)"
   ]
  },
  {
   "cell_type": "markdown",
   "id": "f4d14277",
   "metadata": {},
   "source": [
    "# CREATE AN ARRAY OF 5 DIMENTION AND VERUFY THAT IT HAS 5 DIMENTION"
   ]
  },
  {
   "cell_type": "code",
   "execution_count": 5,
   "id": "3c5148cf",
   "metadata": {},
   "outputs": [
    {
     "name": "stdout",
     "output_type": "stream",
     "text": [
      "[[[[[1 2 3 4]]]]]\n",
      "the dimentin of this array is 5\n"
     ]
    }
   ],
   "source": [
    "arr=np.array((1,2,3,4),ndmin=5)\n",
    "print(arr)\n",
    "print(\"the dimentin of this array is\",arr.ndim)\n"
   ]
  },
  {
   "cell_type": "code",
   "execution_count": 6,
   "id": "7082a5e9",
   "metadata": {},
   "outputs": [
    {
     "name": "stdout",
     "output_type": "stream",
     "text": [
      "[[[[[1 2 3 4 5]]]]]\n",
      "number of dimention:  5\n",
      "<class 'numpy.ndarray'>\n"
     ]
    }
   ],
   "source": [
    "arr=np.array((1,2,3,4,5),ndmin=5)\n",
    "print(arr)\n",
    "print(\"number of dimention: \" ,arr.ndim)\n",
    "print(type(arr))"
   ]
  },
  {
   "cell_type": "markdown",
   "id": "fcfd0b4a",
   "metadata": {},
   "source": [
    "# array indexing"
   ]
  },
  {
   "cell_type": "code",
   "execution_count": 8,
   "id": "783d4cea",
   "metadata": {},
   "outputs": [
    {
     "name": "stdout",
     "output_type": "stream",
     "text": [
      "[1 2 3 4 5 6 7 8]\n",
      "the ist element of a is 1\n"
     ]
    }
   ],
   "source": [
    "a=np.array([1,2,3,4,5,6,7,8])\n",
    "print(a)\n",
    "print(\"the ist element of a is\", a[0])"
   ]
  },
  {
   "cell_type": "markdown",
   "id": "026bd549",
   "metadata": {},
   "source": [
    "# ADD THE IST ANMD LAST ELEMENT OF IST ROW\n"
   ]
  },
  {
   "cell_type": "code",
   "execution_count": 9,
   "id": "ddaa4376",
   "metadata": {},
   "outputs": [
    {
     "name": "stdout",
     "output_type": "stream",
     "text": [
      "ist element of ist row is 10\n",
      "last elemnt of ist row is 40\n",
      "sum of both are 50\n"
     ]
    }
   ],
   "source": [
    "arr=np.array(((10,20,30,40),(50,60,70,80)))\n",
    "print(\"ist element of ist row is\",arr[0,0])\n",
    "print(\"last elemnt of ist row is\",arr[0,3])\n",
    "print(\"sum of both are\",arr[0,0]+arr[0,3])"
   ]
  },
  {
   "cell_type": "markdown",
   "id": "2e1e082f",
   "metadata": {},
   "source": [
    "# checking the data type of an array"
   ]
  },
  {
   "cell_type": "code",
   "execution_count": 8,
   "id": "35cab37d",
   "metadata": {},
   "outputs": [
    {
     "name": "stdout",
     "output_type": "stream",
     "text": [
      "[ 1  2  3  4  5 56  6]\n",
      "int32\n"
     ]
    }
   ],
   "source": [
    "arr=np.array([1,2,3,4,5,56,6])\n",
    "print(arr)\n",
    "print(arr.dtype)"
   ]
  },
  {
   "cell_type": "code",
   "execution_count": 13,
   "id": "270568a4",
   "metadata": {},
   "outputs": [
    {
     "name": "stdout",
     "output_type": "stream",
     "text": [
      "<U9\n"
     ]
    }
   ],
   "source": [
    "arr=np.array([\"ss\",\"sss\",\"ssjnsdjdd\"])\n",
    "print(arr.dtype)"
   ]
  },
  {
   "cell_type": "markdown",
   "id": "d03c0d4c",
   "metadata": {},
   "source": [
    "# PRINT THE SHAPE OF 2-D ARRAY"
   ]
  },
  {
   "cell_type": "code",
   "execution_count": 15,
   "id": "fedeca07",
   "metadata": {},
   "outputs": [
    {
     "name": "stdout",
     "output_type": "stream",
     "text": [
      "[[1 2 3]\n",
      " [3 4 5]\n",
      " [5 6 4]]\n",
      "(3, 3)\n"
     ]
    }
   ],
   "source": [
    "arr=np.array(([1,2,3],[3,4,5],[5,6,4]))\n",
    "print(arr)\n",
    "print(arr.shape)"
   ]
  },
  {
   "cell_type": "markdown",
   "id": "ae3665f8",
   "metadata": {},
   "source": [
    "# joining arrays"
   ]
  },
  {
   "cell_type": "code",
   "execution_count": 19,
   "id": "26e22c45",
   "metadata": {},
   "outputs": [
    {
     "name": "stdout",
     "output_type": "stream",
     "text": [
      "[2 3 4 2 5 4 5 6 4]\n"
     ]
    }
   ],
   "source": [
    "arr1=([2,3,4,2,5])\n",
    "arr2=([4,5,6,4])\n",
    "join=np.concatenate((arr1,arr2))\n",
    "print(join)"
   ]
  },
  {
   "cell_type": "code",
   "execution_count": null,
   "id": "65b7513b",
   "metadata": {},
   "outputs": [],
   "source": []
  }
 ],
 "metadata": {
  "kernelspec": {
   "display_name": "Python 3 (ipykernel)",
   "language": "python",
   "name": "python3"
  },
  "language_info": {
   "codemirror_mode": {
    "name": "ipython",
    "version": 3
   },
   "file_extension": ".py",
   "mimetype": "text/x-python",
   "name": "python",
   "nbconvert_exporter": "python",
   "pygments_lexer": "ipython3",
   "version": "3.13.1"
  }
 },
 "nbformat": 4,
 "nbformat_minor": 5
}
