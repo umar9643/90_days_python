{
 "cells": [
  {
   "cell_type": "markdown",
   "id": "72e44224-64b1-468e-8e74-de44ea4b2871",
   "metadata": {},
   "source": [
    "# UNIT 4 ASSIGNMENT"
   ]
  },
  {
   "cell_type": "code",
   "execution_count": null,
   "id": "13d14957-f113-4721-9463-8e50011d6b2e",
   "metadata": {},
   "outputs": [],
   "source": [
    "Question-1  Write a program to check the given no is divisible by 5 or not."
   ]
  },
  {
   "cell_type": "code",
   "execution_count": 2,
   "id": "2a9c09eb-0346-4e2f-8118-e3adcac07a71",
   "metadata": {},
   "outputs": [
    {
     "name": "stdin",
     "output_type": "stream",
     "text": [
      "enter the   no. 90\n"
     ]
    },
    {
     "name": "stdout",
     "output_type": "stream",
     "text": [
      "yes the no. is divisible by 5\n"
     ]
    }
   ],
   "source": [
    "x=int(input(\"enter the   no.\"))\n",
    "if x%5==0:\n",
    "    print(\"yes the no. is divisible by 5\")\n",
    "else:\n",
    "    print(\"the no entered by user is not divisuble by 5\")"
   ]
  },
  {
   "cell_type": "code",
   "execution_count": null,
   "id": "26ecd9e1-e8f6-4c8c-bb77-3e69e69ad629",
   "metadata": {},
   "outputs": [],
   "source": [
    "Question-2 Find max no. out of given 3 no."
   ]
  },
  {
   "cell_type": "code",
   "execution_count": 7,
   "id": "89ef90ce-a0f7-4b38-bd43-aeee7de8500d",
   "metadata": {},
   "outputs": [
    {
     "name": "stdin",
     "output_type": "stream",
     "text": [
      "enter the first no. 5\n",
      "enter the second no. 3\n",
      "enter the third no. 5\n"
     ]
    },
    {
     "name": "stdout",
     "output_type": "stream",
     "text": [
      "c is the maximum one\n"
     ]
    }
   ],
   "source": [
    "a=int(input(\"enter the first no.\"))\n",
    "b=int(input(\"enter the second no.\"))\n",
    "c=int(input(\"enter the third no.\"))\n",
    "\n",
    "if a=>b and a=>c:\n",
    "    print(\"a is the greater no.\")\n",
    "elif b=>a and b=>c:\n",
    "    print(\"b is the largest\")\n",
    "else:\n",
    "    print(\"c is the maximum one\")"
   ]
  },
  {
   "cell_type": "code",
   "execution_count": null,
   "id": "780c2711-66ad-4a8e-9fff-dbad7d771c36",
   "metadata": {},
   "outputs": [],
   "source": [
    "Question-3 A toy vendor supplies three types  of toys:\n",
    "battery based toys,key based toys,electrical charing based toys"
   ]
  },
  {
   "cell_type": "code",
   "execution_count": null,
   "id": "2fe6db85-f34e-48b8-8a61-d12a398b497a",
   "metadata": {},
   "outputs": [],
   "source": [
    "Question-\"\"\"The toy vendor supplies three types of toys, battery-based, key-based toys, and electrical charging-based toys.\n",
    "The vendor gives a discount of 10% on order for battery-based toys if the order is for more than Rs. 1,000.\n",
    "On order of more than Rs. 100 for key-based toys, a discount of 5% is given,\n",
    "and a discount of 10% is given on the order for electrical charging-based toys of value more than Rs. 500. \n",
    "Assume that the numeric code 1, 2, 3 are used for battery-based toys, key-based toys, and electrical charging-based toys respectively.\n",
    "Write a program that reads the product code and order amount and print out the net amount that the customer is required to pay after the discount.\"\"\""
   ]
  },
  {
   "cell_type": "code",
   "execution_count": 2,
   "id": "ee0d1605-16d3-4248-a6b3-bf504e7ad51f",
   "metadata": {},
   "outputs": [
    {
     "name": "stdin",
     "output_type": "stream",
     "text": [
      "inter the code of product you want to buy(battery-based toys=1, key-based toys=2, electrical charging-based toys=3) 1\n",
      "enter the order  amt in rupee 1000\n"
     ]
    },
    {
     "name": "stdout",
     "output_type": "stream",
     "text": [
      "net payable amt 900.0\n"
     ]
    }
   ],
   "source": [
    "#assigning code \n",
    "#battery-based toys=1, key-based toys=2, and electrical charging-based toys=3\n",
    "\n",
    "toy_code=int(input(\"inter the code of product you want to buy(battery-based toys=1, key-based toys=2, electrical charging-based toys=3)\"))\n",
    "order_amt=int(input(\"enter the order  amt in rupee\"))\n",
    "\n",
    "\n",
    "if toy_code==1:\n",
    "    if order_amt>=1000:\n",
    "        print(\"net payable amt\",order_amt-order_amt*0.1)\n",
    "\n",
    "elif toy_code==2:\n",
    "    if order_amt>=100:\n",
    "        print(\"net payable amt\",order_amt-order_amt*0.05)\n",
    "\n",
    "elif toy_code==3:\n",
    "    if order_amt>=500:\n",
    "        print(\"net payable amt\",order_amt-order_amt*0.1)\n",
    "\n",
    "\n",
    "    "
   ]
  },
  {
   "cell_type": "code",
   "execution_count": null,
   "id": "959be05e-5801-4316-98a4-9ddc91dd53a3",
   "metadata": {},
   "outputs": [],
   "source": [
    "#Question-4 The pashim vij company ltd.Compute the electricity bill based on the  following matrix.\n",
    "\n",
    "#0-100 0.50 per unit\n",
    "#100-200 1 Rs per unit plus 50\n",
    "#200-300 1.5 Rs per unit plus 150\n",
    "#300-above 2 Rs per unit plus 300\n",
    "\n",
    "#Ask the user to enter the past meter reading and current meter reading\n",
    "#find  the unit consumed\n",
    "#compute the bill acccording to given metrix\n",
    "\n",
    "\n",
    "\n",
    "\n",
    "    \n",
    "\n",
    "\n"
   ]
  },
  {
   "cell_type": "code",
   "execution_count": 15,
   "id": "b900a283-e4ab-4223-b4e1-2df4d9f1755a",
   "metadata": {},
   "outputs": [
    {
     "name": "stdin",
     "output_type": "stream",
     "text": [
      "enter the unit consumed in past 300\n",
      "enter the unit consumed in present 500\n"
     ]
    },
    {
     "name": "stdout",
     "output_type": "stream",
     "text": [
      "unit consumed 200\n",
      "your bill is 250\n"
     ]
    }
   ],
   "source": [
    "past_unit=int(input(\"enter the unit consumed in past\"))\n",
    "current_unit=int(input(\"enter the unit consumed in present\"))\n",
    "\n",
    "unit_consumed = current_unit-past_unit\n",
    "\n",
    "if unit_consumed>0 and unit_consumed<=100:\n",
    "    bill=unit_consumed*0.5\n",
    "elif unit_consumed>100 and unit_consumed<=200:\n",
    "    bill=(unit_consumed*1)+50\n",
    "elif unit_consumed>200 and unit_consumed<=300:\n",
    "    bill=(unit_consumed*2)+150\n",
    "else:\n",
    "    bill=(unit_consumed*3)+300\n",
    "\n",
    "print(\"unit consumed\",unit_consumed)\n",
    "print(\"your bill is\",bill)\n",
    "    "
   ]
  },
  {
   "cell_type": "code",
   "execution_count": null,
   "id": "4e7ed0c9-efd2-4dde-a865-25ef73a8c3ac",
   "metadata": {},
   "outputs": [],
   "source": []
  },
  {
   "cell_type": "code",
   "execution_count": 30,
   "id": "e99a72b0-d8ea-4a2a-a3f7-77fd5fef7290",
   "metadata": {},
   "outputs": [
    {
     "name": "stdin",
     "output_type": "stream",
     "text": [
      "enter the no. 0\n"
     ]
    },
    {
     "name": "stdout",
     "output_type": "stream",
     "text": [
      " its a zero\n"
     ]
    }
   ],
   "source": [
    "#Question-5 Write a program to check a given no. is positive negative or zero\n",
    "\n",
    "n=int(input(\"enter the no.\"))\n",
    "\n",
    "if  n>=1:\n",
    "    x=\"positive\"\n",
    "elif n<0:\n",
    "    x=\"Negative\"\n",
    "else:\n",
    "    x=\" its a zero\"\n",
    "print(x)"
   ]
  },
  {
   "cell_type": "code",
   "execution_count": null,
   "id": "9990d24c-d9f9-4c3a-8dae-8faa482cf0e1",
   "metadata": {},
   "outputs": [],
   "source": [
    "#Question-6 Write a program to display \"Hello\" if the no entered by user\n",
    "#is divisible by 7 otherwise print(\"bye\")"
   ]
  },
  {
   "cell_type": "code",
   "execution_count": 38,
   "id": "ac66b0c0-e3e2-4de8-96a1-342f51a2bab8",
   "metadata": {},
   "outputs": [
    {
     "name": "stdin",
     "output_type": "stream",
     "text": [
      "enter the no. 6\n"
     ]
    },
    {
     "name": "stdout",
     "output_type": "stream",
     "text": [
      "bye\n"
     ]
    }
   ],
   "source": [
    "n=int(input(\"enter the no.\"))\n",
    "\n",
    "if n%7==0:\n",
    "    print(\"hello\")\n",
    "else:\n",
    "    print(\"bye\")"
   ]
  },
  {
   "cell_type": "code",
   "execution_count": null,
   "id": "eb1855da-cc4e-484b-8e5d-2e939edd622b",
   "metadata": {},
   "outputs": [],
   "source": []
  }
 ],
 "metadata": {
  "kernelspec": {
   "display_name": "Python 3 (ipykernel)",
   "language": "python",
   "name": "python3"
  },
  "language_info": {
   "codemirror_mode": {
    "name": "ipython",
    "version": 3
   },
   "file_extension": ".py",
   "mimetype": "text/x-python",
   "name": "python",
   "nbconvert_exporter": "python",
   "pygments_lexer": "ipython3",
   "version": "3.13.1"
  }
 },
 "nbformat": 4,
 "nbformat_minor": 5
}
