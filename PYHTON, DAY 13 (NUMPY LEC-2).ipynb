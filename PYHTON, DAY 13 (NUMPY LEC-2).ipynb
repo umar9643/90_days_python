{
 "cells": [
  {
   "cell_type": "markdown",
   "id": "4d7f08ce",
   "metadata": {},
   "source": [
    "# NUMPY PART 2"
   ]
  },
  {
   "cell_type": "markdown",
   "id": "27371d1a",
   "metadata": {},
   "source": [
    "DATA TYPES IN PYTHON , BY DEFAULT PYTHON HAVE THESE TYPES OF DATA\n",
    "\n",
    "STRING,  INTEGER, FLOAT, BOOLEAN"
   ]
  },
  {
   "cell_type": "code",
   "execution_count": null,
   "id": "6644e038",
   "metadata": {},
   "outputs": [],
   "source": [
    "DATA TYPES IN NUMPY\n",
    "NUMPY HAS SOME EXTRA DATA TYPES, AND REFER TO DATA TYPES WITH ONE CHARACTERS,\n",
    "\n",
    "i - integer\n",
    "b - boolean\n",
    "u - unsigned integer\n",
    "f - float\n",
    "c - complex float\n",
    "m - timedelta\n",
    "M - deltatime\n",
    "O - object\n",
    "S - string\n",
    "U - unicode string\n",
    "V - fixed chunk of memory for other type (void)"
   ]
  },
  {
   "cell_type": "markdown",
   "id": "641be491",
   "metadata": {},
   "source": [
    "# CHECK THE TYPE OF DATA OF AN ARRAY"
   ]
  },
  {
   "cell_type": "code",
   "execution_count": 2,
   "id": "de8269ee",
   "metadata": {},
   "outputs": [],
   "source": [
    "import numpy as np"
   ]
  },
  {
   "cell_type": "code",
   "execution_count": 1,
   "id": "21b89cfd",
   "metadata": {},
   "outputs": [
    {
     "name": "stdout",
     "output_type": "stream",
     "text": [
      "int32\n",
      "<class 'numpy.ndarray'>\n"
     ]
    }
   ],
   "source": [
    "import numpy as np\n",
    "\n",
    "arr=np.array((1,2,3,4,5))\n",
    "print(arr.dtype)\n",
    "print(type(arr))"
   ]
  },
  {
   "cell_type": "code",
   "execution_count": 9,
   "id": "c4debdfe",
   "metadata": {},
   "outputs": [
    {
     "name": "stdout",
     "output_type": "stream",
     "text": [
      "int32\n"
     ]
    }
   ],
   "source": [
    "import numpy as np\n",
    "\n",
    "arr=np.array((1,2,3,4,5))\n",
    "print(arr.dtype)"
   ]
  },
  {
   "cell_type": "code",
   "execution_count": 12,
   "id": "8e2bd045",
   "metadata": {},
   "outputs": [
    {
     "name": "stdout",
     "output_type": "stream",
     "text": [
      "['animal' 'name' 'place']\n",
      "<class 'numpy.ndarray'>\n",
      "<U6\n"
     ]
    }
   ],
   "source": [
    "import numpy as np\n",
    "arr=np.array((\"animal\",\"name\",\"place\"))\n",
    "print(arr)\n",
    "print(type(arr))\n",
    "print(arr.dtype)"
   ]
  },
  {
   "cell_type": "markdown",
   "id": "6642b8d9",
   "metadata": {},
   "source": [
    "# CREATING ARRAY WITH DEFINED DATA TYPES"
   ]
  },
  {
   "cell_type": "code",
   "execution_count": 16,
   "id": "45289cc5",
   "metadata": {},
   "outputs": [
    {
     "name": "stdout",
     "output_type": "stream",
     "text": [
      "|S1\n"
     ]
    }
   ],
   "source": [
    "import numpy as np\n",
    "\n",
    "arr=np.array((1,2,3,4), dtype=\"S\")t\n",
    "print(arr.dtype)"
   ]
  },
  {
   "cell_type": "code",
   "execution_count": 5,
   "id": "9fd4355a",
   "metadata": {},
   "outputs": [
    {
     "name": "stdout",
     "output_type": "stream",
     "text": [
      "|S2\n"
     ]
    }
   ],
   "source": [
    "arr=np.array([2,3,54,6], dtype=\"S\")\n",
    "print(arr.dtype)"
   ]
  },
  {
   "cell_type": "code",
   "execution_count": 18,
   "id": "e0aa961c",
   "metadata": {},
   "outputs": [
    {
     "name": "stdout",
     "output_type": "stream",
     "text": [
      "[1 2 3 4]\n",
      "int32\n"
     ]
    }
   ],
   "source": [
    "import numpy as np\n",
    "\n",
    "arr=np.array((1,2,3,4), dtype=\"i\")\n",
    "print(arr)\n",
    "print(arr.dtype)"
   ]
  },
  {
   "cell_type": "code",
   "execution_count": 19,
   "id": "6ec3fd76",
   "metadata": {},
   "outputs": [
    {
     "name": "stdout",
     "output_type": "stream",
     "text": [
      "float32\n"
     ]
    }
   ],
   "source": [
    "import numpy as np\n",
    "\n",
    "arr=np.array((1,2,3,4), dtype=\"f\")\n",
    "print(arr.dtype)"
   ]
  },
  {
   "cell_type": "markdown",
   "id": "d925469d",
   "metadata": {},
   "source": [
    "# CREATING A DATA TYPE WITH 4 BYTES INTEGER"
   ]
  },
  {
   "cell_type": "code",
   "execution_count": 23,
   "id": "99bfe876",
   "metadata": {},
   "outputs": [
    {
     "name": "stdout",
     "output_type": "stream",
     "text": [
      "[1 2 3 4 5]\n",
      "int32\n"
     ]
    }
   ],
   "source": [
    "arr=np.array((1,2,3,4,5), dtype=\"i4\")\n",
    "print(arr)\n",
    "print(arr.dtype)"
   ]
  },
  {
   "cell_type": "markdown",
   "id": "421b1581",
   "metadata": {},
   "source": [
    "# NUMPY ARRAY SHAPE"
   ]
  },
  {
   "cell_type": "markdown",
   "id": "6d04af34",
   "metadata": {},
   "source": [
    "THE SHAPE OF AN ARRAY IS THE NO OF ELEMENT IN EACH DIMENTION"
   ]
  },
  {
   "cell_type": "markdown",
   "id": "a869f7f8",
   "metadata": {},
   "source": [
    "# PRINT THE SHAPE OF 2-D ARRAY"
   ]
  },
  {
   "cell_type": "code",
   "execution_count": 27,
   "id": "7681c12c",
   "metadata": {},
   "outputs": [
    {
     "name": "stdout",
     "output_type": "stream",
     "text": [
      "[[1 2 3 4]\n",
      " [5 6 7 8]]\n",
      "the shape of arary (2, 4)\n"
     ]
    }
   ],
   "source": [
    "arr=np.array(((1,2,3,4),(5,6,7,8)))\n",
    "print(arr)\n",
    "print(\"the shape of arary\",arr.shape)"
   ]
  },
  {
   "cell_type": "markdown",
   "id": "9508dd4c",
   "metadata": {},
   "source": [
    "# CREATING AN ARRAY WITH 5 DIMENTION USING NDIM USING A VECTOR WITH VALUES 1,2,3,4 AND VERIFY THAT LAST DIMENTION HAS 4 VALUES:"
   ]
  },
  {
   "cell_type": "code",
   "execution_count": null,
   "id": "fb9abc7b",
   "metadata": {},
   "outputs": [],
   "source": []
  },
  {
   "cell_type": "markdown",
   "id": "c11a9424",
   "metadata": {},
   "source": [
    "# JOINING  NUMPY ARRAY(concatenate)"
   ]
  },
  {
   "cell_type": "code",
   "execution_count": 31,
   "id": "f81f6994",
   "metadata": {},
   "outputs": [
    {
     "name": "stdout",
     "output_type": "stream",
     "text": [
      "[1 2 3 4 5 6 7 8]\n"
     ]
    }
   ],
   "source": [
    "import numpy as np\n",
    "\n",
    "arr1=np.array((1,2,3,4))\n",
    "arr2=np.array((5,6,7,8))\n",
    "arr3=np.concatenate((arr1,arr2))\n",
    "print(arr3)"
   ]
  },
  {
   "cell_type": "code",
   "execution_count": 5,
   "id": "43acf1da",
   "metadata": {},
   "outputs": [
    {
     "name": "stdout",
     "output_type": "stream",
     "text": [
      "[1 2 3 4 5 6 7 8]\n"
     ]
    }
   ],
   "source": [
    "import numpy as np\n",
    "\n",
    "arr1=np.array((1,2,3,4))\n",
    "arr2=np.array((5,6,7,8))\n",
    "print(np.concatenate((arr1,arr2)))\n",
    "\n"
   ]
  },
  {
   "cell_type": "markdown",
   "id": "26c98d6a",
   "metadata": {},
   "source": [
    "# JOINING 2-D ARRAY ALONG ROW (AXIS 1)ROWS"
   ]
  },
  {
   "cell_type": "code",
   "execution_count": 7,
   "id": "d41eab7b",
   "metadata": {},
   "outputs": [],
   "source": [
    "import numpy as np\n",
    "\n",
    "arr1=np.array(([1,2],[3,4]))\n",
    "arr2=np.array(([5,6],[7,8]))\n",
    "arr3=np.concatenate((arr2,arr2),axis=1)\n"
   ]
  },
  {
   "cell_type": "markdown",
   "id": "7606b54b",
   "metadata": {},
   "source": [
    "# JOINING 2-D ARRAY ALONG ROW (AXIS 1)COLUMN"
   ]
  },
  {
   "cell_type": "code",
   "execution_count": null,
   "id": "ee62bcc3",
   "metadata": {},
   "outputs": [],
   "source": [
    "import numpy as np\n"
   ]
  },
  {
   "cell_type": "markdown",
   "id": "90b1317a",
   "metadata": {},
   "source": [
    "# SPLITING NUMPY ARRAYS"
   ]
  },
  {
   "cell_type": "markdown",
   "id": "1e344c2c",
   "metadata": {},
   "source": [
    "SPLITING   IS THE REVERSE OPERATION OF JOINING\n",
    "\n",
    "JOINING MERGES MULTIPLE ARRAYS INTO ONE AND SPLITING BREAKS ONE ARRAY INTO MULTIPLE"
   ]
  },
  {
   "cell_type": "markdown",
   "id": "8b90336f",
   "metadata": {},
   "source": [
    "# SPLIT THE ARRAY IN n PARTS"
   ]
  },
  {
   "cell_type": "code",
   "execution_count": 6,
   "id": "c6989c96",
   "metadata": {},
   "outputs": [
    {
     "name": "stdout",
     "output_type": "stream",
     "text": [
      "[array([1, 2, 3]), array([4, 5, 6])]\n"
     ]
    }
   ],
   "source": [
    "arr=np.array((1,2,3,4,5,6))\n",
    "arrr=np.array_split(arr,2)\n",
    "print(arrr)"
   ]
  },
  {
   "cell_type": "code",
   "execution_count": 8,
   "id": "f87b9e3a",
   "metadata": {},
   "outputs": [
    {
     "name": "stdout",
     "output_type": "stream",
     "text": [
      "[array([1, 2]), array([3, 4]), array([5]), array([6])]\n"
     ]
    }
   ],
   "source": [
    "arr=np.array((1,2,3,4,5,6))\n",
    "arrr=np.array_split(arr,4)\n",
    "print(arrr)"
   ]
  },
  {
   "cell_type": "code",
   "execution_count": 7,
   "id": "cff667fe",
   "metadata": {},
   "outputs": [
    {
     "name": "stdout",
     "output_type": "stream",
     "text": [
      "[array([1, 2, 3]), array([4, 5, 6])]\n"
     ]
    }
   ],
   "source": [
    "arr=np.array((1,2,3,4,5,6))\n",
    "print(np.array_split(arr,2))\n"
   ]
  },
  {
   "cell_type": "markdown",
   "id": "592d699c",
   "metadata": {},
   "source": [
    "# REVEL AND FLATTEN - CONVERTS MULTIDIMENTIONAL ARRAY INTO 1 ARRAY"
   ]
  },
  {
   "cell_type": "code",
   "execution_count": 63,
   "id": "af6cf1a1",
   "metadata": {},
   "outputs": [
    {
     "name": "stdout",
     "output_type": "stream",
     "text": [
      "[[[1 2 3]\n",
      "  [4 5 6]]\n",
      "\n",
      " [[7 8 9]\n",
      "  [1 2 3]]]\n",
      "dimention is 3\n",
      "\n",
      "[1 2 3 4 5 6 7 8 9 1 2 3]\n",
      " new dimention is: 1\n"
     ]
    }
   ],
   "source": [
    "x=np.array((((1,2,3),(4,5,6)),((7,8,9),(1,2,3))))\n",
    "print(x)\n",
    "print(\"dimention is\",x.ndim)\n",
    "print()\n",
    "y=x.flatten()\n",
    "print(y)\n",
    "print(\" new dimention is:\",y.ndim)\n",
    "#ravel and flatten work are same"
   ]
  },
  {
   "cell_type": "code",
   "execution_count": 64,
   "id": "ae794d66",
   "metadata": {},
   "outputs": [
    {
     "name": "stdout",
     "output_type": "stream",
     "text": [
      "[[[1 2 3]\n",
      "  [4 5 6]]\n",
      "\n",
      " [[7 8 9]\n",
      "  [1 2 3]]]\n",
      "dimention is 3\n",
      "\n",
      "[1 2 3 4 5 6 7 8 9 1 2 3]\n",
      " new dimention is: 1\n"
     ]
    }
   ],
   "source": [
    "x=np.array((((1,2,3),(4,5,6)),((7,8,9),(1,2,3))))\n",
    "print(x)\n",
    "print(\"dimention is\",x.ndim)\n",
    "print()\n",
    "y=x.ravel()\n",
    "print(y)\n",
    "print(\" new dimention is:\",y.ndim)\n",
    "#ravel and flatten work are same"
   ]
  },
  {
   "cell_type": "markdown",
   "id": "c9689baf",
   "metadata": {},
   "source": [
    "# ARITHMETIC OPERATION IN NUMPY ARRAYS"
   ]
  },
  {
   "cell_type": "markdown",
   "id": "9b41460f",
   "metadata": {},
   "source": [
    "# ADDITION"
   ]
  },
  {
   "cell_type": "code",
   "execution_count": 77,
   "id": "a3cd5655",
   "metadata": {},
   "outputs": [
    {
     "name": "stdout",
     "output_type": "stream",
     "text": [
      "[4 5 6 7 8]\n"
     ]
    }
   ],
   "source": [
    "arr=np.array((1,2,3,4,5))\n",
    "arrr=arr+3\n",
    "print(arrr)"
   ]
  },
  {
   "cell_type": "code",
   "execution_count": 78,
   "id": "ee4a3b20",
   "metadata": {},
   "outputs": [
    {
     "name": "stdout",
     "output_type": "stream",
     "text": [
      "[2 4 6 8]\n"
     ]
    }
   ],
   "source": [
    "x=np.array((1,2,3,4))\n",
    "y=np.array((1,2,3,4))\n",
    "print(x+y)"
   ]
  },
  {
   "cell_type": "code",
   "execution_count": 80,
   "id": "f07a995d",
   "metadata": {},
   "outputs": [
    {
     "name": "stdout",
     "output_type": "stream",
     "text": [
      "[2 4 6 8]\n"
     ]
    }
   ],
   "source": [
    "x=np.array((1,2,3,4))\n",
    "y=np.array((1,2,3,4))\n",
    "z=np.add(x,y)\n",
    "print(z)"
   ]
  },
  {
   "cell_type": "markdown",
   "id": "911b8512",
   "metadata": {},
   "source": [
    "# SUBTRACTION"
   ]
  },
  {
   "cell_type": "code",
   "execution_count": 81,
   "id": "8695f072",
   "metadata": {},
   "outputs": [
    {
     "name": "stdout",
     "output_type": "stream",
     "text": [
      "[ 2 -1  4  1  2]\n"
     ]
    }
   ],
   "source": [
    "arr=np.array((5,2,7,4,5))\n",
    "arrr=arr-3\n",
    "print(arrr)"
   ]
  },
  {
   "cell_type": "code",
   "execution_count": 3,
   "id": "421156b6",
   "metadata": {},
   "outputs": [
    {
     "name": "stdout",
     "output_type": "stream",
     "text": [
      "[-1  3  0  0]\n"
     ]
    }
   ],
   "source": [
    "x=np.array((1,6,3,4))\n",
    "y=np.array((2,3,3,4))\n",
    "print(x-y)\n"
   ]
  },
  {
   "cell_type": "code",
   "execution_count": 9,
   "id": "36697ba1",
   "metadata": {},
   "outputs": [
    {
     "name": "stdout",
     "output_type": "stream",
     "text": [
      "[-1  3  0  0]\n"
     ]
    }
   ],
   "source": [
    "import numpy as np\n",
    "x=np.array((1,6,3,4))\n",
    "y=np.array((2,3,3,4))\n",
    "z=np.subtract(x,y)\n",
    "print(z)"
   ]
  },
  {
   "cell_type": "markdown",
   "id": "2ea40565",
   "metadata": {},
   "source": [
    "# MULTIPLICATION"
   ]
  },
  {
   "cell_type": "code",
   "execution_count": 11,
   "id": "8f567761",
   "metadata": {},
   "outputs": [
    {
     "name": "stdout",
     "output_type": "stream",
     "text": [
      "[ 6  4  8 12]\n"
     ]
    }
   ],
   "source": [
    "x=np.array((3,2,4,6))\n",
    "y=x*2\n",
    "print(y)"
   ]
  },
  {
   "cell_type": "code",
   "execution_count": 12,
   "id": "9ea91276",
   "metadata": {},
   "outputs": [
    {
     "name": "stdout",
     "output_type": "stream",
     "text": [
      "[ 6  4  8 12]\n"
     ]
    }
   ],
   "source": [
    "x=np.array((3,2,4,6))\n",
    "print(x*2)"
   ]
  },
  {
   "cell_type": "code",
   "execution_count": 13,
   "id": "6ada16fc",
   "metadata": {},
   "outputs": [
    {
     "name": "stdout",
     "output_type": "stream",
     "text": [
      "[ 2 18  9 16]\n"
     ]
    }
   ],
   "source": [
    "x=np.array((1,6,3,4))\n",
    "y=np.array((2,3,3,4))\n",
    "z=x*y\n",
    "print(z)"
   ]
  },
  {
   "cell_type": "code",
   "execution_count": 15,
   "id": "04d3c931",
   "metadata": {},
   "outputs": [
    {
     "name": "stdout",
     "output_type": "stream",
     "text": [
      "[ 2 18  9 16]\n"
     ]
    }
   ],
   "source": [
    "x=np.array((1,6,3,4))\n",
    "y=np.array((2,3,3,4))\n",
    "z=np.multiply(y,x)\n",
    "print(z)"
   ]
  },
  {
   "cell_type": "markdown",
   "id": "f1b0796d",
   "metadata": {},
   "source": [
    "# DIVISION"
   ]
  },
  {
   "cell_type": "code",
   "execution_count": 18,
   "id": "8a1d852a",
   "metadata": {},
   "outputs": [
    {
     "name": "stdout",
     "output_type": "stream",
     "text": [
      "[3.  4.  3.5 2.5 3. ]\n"
     ]
    }
   ],
   "source": [
    "x=np.array((6,8,7,5,6))\n",
    "print(x/2)"
   ]
  },
  {
   "cell_type": "code",
   "execution_count": 21,
   "id": "819eaefd",
   "metadata": {},
   "outputs": [
    {
     "name": "stdout",
     "output_type": "stream",
     "text": [
      "[3.  4.  3.5 2.5 3. ]\n"
     ]
    }
   ],
   "source": [
    "x=np.array((6,8,7,5,6))\n",
    "y=2\n",
    "z=x/y\n",
    "print(z)"
   ]
  },
  {
   "cell_type": "code",
   "execution_count": 22,
   "id": "d69c7548",
   "metadata": {},
   "outputs": [
    {
     "name": "stdout",
     "output_type": "stream",
     "text": [
      "[0.5 2.  1.  1. ]\n"
     ]
    }
   ],
   "source": [
    "x=np.array((1,6,3,4))\n",
    "y=np.array((2,3,3,4))\n",
    "z=x/y\n",
    "print(z)"
   ]
  },
  {
   "cell_type": "code",
   "execution_count": 23,
   "id": "55746c94",
   "metadata": {},
   "outputs": [
    {
     "name": "stdout",
     "output_type": "stream",
     "text": [
      "[0.5 2.  1.  1. ]\n"
     ]
    }
   ],
   "source": [
    "x=np.array((1,6,3,4))\n",
    "y=np.array((2,3,3,4))\n",
    "z=np.divide(x,y)\n",
    "print(z)"
   ]
  },
  {
   "cell_type": "markdown",
   "id": "f1ee73d9",
   "metadata": {},
   "source": [
    "# MODULOUS"
   ]
  },
  {
   "cell_type": "code",
   "execution_count": 27,
   "id": "535936e8",
   "metadata": {},
   "outputs": [
    {
     "name": "stdout",
     "output_type": "stream",
     "text": [
      "[1 0 1 0]\n"
     ]
    }
   ],
   "source": [
    "x=np.array((10,15,25,30))\n",
    "y=3\n",
    "z=x%y\n",
    "print(z)\n",
    "#modulous gives us remainder"
   ]
  },
  {
   "cell_type": "code",
   "execution_count": 28,
   "id": "35fcd45f",
   "metadata": {},
   "outputs": [
    {
     "name": "stdout",
     "output_type": "stream",
     "text": [
      "[0 1 1 0]\n"
     ]
    }
   ],
   "source": [
    "x=np.array((10,15,25,30))\n",
    "print(x%2)\n"
   ]
  },
  {
   "cell_type": "code",
   "execution_count": 29,
   "id": "dab112e3",
   "metadata": {},
   "outputs": [
    {
     "name": "stdout",
     "output_type": "stream",
     "text": [
      "[1 3 0 0]\n"
     ]
    }
   ],
   "source": [
    "x=np.array((10,15,25,30))\n",
    "y=np.array((3,4,5,6))\n",
    "z=x%y\n",
    "print(z)"
   ]
  },
  {
   "cell_type": "code",
   "execution_count": 30,
   "id": "8bc15989",
   "metadata": {},
   "outputs": [
    {
     "name": "stdout",
     "output_type": "stream",
     "text": [
      "[2 2 0 2]\n"
     ]
    }
   ],
   "source": [
    "x=np.array((32,14,15,26))\n",
    "y=np.array((3,4,5,6))\n",
    "print(np.mod(x,y))\n"
   ]
  },
  {
   "cell_type": "markdown",
   "id": "bfb8fe8a",
   "metadata": {},
   "source": [
    "# ARITHMETIC OPERATION IN 2-D ARRAY"
   ]
  },
  {
   "cell_type": "code",
   "execution_count": 31,
   "id": "2c2b1b7e",
   "metadata": {},
   "outputs": [
    {
     "name": "stdout",
     "output_type": "stream",
     "text": [
      "[[ 2  4  6  8]\n",
      " [10 12 14 16]]\n"
     ]
    }
   ],
   "source": [
    "n1=np.array(((1,2,3,4),(5,6,7,8)))\n",
    "n2=np.array(((1,2,3,4),(5,6,7,8)))\n",
    "x=n1+n2\n",
    "print(x)"
   ]
  },
  {
   "cell_type": "code",
   "execution_count": 32,
   "id": "59243a7c",
   "metadata": {},
   "outputs": [
    {
     "name": "stdout",
     "output_type": "stream",
     "text": [
      "[[0 0 0 0]\n",
      " [0 0 0 0]]\n"
     ]
    }
   ],
   "source": [
    "n1=np.array(((1,2,3,4),(5,6,7,8)))\n",
    "n2=np.array(((1,2,3,4),(5,6,7,8)))\n",
    "x=n1-n2\n",
    "print(x)"
   ]
  },
  {
   "cell_type": "code",
   "execution_count": 33,
   "id": "cae5c3ed",
   "metadata": {},
   "outputs": [
    {
     "name": "stdout",
     "output_type": "stream",
     "text": [
      "[[ 1  4  9 16]\n",
      " [25 36 49 64]]\n"
     ]
    }
   ],
   "source": [
    "n1=np.array(((1,2,3,4),(5,6,7,8)))\n",
    "n2=np.array(((1,2,3,4),(5,6,7,8)))\n",
    "x=n1*n2\n",
    "print(x)"
   ]
  },
  {
   "cell_type": "code",
   "execution_count": 34,
   "id": "b55ddb94",
   "metadata": {},
   "outputs": [
    {
     "name": "stdout",
     "output_type": "stream",
     "text": [
      "[[1. 1. 1. 1.]\n",
      " [1. 1. 1. 1.]]\n"
     ]
    }
   ],
   "source": [
    "n1=np.array(((1,2,3,4),(5,6,7,8)))\n",
    "n2=np.array(((1,2,3,4),(5,6,7,8)))\n",
    "x=n1/n2\n",
    "print(x)"
   ]
  },
  {
   "cell_type": "markdown",
   "id": "5962ab17",
   "metadata": {},
   "source": [
    "# ARITHMETIC OPERATION IN 3-D ARRAY"
   ]
  },
  {
   "cell_type": "code",
   "execution_count": 36,
   "id": "ee398059",
   "metadata": {},
   "outputs": [
    {
     "name": "stdout",
     "output_type": "stream",
     "text": [
      "[[[ 2  4  6  8]\n",
      "  [10 12 14 16]]\n",
      "\n",
      " [[ 2  4  6  8]\n",
      "  [10 12 14 16]]]\n"
     ]
    }
   ],
   "source": [
    "x=np.array((((1,2,3,4),(5,6,7,8)),((1,2,3,4),(5,6,7,8))))\n",
    "y=np.array((((1,2,3,4),(5,6,7,8)),((1,2,3,4),(5,6,7,8))))\n",
    "z=x+y\n",
    "print(z)\n"
   ]
  },
  {
   "cell_type": "code",
   "execution_count": 37,
   "id": "4f5987f8",
   "metadata": {},
   "outputs": [
    {
     "name": "stdout",
     "output_type": "stream",
     "text": [
      "[[[ 2  4  6  8]\n",
      "  [10 12 14 16]]\n",
      "\n",
      " [[ 2  4  6  8]\n",
      "  [10 12 14 16]]]\n"
     ]
    }
   ],
   "source": [
    "x=np.array((((1,2,3,4),(5,6,7,8)),((1,2,3,4),(5,6,7,8))))\n",
    "y=np.array((((1,2,3,4),(5,6,7,8)),((1,2,3,4),(5,6,7,8))))\n",
    "z=np.add(x,y)\n",
    "\n",
    "print(z)"
   ]
  },
  {
   "cell_type": "code",
   "execution_count": 38,
   "id": "f365c7bb",
   "metadata": {},
   "outputs": [
    {
     "name": "stdout",
     "output_type": "stream",
     "text": [
      "[[[0 0 0 0]\n",
      "  [0 0 0 0]]\n",
      "\n",
      " [[0 0 0 0]\n",
      "  [0 0 0 0]]]\n"
     ]
    }
   ],
   "source": [
    "x=np.array((((1,2,3,4),(5,6,7,8)),((1,2,3,4),(5,6,7,8))))\n",
    "y=np.array((((1,2,3,4),(5,6,7,8)),((1,2,3,4),(5,6,7,8))))\n",
    "z=x-y\n",
    "print(z)\n"
   ]
  },
  {
   "cell_type": "code",
   "execution_count": 39,
   "id": "e2bcccb6",
   "metadata": {},
   "outputs": [
    {
     "name": "stdout",
     "output_type": "stream",
     "text": [
      "[[[ 1  4  9 16]\n",
      "  [25 36 49 64]]\n",
      "\n",
      " [[ 1  4  9 16]\n",
      "  [25 36 49 64]]]\n"
     ]
    }
   ],
   "source": [
    "x=np.array((((1,2,3,4),(5,6,7,8)),((1,2,3,4),(5,6,7,8))))\n",
    "y=np.array((((1,2,3,4),(5,6,7,8)),((1,2,3,4),(5,6,7,8))))\n",
    "z=x*y\n",
    "print(z)\n"
   ]
  },
  {
   "cell_type": "code",
   "execution_count": 40,
   "id": "7463c598",
   "metadata": {},
   "outputs": [
    {
     "name": "stdout",
     "output_type": "stream",
     "text": [
      "[[[1. 1. 1. 1.]\n",
      "  [1. 1. 1. 1.]]\n",
      "\n",
      " [[1. 1. 1. 1.]\n",
      "  [1. 1. 1. 1.]]]\n"
     ]
    }
   ],
   "source": [
    "x=np.array((((1,2,3,4),(5,6,7,8)),((1,2,3,4),(5,6,7,8))))\n",
    "y=np.array((((1,2,3,4),(5,6,7,8)),((1,2,3,4),(5,6,7,8))))\n",
    "z=x/y\n",
    "print(z)\n"
   ]
  },
  {
   "cell_type": "markdown",
   "id": "6f0d13e9",
   "metadata": {},
   "source": [
    "# UNIQUE FUNCTION"
   ]
  },
  {
   "cell_type": "markdown",
   "id": "7a3d072d",
   "metadata": {},
   "source": [
    "unique fn gives us unique element or non repeated element"
   ]
  },
  {
   "cell_type": "code",
   "execution_count": 42,
   "id": "27491832",
   "metadata": {},
   "outputs": [
    {
     "name": "stdout",
     "output_type": "stream",
     "text": [
      "the unique values are: [ 3  4  5  6  7  8  9 10 11 12 23 30 34 43 54 65 89]\n"
     ]
    }
   ],
   "source": [
    "arr=np.array((3,4,5,6,7,8,7,6,89,12,34,23,54,65,23,12,34,23,43,3,4,9,10,3,30,11))\n",
    "print(\"the unique values are:\",np.unique(arr))"
   ]
  },
  {
   "cell_type": "code",
   "execution_count": 43,
   "id": "46055193",
   "metadata": {},
   "outputs": [
    {
     "name": "stdout",
     "output_type": "stream",
     "text": [
      "[ 3  4  5  6  7  8  7  6 89 12 34 23 54 65 23 12 34 23 43  3  4  9 10  3\n",
      " 30 11]\n",
      "(array([ 3,  4,  5,  6,  7,  8,  9, 10, 11, 12, 23, 30, 34, 43, 54, 65, 89]), array([ 0,  1,  2,  3,  4,  5, 21, 22, 25,  9, 11, 24, 10, 18, 12, 13,  8],\n",
      "      dtype=int64))\n"
     ]
    }
   ],
   "source": [
    "arr=np.array((3,4,5,6,7,8,7,6,89,12,34,23,54,65,23,12,34,23,43,3,4,9,10,3,30,11))\n",
    "print(arr)\n",
    "x=np.unique(arr, return_index=True)\n",
    "print(x)"
   ]
  },
  {
   "cell_type": "code",
   "execution_count": 44,
   "id": "d067544f",
   "metadata": {},
   "outputs": [
    {
     "name": "stdout",
     "output_type": "stream",
     "text": [
      "[ 3  4  5  6  7  8  7  6 89 12 34 23 54 65 23 12 34 23 43  3  4  9 10  3\n",
      " 30 11]\n",
      "\n",
      "(array([ 3,  4,  5,  6,  7,  8,  9, 10, 11, 12, 23, 30, 34, 43, 54, 65, 89]), array([ 0,  1,  2,  3,  4,  5, 21, 22, 25,  9, 11, 24, 10, 18, 12, 13,  8],\n",
      "      dtype=int64), array([3, 2, 1, 2, 2, 1, 1, 1, 1, 2, 3, 1, 2, 1, 1, 1, 1], dtype=int64))\n"
     ]
    }
   ],
   "source": [
    "arr=np.array((3,4,5,6,7,8,7,6,89,12,34,23,54,65,23,12,34,23,43,3,4,9,10,3,30,11))\n",
    "print(arr)\n",
    "print()\n",
    "x=np.unique(arr, return_index=True, return_counts=True)\n",
    "print(x)"
   ]
  },
  {
   "cell_type": "markdown",
   "id": "0b7dd206",
   "metadata": {},
   "source": [
    "# DELETE FUNCTION"
   ]
  },
  {
   "cell_type": "code",
   "execution_count": 48,
   "id": "6df81d8b",
   "metadata": {},
   "outputs": [
    {
     "name": "stdout",
     "output_type": "stream",
     "text": [
      "[12 13 14 15 16]\n",
      "\n",
      "new array is: [12 14 15 16]\n"
     ]
    }
   ],
   "source": [
    "a=np.array((12,13,14,15,16))\n",
    "print(a)\n",
    "print()\n",
    "print(\"new array is:\",np.delete(a,[1]))"
   ]
  },
  {
   "cell_type": "code",
   "execution_count": 61,
   "id": "b657b84a",
   "metadata": {},
   "outputs": [
    {
     "name": "stdout",
     "output_type": "stream",
     "text": [
      "[[12 13 14 15]\n",
      " [12 14 25 26]\n",
      " [ 2  3  4  5]]\n",
      "\n",
      "[[12 14 15]\n",
      " [12 25 26]\n",
      " [ 2  4  5]]\n"
     ]
    }
   ],
   "source": [
    "a=np.array(((12,13,14,15),(12,14,25,26),(2,3,4,5)))\n",
    "print(a)\n",
    "print()\n",
    "print(np.delete(a,1,axis=1))"
   ]
  },
  {
   "cell_type": "code",
   "execution_count": 62,
   "id": "5e3fc6fc",
   "metadata": {},
   "outputs": [
    {
     "name": "stdout",
     "output_type": "stream",
     "text": [
      "[[12 13 14 15]\n",
      " [12 14 25 26]\n",
      " [ 2  3  4  5]]\n",
      "\n",
      "[[12 13 14 15]\n",
      " [ 2  3  4  5]]\n"
     ]
    }
   ],
   "source": [
    "a=np.array(((12,13,14,15),(12,14,25,26),(2,3,4,5)))\n",
    "print(a)\n",
    "print()\n",
    "print(np.delete(a,1,axis=0))"
   ]
  },
  {
   "cell_type": "code",
   "execution_count": null,
   "id": "bc523c27",
   "metadata": {},
   "outputs": [],
   "source": []
  }
 ],
 "metadata": {
  "kernelspec": {
   "display_name": "Python 3 (ipykernel)",
   "language": "python",
   "name": "python3"
  },
  "language_info": {
   "codemirror_mode": {
    "name": "ipython",
    "version": 3
   },
   "file_extension": ".py",
   "mimetype": "text/x-python",
   "name": "python",
   "nbconvert_exporter": "python",
   "pygments_lexer": "ipython3",
   "version": "3.11.5"
  }
 },
 "nbformat": 4,
 "nbformat_minor": 5
}
